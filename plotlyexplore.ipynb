{
 "cells": [
  {
   "cell_type": "code",
   "execution_count": 10,
   "metadata": {
    "scrolled": false
   },
   "outputs": [
    {
     "data": {
      "application/vnd.plotly.v1+json": {
       "config": {
        "plotlyServerURL": "https://plot.ly"
       },
       "data": [
        {
         "hovertemplate": "species=setosa<br>sepal_width=%{x}<br>sepal_length=%{y}<extra></extra>",
         "legendgroup": "setosa",
         "marker": {
          "color": "#636efa",
          "symbol": "circle"
         },
         "mode": "markers",
         "name": "setosa",
         "orientation": "v",
         "showlegend": true,
         "type": "scatter",
         "x": [
          3.5,
          3,
          3.2,
          3.1,
          3.6,
          3.9,
          3.4,
          3.4,
          2.9,
          3.1,
          3.7,
          3.4,
          3,
          3,
          4,
          4.4,
          3.9,
          3.5,
          3.8,
          3.8,
          3.4,
          3.7,
          3.6,
          3.3,
          3.4,
          3,
          3.4,
          3.5,
          3.4,
          3.2,
          3.1,
          3.4,
          4.1,
          4.2,
          3.1,
          3.2,
          3.5,
          3.1,
          3,
          3.4,
          3.5,
          2.3,
          3.2,
          3.5,
          3.8,
          3,
          3.8,
          3.2,
          3.7,
          3.3
         ],
         "xaxis": "x",
         "y": [
          5.1,
          4.9,
          4.7,
          4.6,
          5,
          5.4,
          4.6,
          5,
          4.4,
          4.9,
          5.4,
          4.8,
          4.8,
          4.3,
          5.8,
          5.7,
          5.4,
          5.1,
          5.7,
          5.1,
          5.4,
          5.1,
          4.6,
          5.1,
          4.8,
          5,
          5,
          5.2,
          5.2,
          4.7,
          4.8,
          5.4,
          5.2,
          5.5,
          4.9,
          5,
          5.5,
          4.9,
          4.4,
          5.1,
          5,
          4.5,
          4.4,
          5,
          5.1,
          4.8,
          5.1,
          4.6,
          5.3,
          5
         ],
         "yaxis": "y"
        },
        {
         "hovertemplate": "species=versicolor<br>sepal_width=%{x}<br>sepal_length=%{y}<extra></extra>",
         "legendgroup": "versicolor",
         "marker": {
          "color": "#EF553B",
          "symbol": "circle"
         },
         "mode": "markers",
         "name": "versicolor",
         "orientation": "v",
         "showlegend": true,
         "type": "scatter",
         "x": [
          3.2,
          3.2,
          3.1,
          2.3,
          2.8,
          2.8,
          3.3,
          2.4,
          2.9,
          2.7,
          2,
          3,
          2.2,
          2.9,
          2.9,
          3.1,
          3,
          2.7,
          2.2,
          2.5,
          3.2,
          2.8,
          2.5,
          2.8,
          2.9,
          3,
          2.8,
          3,
          2.9,
          2.6,
          2.4,
          2.4,
          2.7,
          2.7,
          3,
          3.4,
          3.1,
          2.3,
          3,
          2.5,
          2.6,
          3,
          2.6,
          2.3,
          2.7,
          3,
          2.9,
          2.9,
          2.5,
          2.8
         ],
         "xaxis": "x",
         "y": [
          7,
          6.4,
          6.9,
          5.5,
          6.5,
          5.7,
          6.3,
          4.9,
          6.6,
          5.2,
          5,
          5.9,
          6,
          6.1,
          5.6,
          6.7,
          5.6,
          5.8,
          6.2,
          5.6,
          5.9,
          6.1,
          6.3,
          6.1,
          6.4,
          6.6,
          6.8,
          6.7,
          6,
          5.7,
          5.5,
          5.5,
          5.8,
          6,
          5.4,
          6,
          6.7,
          6.3,
          5.6,
          5.5,
          5.5,
          6.1,
          5.8,
          5,
          5.6,
          5.7,
          5.7,
          6.2,
          5.1,
          5.7
         ],
         "yaxis": "y"
        },
        {
         "hovertemplate": "species=virginica<br>sepal_width=%{x}<br>sepal_length=%{y}<extra></extra>",
         "legendgroup": "virginica",
         "marker": {
          "color": "#00cc96",
          "symbol": "circle"
         },
         "mode": "markers",
         "name": "virginica",
         "orientation": "v",
         "showlegend": true,
         "type": "scatter",
         "x": [
          3.3,
          2.7,
          3,
          2.9,
          3,
          3,
          2.5,
          2.9,
          2.5,
          3.6,
          3.2,
          2.7,
          3,
          2.5,
          2.8,
          3.2,
          3,
          3.8,
          2.6,
          2.2,
          3.2,
          2.8,
          2.8,
          2.7,
          3.3,
          3.2,
          2.8,
          3,
          2.8,
          3,
          2.8,
          3.8,
          2.8,
          2.8,
          2.6,
          3,
          3.4,
          3.1,
          3,
          3.1,
          3.1,
          3.1,
          2.7,
          3.2,
          3.3,
          3,
          2.5,
          3,
          3.4,
          3
         ],
         "xaxis": "x",
         "y": [
          6.3,
          5.8,
          7.1,
          6.3,
          6.5,
          7.6,
          4.9,
          7.3,
          6.7,
          7.2,
          6.5,
          6.4,
          6.8,
          5.7,
          5.8,
          6.4,
          6.5,
          7.7,
          7.7,
          6,
          6.9,
          5.6,
          7.7,
          6.3,
          6.7,
          7.2,
          6.2,
          6.1,
          6.4,
          7.2,
          7.4,
          7.9,
          6.4,
          6.3,
          6.1,
          7.7,
          6.3,
          6.4,
          6,
          6.9,
          6.7,
          6.9,
          5.8,
          6.8,
          6.7,
          6.7,
          6.3,
          6.5,
          6.2,
          5.9
         ],
         "yaxis": "y"
        }
       ],
       "layout": {
        "legend": {
         "title": {
          "text": "species"
         },
         "tracegroupgap": 0
        },
        "margin": {
         "t": 60
        },
        "template": {
         "data": {
          "bar": [
           {
            "error_x": {
             "color": "#2a3f5f"
            },
            "error_y": {
             "color": "#2a3f5f"
            },
            "marker": {
             "line": {
              "color": "#E5ECF6",
              "width": 0.5
             }
            },
            "type": "bar"
           }
          ],
          "barpolar": [
           {
            "marker": {
             "line": {
              "color": "#E5ECF6",
              "width": 0.5
             }
            },
            "type": "barpolar"
           }
          ],
          "carpet": [
           {
            "aaxis": {
             "endlinecolor": "#2a3f5f",
             "gridcolor": "white",
             "linecolor": "white",
             "minorgridcolor": "white",
             "startlinecolor": "#2a3f5f"
            },
            "baxis": {
             "endlinecolor": "#2a3f5f",
             "gridcolor": "white",
             "linecolor": "white",
             "minorgridcolor": "white",
             "startlinecolor": "#2a3f5f"
            },
            "type": "carpet"
           }
          ],
          "choropleth": [
           {
            "colorbar": {
             "outlinewidth": 0,
             "ticks": ""
            },
            "type": "choropleth"
           }
          ],
          "contour": [
           {
            "colorbar": {
             "outlinewidth": 0,
             "ticks": ""
            },
            "colorscale": [
             [
              0,
              "#0d0887"
             ],
             [
              0.1111111111111111,
              "#46039f"
             ],
             [
              0.2222222222222222,
              "#7201a8"
             ],
             [
              0.3333333333333333,
              "#9c179e"
             ],
             [
              0.4444444444444444,
              "#bd3786"
             ],
             [
              0.5555555555555556,
              "#d8576b"
             ],
             [
              0.6666666666666666,
              "#ed7953"
             ],
             [
              0.7777777777777778,
              "#fb9f3a"
             ],
             [
              0.8888888888888888,
              "#fdca26"
             ],
             [
              1,
              "#f0f921"
             ]
            ],
            "type": "contour"
           }
          ],
          "contourcarpet": [
           {
            "colorbar": {
             "outlinewidth": 0,
             "ticks": ""
            },
            "type": "contourcarpet"
           }
          ],
          "heatmap": [
           {
            "colorbar": {
             "outlinewidth": 0,
             "ticks": ""
            },
            "colorscale": [
             [
              0,
              "#0d0887"
             ],
             [
              0.1111111111111111,
              "#46039f"
             ],
             [
              0.2222222222222222,
              "#7201a8"
             ],
             [
              0.3333333333333333,
              "#9c179e"
             ],
             [
              0.4444444444444444,
              "#bd3786"
             ],
             [
              0.5555555555555556,
              "#d8576b"
             ],
             [
              0.6666666666666666,
              "#ed7953"
             ],
             [
              0.7777777777777778,
              "#fb9f3a"
             ],
             [
              0.8888888888888888,
              "#fdca26"
             ],
             [
              1,
              "#f0f921"
             ]
            ],
            "type": "heatmap"
           }
          ],
          "heatmapgl": [
           {
            "colorbar": {
             "outlinewidth": 0,
             "ticks": ""
            },
            "colorscale": [
             [
              0,
              "#0d0887"
             ],
             [
              0.1111111111111111,
              "#46039f"
             ],
             [
              0.2222222222222222,
              "#7201a8"
             ],
             [
              0.3333333333333333,
              "#9c179e"
             ],
             [
              0.4444444444444444,
              "#bd3786"
             ],
             [
              0.5555555555555556,
              "#d8576b"
             ],
             [
              0.6666666666666666,
              "#ed7953"
             ],
             [
              0.7777777777777778,
              "#fb9f3a"
             ],
             [
              0.8888888888888888,
              "#fdca26"
             ],
             [
              1,
              "#f0f921"
             ]
            ],
            "type": "heatmapgl"
           }
          ],
          "histogram": [
           {
            "marker": {
             "colorbar": {
              "outlinewidth": 0,
              "ticks": ""
             }
            },
            "type": "histogram"
           }
          ],
          "histogram2d": [
           {
            "colorbar": {
             "outlinewidth": 0,
             "ticks": ""
            },
            "colorscale": [
             [
              0,
              "#0d0887"
             ],
             [
              0.1111111111111111,
              "#46039f"
             ],
             [
              0.2222222222222222,
              "#7201a8"
             ],
             [
              0.3333333333333333,
              "#9c179e"
             ],
             [
              0.4444444444444444,
              "#bd3786"
             ],
             [
              0.5555555555555556,
              "#d8576b"
             ],
             [
              0.6666666666666666,
              "#ed7953"
             ],
             [
              0.7777777777777778,
              "#fb9f3a"
             ],
             [
              0.8888888888888888,
              "#fdca26"
             ],
             [
              1,
              "#f0f921"
             ]
            ],
            "type": "histogram2d"
           }
          ],
          "histogram2dcontour": [
           {
            "colorbar": {
             "outlinewidth": 0,
             "ticks": ""
            },
            "colorscale": [
             [
              0,
              "#0d0887"
             ],
             [
              0.1111111111111111,
              "#46039f"
             ],
             [
              0.2222222222222222,
              "#7201a8"
             ],
             [
              0.3333333333333333,
              "#9c179e"
             ],
             [
              0.4444444444444444,
              "#bd3786"
             ],
             [
              0.5555555555555556,
              "#d8576b"
             ],
             [
              0.6666666666666666,
              "#ed7953"
             ],
             [
              0.7777777777777778,
              "#fb9f3a"
             ],
             [
              0.8888888888888888,
              "#fdca26"
             ],
             [
              1,
              "#f0f921"
             ]
            ],
            "type": "histogram2dcontour"
           }
          ],
          "mesh3d": [
           {
            "colorbar": {
             "outlinewidth": 0,
             "ticks": ""
            },
            "type": "mesh3d"
           }
          ],
          "parcoords": [
           {
            "line": {
             "colorbar": {
              "outlinewidth": 0,
              "ticks": ""
             }
            },
            "type": "parcoords"
           }
          ],
          "pie": [
           {
            "automargin": true,
            "type": "pie"
           }
          ],
          "scatter": [
           {
            "marker": {
             "colorbar": {
              "outlinewidth": 0,
              "ticks": ""
             }
            },
            "type": "scatter"
           }
          ],
          "scatter3d": [
           {
            "line": {
             "colorbar": {
              "outlinewidth": 0,
              "ticks": ""
             }
            },
            "marker": {
             "colorbar": {
              "outlinewidth": 0,
              "ticks": ""
             }
            },
            "type": "scatter3d"
           }
          ],
          "scattercarpet": [
           {
            "marker": {
             "colorbar": {
              "outlinewidth": 0,
              "ticks": ""
             }
            },
            "type": "scattercarpet"
           }
          ],
          "scattergeo": [
           {
            "marker": {
             "colorbar": {
              "outlinewidth": 0,
              "ticks": ""
             }
            },
            "type": "scattergeo"
           }
          ],
          "scattergl": [
           {
            "marker": {
             "colorbar": {
              "outlinewidth": 0,
              "ticks": ""
             }
            },
            "type": "scattergl"
           }
          ],
          "scattermapbox": [
           {
            "marker": {
             "colorbar": {
              "outlinewidth": 0,
              "ticks": ""
             }
            },
            "type": "scattermapbox"
           }
          ],
          "scatterpolar": [
           {
            "marker": {
             "colorbar": {
              "outlinewidth": 0,
              "ticks": ""
             }
            },
            "type": "scatterpolar"
           }
          ],
          "scatterpolargl": [
           {
            "marker": {
             "colorbar": {
              "outlinewidth": 0,
              "ticks": ""
             }
            },
            "type": "scatterpolargl"
           }
          ],
          "scatterternary": [
           {
            "marker": {
             "colorbar": {
              "outlinewidth": 0,
              "ticks": ""
             }
            },
            "type": "scatterternary"
           }
          ],
          "surface": [
           {
            "colorbar": {
             "outlinewidth": 0,
             "ticks": ""
            },
            "colorscale": [
             [
              0,
              "#0d0887"
             ],
             [
              0.1111111111111111,
              "#46039f"
             ],
             [
              0.2222222222222222,
              "#7201a8"
             ],
             [
              0.3333333333333333,
              "#9c179e"
             ],
             [
              0.4444444444444444,
              "#bd3786"
             ],
             [
              0.5555555555555556,
              "#d8576b"
             ],
             [
              0.6666666666666666,
              "#ed7953"
             ],
             [
              0.7777777777777778,
              "#fb9f3a"
             ],
             [
              0.8888888888888888,
              "#fdca26"
             ],
             [
              1,
              "#f0f921"
             ]
            ],
            "type": "surface"
           }
          ],
          "table": [
           {
            "cells": {
             "fill": {
              "color": "#EBF0F8"
             },
             "line": {
              "color": "white"
             }
            },
            "header": {
             "fill": {
              "color": "#C8D4E3"
             },
             "line": {
              "color": "white"
             }
            },
            "type": "table"
           }
          ]
         },
         "layout": {
          "annotationdefaults": {
           "arrowcolor": "#2a3f5f",
           "arrowhead": 0,
           "arrowwidth": 1
          },
          "coloraxis": {
           "colorbar": {
            "outlinewidth": 0,
            "ticks": ""
           }
          },
          "colorscale": {
           "diverging": [
            [
             0,
             "#8e0152"
            ],
            [
             0.1,
             "#c51b7d"
            ],
            [
             0.2,
             "#de77ae"
            ],
            [
             0.3,
             "#f1b6da"
            ],
            [
             0.4,
             "#fde0ef"
            ],
            [
             0.5,
             "#f7f7f7"
            ],
            [
             0.6,
             "#e6f5d0"
            ],
            [
             0.7,
             "#b8e186"
            ],
            [
             0.8,
             "#7fbc41"
            ],
            [
             0.9,
             "#4d9221"
            ],
            [
             1,
             "#276419"
            ]
           ],
           "sequential": [
            [
             0,
             "#0d0887"
            ],
            [
             0.1111111111111111,
             "#46039f"
            ],
            [
             0.2222222222222222,
             "#7201a8"
            ],
            [
             0.3333333333333333,
             "#9c179e"
            ],
            [
             0.4444444444444444,
             "#bd3786"
            ],
            [
             0.5555555555555556,
             "#d8576b"
            ],
            [
             0.6666666666666666,
             "#ed7953"
            ],
            [
             0.7777777777777778,
             "#fb9f3a"
            ],
            [
             0.8888888888888888,
             "#fdca26"
            ],
            [
             1,
             "#f0f921"
            ]
           ],
           "sequentialminus": [
            [
             0,
             "#0d0887"
            ],
            [
             0.1111111111111111,
             "#46039f"
            ],
            [
             0.2222222222222222,
             "#7201a8"
            ],
            [
             0.3333333333333333,
             "#9c179e"
            ],
            [
             0.4444444444444444,
             "#bd3786"
            ],
            [
             0.5555555555555556,
             "#d8576b"
            ],
            [
             0.6666666666666666,
             "#ed7953"
            ],
            [
             0.7777777777777778,
             "#fb9f3a"
            ],
            [
             0.8888888888888888,
             "#fdca26"
            ],
            [
             1,
             "#f0f921"
            ]
           ]
          },
          "colorway": [
           "#636efa",
           "#EF553B",
           "#00cc96",
           "#ab63fa",
           "#FFA15A",
           "#19d3f3",
           "#FF6692",
           "#B6E880",
           "#FF97FF",
           "#FECB52"
          ],
          "font": {
           "color": "#2a3f5f"
          },
          "geo": {
           "bgcolor": "white",
           "lakecolor": "white",
           "landcolor": "#E5ECF6",
           "showlakes": true,
           "showland": true,
           "subunitcolor": "white"
          },
          "hoverlabel": {
           "align": "left"
          },
          "hovermode": "closest",
          "mapbox": {
           "style": "light"
          },
          "paper_bgcolor": "white",
          "plot_bgcolor": "#E5ECF6",
          "polar": {
           "angularaxis": {
            "gridcolor": "white",
            "linecolor": "white",
            "ticks": ""
           },
           "bgcolor": "#E5ECF6",
           "radialaxis": {
            "gridcolor": "white",
            "linecolor": "white",
            "ticks": ""
           }
          },
          "scene": {
           "xaxis": {
            "backgroundcolor": "#E5ECF6",
            "gridcolor": "white",
            "gridwidth": 2,
            "linecolor": "white",
            "showbackground": true,
            "ticks": "",
            "zerolinecolor": "white"
           },
           "yaxis": {
            "backgroundcolor": "#E5ECF6",
            "gridcolor": "white",
            "gridwidth": 2,
            "linecolor": "white",
            "showbackground": true,
            "ticks": "",
            "zerolinecolor": "white"
           },
           "zaxis": {
            "backgroundcolor": "#E5ECF6",
            "gridcolor": "white",
            "gridwidth": 2,
            "linecolor": "white",
            "showbackground": true,
            "ticks": "",
            "zerolinecolor": "white"
           }
          },
          "shapedefaults": {
           "line": {
            "color": "#2a3f5f"
           }
          },
          "ternary": {
           "aaxis": {
            "gridcolor": "white",
            "linecolor": "white",
            "ticks": ""
           },
           "baxis": {
            "gridcolor": "white",
            "linecolor": "white",
            "ticks": ""
           },
           "bgcolor": "#E5ECF6",
           "caxis": {
            "gridcolor": "white",
            "linecolor": "white",
            "ticks": ""
           }
          },
          "title": {
           "x": 0.05
          },
          "xaxis": {
           "automargin": true,
           "gridcolor": "white",
           "linecolor": "white",
           "ticks": "",
           "title": {
            "standoff": 15
           },
           "zerolinecolor": "white",
           "zerolinewidth": 2
          },
          "yaxis": {
           "automargin": true,
           "gridcolor": "white",
           "linecolor": "white",
           "ticks": "",
           "title": {
            "standoff": 15
           },
           "zerolinecolor": "white",
           "zerolinewidth": 2
          }
         }
        },
        "xaxis": {
         "anchor": "y",
         "domain": [
          0,
          1
         ],
         "title": {
          "text": "sepal_width"
         }
        },
        "yaxis": {
         "anchor": "x",
         "domain": [
          0,
          1
         ],
         "title": {
          "text": "sepal_length"
         }
        }
       }
      },
      "text/html": [
       "<div>                            <div id=\"3b326853-8507-414e-9ee0-33a5c55f7a61\" class=\"plotly-graph-div\" style=\"height:525px; width:100%;\"></div>            <script type=\"text/javascript\">                require([\"plotly\"], function(Plotly) {                    window.PLOTLYENV=window.PLOTLYENV || {};                                    if (document.getElementById(\"3b326853-8507-414e-9ee0-33a5c55f7a61\")) {                    Plotly.newPlot(                        \"3b326853-8507-414e-9ee0-33a5c55f7a61\",                        [{\"hovertemplate\": \"species=setosa<br>sepal_width=%{x}<br>sepal_length=%{y}<extra></extra>\", \"legendgroup\": \"setosa\", \"marker\": {\"color\": \"#636efa\", \"symbol\": \"circle\"}, \"mode\": \"markers\", \"name\": \"setosa\", \"orientation\": \"v\", \"showlegend\": true, \"type\": \"scatter\", \"x\": [3.5, 3.0, 3.2, 3.1, 3.6, 3.9, 3.4, 3.4, 2.9, 3.1, 3.7, 3.4, 3.0, 3.0, 4.0, 4.4, 3.9, 3.5, 3.8, 3.8, 3.4, 3.7, 3.6, 3.3, 3.4, 3.0, 3.4, 3.5, 3.4, 3.2, 3.1, 3.4, 4.1, 4.2, 3.1, 3.2, 3.5, 3.1, 3.0, 3.4, 3.5, 2.3, 3.2, 3.5, 3.8, 3.0, 3.8, 3.2, 3.7, 3.3], \"xaxis\": \"x\", \"y\": [5.1, 4.9, 4.7, 4.6, 5.0, 5.4, 4.6, 5.0, 4.4, 4.9, 5.4, 4.8, 4.8, 4.3, 5.8, 5.7, 5.4, 5.1, 5.7, 5.1, 5.4, 5.1, 4.6, 5.1, 4.8, 5.0, 5.0, 5.2, 5.2, 4.7, 4.8, 5.4, 5.2, 5.5, 4.9, 5.0, 5.5, 4.9, 4.4, 5.1, 5.0, 4.5, 4.4, 5.0, 5.1, 4.8, 5.1, 4.6, 5.3, 5.0], \"yaxis\": \"y\"}, {\"hovertemplate\": \"species=versicolor<br>sepal_width=%{x}<br>sepal_length=%{y}<extra></extra>\", \"legendgroup\": \"versicolor\", \"marker\": {\"color\": \"#EF553B\", \"symbol\": \"circle\"}, \"mode\": \"markers\", \"name\": \"versicolor\", \"orientation\": \"v\", \"showlegend\": true, \"type\": \"scatter\", \"x\": [3.2, 3.2, 3.1, 2.3, 2.8, 2.8, 3.3, 2.4, 2.9, 2.7, 2.0, 3.0, 2.2, 2.9, 2.9, 3.1, 3.0, 2.7, 2.2, 2.5, 3.2, 2.8, 2.5, 2.8, 2.9, 3.0, 2.8, 3.0, 2.9, 2.6, 2.4, 2.4, 2.7, 2.7, 3.0, 3.4, 3.1, 2.3, 3.0, 2.5, 2.6, 3.0, 2.6, 2.3, 2.7, 3.0, 2.9, 2.9, 2.5, 2.8], \"xaxis\": \"x\", \"y\": [7.0, 6.4, 6.9, 5.5, 6.5, 5.7, 6.3, 4.9, 6.6, 5.2, 5.0, 5.9, 6.0, 6.1, 5.6, 6.7, 5.6, 5.8, 6.2, 5.6, 5.9, 6.1, 6.3, 6.1, 6.4, 6.6, 6.8, 6.7, 6.0, 5.7, 5.5, 5.5, 5.8, 6.0, 5.4, 6.0, 6.7, 6.3, 5.6, 5.5, 5.5, 6.1, 5.8, 5.0, 5.6, 5.7, 5.7, 6.2, 5.1, 5.7], \"yaxis\": \"y\"}, {\"hovertemplate\": \"species=virginica<br>sepal_width=%{x}<br>sepal_length=%{y}<extra></extra>\", \"legendgroup\": \"virginica\", \"marker\": {\"color\": \"#00cc96\", \"symbol\": \"circle\"}, \"mode\": \"markers\", \"name\": \"virginica\", \"orientation\": \"v\", \"showlegend\": true, \"type\": \"scatter\", \"x\": [3.3, 2.7, 3.0, 2.9, 3.0, 3.0, 2.5, 2.9, 2.5, 3.6, 3.2, 2.7, 3.0, 2.5, 2.8, 3.2, 3.0, 3.8, 2.6, 2.2, 3.2, 2.8, 2.8, 2.7, 3.3, 3.2, 2.8, 3.0, 2.8, 3.0, 2.8, 3.8, 2.8, 2.8, 2.6, 3.0, 3.4, 3.1, 3.0, 3.1, 3.1, 3.1, 2.7, 3.2, 3.3, 3.0, 2.5, 3.0, 3.4, 3.0], \"xaxis\": \"x\", \"y\": [6.3, 5.8, 7.1, 6.3, 6.5, 7.6, 4.9, 7.3, 6.7, 7.2, 6.5, 6.4, 6.8, 5.7, 5.8, 6.4, 6.5, 7.7, 7.7, 6.0, 6.9, 5.6, 7.7, 6.3, 6.7, 7.2, 6.2, 6.1, 6.4, 7.2, 7.4, 7.9, 6.4, 6.3, 6.1, 7.7, 6.3, 6.4, 6.0, 6.9, 6.7, 6.9, 5.8, 6.8, 6.7, 6.7, 6.3, 6.5, 6.2, 5.9], \"yaxis\": \"y\"}],                        {\"legend\": {\"title\": {\"text\": \"species\"}, \"tracegroupgap\": 0}, \"margin\": {\"t\": 60}, \"template\": {\"data\": {\"bar\": [{\"error_x\": {\"color\": \"#2a3f5f\"}, \"error_y\": {\"color\": \"#2a3f5f\"}, \"marker\": {\"line\": {\"color\": \"#E5ECF6\", \"width\": 0.5}}, \"type\": \"bar\"}], \"barpolar\": [{\"marker\": {\"line\": {\"color\": \"#E5ECF6\", \"width\": 0.5}}, \"type\": \"barpolar\"}], \"carpet\": [{\"aaxis\": {\"endlinecolor\": \"#2a3f5f\", \"gridcolor\": \"white\", \"linecolor\": \"white\", \"minorgridcolor\": \"white\", \"startlinecolor\": \"#2a3f5f\"}, \"baxis\": {\"endlinecolor\": \"#2a3f5f\", \"gridcolor\": \"white\", \"linecolor\": \"white\", \"minorgridcolor\": \"white\", \"startlinecolor\": \"#2a3f5f\"}, \"type\": \"carpet\"}], \"choropleth\": [{\"colorbar\": {\"outlinewidth\": 0, \"ticks\": \"\"}, \"type\": \"choropleth\"}], \"contour\": [{\"colorbar\": {\"outlinewidth\": 0, \"ticks\": \"\"}, \"colorscale\": [[0.0, \"#0d0887\"], [0.1111111111111111, \"#46039f\"], [0.2222222222222222, \"#7201a8\"], [0.3333333333333333, \"#9c179e\"], [0.4444444444444444, \"#bd3786\"], [0.5555555555555556, \"#d8576b\"], [0.6666666666666666, \"#ed7953\"], [0.7777777777777778, \"#fb9f3a\"], [0.8888888888888888, \"#fdca26\"], [1.0, \"#f0f921\"]], \"type\": \"contour\"}], \"contourcarpet\": [{\"colorbar\": {\"outlinewidth\": 0, \"ticks\": \"\"}, \"type\": \"contourcarpet\"}], \"heatmap\": [{\"colorbar\": {\"outlinewidth\": 0, \"ticks\": \"\"}, \"colorscale\": [[0.0, \"#0d0887\"], [0.1111111111111111, \"#46039f\"], [0.2222222222222222, \"#7201a8\"], [0.3333333333333333, \"#9c179e\"], [0.4444444444444444, \"#bd3786\"], [0.5555555555555556, \"#d8576b\"], [0.6666666666666666, \"#ed7953\"], [0.7777777777777778, \"#fb9f3a\"], [0.8888888888888888, \"#fdca26\"], [1.0, \"#f0f921\"]], \"type\": \"heatmap\"}], \"heatmapgl\": [{\"colorbar\": {\"outlinewidth\": 0, \"ticks\": \"\"}, \"colorscale\": [[0.0, \"#0d0887\"], [0.1111111111111111, \"#46039f\"], [0.2222222222222222, \"#7201a8\"], [0.3333333333333333, \"#9c179e\"], [0.4444444444444444, \"#bd3786\"], [0.5555555555555556, \"#d8576b\"], [0.6666666666666666, \"#ed7953\"], [0.7777777777777778, \"#fb9f3a\"], [0.8888888888888888, \"#fdca26\"], [1.0, \"#f0f921\"]], \"type\": \"heatmapgl\"}], \"histogram\": [{\"marker\": {\"colorbar\": {\"outlinewidth\": 0, \"ticks\": \"\"}}, \"type\": \"histogram\"}], \"histogram2d\": [{\"colorbar\": {\"outlinewidth\": 0, \"ticks\": \"\"}, \"colorscale\": [[0.0, \"#0d0887\"], [0.1111111111111111, \"#46039f\"], [0.2222222222222222, \"#7201a8\"], [0.3333333333333333, \"#9c179e\"], [0.4444444444444444, \"#bd3786\"], [0.5555555555555556, \"#d8576b\"], [0.6666666666666666, \"#ed7953\"], [0.7777777777777778, \"#fb9f3a\"], [0.8888888888888888, \"#fdca26\"], [1.0, \"#f0f921\"]], \"type\": \"histogram2d\"}], \"histogram2dcontour\": [{\"colorbar\": {\"outlinewidth\": 0, \"ticks\": \"\"}, \"colorscale\": [[0.0, \"#0d0887\"], [0.1111111111111111, \"#46039f\"], [0.2222222222222222, \"#7201a8\"], [0.3333333333333333, \"#9c179e\"], [0.4444444444444444, \"#bd3786\"], [0.5555555555555556, \"#d8576b\"], [0.6666666666666666, \"#ed7953\"], [0.7777777777777778, \"#fb9f3a\"], [0.8888888888888888, \"#fdca26\"], [1.0, \"#f0f921\"]], \"type\": \"histogram2dcontour\"}], \"mesh3d\": [{\"colorbar\": {\"outlinewidth\": 0, \"ticks\": \"\"}, \"type\": \"mesh3d\"}], \"parcoords\": [{\"line\": {\"colorbar\": {\"outlinewidth\": 0, \"ticks\": \"\"}}, \"type\": \"parcoords\"}], \"pie\": [{\"automargin\": true, \"type\": \"pie\"}], \"scatter\": [{\"marker\": {\"colorbar\": {\"outlinewidth\": 0, \"ticks\": \"\"}}, \"type\": \"scatter\"}], \"scatter3d\": [{\"line\": {\"colorbar\": {\"outlinewidth\": 0, \"ticks\": \"\"}}, \"marker\": {\"colorbar\": {\"outlinewidth\": 0, \"ticks\": \"\"}}, \"type\": \"scatter3d\"}], \"scattercarpet\": [{\"marker\": {\"colorbar\": {\"outlinewidth\": 0, \"ticks\": \"\"}}, \"type\": \"scattercarpet\"}], \"scattergeo\": [{\"marker\": {\"colorbar\": {\"outlinewidth\": 0, \"ticks\": \"\"}}, \"type\": \"scattergeo\"}], \"scattergl\": [{\"marker\": {\"colorbar\": {\"outlinewidth\": 0, \"ticks\": \"\"}}, \"type\": \"scattergl\"}], \"scattermapbox\": [{\"marker\": {\"colorbar\": {\"outlinewidth\": 0, \"ticks\": \"\"}}, \"type\": \"scattermapbox\"}], \"scatterpolar\": [{\"marker\": {\"colorbar\": {\"outlinewidth\": 0, \"ticks\": \"\"}}, \"type\": \"scatterpolar\"}], \"scatterpolargl\": [{\"marker\": {\"colorbar\": {\"outlinewidth\": 0, \"ticks\": \"\"}}, \"type\": \"scatterpolargl\"}], \"scatterternary\": [{\"marker\": {\"colorbar\": {\"outlinewidth\": 0, \"ticks\": \"\"}}, \"type\": \"scatterternary\"}], \"surface\": [{\"colorbar\": {\"outlinewidth\": 0, \"ticks\": \"\"}, \"colorscale\": [[0.0, \"#0d0887\"], [0.1111111111111111, \"#46039f\"], [0.2222222222222222, \"#7201a8\"], [0.3333333333333333, \"#9c179e\"], [0.4444444444444444, \"#bd3786\"], [0.5555555555555556, \"#d8576b\"], [0.6666666666666666, \"#ed7953\"], [0.7777777777777778, \"#fb9f3a\"], [0.8888888888888888, \"#fdca26\"], [1.0, \"#f0f921\"]], \"type\": \"surface\"}], \"table\": [{\"cells\": {\"fill\": {\"color\": \"#EBF0F8\"}, \"line\": {\"color\": \"white\"}}, \"header\": {\"fill\": {\"color\": \"#C8D4E3\"}, \"line\": {\"color\": \"white\"}}, \"type\": \"table\"}]}, \"layout\": {\"annotationdefaults\": {\"arrowcolor\": \"#2a3f5f\", \"arrowhead\": 0, \"arrowwidth\": 1}, \"coloraxis\": {\"colorbar\": {\"outlinewidth\": 0, \"ticks\": \"\"}}, \"colorscale\": {\"diverging\": [[0, \"#8e0152\"], [0.1, \"#c51b7d\"], [0.2, \"#de77ae\"], [0.3, \"#f1b6da\"], [0.4, \"#fde0ef\"], [0.5, \"#f7f7f7\"], [0.6, \"#e6f5d0\"], [0.7, \"#b8e186\"], [0.8, \"#7fbc41\"], [0.9, \"#4d9221\"], [1, \"#276419\"]], \"sequential\": [[0.0, \"#0d0887\"], [0.1111111111111111, \"#46039f\"], [0.2222222222222222, \"#7201a8\"], [0.3333333333333333, \"#9c179e\"], [0.4444444444444444, \"#bd3786\"], [0.5555555555555556, \"#d8576b\"], [0.6666666666666666, \"#ed7953\"], [0.7777777777777778, \"#fb9f3a\"], [0.8888888888888888, \"#fdca26\"], [1.0, \"#f0f921\"]], \"sequentialminus\": [[0.0, \"#0d0887\"], [0.1111111111111111, \"#46039f\"], [0.2222222222222222, \"#7201a8\"], [0.3333333333333333, \"#9c179e\"], [0.4444444444444444, \"#bd3786\"], [0.5555555555555556, \"#d8576b\"], [0.6666666666666666, \"#ed7953\"], [0.7777777777777778, \"#fb9f3a\"], [0.8888888888888888, \"#fdca26\"], [1.0, \"#f0f921\"]]}, \"colorway\": [\"#636efa\", \"#EF553B\", \"#00cc96\", \"#ab63fa\", \"#FFA15A\", \"#19d3f3\", \"#FF6692\", \"#B6E880\", \"#FF97FF\", \"#FECB52\"], \"font\": {\"color\": \"#2a3f5f\"}, \"geo\": {\"bgcolor\": \"white\", \"lakecolor\": \"white\", \"landcolor\": \"#E5ECF6\", \"showlakes\": true, \"showland\": true, \"subunitcolor\": \"white\"}, \"hoverlabel\": {\"align\": \"left\"}, \"hovermode\": \"closest\", \"mapbox\": {\"style\": \"light\"}, \"paper_bgcolor\": \"white\", \"plot_bgcolor\": \"#E5ECF6\", \"polar\": {\"angularaxis\": {\"gridcolor\": \"white\", \"linecolor\": \"white\", \"ticks\": \"\"}, \"bgcolor\": \"#E5ECF6\", \"radialaxis\": {\"gridcolor\": \"white\", \"linecolor\": \"white\", \"ticks\": \"\"}}, \"scene\": {\"xaxis\": {\"backgroundcolor\": \"#E5ECF6\", \"gridcolor\": \"white\", \"gridwidth\": 2, \"linecolor\": \"white\", \"showbackground\": true, \"ticks\": \"\", \"zerolinecolor\": \"white\"}, \"yaxis\": {\"backgroundcolor\": \"#E5ECF6\", \"gridcolor\": \"white\", \"gridwidth\": 2, \"linecolor\": \"white\", \"showbackground\": true, \"ticks\": \"\", \"zerolinecolor\": \"white\"}, \"zaxis\": {\"backgroundcolor\": \"#E5ECF6\", \"gridcolor\": \"white\", \"gridwidth\": 2, \"linecolor\": \"white\", \"showbackground\": true, \"ticks\": \"\", \"zerolinecolor\": \"white\"}}, \"shapedefaults\": {\"line\": {\"color\": \"#2a3f5f\"}}, \"ternary\": {\"aaxis\": {\"gridcolor\": \"white\", \"linecolor\": \"white\", \"ticks\": \"\"}, \"baxis\": {\"gridcolor\": \"white\", \"linecolor\": \"white\", \"ticks\": \"\"}, \"bgcolor\": \"#E5ECF6\", \"caxis\": {\"gridcolor\": \"white\", \"linecolor\": \"white\", \"ticks\": \"\"}}, \"title\": {\"x\": 0.05}, \"xaxis\": {\"automargin\": true, \"gridcolor\": \"white\", \"linecolor\": \"white\", \"ticks\": \"\", \"title\": {\"standoff\": 15}, \"zerolinecolor\": \"white\", \"zerolinewidth\": 2}, \"yaxis\": {\"automargin\": true, \"gridcolor\": \"white\", \"linecolor\": \"white\", \"ticks\": \"\", \"title\": {\"standoff\": 15}, \"zerolinecolor\": \"white\", \"zerolinewidth\": 2}}}, \"xaxis\": {\"anchor\": \"y\", \"domain\": [0.0, 1.0], \"title\": {\"text\": \"sepal_width\"}}, \"yaxis\": {\"anchor\": \"x\", \"domain\": [0.0, 1.0], \"title\": {\"text\": \"sepal_length\"}}},                        {\"responsive\": true}                    ).then(function(){\n",
       "                            \n",
       "var gd = document.getElementById('3b326853-8507-414e-9ee0-33a5c55f7a61');\n",
       "var x = new MutationObserver(function (mutations, observer) {{\n",
       "        var display = window.getComputedStyle(gd).display;\n",
       "        if (!display || display === 'none') {{\n",
       "            console.log([gd, 'removed!']);\n",
       "            Plotly.purge(gd);\n",
       "            observer.disconnect();\n",
       "        }}\n",
       "}});\n",
       "\n",
       "// Listen for the removal of the full notebook cells\n",
       "var notebookContainer = gd.closest('#notebook-container');\n",
       "if (notebookContainer) {{\n",
       "    x.observe(notebookContainer, {childList: true});\n",
       "}}\n",
       "\n",
       "// Listen for the clearing of the current output cell\n",
       "var outputEl = gd.closest('.output');\n",
       "if (outputEl) {{\n",
       "    x.observe(outputEl, {childList: true});\n",
       "}}\n",
       "\n",
       "                        })                };                });            </script>        </div>"
      ]
     },
     "metadata": {},
     "output_type": "display_data"
    },
    {
     "data": {
      "application/vnd.plotly.v1+json": {
       "config": {
        "plotlyServerURL": "https://plot.ly"
       },
       "data": [
        {
         "alignmentgroup": "True",
         "hovertemplate": "smoker=No<br>sex=%{x}<br>total_bill=%{y}<extra></extra>",
         "legendgroup": "No",
         "marker": {
          "color": "#636efa"
         },
         "name": "No",
         "offsetgroup": "No",
         "orientation": "v",
         "showlegend": true,
         "textposition": "auto",
         "type": "bar",
         "x": [
          "Female",
          "Male",
          "Male",
          "Male",
          "Female",
          "Male",
          "Male",
          "Male",
          "Male",
          "Male",
          "Male",
          "Female",
          "Male",
          "Male",
          "Female",
          "Male",
          "Female",
          "Male",
          "Female",
          "Male",
          "Male",
          "Female",
          "Female",
          "Male",
          "Male",
          "Male",
          "Male",
          "Male",
          "Male",
          "Female",
          "Male",
          "Male",
          "Female",
          "Female",
          "Male",
          "Male",
          "Male",
          "Female",
          "Male",
          "Male",
          "Male",
          "Male",
          "Male",
          "Male",
          "Male",
          "Male",
          "Male",
          "Male",
          "Male",
          "Male",
          "Male",
          "Female",
          "Female",
          "Male",
          "Male",
          "Male",
          "Female",
          "Male",
          "Male",
          "Male",
          "Female",
          "Male",
          "Male",
          "Female",
          "Female",
          "Male",
          "Male",
          "Male",
          "Male",
          "Male",
          "Female",
          "Male",
          "Female",
          "Male",
          "Male",
          "Male",
          "Male",
          "Male",
          "Female",
          "Male",
          "Female",
          "Male",
          "Male",
          "Female",
          "Male",
          "Male",
          "Female",
          "Female",
          "Male",
          "Female",
          "Female",
          "Female",
          "Male",
          "Female",
          "Male",
          "Male",
          "Female",
          "Female",
          "Male",
          "Female",
          "Female",
          "Male",
          "Male",
          "Female",
          "Female",
          "Female",
          "Female",
          "Female",
          "Female",
          "Female",
          "Female",
          "Female",
          "Male",
          "Male",
          "Female",
          "Female",
          "Female",
          "Female",
          "Female",
          "Male",
          "Male",
          "Male",
          "Male",
          "Male",
          "Male",
          "Male",
          "Female",
          "Male",
          "Female",
          "Female",
          "Male",
          "Male",
          "Male",
          "Female",
          "Male",
          "Male",
          "Male",
          "Male",
          "Male",
          "Male",
          "Male",
          "Female",
          "Male",
          "Male",
          "Male",
          "Male",
          "Male",
          "Female",
          "Male",
          "Male",
          "Female"
         ],
         "xaxis": "x",
         "y": [
          16.99,
          10.34,
          21.01,
          23.68,
          24.59,
          25.29,
          8.77,
          26.88,
          15.04,
          14.78,
          10.27,
          35.26,
          15.42,
          18.43,
          14.83,
          21.58,
          10.33,
          16.29,
          16.97,
          20.65,
          17.92,
          20.29,
          15.77,
          39.42,
          19.82,
          17.81,
          13.37,
          12.69,
          21.7,
          19.65,
          9.55,
          18.35,
          15.06,
          20.69,
          17.78,
          24.06,
          16.31,
          16.93,
          18.69,
          31.27,
          16.04,
          17.46,
          13.94,
          9.68,
          30.4,
          18.29,
          22.23,
          32.4,
          28.55,
          18.04,
          12.54,
          10.29,
          34.81,
          9.94,
          25.56,
          19.49,
          26.41,
          48.27,
          17.59,
          20.08,
          16.45,
          20.23,
          12.02,
          17.07,
          14.73,
          10.51,
          27.2,
          22.76,
          17.29,
          16.66,
          10.07,
          15.98,
          34.83,
          13.03,
          18.28,
          24.71,
          21.16,
          22.49,
          22.75,
          12.46,
          20.92,
          18.24,
          14,
          7.25,
          38.07,
          23.95,
          25.71,
          17.31,
          29.93,
          10.65,
          12.43,
          24.08,
          11.69,
          13.42,
          14.26,
          15.95,
          12.48,
          29.8,
          8.52,
          14.52,
          11.38,
          22.82,
          19.08,
          20.27,
          11.17,
          12.26,
          18.26,
          8.51,
          10.33,
          14.15,
          13.16,
          17.47,
          34.3,
          41.19,
          27.05,
          16.43,
          8.35,
          18.64,
          11.87,
          9.78,
          7.51,
          14.07,
          13.13,
          17.26,
          24.55,
          19.77,
          29.85,
          48.17,
          25,
          13.39,
          16.49,
          21.5,
          12.66,
          16.21,
          13.81,
          24.52,
          20.76,
          31.71,
          20.69,
          7.56,
          48.33,
          15.98,
          20.45,
          13.28,
          11.61,
          10.77,
          10.07,
          35.83,
          29.03,
          17.82,
          18.78
         ],
         "yaxis": "y"
        },
        {
         "alignmentgroup": "True",
         "hovertemplate": "smoker=Yes<br>sex=%{x}<br>total_bill=%{y}<extra></extra>",
         "legendgroup": "Yes",
         "marker": {
          "color": "#EF553B"
         },
         "name": "Yes",
         "offsetgroup": "Yes",
         "orientation": "v",
         "showlegend": true,
         "textposition": "auto",
         "type": "bar",
         "x": [
          "Male",
          "Male",
          "Male",
          "Male",
          "Male",
          "Male",
          "Female",
          "Male",
          "Female",
          "Female",
          "Male",
          "Male",
          "Male",
          "Male",
          "Female",
          "Female",
          "Male",
          "Male",
          "Male",
          "Male",
          "Female",
          "Female",
          "Female",
          "Female",
          "Male",
          "Male",
          "Male",
          "Female",
          "Male",
          "Female",
          "Female",
          "Female",
          "Male",
          "Male",
          "Male",
          "Male",
          "Male",
          "Male",
          "Male",
          "Male",
          "Female",
          "Male",
          "Male",
          "Male",
          "Male",
          "Male",
          "Male",
          "Female",
          "Male",
          "Female",
          "Male",
          "Male",
          "Female",
          "Male",
          "Male",
          "Male",
          "Male",
          "Female",
          "Female",
          "Male",
          "Male",
          "Female",
          "Female",
          "Female",
          "Male",
          "Female",
          "Male",
          "Male",
          "Male",
          "Female",
          "Male",
          "Male",
          "Female",
          "Female",
          "Female",
          "Male",
          "Male",
          "Male",
          "Female",
          "Male",
          "Female",
          "Male",
          "Male",
          "Female",
          "Female",
          "Female",
          "Male",
          "Male",
          "Male",
          "Male",
          "Male",
          "Female",
          "Male"
         ],
         "xaxis": "x",
         "y": [
          38.01,
          11.24,
          20.29,
          13.81,
          11.02,
          18.29,
          3.07,
          15.01,
          26.86,
          25.28,
          17.92,
          19.44,
          32.68,
          28.97,
          5.75,
          16.32,
          40.17,
          27.28,
          12.03,
          21.01,
          11.35,
          15.38,
          44.3,
          22.42,
          15.36,
          20.49,
          25.21,
          14.31,
          16,
          17.51,
          10.59,
          10.63,
          50.81,
          15.81,
          7.25,
          31.85,
          16.82,
          32.9,
          17.89,
          14.48,
          9.6,
          34.63,
          34.65,
          23.33,
          45.35,
          23.17,
          40.55,
          20.9,
          30.46,
          18.15,
          23.1,
          15.69,
          19.81,
          28.44,
          15.48,
          16.58,
          10.34,
          43.11,
          13,
          13.51,
          18.71,
          12.74,
          13,
          16.4,
          20.53,
          16.47,
          26.59,
          38.73,
          24.27,
          12.76,
          30.06,
          25.89,
          13.27,
          28.17,
          12.9,
          28.15,
          11.59,
          7.74,
          30.14,
          12.16,
          13.42,
          8.58,
          13.42,
          16.27,
          10.09,
          22.12,
          24.01,
          15.69,
          15.53,
          12.6,
          32.83,
          27.18,
          22.67
         ],
         "yaxis": "y"
        }
       ],
       "layout": {
        "barmode": "group",
        "legend": {
         "title": {
          "text": "smoker"
         },
         "tracegroupgap": 0
        },
        "margin": {
         "t": 60
        },
        "template": {
         "data": {
          "bar": [
           {
            "error_x": {
             "color": "#2a3f5f"
            },
            "error_y": {
             "color": "#2a3f5f"
            },
            "marker": {
             "line": {
              "color": "#E5ECF6",
              "width": 0.5
             }
            },
            "type": "bar"
           }
          ],
          "barpolar": [
           {
            "marker": {
             "line": {
              "color": "#E5ECF6",
              "width": 0.5
             }
            },
            "type": "barpolar"
           }
          ],
          "carpet": [
           {
            "aaxis": {
             "endlinecolor": "#2a3f5f",
             "gridcolor": "white",
             "linecolor": "white",
             "minorgridcolor": "white",
             "startlinecolor": "#2a3f5f"
            },
            "baxis": {
             "endlinecolor": "#2a3f5f",
             "gridcolor": "white",
             "linecolor": "white",
             "minorgridcolor": "white",
             "startlinecolor": "#2a3f5f"
            },
            "type": "carpet"
           }
          ],
          "choropleth": [
           {
            "colorbar": {
             "outlinewidth": 0,
             "ticks": ""
            },
            "type": "choropleth"
           }
          ],
          "contour": [
           {
            "colorbar": {
             "outlinewidth": 0,
             "ticks": ""
            },
            "colorscale": [
             [
              0,
              "#0d0887"
             ],
             [
              0.1111111111111111,
              "#46039f"
             ],
             [
              0.2222222222222222,
              "#7201a8"
             ],
             [
              0.3333333333333333,
              "#9c179e"
             ],
             [
              0.4444444444444444,
              "#bd3786"
             ],
             [
              0.5555555555555556,
              "#d8576b"
             ],
             [
              0.6666666666666666,
              "#ed7953"
             ],
             [
              0.7777777777777778,
              "#fb9f3a"
             ],
             [
              0.8888888888888888,
              "#fdca26"
             ],
             [
              1,
              "#f0f921"
             ]
            ],
            "type": "contour"
           }
          ],
          "contourcarpet": [
           {
            "colorbar": {
             "outlinewidth": 0,
             "ticks": ""
            },
            "type": "contourcarpet"
           }
          ],
          "heatmap": [
           {
            "colorbar": {
             "outlinewidth": 0,
             "ticks": ""
            },
            "colorscale": [
             [
              0,
              "#0d0887"
             ],
             [
              0.1111111111111111,
              "#46039f"
             ],
             [
              0.2222222222222222,
              "#7201a8"
             ],
             [
              0.3333333333333333,
              "#9c179e"
             ],
             [
              0.4444444444444444,
              "#bd3786"
             ],
             [
              0.5555555555555556,
              "#d8576b"
             ],
             [
              0.6666666666666666,
              "#ed7953"
             ],
             [
              0.7777777777777778,
              "#fb9f3a"
             ],
             [
              0.8888888888888888,
              "#fdca26"
             ],
             [
              1,
              "#f0f921"
             ]
            ],
            "type": "heatmap"
           }
          ],
          "heatmapgl": [
           {
            "colorbar": {
             "outlinewidth": 0,
             "ticks": ""
            },
            "colorscale": [
             [
              0,
              "#0d0887"
             ],
             [
              0.1111111111111111,
              "#46039f"
             ],
             [
              0.2222222222222222,
              "#7201a8"
             ],
             [
              0.3333333333333333,
              "#9c179e"
             ],
             [
              0.4444444444444444,
              "#bd3786"
             ],
             [
              0.5555555555555556,
              "#d8576b"
             ],
             [
              0.6666666666666666,
              "#ed7953"
             ],
             [
              0.7777777777777778,
              "#fb9f3a"
             ],
             [
              0.8888888888888888,
              "#fdca26"
             ],
             [
              1,
              "#f0f921"
             ]
            ],
            "type": "heatmapgl"
           }
          ],
          "histogram": [
           {
            "marker": {
             "colorbar": {
              "outlinewidth": 0,
              "ticks": ""
             }
            },
            "type": "histogram"
           }
          ],
          "histogram2d": [
           {
            "colorbar": {
             "outlinewidth": 0,
             "ticks": ""
            },
            "colorscale": [
             [
              0,
              "#0d0887"
             ],
             [
              0.1111111111111111,
              "#46039f"
             ],
             [
              0.2222222222222222,
              "#7201a8"
             ],
             [
              0.3333333333333333,
              "#9c179e"
             ],
             [
              0.4444444444444444,
              "#bd3786"
             ],
             [
              0.5555555555555556,
              "#d8576b"
             ],
             [
              0.6666666666666666,
              "#ed7953"
             ],
             [
              0.7777777777777778,
              "#fb9f3a"
             ],
             [
              0.8888888888888888,
              "#fdca26"
             ],
             [
              1,
              "#f0f921"
             ]
            ],
            "type": "histogram2d"
           }
          ],
          "histogram2dcontour": [
           {
            "colorbar": {
             "outlinewidth": 0,
             "ticks": ""
            },
            "colorscale": [
             [
              0,
              "#0d0887"
             ],
             [
              0.1111111111111111,
              "#46039f"
             ],
             [
              0.2222222222222222,
              "#7201a8"
             ],
             [
              0.3333333333333333,
              "#9c179e"
             ],
             [
              0.4444444444444444,
              "#bd3786"
             ],
             [
              0.5555555555555556,
              "#d8576b"
             ],
             [
              0.6666666666666666,
              "#ed7953"
             ],
             [
              0.7777777777777778,
              "#fb9f3a"
             ],
             [
              0.8888888888888888,
              "#fdca26"
             ],
             [
              1,
              "#f0f921"
             ]
            ],
            "type": "histogram2dcontour"
           }
          ],
          "mesh3d": [
           {
            "colorbar": {
             "outlinewidth": 0,
             "ticks": ""
            },
            "type": "mesh3d"
           }
          ],
          "parcoords": [
           {
            "line": {
             "colorbar": {
              "outlinewidth": 0,
              "ticks": ""
             }
            },
            "type": "parcoords"
           }
          ],
          "pie": [
           {
            "automargin": true,
            "type": "pie"
           }
          ],
          "scatter": [
           {
            "marker": {
             "colorbar": {
              "outlinewidth": 0,
              "ticks": ""
             }
            },
            "type": "scatter"
           }
          ],
          "scatter3d": [
           {
            "line": {
             "colorbar": {
              "outlinewidth": 0,
              "ticks": ""
             }
            },
            "marker": {
             "colorbar": {
              "outlinewidth": 0,
              "ticks": ""
             }
            },
            "type": "scatter3d"
           }
          ],
          "scattercarpet": [
           {
            "marker": {
             "colorbar": {
              "outlinewidth": 0,
              "ticks": ""
             }
            },
            "type": "scattercarpet"
           }
          ],
          "scattergeo": [
           {
            "marker": {
             "colorbar": {
              "outlinewidth": 0,
              "ticks": ""
             }
            },
            "type": "scattergeo"
           }
          ],
          "scattergl": [
           {
            "marker": {
             "colorbar": {
              "outlinewidth": 0,
              "ticks": ""
             }
            },
            "type": "scattergl"
           }
          ],
          "scattermapbox": [
           {
            "marker": {
             "colorbar": {
              "outlinewidth": 0,
              "ticks": ""
             }
            },
            "type": "scattermapbox"
           }
          ],
          "scatterpolar": [
           {
            "marker": {
             "colorbar": {
              "outlinewidth": 0,
              "ticks": ""
             }
            },
            "type": "scatterpolar"
           }
          ],
          "scatterpolargl": [
           {
            "marker": {
             "colorbar": {
              "outlinewidth": 0,
              "ticks": ""
             }
            },
            "type": "scatterpolargl"
           }
          ],
          "scatterternary": [
           {
            "marker": {
             "colorbar": {
              "outlinewidth": 0,
              "ticks": ""
             }
            },
            "type": "scatterternary"
           }
          ],
          "surface": [
           {
            "colorbar": {
             "outlinewidth": 0,
             "ticks": ""
            },
            "colorscale": [
             [
              0,
              "#0d0887"
             ],
             [
              0.1111111111111111,
              "#46039f"
             ],
             [
              0.2222222222222222,
              "#7201a8"
             ],
             [
              0.3333333333333333,
              "#9c179e"
             ],
             [
              0.4444444444444444,
              "#bd3786"
             ],
             [
              0.5555555555555556,
              "#d8576b"
             ],
             [
              0.6666666666666666,
              "#ed7953"
             ],
             [
              0.7777777777777778,
              "#fb9f3a"
             ],
             [
              0.8888888888888888,
              "#fdca26"
             ],
             [
              1,
              "#f0f921"
             ]
            ],
            "type": "surface"
           }
          ],
          "table": [
           {
            "cells": {
             "fill": {
              "color": "#EBF0F8"
             },
             "line": {
              "color": "white"
             }
            },
            "header": {
             "fill": {
              "color": "#C8D4E3"
             },
             "line": {
              "color": "white"
             }
            },
            "type": "table"
           }
          ]
         },
         "layout": {
          "annotationdefaults": {
           "arrowcolor": "#2a3f5f",
           "arrowhead": 0,
           "arrowwidth": 1
          },
          "coloraxis": {
           "colorbar": {
            "outlinewidth": 0,
            "ticks": ""
           }
          },
          "colorscale": {
           "diverging": [
            [
             0,
             "#8e0152"
            ],
            [
             0.1,
             "#c51b7d"
            ],
            [
             0.2,
             "#de77ae"
            ],
            [
             0.3,
             "#f1b6da"
            ],
            [
             0.4,
             "#fde0ef"
            ],
            [
             0.5,
             "#f7f7f7"
            ],
            [
             0.6,
             "#e6f5d0"
            ],
            [
             0.7,
             "#b8e186"
            ],
            [
             0.8,
             "#7fbc41"
            ],
            [
             0.9,
             "#4d9221"
            ],
            [
             1,
             "#276419"
            ]
           ],
           "sequential": [
            [
             0,
             "#0d0887"
            ],
            [
             0.1111111111111111,
             "#46039f"
            ],
            [
             0.2222222222222222,
             "#7201a8"
            ],
            [
             0.3333333333333333,
             "#9c179e"
            ],
            [
             0.4444444444444444,
             "#bd3786"
            ],
            [
             0.5555555555555556,
             "#d8576b"
            ],
            [
             0.6666666666666666,
             "#ed7953"
            ],
            [
             0.7777777777777778,
             "#fb9f3a"
            ],
            [
             0.8888888888888888,
             "#fdca26"
            ],
            [
             1,
             "#f0f921"
            ]
           ],
           "sequentialminus": [
            [
             0,
             "#0d0887"
            ],
            [
             0.1111111111111111,
             "#46039f"
            ],
            [
             0.2222222222222222,
             "#7201a8"
            ],
            [
             0.3333333333333333,
             "#9c179e"
            ],
            [
             0.4444444444444444,
             "#bd3786"
            ],
            [
             0.5555555555555556,
             "#d8576b"
            ],
            [
             0.6666666666666666,
             "#ed7953"
            ],
            [
             0.7777777777777778,
             "#fb9f3a"
            ],
            [
             0.8888888888888888,
             "#fdca26"
            ],
            [
             1,
             "#f0f921"
            ]
           ]
          },
          "colorway": [
           "#636efa",
           "#EF553B",
           "#00cc96",
           "#ab63fa",
           "#FFA15A",
           "#19d3f3",
           "#FF6692",
           "#B6E880",
           "#FF97FF",
           "#FECB52"
          ],
          "font": {
           "color": "#2a3f5f"
          },
          "geo": {
           "bgcolor": "white",
           "lakecolor": "white",
           "landcolor": "#E5ECF6",
           "showlakes": true,
           "showland": true,
           "subunitcolor": "white"
          },
          "hoverlabel": {
           "align": "left"
          },
          "hovermode": "closest",
          "mapbox": {
           "style": "light"
          },
          "paper_bgcolor": "white",
          "plot_bgcolor": "#E5ECF6",
          "polar": {
           "angularaxis": {
            "gridcolor": "white",
            "linecolor": "white",
            "ticks": ""
           },
           "bgcolor": "#E5ECF6",
           "radialaxis": {
            "gridcolor": "white",
            "linecolor": "white",
            "ticks": ""
           }
          },
          "scene": {
           "xaxis": {
            "backgroundcolor": "#E5ECF6",
            "gridcolor": "white",
            "gridwidth": 2,
            "linecolor": "white",
            "showbackground": true,
            "ticks": "",
            "zerolinecolor": "white"
           },
           "yaxis": {
            "backgroundcolor": "#E5ECF6",
            "gridcolor": "white",
            "gridwidth": 2,
            "linecolor": "white",
            "showbackground": true,
            "ticks": "",
            "zerolinecolor": "white"
           },
           "zaxis": {
            "backgroundcolor": "#E5ECF6",
            "gridcolor": "white",
            "gridwidth": 2,
            "linecolor": "white",
            "showbackground": true,
            "ticks": "",
            "zerolinecolor": "white"
           }
          },
          "shapedefaults": {
           "line": {
            "color": "#2a3f5f"
           }
          },
          "ternary": {
           "aaxis": {
            "gridcolor": "white",
            "linecolor": "white",
            "ticks": ""
           },
           "baxis": {
            "gridcolor": "white",
            "linecolor": "white",
            "ticks": ""
           },
           "bgcolor": "#E5ECF6",
           "caxis": {
            "gridcolor": "white",
            "linecolor": "white",
            "ticks": ""
           }
          },
          "title": {
           "x": 0.05
          },
          "xaxis": {
           "automargin": true,
           "gridcolor": "white",
           "linecolor": "white",
           "ticks": "",
           "title": {
            "standoff": 15
           },
           "zerolinecolor": "white",
           "zerolinewidth": 2
          },
          "yaxis": {
           "automargin": true,
           "gridcolor": "white",
           "linecolor": "white",
           "ticks": "",
           "title": {
            "standoff": 15
           },
           "zerolinecolor": "white",
           "zerolinewidth": 2
          }
         }
        },
        "xaxis": {
         "anchor": "y",
         "domain": [
          0,
          1
         ],
         "title": {
          "text": "sex"
         }
        },
        "yaxis": {
         "anchor": "x",
         "domain": [
          0,
          1
         ],
         "title": {
          "text": "total_bill"
         }
        }
       }
      },
      "text/html": [
       "<div>                            <div id=\"71f4840d-e660-443e-b57e-36ed46eb1070\" class=\"plotly-graph-div\" style=\"height:525px; width:100%;\"></div>            <script type=\"text/javascript\">                require([\"plotly\"], function(Plotly) {                    window.PLOTLYENV=window.PLOTLYENV || {};                                    if (document.getElementById(\"71f4840d-e660-443e-b57e-36ed46eb1070\")) {                    Plotly.newPlot(                        \"71f4840d-e660-443e-b57e-36ed46eb1070\",                        [{\"alignmentgroup\": \"True\", \"hovertemplate\": \"smoker=No<br>sex=%{x}<br>total_bill=%{y}<extra></extra>\", \"legendgroup\": \"No\", \"marker\": {\"color\": \"#636efa\"}, \"name\": \"No\", \"offsetgroup\": \"No\", \"orientation\": \"v\", \"showlegend\": true, \"textposition\": \"auto\", \"type\": \"bar\", \"x\": [\"Female\", \"Male\", \"Male\", \"Male\", \"Female\", \"Male\", \"Male\", \"Male\", \"Male\", \"Male\", \"Male\", \"Female\", \"Male\", \"Male\", \"Female\", \"Male\", \"Female\", \"Male\", \"Female\", \"Male\", \"Male\", \"Female\", \"Female\", \"Male\", \"Male\", \"Male\", \"Male\", \"Male\", \"Male\", \"Female\", \"Male\", \"Male\", \"Female\", \"Female\", \"Male\", \"Male\", \"Male\", \"Female\", \"Male\", \"Male\", \"Male\", \"Male\", \"Male\", \"Male\", \"Male\", \"Male\", \"Male\", \"Male\", \"Male\", \"Male\", \"Male\", \"Female\", \"Female\", \"Male\", \"Male\", \"Male\", \"Female\", \"Male\", \"Male\", \"Male\", \"Female\", \"Male\", \"Male\", \"Female\", \"Female\", \"Male\", \"Male\", \"Male\", \"Male\", \"Male\", \"Female\", \"Male\", \"Female\", \"Male\", \"Male\", \"Male\", \"Male\", \"Male\", \"Female\", \"Male\", \"Female\", \"Male\", \"Male\", \"Female\", \"Male\", \"Male\", \"Female\", \"Female\", \"Male\", \"Female\", \"Female\", \"Female\", \"Male\", \"Female\", \"Male\", \"Male\", \"Female\", \"Female\", \"Male\", \"Female\", \"Female\", \"Male\", \"Male\", \"Female\", \"Female\", \"Female\", \"Female\", \"Female\", \"Female\", \"Female\", \"Female\", \"Female\", \"Male\", \"Male\", \"Female\", \"Female\", \"Female\", \"Female\", \"Female\", \"Male\", \"Male\", \"Male\", \"Male\", \"Male\", \"Male\", \"Male\", \"Female\", \"Male\", \"Female\", \"Female\", \"Male\", \"Male\", \"Male\", \"Female\", \"Male\", \"Male\", \"Male\", \"Male\", \"Male\", \"Male\", \"Male\", \"Female\", \"Male\", \"Male\", \"Male\", \"Male\", \"Male\", \"Female\", \"Male\", \"Male\", \"Female\"], \"xaxis\": \"x\", \"y\": [16.99, 10.34, 21.01, 23.68, 24.59, 25.29, 8.77, 26.88, 15.04, 14.78, 10.27, 35.26, 15.42, 18.43, 14.83, 21.58, 10.33, 16.29, 16.97, 20.65, 17.92, 20.29, 15.77, 39.42, 19.82, 17.81, 13.37, 12.69, 21.7, 19.65, 9.55, 18.35, 15.06, 20.69, 17.78, 24.06, 16.31, 16.93, 18.69, 31.27, 16.04, 17.46, 13.94, 9.68, 30.4, 18.29, 22.23, 32.4, 28.55, 18.04, 12.54, 10.29, 34.81, 9.94, 25.56, 19.49, 26.41, 48.27, 17.59, 20.08, 16.45, 20.23, 12.02, 17.07, 14.73, 10.51, 27.2, 22.76, 17.29, 16.66, 10.07, 15.98, 34.83, 13.03, 18.28, 24.71, 21.16, 22.49, 22.75, 12.46, 20.92, 18.24, 14.0, 7.25, 38.07, 23.95, 25.71, 17.31, 29.93, 10.65, 12.43, 24.08, 11.69, 13.42, 14.26, 15.95, 12.48, 29.8, 8.52, 14.52, 11.38, 22.82, 19.08, 20.27, 11.17, 12.26, 18.26, 8.51, 10.33, 14.15, 13.16, 17.47, 34.3, 41.19, 27.05, 16.43, 8.35, 18.64, 11.87, 9.78, 7.51, 14.07, 13.13, 17.26, 24.55, 19.77, 29.85, 48.17, 25.0, 13.39, 16.49, 21.5, 12.66, 16.21, 13.81, 24.52, 20.76, 31.71, 20.69, 7.56, 48.33, 15.98, 20.45, 13.28, 11.61, 10.77, 10.07, 35.83, 29.03, 17.82, 18.78], \"yaxis\": \"y\"}, {\"alignmentgroup\": \"True\", \"hovertemplate\": \"smoker=Yes<br>sex=%{x}<br>total_bill=%{y}<extra></extra>\", \"legendgroup\": \"Yes\", \"marker\": {\"color\": \"#EF553B\"}, \"name\": \"Yes\", \"offsetgroup\": \"Yes\", \"orientation\": \"v\", \"showlegend\": true, \"textposition\": \"auto\", \"type\": \"bar\", \"x\": [\"Male\", \"Male\", \"Male\", \"Male\", \"Male\", \"Male\", \"Female\", \"Male\", \"Female\", \"Female\", \"Male\", \"Male\", \"Male\", \"Male\", \"Female\", \"Female\", \"Male\", \"Male\", \"Male\", \"Male\", \"Female\", \"Female\", \"Female\", \"Female\", \"Male\", \"Male\", \"Male\", \"Female\", \"Male\", \"Female\", \"Female\", \"Female\", \"Male\", \"Male\", \"Male\", \"Male\", \"Male\", \"Male\", \"Male\", \"Male\", \"Female\", \"Male\", \"Male\", \"Male\", \"Male\", \"Male\", \"Male\", \"Female\", \"Male\", \"Female\", \"Male\", \"Male\", \"Female\", \"Male\", \"Male\", \"Male\", \"Male\", \"Female\", \"Female\", \"Male\", \"Male\", \"Female\", \"Female\", \"Female\", \"Male\", \"Female\", \"Male\", \"Male\", \"Male\", \"Female\", \"Male\", \"Male\", \"Female\", \"Female\", \"Female\", \"Male\", \"Male\", \"Male\", \"Female\", \"Male\", \"Female\", \"Male\", \"Male\", \"Female\", \"Female\", \"Female\", \"Male\", \"Male\", \"Male\", \"Male\", \"Male\", \"Female\", \"Male\"], \"xaxis\": \"x\", \"y\": [38.01, 11.24, 20.29, 13.81, 11.02, 18.29, 3.07, 15.01, 26.86, 25.28, 17.92, 19.44, 32.68, 28.97, 5.75, 16.32, 40.17, 27.28, 12.03, 21.01, 11.35, 15.38, 44.3, 22.42, 15.36, 20.49, 25.21, 14.31, 16.0, 17.51, 10.59, 10.63, 50.81, 15.81, 7.25, 31.85, 16.82, 32.9, 17.89, 14.48, 9.6, 34.63, 34.65, 23.33, 45.35, 23.17, 40.55, 20.9, 30.46, 18.15, 23.1, 15.69, 19.81, 28.44, 15.48, 16.58, 10.34, 43.11, 13.0, 13.51, 18.71, 12.74, 13.0, 16.4, 20.53, 16.47, 26.59, 38.73, 24.27, 12.76, 30.06, 25.89, 13.27, 28.17, 12.9, 28.15, 11.59, 7.74, 30.14, 12.16, 13.42, 8.58, 13.42, 16.27, 10.09, 22.12, 24.01, 15.69, 15.53, 12.6, 32.83, 27.18, 22.67], \"yaxis\": \"y\"}],                        {\"barmode\": \"group\", \"legend\": {\"title\": {\"text\": \"smoker\"}, \"tracegroupgap\": 0}, \"margin\": {\"t\": 60}, \"template\": {\"data\": {\"bar\": [{\"error_x\": {\"color\": \"#2a3f5f\"}, \"error_y\": {\"color\": \"#2a3f5f\"}, \"marker\": {\"line\": {\"color\": \"#E5ECF6\", \"width\": 0.5}}, \"type\": \"bar\"}], \"barpolar\": [{\"marker\": {\"line\": {\"color\": \"#E5ECF6\", \"width\": 0.5}}, \"type\": \"barpolar\"}], \"carpet\": [{\"aaxis\": {\"endlinecolor\": \"#2a3f5f\", \"gridcolor\": \"white\", \"linecolor\": \"white\", \"minorgridcolor\": \"white\", \"startlinecolor\": \"#2a3f5f\"}, \"baxis\": {\"endlinecolor\": \"#2a3f5f\", \"gridcolor\": \"white\", \"linecolor\": \"white\", \"minorgridcolor\": \"white\", \"startlinecolor\": \"#2a3f5f\"}, \"type\": \"carpet\"}], \"choropleth\": [{\"colorbar\": {\"outlinewidth\": 0, \"ticks\": \"\"}, \"type\": \"choropleth\"}], \"contour\": [{\"colorbar\": {\"outlinewidth\": 0, \"ticks\": \"\"}, \"colorscale\": [[0.0, \"#0d0887\"], [0.1111111111111111, \"#46039f\"], [0.2222222222222222, \"#7201a8\"], [0.3333333333333333, \"#9c179e\"], [0.4444444444444444, \"#bd3786\"], [0.5555555555555556, \"#d8576b\"], [0.6666666666666666, \"#ed7953\"], [0.7777777777777778, \"#fb9f3a\"], [0.8888888888888888, \"#fdca26\"], [1.0, \"#f0f921\"]], \"type\": \"contour\"}], \"contourcarpet\": [{\"colorbar\": {\"outlinewidth\": 0, \"ticks\": \"\"}, \"type\": \"contourcarpet\"}], \"heatmap\": [{\"colorbar\": {\"outlinewidth\": 0, \"ticks\": \"\"}, \"colorscale\": [[0.0, \"#0d0887\"], [0.1111111111111111, \"#46039f\"], [0.2222222222222222, \"#7201a8\"], [0.3333333333333333, \"#9c179e\"], [0.4444444444444444, \"#bd3786\"], [0.5555555555555556, \"#d8576b\"], [0.6666666666666666, \"#ed7953\"], [0.7777777777777778, \"#fb9f3a\"], [0.8888888888888888, \"#fdca26\"], [1.0, \"#f0f921\"]], \"type\": \"heatmap\"}], \"heatmapgl\": [{\"colorbar\": {\"outlinewidth\": 0, \"ticks\": \"\"}, \"colorscale\": [[0.0, \"#0d0887\"], [0.1111111111111111, \"#46039f\"], [0.2222222222222222, \"#7201a8\"], [0.3333333333333333, \"#9c179e\"], [0.4444444444444444, \"#bd3786\"], [0.5555555555555556, \"#d8576b\"], [0.6666666666666666, \"#ed7953\"], [0.7777777777777778, \"#fb9f3a\"], [0.8888888888888888, \"#fdca26\"], [1.0, \"#f0f921\"]], \"type\": \"heatmapgl\"}], \"histogram\": [{\"marker\": {\"colorbar\": {\"outlinewidth\": 0, \"ticks\": \"\"}}, \"type\": \"histogram\"}], \"histogram2d\": [{\"colorbar\": {\"outlinewidth\": 0, \"ticks\": \"\"}, \"colorscale\": [[0.0, \"#0d0887\"], [0.1111111111111111, \"#46039f\"], [0.2222222222222222, \"#7201a8\"], [0.3333333333333333, \"#9c179e\"], [0.4444444444444444, \"#bd3786\"], [0.5555555555555556, \"#d8576b\"], [0.6666666666666666, \"#ed7953\"], [0.7777777777777778, \"#fb9f3a\"], [0.8888888888888888, \"#fdca26\"], [1.0, \"#f0f921\"]], \"type\": \"histogram2d\"}], \"histogram2dcontour\": [{\"colorbar\": {\"outlinewidth\": 0, \"ticks\": \"\"}, \"colorscale\": [[0.0, \"#0d0887\"], [0.1111111111111111, \"#46039f\"], [0.2222222222222222, \"#7201a8\"], [0.3333333333333333, \"#9c179e\"], [0.4444444444444444, \"#bd3786\"], [0.5555555555555556, \"#d8576b\"], [0.6666666666666666, \"#ed7953\"], [0.7777777777777778, \"#fb9f3a\"], [0.8888888888888888, \"#fdca26\"], [1.0, \"#f0f921\"]], \"type\": \"histogram2dcontour\"}], \"mesh3d\": [{\"colorbar\": {\"outlinewidth\": 0, \"ticks\": \"\"}, \"type\": \"mesh3d\"}], \"parcoords\": [{\"line\": {\"colorbar\": {\"outlinewidth\": 0, \"ticks\": \"\"}}, \"type\": \"parcoords\"}], \"pie\": [{\"automargin\": true, \"type\": \"pie\"}], \"scatter\": [{\"marker\": {\"colorbar\": {\"outlinewidth\": 0, \"ticks\": \"\"}}, \"type\": \"scatter\"}], \"scatter3d\": [{\"line\": {\"colorbar\": {\"outlinewidth\": 0, \"ticks\": \"\"}}, \"marker\": {\"colorbar\": {\"outlinewidth\": 0, \"ticks\": \"\"}}, \"type\": \"scatter3d\"}], \"scattercarpet\": [{\"marker\": {\"colorbar\": {\"outlinewidth\": 0, \"ticks\": \"\"}}, \"type\": \"scattercarpet\"}], \"scattergeo\": [{\"marker\": {\"colorbar\": {\"outlinewidth\": 0, \"ticks\": \"\"}}, \"type\": \"scattergeo\"}], \"scattergl\": [{\"marker\": {\"colorbar\": {\"outlinewidth\": 0, \"ticks\": \"\"}}, \"type\": \"scattergl\"}], \"scattermapbox\": [{\"marker\": {\"colorbar\": {\"outlinewidth\": 0, \"ticks\": \"\"}}, \"type\": \"scattermapbox\"}], \"scatterpolar\": [{\"marker\": {\"colorbar\": {\"outlinewidth\": 0, \"ticks\": \"\"}}, \"type\": \"scatterpolar\"}], \"scatterpolargl\": [{\"marker\": {\"colorbar\": {\"outlinewidth\": 0, \"ticks\": \"\"}}, \"type\": \"scatterpolargl\"}], \"scatterternary\": [{\"marker\": {\"colorbar\": {\"outlinewidth\": 0, \"ticks\": \"\"}}, \"type\": \"scatterternary\"}], \"surface\": [{\"colorbar\": {\"outlinewidth\": 0, \"ticks\": \"\"}, \"colorscale\": [[0.0, \"#0d0887\"], [0.1111111111111111, \"#46039f\"], [0.2222222222222222, \"#7201a8\"], [0.3333333333333333, \"#9c179e\"], [0.4444444444444444, \"#bd3786\"], [0.5555555555555556, \"#d8576b\"], [0.6666666666666666, \"#ed7953\"], [0.7777777777777778, \"#fb9f3a\"], [0.8888888888888888, \"#fdca26\"], [1.0, \"#f0f921\"]], \"type\": \"surface\"}], \"table\": [{\"cells\": {\"fill\": {\"color\": \"#EBF0F8\"}, \"line\": {\"color\": \"white\"}}, \"header\": {\"fill\": {\"color\": \"#C8D4E3\"}, \"line\": {\"color\": \"white\"}}, \"type\": \"table\"}]}, \"layout\": {\"annotationdefaults\": {\"arrowcolor\": \"#2a3f5f\", \"arrowhead\": 0, \"arrowwidth\": 1}, \"coloraxis\": {\"colorbar\": {\"outlinewidth\": 0, \"ticks\": \"\"}}, \"colorscale\": {\"diverging\": [[0, \"#8e0152\"], [0.1, \"#c51b7d\"], [0.2, \"#de77ae\"], [0.3, \"#f1b6da\"], [0.4, \"#fde0ef\"], [0.5, \"#f7f7f7\"], [0.6, \"#e6f5d0\"], [0.7, \"#b8e186\"], [0.8, \"#7fbc41\"], [0.9, \"#4d9221\"], [1, \"#276419\"]], \"sequential\": [[0.0, \"#0d0887\"], [0.1111111111111111, \"#46039f\"], [0.2222222222222222, \"#7201a8\"], [0.3333333333333333, \"#9c179e\"], [0.4444444444444444, \"#bd3786\"], [0.5555555555555556, \"#d8576b\"], [0.6666666666666666, \"#ed7953\"], [0.7777777777777778, \"#fb9f3a\"], [0.8888888888888888, \"#fdca26\"], [1.0, \"#f0f921\"]], \"sequentialminus\": [[0.0, \"#0d0887\"], [0.1111111111111111, \"#46039f\"], [0.2222222222222222, \"#7201a8\"], [0.3333333333333333, \"#9c179e\"], [0.4444444444444444, \"#bd3786\"], [0.5555555555555556, \"#d8576b\"], [0.6666666666666666, \"#ed7953\"], [0.7777777777777778, \"#fb9f3a\"], [0.8888888888888888, \"#fdca26\"], [1.0, \"#f0f921\"]]}, \"colorway\": [\"#636efa\", \"#EF553B\", \"#00cc96\", \"#ab63fa\", \"#FFA15A\", \"#19d3f3\", \"#FF6692\", \"#B6E880\", \"#FF97FF\", \"#FECB52\"], \"font\": {\"color\": \"#2a3f5f\"}, \"geo\": {\"bgcolor\": \"white\", \"lakecolor\": \"white\", \"landcolor\": \"#E5ECF6\", \"showlakes\": true, \"showland\": true, \"subunitcolor\": \"white\"}, \"hoverlabel\": {\"align\": \"left\"}, \"hovermode\": \"closest\", \"mapbox\": {\"style\": \"light\"}, \"paper_bgcolor\": \"white\", \"plot_bgcolor\": \"#E5ECF6\", \"polar\": {\"angularaxis\": {\"gridcolor\": \"white\", \"linecolor\": \"white\", \"ticks\": \"\"}, \"bgcolor\": \"#E5ECF6\", \"radialaxis\": {\"gridcolor\": \"white\", \"linecolor\": \"white\", \"ticks\": \"\"}}, \"scene\": {\"xaxis\": {\"backgroundcolor\": \"#E5ECF6\", \"gridcolor\": \"white\", \"gridwidth\": 2, \"linecolor\": \"white\", \"showbackground\": true, \"ticks\": \"\", \"zerolinecolor\": \"white\"}, \"yaxis\": {\"backgroundcolor\": \"#E5ECF6\", \"gridcolor\": \"white\", \"gridwidth\": 2, \"linecolor\": \"white\", \"showbackground\": true, \"ticks\": \"\", \"zerolinecolor\": \"white\"}, \"zaxis\": {\"backgroundcolor\": \"#E5ECF6\", \"gridcolor\": \"white\", \"gridwidth\": 2, \"linecolor\": \"white\", \"showbackground\": true, \"ticks\": \"\", \"zerolinecolor\": \"white\"}}, \"shapedefaults\": {\"line\": {\"color\": \"#2a3f5f\"}}, \"ternary\": {\"aaxis\": {\"gridcolor\": \"white\", \"linecolor\": \"white\", \"ticks\": \"\"}, \"baxis\": {\"gridcolor\": \"white\", \"linecolor\": \"white\", \"ticks\": \"\"}, \"bgcolor\": \"#E5ECF6\", \"caxis\": {\"gridcolor\": \"white\", \"linecolor\": \"white\", \"ticks\": \"\"}}, \"title\": {\"x\": 0.05}, \"xaxis\": {\"automargin\": true, \"gridcolor\": \"white\", \"linecolor\": \"white\", \"ticks\": \"\", \"title\": {\"standoff\": 15}, \"zerolinecolor\": \"white\", \"zerolinewidth\": 2}, \"yaxis\": {\"automargin\": true, \"gridcolor\": \"white\", \"linecolor\": \"white\", \"ticks\": \"\", \"title\": {\"standoff\": 15}, \"zerolinecolor\": \"white\", \"zerolinewidth\": 2}}}, \"xaxis\": {\"anchor\": \"y\", \"domain\": [0.0, 1.0], \"title\": {\"text\": \"sex\"}}, \"yaxis\": {\"anchor\": \"x\", \"domain\": [0.0, 1.0], \"title\": {\"text\": \"total_bill\"}}},                        {\"responsive\": true}                    ).then(function(){\n",
       "                            \n",
       "var gd = document.getElementById('71f4840d-e660-443e-b57e-36ed46eb1070');\n",
       "var x = new MutationObserver(function (mutations, observer) {{\n",
       "        var display = window.getComputedStyle(gd).display;\n",
       "        if (!display || display === 'none') {{\n",
       "            console.log([gd, 'removed!']);\n",
       "            Plotly.purge(gd);\n",
       "            observer.disconnect();\n",
       "        }}\n",
       "}});\n",
       "\n",
       "// Listen for the removal of the full notebook cells\n",
       "var notebookContainer = gd.closest('#notebook-container');\n",
       "if (notebookContainer) {{\n",
       "    x.observe(notebookContainer, {childList: true});\n",
       "}}\n",
       "\n",
       "// Listen for the clearing of the current output cell\n",
       "var outputEl = gd.closest('.output');\n",
       "if (outputEl) {{\n",
       "    x.observe(outputEl, {childList: true});\n",
       "}}\n",
       "\n",
       "                        })                };                });            </script>        </div>"
      ]
     },
     "metadata": {},
     "output_type": "display_data"
    },
    {
     "data": {
      "application/vnd.plotly.v1+json": {
       "config": {
        "plotlyServerURL": "https://plot.ly"
       },
       "data": [
        {
         "domain": {
          "x": [
           0,
           1
          ],
          "y": [
           0,
           1
          ]
         },
         "hovertemplate": "country=%{label}<br>pop=%{value}<extra></extra>",
         "labels": [
          "Albania",
          "Austria",
          "Belgium",
          "Bosnia and Herzegovina",
          "Bulgaria",
          "Croatia",
          "Czech Republic",
          "Denmark",
          "Finland",
          "France",
          "Germany",
          "Greece",
          "Hungary",
          "Other countries",
          "Ireland",
          "Italy",
          "Other countries",
          "Netherlands",
          "Norway",
          "Poland",
          "Portugal",
          "Romania",
          "Serbia",
          "Slovak Republic",
          "Slovenia",
          "Spain",
          "Sweden",
          "Switzerland",
          "Turkey",
          "United Kingdom"
         ],
         "legendgroup": "",
         "name": "",
         "showlegend": true,
         "type": "pie",
         "values": [
          3600523,
          8199783,
          10392226,
          4552198,
          7322858,
          4493312,
          10228744,
          5468120,
          5238460,
          61083916,
          82400996,
          10706290,
          9956108,
          301931,
          4109086,
          58147733,
          684736,
          16570613,
          4627926,
          38518241,
          10642836,
          22276056,
          10150265,
          5447502,
          2009245,
          40448191,
          9031088,
          7554661,
          71158647,
          60776238
         ]
        }
       ],
       "layout": {
        "legend": {
         "tracegroupgap": 0
        },
        "template": {
         "data": {
          "bar": [
           {
            "error_x": {
             "color": "#2a3f5f"
            },
            "error_y": {
             "color": "#2a3f5f"
            },
            "marker": {
             "line": {
              "color": "#E5ECF6",
              "width": 0.5
             }
            },
            "type": "bar"
           }
          ],
          "barpolar": [
           {
            "marker": {
             "line": {
              "color": "#E5ECF6",
              "width": 0.5
             }
            },
            "type": "barpolar"
           }
          ],
          "carpet": [
           {
            "aaxis": {
             "endlinecolor": "#2a3f5f",
             "gridcolor": "white",
             "linecolor": "white",
             "minorgridcolor": "white",
             "startlinecolor": "#2a3f5f"
            },
            "baxis": {
             "endlinecolor": "#2a3f5f",
             "gridcolor": "white",
             "linecolor": "white",
             "minorgridcolor": "white",
             "startlinecolor": "#2a3f5f"
            },
            "type": "carpet"
           }
          ],
          "choropleth": [
           {
            "colorbar": {
             "outlinewidth": 0,
             "ticks": ""
            },
            "type": "choropleth"
           }
          ],
          "contour": [
           {
            "colorbar": {
             "outlinewidth": 0,
             "ticks": ""
            },
            "colorscale": [
             [
              0,
              "#0d0887"
             ],
             [
              0.1111111111111111,
              "#46039f"
             ],
             [
              0.2222222222222222,
              "#7201a8"
             ],
             [
              0.3333333333333333,
              "#9c179e"
             ],
             [
              0.4444444444444444,
              "#bd3786"
             ],
             [
              0.5555555555555556,
              "#d8576b"
             ],
             [
              0.6666666666666666,
              "#ed7953"
             ],
             [
              0.7777777777777778,
              "#fb9f3a"
             ],
             [
              0.8888888888888888,
              "#fdca26"
             ],
             [
              1,
              "#f0f921"
             ]
            ],
            "type": "contour"
           }
          ],
          "contourcarpet": [
           {
            "colorbar": {
             "outlinewidth": 0,
             "ticks": ""
            },
            "type": "contourcarpet"
           }
          ],
          "heatmap": [
           {
            "colorbar": {
             "outlinewidth": 0,
             "ticks": ""
            },
            "colorscale": [
             [
              0,
              "#0d0887"
             ],
             [
              0.1111111111111111,
              "#46039f"
             ],
             [
              0.2222222222222222,
              "#7201a8"
             ],
             [
              0.3333333333333333,
              "#9c179e"
             ],
             [
              0.4444444444444444,
              "#bd3786"
             ],
             [
              0.5555555555555556,
              "#d8576b"
             ],
             [
              0.6666666666666666,
              "#ed7953"
             ],
             [
              0.7777777777777778,
              "#fb9f3a"
             ],
             [
              0.8888888888888888,
              "#fdca26"
             ],
             [
              1,
              "#f0f921"
             ]
            ],
            "type": "heatmap"
           }
          ],
          "heatmapgl": [
           {
            "colorbar": {
             "outlinewidth": 0,
             "ticks": ""
            },
            "colorscale": [
             [
              0,
              "#0d0887"
             ],
             [
              0.1111111111111111,
              "#46039f"
             ],
             [
              0.2222222222222222,
              "#7201a8"
             ],
             [
              0.3333333333333333,
              "#9c179e"
             ],
             [
              0.4444444444444444,
              "#bd3786"
             ],
             [
              0.5555555555555556,
              "#d8576b"
             ],
             [
              0.6666666666666666,
              "#ed7953"
             ],
             [
              0.7777777777777778,
              "#fb9f3a"
             ],
             [
              0.8888888888888888,
              "#fdca26"
             ],
             [
              1,
              "#f0f921"
             ]
            ],
            "type": "heatmapgl"
           }
          ],
          "histogram": [
           {
            "marker": {
             "colorbar": {
              "outlinewidth": 0,
              "ticks": ""
             }
            },
            "type": "histogram"
           }
          ],
          "histogram2d": [
           {
            "colorbar": {
             "outlinewidth": 0,
             "ticks": ""
            },
            "colorscale": [
             [
              0,
              "#0d0887"
             ],
             [
              0.1111111111111111,
              "#46039f"
             ],
             [
              0.2222222222222222,
              "#7201a8"
             ],
             [
              0.3333333333333333,
              "#9c179e"
             ],
             [
              0.4444444444444444,
              "#bd3786"
             ],
             [
              0.5555555555555556,
              "#d8576b"
             ],
             [
              0.6666666666666666,
              "#ed7953"
             ],
             [
              0.7777777777777778,
              "#fb9f3a"
             ],
             [
              0.8888888888888888,
              "#fdca26"
             ],
             [
              1,
              "#f0f921"
             ]
            ],
            "type": "histogram2d"
           }
          ],
          "histogram2dcontour": [
           {
            "colorbar": {
             "outlinewidth": 0,
             "ticks": ""
            },
            "colorscale": [
             [
              0,
              "#0d0887"
             ],
             [
              0.1111111111111111,
              "#46039f"
             ],
             [
              0.2222222222222222,
              "#7201a8"
             ],
             [
              0.3333333333333333,
              "#9c179e"
             ],
             [
              0.4444444444444444,
              "#bd3786"
             ],
             [
              0.5555555555555556,
              "#d8576b"
             ],
             [
              0.6666666666666666,
              "#ed7953"
             ],
             [
              0.7777777777777778,
              "#fb9f3a"
             ],
             [
              0.8888888888888888,
              "#fdca26"
             ],
             [
              1,
              "#f0f921"
             ]
            ],
            "type": "histogram2dcontour"
           }
          ],
          "mesh3d": [
           {
            "colorbar": {
             "outlinewidth": 0,
             "ticks": ""
            },
            "type": "mesh3d"
           }
          ],
          "parcoords": [
           {
            "line": {
             "colorbar": {
              "outlinewidth": 0,
              "ticks": ""
             }
            },
            "type": "parcoords"
           }
          ],
          "pie": [
           {
            "automargin": true,
            "type": "pie"
           }
          ],
          "scatter": [
           {
            "marker": {
             "colorbar": {
              "outlinewidth": 0,
              "ticks": ""
             }
            },
            "type": "scatter"
           }
          ],
          "scatter3d": [
           {
            "line": {
             "colorbar": {
              "outlinewidth": 0,
              "ticks": ""
             }
            },
            "marker": {
             "colorbar": {
              "outlinewidth": 0,
              "ticks": ""
             }
            },
            "type": "scatter3d"
           }
          ],
          "scattercarpet": [
           {
            "marker": {
             "colorbar": {
              "outlinewidth": 0,
              "ticks": ""
             }
            },
            "type": "scattercarpet"
           }
          ],
          "scattergeo": [
           {
            "marker": {
             "colorbar": {
              "outlinewidth": 0,
              "ticks": ""
             }
            },
            "type": "scattergeo"
           }
          ],
          "scattergl": [
           {
            "marker": {
             "colorbar": {
              "outlinewidth": 0,
              "ticks": ""
             }
            },
            "type": "scattergl"
           }
          ],
          "scattermapbox": [
           {
            "marker": {
             "colorbar": {
              "outlinewidth": 0,
              "ticks": ""
             }
            },
            "type": "scattermapbox"
           }
          ],
          "scatterpolar": [
           {
            "marker": {
             "colorbar": {
              "outlinewidth": 0,
              "ticks": ""
             }
            },
            "type": "scatterpolar"
           }
          ],
          "scatterpolargl": [
           {
            "marker": {
             "colorbar": {
              "outlinewidth": 0,
              "ticks": ""
             }
            },
            "type": "scatterpolargl"
           }
          ],
          "scatterternary": [
           {
            "marker": {
             "colorbar": {
              "outlinewidth": 0,
              "ticks": ""
             }
            },
            "type": "scatterternary"
           }
          ],
          "surface": [
           {
            "colorbar": {
             "outlinewidth": 0,
             "ticks": ""
            },
            "colorscale": [
             [
              0,
              "#0d0887"
             ],
             [
              0.1111111111111111,
              "#46039f"
             ],
             [
              0.2222222222222222,
              "#7201a8"
             ],
             [
              0.3333333333333333,
              "#9c179e"
             ],
             [
              0.4444444444444444,
              "#bd3786"
             ],
             [
              0.5555555555555556,
              "#d8576b"
             ],
             [
              0.6666666666666666,
              "#ed7953"
             ],
             [
              0.7777777777777778,
              "#fb9f3a"
             ],
             [
              0.8888888888888888,
              "#fdca26"
             ],
             [
              1,
              "#f0f921"
             ]
            ],
            "type": "surface"
           }
          ],
          "table": [
           {
            "cells": {
             "fill": {
              "color": "#EBF0F8"
             },
             "line": {
              "color": "white"
             }
            },
            "header": {
             "fill": {
              "color": "#C8D4E3"
             },
             "line": {
              "color": "white"
             }
            },
            "type": "table"
           }
          ]
         },
         "layout": {
          "annotationdefaults": {
           "arrowcolor": "#2a3f5f",
           "arrowhead": 0,
           "arrowwidth": 1
          },
          "coloraxis": {
           "colorbar": {
            "outlinewidth": 0,
            "ticks": ""
           }
          },
          "colorscale": {
           "diverging": [
            [
             0,
             "#8e0152"
            ],
            [
             0.1,
             "#c51b7d"
            ],
            [
             0.2,
             "#de77ae"
            ],
            [
             0.3,
             "#f1b6da"
            ],
            [
             0.4,
             "#fde0ef"
            ],
            [
             0.5,
             "#f7f7f7"
            ],
            [
             0.6,
             "#e6f5d0"
            ],
            [
             0.7,
             "#b8e186"
            ],
            [
             0.8,
             "#7fbc41"
            ],
            [
             0.9,
             "#4d9221"
            ],
            [
             1,
             "#276419"
            ]
           ],
           "sequential": [
            [
             0,
             "#0d0887"
            ],
            [
             0.1111111111111111,
             "#46039f"
            ],
            [
             0.2222222222222222,
             "#7201a8"
            ],
            [
             0.3333333333333333,
             "#9c179e"
            ],
            [
             0.4444444444444444,
             "#bd3786"
            ],
            [
             0.5555555555555556,
             "#d8576b"
            ],
            [
             0.6666666666666666,
             "#ed7953"
            ],
            [
             0.7777777777777778,
             "#fb9f3a"
            ],
            [
             0.8888888888888888,
             "#fdca26"
            ],
            [
             1,
             "#f0f921"
            ]
           ],
           "sequentialminus": [
            [
             0,
             "#0d0887"
            ],
            [
             0.1111111111111111,
             "#46039f"
            ],
            [
             0.2222222222222222,
             "#7201a8"
            ],
            [
             0.3333333333333333,
             "#9c179e"
            ],
            [
             0.4444444444444444,
             "#bd3786"
            ],
            [
             0.5555555555555556,
             "#d8576b"
            ],
            [
             0.6666666666666666,
             "#ed7953"
            ],
            [
             0.7777777777777778,
             "#fb9f3a"
            ],
            [
             0.8888888888888888,
             "#fdca26"
            ],
            [
             1,
             "#f0f921"
            ]
           ]
          },
          "colorway": [
           "#636efa",
           "#EF553B",
           "#00cc96",
           "#ab63fa",
           "#FFA15A",
           "#19d3f3",
           "#FF6692",
           "#B6E880",
           "#FF97FF",
           "#FECB52"
          ],
          "font": {
           "color": "#2a3f5f"
          },
          "geo": {
           "bgcolor": "white",
           "lakecolor": "white",
           "landcolor": "#E5ECF6",
           "showlakes": true,
           "showland": true,
           "subunitcolor": "white"
          },
          "hoverlabel": {
           "align": "left"
          },
          "hovermode": "closest",
          "mapbox": {
           "style": "light"
          },
          "paper_bgcolor": "white",
          "plot_bgcolor": "#E5ECF6",
          "polar": {
           "angularaxis": {
            "gridcolor": "white",
            "linecolor": "white",
            "ticks": ""
           },
           "bgcolor": "#E5ECF6",
           "radialaxis": {
            "gridcolor": "white",
            "linecolor": "white",
            "ticks": ""
           }
          },
          "scene": {
           "xaxis": {
            "backgroundcolor": "#E5ECF6",
            "gridcolor": "white",
            "gridwidth": 2,
            "linecolor": "white",
            "showbackground": true,
            "ticks": "",
            "zerolinecolor": "white"
           },
           "yaxis": {
            "backgroundcolor": "#E5ECF6",
            "gridcolor": "white",
            "gridwidth": 2,
            "linecolor": "white",
            "showbackground": true,
            "ticks": "",
            "zerolinecolor": "white"
           },
           "zaxis": {
            "backgroundcolor": "#E5ECF6",
            "gridcolor": "white",
            "gridwidth": 2,
            "linecolor": "white",
            "showbackground": true,
            "ticks": "",
            "zerolinecolor": "white"
           }
          },
          "shapedefaults": {
           "line": {
            "color": "#2a3f5f"
           }
          },
          "ternary": {
           "aaxis": {
            "gridcolor": "white",
            "linecolor": "white",
            "ticks": ""
           },
           "baxis": {
            "gridcolor": "white",
            "linecolor": "white",
            "ticks": ""
           },
           "bgcolor": "#E5ECF6",
           "caxis": {
            "gridcolor": "white",
            "linecolor": "white",
            "ticks": ""
           }
          },
          "title": {
           "x": 0.05
          },
          "xaxis": {
           "automargin": true,
           "gridcolor": "white",
           "linecolor": "white",
           "ticks": "",
           "title": {
            "standoff": 15
           },
           "zerolinecolor": "white",
           "zerolinewidth": 2
          },
          "yaxis": {
           "automargin": true,
           "gridcolor": "white",
           "linecolor": "white",
           "ticks": "",
           "title": {
            "standoff": 15
           },
           "zerolinecolor": "white",
           "zerolinewidth": 2
          }
         }
        },
        "title": {
         "text": "Population of European continent"
        }
       }
      },
      "text/html": [
       "<div>                            <div id=\"4fdccffd-37b9-4cfd-ad7f-ee8eca0587f1\" class=\"plotly-graph-div\" style=\"height:525px; width:100%;\"></div>            <script type=\"text/javascript\">                require([\"plotly\"], function(Plotly) {                    window.PLOTLYENV=window.PLOTLYENV || {};                                    if (document.getElementById(\"4fdccffd-37b9-4cfd-ad7f-ee8eca0587f1\")) {                    Plotly.newPlot(                        \"4fdccffd-37b9-4cfd-ad7f-ee8eca0587f1\",                        [{\"domain\": {\"x\": [0.0, 1.0], \"y\": [0.0, 1.0]}, \"hovertemplate\": \"country=%{label}<br>pop=%{value}<extra></extra>\", \"labels\": [\"Albania\", \"Austria\", \"Belgium\", \"Bosnia and Herzegovina\", \"Bulgaria\", \"Croatia\", \"Czech Republic\", \"Denmark\", \"Finland\", \"France\", \"Germany\", \"Greece\", \"Hungary\", \"Other countries\", \"Ireland\", \"Italy\", \"Other countries\", \"Netherlands\", \"Norway\", \"Poland\", \"Portugal\", \"Romania\", \"Serbia\", \"Slovak Republic\", \"Slovenia\", \"Spain\", \"Sweden\", \"Switzerland\", \"Turkey\", \"United Kingdom\"], \"legendgroup\": \"\", \"name\": \"\", \"showlegend\": true, \"type\": \"pie\", \"values\": [3600523, 8199783, 10392226, 4552198, 7322858, 4493312, 10228744, 5468120, 5238460, 61083916, 82400996, 10706290, 9956108, 301931, 4109086, 58147733, 684736, 16570613, 4627926, 38518241, 10642836, 22276056, 10150265, 5447502, 2009245, 40448191, 9031088, 7554661, 71158647, 60776238]}],                        {\"legend\": {\"tracegroupgap\": 0}, \"template\": {\"data\": {\"bar\": [{\"error_x\": {\"color\": \"#2a3f5f\"}, \"error_y\": {\"color\": \"#2a3f5f\"}, \"marker\": {\"line\": {\"color\": \"#E5ECF6\", \"width\": 0.5}}, \"type\": \"bar\"}], \"barpolar\": [{\"marker\": {\"line\": {\"color\": \"#E5ECF6\", \"width\": 0.5}}, \"type\": \"barpolar\"}], \"carpet\": [{\"aaxis\": {\"endlinecolor\": \"#2a3f5f\", \"gridcolor\": \"white\", \"linecolor\": \"white\", \"minorgridcolor\": \"white\", \"startlinecolor\": \"#2a3f5f\"}, \"baxis\": {\"endlinecolor\": \"#2a3f5f\", \"gridcolor\": \"white\", \"linecolor\": \"white\", \"minorgridcolor\": \"white\", \"startlinecolor\": \"#2a3f5f\"}, \"type\": \"carpet\"}], \"choropleth\": [{\"colorbar\": {\"outlinewidth\": 0, \"ticks\": \"\"}, \"type\": \"choropleth\"}], \"contour\": [{\"colorbar\": {\"outlinewidth\": 0, \"ticks\": \"\"}, \"colorscale\": [[0.0, \"#0d0887\"], [0.1111111111111111, \"#46039f\"], [0.2222222222222222, \"#7201a8\"], [0.3333333333333333, \"#9c179e\"], [0.4444444444444444, \"#bd3786\"], [0.5555555555555556, \"#d8576b\"], [0.6666666666666666, \"#ed7953\"], [0.7777777777777778, \"#fb9f3a\"], [0.8888888888888888, \"#fdca26\"], [1.0, \"#f0f921\"]], \"type\": \"contour\"}], \"contourcarpet\": [{\"colorbar\": {\"outlinewidth\": 0, \"ticks\": \"\"}, \"type\": \"contourcarpet\"}], \"heatmap\": [{\"colorbar\": {\"outlinewidth\": 0, \"ticks\": \"\"}, \"colorscale\": [[0.0, \"#0d0887\"], [0.1111111111111111, \"#46039f\"], [0.2222222222222222, \"#7201a8\"], [0.3333333333333333, \"#9c179e\"], [0.4444444444444444, \"#bd3786\"], [0.5555555555555556, \"#d8576b\"], [0.6666666666666666, \"#ed7953\"], [0.7777777777777778, \"#fb9f3a\"], [0.8888888888888888, \"#fdca26\"], [1.0, \"#f0f921\"]], \"type\": \"heatmap\"}], \"heatmapgl\": [{\"colorbar\": {\"outlinewidth\": 0, \"ticks\": \"\"}, \"colorscale\": [[0.0, \"#0d0887\"], [0.1111111111111111, \"#46039f\"], [0.2222222222222222, \"#7201a8\"], [0.3333333333333333, \"#9c179e\"], [0.4444444444444444, \"#bd3786\"], [0.5555555555555556, \"#d8576b\"], [0.6666666666666666, \"#ed7953\"], [0.7777777777777778, \"#fb9f3a\"], [0.8888888888888888, \"#fdca26\"], [1.0, \"#f0f921\"]], \"type\": \"heatmapgl\"}], \"histogram\": [{\"marker\": {\"colorbar\": {\"outlinewidth\": 0, \"ticks\": \"\"}}, \"type\": \"histogram\"}], \"histogram2d\": [{\"colorbar\": {\"outlinewidth\": 0, \"ticks\": \"\"}, \"colorscale\": [[0.0, \"#0d0887\"], [0.1111111111111111, \"#46039f\"], [0.2222222222222222, \"#7201a8\"], [0.3333333333333333, \"#9c179e\"], [0.4444444444444444, \"#bd3786\"], [0.5555555555555556, \"#d8576b\"], [0.6666666666666666, \"#ed7953\"], [0.7777777777777778, \"#fb9f3a\"], [0.8888888888888888, \"#fdca26\"], [1.0, \"#f0f921\"]], \"type\": \"histogram2d\"}], \"histogram2dcontour\": [{\"colorbar\": {\"outlinewidth\": 0, \"ticks\": \"\"}, \"colorscale\": [[0.0, \"#0d0887\"], [0.1111111111111111, \"#46039f\"], [0.2222222222222222, \"#7201a8\"], [0.3333333333333333, \"#9c179e\"], [0.4444444444444444, \"#bd3786\"], [0.5555555555555556, \"#d8576b\"], [0.6666666666666666, \"#ed7953\"], [0.7777777777777778, \"#fb9f3a\"], [0.8888888888888888, \"#fdca26\"], [1.0, \"#f0f921\"]], \"type\": \"histogram2dcontour\"}], \"mesh3d\": [{\"colorbar\": {\"outlinewidth\": 0, \"ticks\": \"\"}, \"type\": \"mesh3d\"}], \"parcoords\": [{\"line\": {\"colorbar\": {\"outlinewidth\": 0, \"ticks\": \"\"}}, \"type\": \"parcoords\"}], \"pie\": [{\"automargin\": true, \"type\": \"pie\"}], \"scatter\": [{\"marker\": {\"colorbar\": {\"outlinewidth\": 0, \"ticks\": \"\"}}, \"type\": \"scatter\"}], \"scatter3d\": [{\"line\": {\"colorbar\": {\"outlinewidth\": 0, \"ticks\": \"\"}}, \"marker\": {\"colorbar\": {\"outlinewidth\": 0, \"ticks\": \"\"}}, \"type\": \"scatter3d\"}], \"scattercarpet\": [{\"marker\": {\"colorbar\": {\"outlinewidth\": 0, \"ticks\": \"\"}}, \"type\": \"scattercarpet\"}], \"scattergeo\": [{\"marker\": {\"colorbar\": {\"outlinewidth\": 0, \"ticks\": \"\"}}, \"type\": \"scattergeo\"}], \"scattergl\": [{\"marker\": {\"colorbar\": {\"outlinewidth\": 0, \"ticks\": \"\"}}, \"type\": \"scattergl\"}], \"scattermapbox\": [{\"marker\": {\"colorbar\": {\"outlinewidth\": 0, \"ticks\": \"\"}}, \"type\": \"scattermapbox\"}], \"scatterpolar\": [{\"marker\": {\"colorbar\": {\"outlinewidth\": 0, \"ticks\": \"\"}}, \"type\": \"scatterpolar\"}], \"scatterpolargl\": [{\"marker\": {\"colorbar\": {\"outlinewidth\": 0, \"ticks\": \"\"}}, \"type\": \"scatterpolargl\"}], \"scatterternary\": [{\"marker\": {\"colorbar\": {\"outlinewidth\": 0, \"ticks\": \"\"}}, \"type\": \"scatterternary\"}], \"surface\": [{\"colorbar\": {\"outlinewidth\": 0, \"ticks\": \"\"}, \"colorscale\": [[0.0, \"#0d0887\"], [0.1111111111111111, \"#46039f\"], [0.2222222222222222, \"#7201a8\"], [0.3333333333333333, \"#9c179e\"], [0.4444444444444444, \"#bd3786\"], [0.5555555555555556, \"#d8576b\"], [0.6666666666666666, \"#ed7953\"], [0.7777777777777778, \"#fb9f3a\"], [0.8888888888888888, \"#fdca26\"], [1.0, \"#f0f921\"]], \"type\": \"surface\"}], \"table\": [{\"cells\": {\"fill\": {\"color\": \"#EBF0F8\"}, \"line\": {\"color\": \"white\"}}, \"header\": {\"fill\": {\"color\": \"#C8D4E3\"}, \"line\": {\"color\": \"white\"}}, \"type\": \"table\"}]}, \"layout\": {\"annotationdefaults\": {\"arrowcolor\": \"#2a3f5f\", \"arrowhead\": 0, \"arrowwidth\": 1}, \"coloraxis\": {\"colorbar\": {\"outlinewidth\": 0, \"ticks\": \"\"}}, \"colorscale\": {\"diverging\": [[0, \"#8e0152\"], [0.1, \"#c51b7d\"], [0.2, \"#de77ae\"], [0.3, \"#f1b6da\"], [0.4, \"#fde0ef\"], [0.5, \"#f7f7f7\"], [0.6, \"#e6f5d0\"], [0.7, \"#b8e186\"], [0.8, \"#7fbc41\"], [0.9, \"#4d9221\"], [1, \"#276419\"]], \"sequential\": [[0.0, \"#0d0887\"], [0.1111111111111111, \"#46039f\"], [0.2222222222222222, \"#7201a8\"], [0.3333333333333333, \"#9c179e\"], [0.4444444444444444, \"#bd3786\"], [0.5555555555555556, \"#d8576b\"], [0.6666666666666666, \"#ed7953\"], [0.7777777777777778, \"#fb9f3a\"], [0.8888888888888888, \"#fdca26\"], [1.0, \"#f0f921\"]], \"sequentialminus\": [[0.0, \"#0d0887\"], [0.1111111111111111, \"#46039f\"], [0.2222222222222222, \"#7201a8\"], [0.3333333333333333, \"#9c179e\"], [0.4444444444444444, \"#bd3786\"], [0.5555555555555556, \"#d8576b\"], [0.6666666666666666, \"#ed7953\"], [0.7777777777777778, \"#fb9f3a\"], [0.8888888888888888, \"#fdca26\"], [1.0, \"#f0f921\"]]}, \"colorway\": [\"#636efa\", \"#EF553B\", \"#00cc96\", \"#ab63fa\", \"#FFA15A\", \"#19d3f3\", \"#FF6692\", \"#B6E880\", \"#FF97FF\", \"#FECB52\"], \"font\": {\"color\": \"#2a3f5f\"}, \"geo\": {\"bgcolor\": \"white\", \"lakecolor\": \"white\", \"landcolor\": \"#E5ECF6\", \"showlakes\": true, \"showland\": true, \"subunitcolor\": \"white\"}, \"hoverlabel\": {\"align\": \"left\"}, \"hovermode\": \"closest\", \"mapbox\": {\"style\": \"light\"}, \"paper_bgcolor\": \"white\", \"plot_bgcolor\": \"#E5ECF6\", \"polar\": {\"angularaxis\": {\"gridcolor\": \"white\", \"linecolor\": \"white\", \"ticks\": \"\"}, \"bgcolor\": \"#E5ECF6\", \"radialaxis\": {\"gridcolor\": \"white\", \"linecolor\": \"white\", \"ticks\": \"\"}}, \"scene\": {\"xaxis\": {\"backgroundcolor\": \"#E5ECF6\", \"gridcolor\": \"white\", \"gridwidth\": 2, \"linecolor\": \"white\", \"showbackground\": true, \"ticks\": \"\", \"zerolinecolor\": \"white\"}, \"yaxis\": {\"backgroundcolor\": \"#E5ECF6\", \"gridcolor\": \"white\", \"gridwidth\": 2, \"linecolor\": \"white\", \"showbackground\": true, \"ticks\": \"\", \"zerolinecolor\": \"white\"}, \"zaxis\": {\"backgroundcolor\": \"#E5ECF6\", \"gridcolor\": \"white\", \"gridwidth\": 2, \"linecolor\": \"white\", \"showbackground\": true, \"ticks\": \"\", \"zerolinecolor\": \"white\"}}, \"shapedefaults\": {\"line\": {\"color\": \"#2a3f5f\"}}, \"ternary\": {\"aaxis\": {\"gridcolor\": \"white\", \"linecolor\": \"white\", \"ticks\": \"\"}, \"baxis\": {\"gridcolor\": \"white\", \"linecolor\": \"white\", \"ticks\": \"\"}, \"bgcolor\": \"#E5ECF6\", \"caxis\": {\"gridcolor\": \"white\", \"linecolor\": \"white\", \"ticks\": \"\"}}, \"title\": {\"x\": 0.05}, \"xaxis\": {\"automargin\": true, \"gridcolor\": \"white\", \"linecolor\": \"white\", \"ticks\": \"\", \"title\": {\"standoff\": 15}, \"zerolinecolor\": \"white\", \"zerolinewidth\": 2}, \"yaxis\": {\"automargin\": true, \"gridcolor\": \"white\", \"linecolor\": \"white\", \"ticks\": \"\", \"title\": {\"standoff\": 15}, \"zerolinecolor\": \"white\", \"zerolinewidth\": 2}}}, \"title\": {\"text\": \"Population of European continent\"}},                        {\"responsive\": true}                    ).then(function(){\n",
       "                            \n",
       "var gd = document.getElementById('4fdccffd-37b9-4cfd-ad7f-ee8eca0587f1');\n",
       "var x = new MutationObserver(function (mutations, observer) {{\n",
       "        var display = window.getComputedStyle(gd).display;\n",
       "        if (!display || display === 'none') {{\n",
       "            console.log([gd, 'removed!']);\n",
       "            Plotly.purge(gd);\n",
       "            observer.disconnect();\n",
       "        }}\n",
       "}});\n",
       "\n",
       "// Listen for the removal of the full notebook cells\n",
       "var notebookContainer = gd.closest('#notebook-container');\n",
       "if (notebookContainer) {{\n",
       "    x.observe(notebookContainer, {childList: true});\n",
       "}}\n",
       "\n",
       "// Listen for the clearing of the current output cell\n",
       "var outputEl = gd.closest('.output');\n",
       "if (outputEl) {{\n",
       "    x.observe(outputEl, {childList: true});\n",
       "}}\n",
       "\n",
       "                        })                };                });            </script>        </div>"
      ]
     },
     "metadata": {},
     "output_type": "display_data"
    },
    {
     "data": {
      "application/vnd.plotly.v1+json": {
       "config": {
        "plotlyServerURL": "https://plot.ly"
       },
       "data": [
        {
         "branchvalues": "total",
         "customdata": [
          [
           "AFG",
           43.828
          ],
          [
           "ALB",
           76.423
          ],
          [
           "DZA",
           72.301
          ],
          [
           "AGO",
           42.731
          ],
          [
           "ARG",
           75.32
          ],
          [
           "AUS",
           81.235
          ],
          [
           "AUT",
           79.829
          ],
          [
           "BHR",
           75.635
          ],
          [
           "BGD",
           64.062
          ],
          [
           "BEL",
           79.441
          ],
          [
           "BEN",
           56.728
          ],
          [
           "BOL",
           65.554
          ],
          [
           "BIH",
           74.852
          ],
          [
           "BWA",
           50.728
          ],
          [
           "BRA",
           72.39
          ],
          [
           "BGR",
           73.005
          ],
          [
           "BFA",
           52.295
          ],
          [
           "BDI",
           49.58
          ],
          [
           "KHM",
           59.723
          ],
          [
           "CMR",
           50.43
          ],
          [
           "CAN",
           80.65300000000002
          ],
          [
           "CAF",
           44.74100000000001
          ],
          [
           "TCD",
           50.651
          ],
          [
           "CHL",
           78.553
          ],
          [
           "CHN",
           72.961
          ],
          [
           "COL",
           72.889
          ],
          [
           "COM",
           65.152
          ],
          [
           "COD",
           46.46199999999999
          ],
          [
           "COG",
           55.321999999999996
          ],
          [
           "CRI",
           78.782
          ],
          [
           "CIV",
           48.328
          ],
          [
           "HRV",
           75.748
          ],
          [
           "CUB",
           78.273
          ],
          [
           "CZE",
           76.486
          ],
          [
           "DNK",
           78.332
          ],
          [
           "DJI",
           54.791000000000004
          ],
          [
           "DOM",
           72.235
          ],
          [
           "ECU",
           74.994
          ],
          [
           "EGY",
           71.33800000000001
          ],
          [
           "SLV",
           71.878
          ],
          [
           "GNQ",
           51.57899999999999
          ],
          [
           "ERI",
           58.03999999999999
          ],
          [
           "ETH",
           52.946999999999996
          ],
          [
           "FIN",
           79.313
          ],
          [
           "FRA",
           80.65699999999998
          ],
          [
           "GAB",
           56.73500000000001
          ],
          [
           "GMB",
           59.448
          ],
          [
           "DEU",
           79.406
          ],
          [
           "GHA",
           60.02199999999999
          ],
          [
           "GRC",
           79.483
          ],
          [
           "GTM",
           70.259
          ],
          [
           "GIN",
           56.007
          ],
          [
           "GNB",
           46.388000000000005
          ],
          [
           "HTI",
           60.916000000000004
          ],
          [
           "HND",
           70.19800000000001
          ],
          [
           "HKG",
           82.208
          ],
          [
           "HUN",
           73.33800000000001
          ],
          [
           "ISL",
           81.757
          ],
          [
           "IND",
           64.69800000000001
          ],
          [
           "IDN",
           70.65
          ],
          [
           "IRN",
           70.964
          ],
          [
           "IRQ",
           59.545
          ],
          [
           "IRL",
           78.885
          ],
          [
           "ISR",
           80.745
          ],
          [
           "ITA",
           80.546
          ],
          [
           "JAM",
           72.567
          ],
          [
           "JPN",
           82.603
          ],
          [
           "JOR",
           72.535
          ],
          [
           "KEN",
           54.11
          ],
          [
           "KOR",
           67.297
          ],
          [
           "KOR",
           78.623
          ],
          [
           "KWT",
           77.58800000000001
          ],
          [
           "LBN",
           71.993
          ],
          [
           "LSO",
           42.592
          ],
          [
           "LBR",
           45.67800000000001
          ],
          [
           "LBY",
           73.952
          ],
          [
           "MDG",
           59.443000000000005
          ],
          [
           "MWI",
           48.303000000000004
          ],
          [
           "MYS",
           74.241
          ],
          [
           "MLI",
           54.467
          ],
          [
           "MRT",
           64.164
          ],
          [
           "MUS",
           72.801
          ],
          [
           "MEX",
           76.195
          ],
          [
           "MNG",
           66.803
          ],
          [
           "MNE",
           74.543
          ],
          [
           "MAR",
           71.164
          ],
          [
           "MOZ",
           42.082
          ],
          [
           "MMR",
           62.068999999999996
          ],
          [
           "NAM",
           52.906000000000006
          ],
          [
           "NPL",
           63.785
          ],
          [
           "NLD",
           79.762
          ],
          [
           "NZL",
           80.204
          ],
          [
           "NIC",
           72.899
          ],
          [
           "NER",
           56.867
          ],
          [
           "NGA",
           46.858999999999995
          ],
          [
           "NOR",
           80.196
          ],
          [
           "OMN",
           75.64
          ],
          [
           "PAK",
           65.483
          ],
          [
           "PAN",
           75.53699999999999
          ],
          [
           "PRY",
           71.752
          ],
          [
           "PER",
           71.421
          ],
          [
           "PHL",
           71.688
          ],
          [
           "POL",
           75.563
          ],
          [
           "PRT",
           78.098
          ],
          [
           "PRI",
           78.74600000000001
          ],
          [
           "REU",
           76.442
          ],
          [
           "ROU",
           72.476
          ],
          [
           "RWA",
           46.242
          ],
          [
           "STP",
           65.528
          ],
          [
           "SAU",
           72.777
          ],
          [
           "SEN",
           63.062
          ],
          [
           "SRB",
           74.002
          ],
          [
           "SLE",
           42.568000000000005
          ],
          [
           "SGP",
           79.972
          ],
          [
           "SVK",
           74.663
          ],
          [
           "SVN",
           77.926
          ],
          [
           "SOM",
           48.159
          ],
          [
           "ZAF",
           49.339
          ],
          [
           "ESP",
           80.941
          ],
          [
           "LKA",
           72.396
          ],
          [
           "SDN",
           58.556000000000004
          ],
          [
           "SWZ",
           39.613
          ],
          [
           "SWE",
           80.884
          ],
          [
           "CHE",
           81.70100000000001
          ],
          [
           "SYR",
           74.143
          ],
          [
           "TWN",
           78.4
          ],
          [
           "TZA",
           52.516999999999996
          ],
          [
           "THA",
           70.616
          ],
          [
           "TGO",
           58.42
          ],
          [
           "TTO",
           69.819
          ],
          [
           "TUN",
           73.923
          ],
          [
           "TUR",
           71.777
          ],
          [
           "UGA",
           51.542
          ],
          [
           "GBR",
           79.425
          ],
          [
           "USA",
           78.242
          ],
          [
           "URY",
           76.384
          ],
          [
           "VEN",
           73.747
          ],
          [
           "VNM",
           74.249
          ],
          [
           "PSE",
           73.422
          ],
          [
           "YEM",
           62.698
          ],
          [
           "ZMB",
           42.38399999999999
          ],
          [
           "ZWE",
           43.486999999999995
          ],
          [
           "(?)",
           54.56441057558197
          ],
          [
           "(?)",
           75.35668222743027
          ],
          [
           "(?)",
           69.44386304205017
          ],
          [
           "(?)",
           77.89057081069897
          ],
          [
           "(?)",
           81.06215400970112
          ],
          [
           "(?)",
           68.91909251904043
          ]
         ],
         "domain": {
          "x": [
           0,
           1
          ],
          "y": [
           0,
           1
          ]
         },
         "hovertemplate": "labels=%{label}<br>pop=%{value}<br>parent=%{parent}<br>id=%{id}<br>iso_alpha=%{customdata[0]}<br>lifeExp=%{color}<extra></extra>",
         "ids": [
          "world/Asia/Afghanistan",
          "world/Europe/Albania",
          "world/Africa/Algeria",
          "world/Africa/Angola",
          "world/Americas/Argentina",
          "world/Oceania/Australia",
          "world/Europe/Austria",
          "world/Asia/Bahrain",
          "world/Asia/Bangladesh",
          "world/Europe/Belgium",
          "world/Africa/Benin",
          "world/Americas/Bolivia",
          "world/Europe/Bosnia and Herzegovina",
          "world/Africa/Botswana",
          "world/Americas/Brazil",
          "world/Europe/Bulgaria",
          "world/Africa/Burkina Faso",
          "world/Africa/Burundi",
          "world/Asia/Cambodia",
          "world/Africa/Cameroon",
          "world/Americas/Canada",
          "world/Africa/Central African Republic",
          "world/Africa/Chad",
          "world/Americas/Chile",
          "world/Asia/China",
          "world/Americas/Colombia",
          "world/Africa/Comoros",
          "world/Africa/Congo, Dem. Rep.",
          "world/Africa/Congo, Rep.",
          "world/Americas/Costa Rica",
          "world/Africa/Cote d'Ivoire",
          "world/Europe/Croatia",
          "world/Americas/Cuba",
          "world/Europe/Czech Republic",
          "world/Europe/Denmark",
          "world/Africa/Djibouti",
          "world/Americas/Dominican Republic",
          "world/Americas/Ecuador",
          "world/Africa/Egypt",
          "world/Americas/El Salvador",
          "world/Africa/Equatorial Guinea",
          "world/Africa/Eritrea",
          "world/Africa/Ethiopia",
          "world/Europe/Finland",
          "world/Europe/France",
          "world/Africa/Gabon",
          "world/Africa/Gambia",
          "world/Europe/Germany",
          "world/Africa/Ghana",
          "world/Europe/Greece",
          "world/Americas/Guatemala",
          "world/Africa/Guinea",
          "world/Africa/Guinea-Bissau",
          "world/Americas/Haiti",
          "world/Americas/Honduras",
          "world/Asia/Hong Kong, China",
          "world/Europe/Hungary",
          "world/Europe/Iceland",
          "world/Asia/India",
          "world/Asia/Indonesia",
          "world/Asia/Iran",
          "world/Asia/Iraq",
          "world/Europe/Ireland",
          "world/Asia/Israel",
          "world/Europe/Italy",
          "world/Americas/Jamaica",
          "world/Asia/Japan",
          "world/Asia/Jordan",
          "world/Africa/Kenya",
          "world/Asia/Korea, Dem. Rep.",
          "world/Asia/Korea, Rep.",
          "world/Asia/Kuwait",
          "world/Asia/Lebanon",
          "world/Africa/Lesotho",
          "world/Africa/Liberia",
          "world/Africa/Libya",
          "world/Africa/Madagascar",
          "world/Africa/Malawi",
          "world/Asia/Malaysia",
          "world/Africa/Mali",
          "world/Africa/Mauritania",
          "world/Africa/Mauritius",
          "world/Americas/Mexico",
          "world/Asia/Mongolia",
          "world/Europe/Montenegro",
          "world/Africa/Morocco",
          "world/Africa/Mozambique",
          "world/Asia/Myanmar",
          "world/Africa/Namibia",
          "world/Asia/Nepal",
          "world/Europe/Netherlands",
          "world/Oceania/New Zealand",
          "world/Americas/Nicaragua",
          "world/Africa/Niger",
          "world/Africa/Nigeria",
          "world/Europe/Norway",
          "world/Asia/Oman",
          "world/Asia/Pakistan",
          "world/Americas/Panama",
          "world/Americas/Paraguay",
          "world/Americas/Peru",
          "world/Asia/Philippines",
          "world/Europe/Poland",
          "world/Europe/Portugal",
          "world/Americas/Puerto Rico",
          "world/Africa/Reunion",
          "world/Europe/Romania",
          "world/Africa/Rwanda",
          "world/Africa/Sao Tome and Principe",
          "world/Asia/Saudi Arabia",
          "world/Africa/Senegal",
          "world/Europe/Serbia",
          "world/Africa/Sierra Leone",
          "world/Asia/Singapore",
          "world/Europe/Slovak Republic",
          "world/Europe/Slovenia",
          "world/Africa/Somalia",
          "world/Africa/South Africa",
          "world/Europe/Spain",
          "world/Asia/Sri Lanka",
          "world/Africa/Sudan",
          "world/Africa/Swaziland",
          "world/Europe/Sweden",
          "world/Europe/Switzerland",
          "world/Asia/Syria",
          "world/Asia/Taiwan",
          "world/Africa/Tanzania",
          "world/Asia/Thailand",
          "world/Africa/Togo",
          "world/Americas/Trinidad and Tobago",
          "world/Africa/Tunisia",
          "world/Europe/Turkey",
          "world/Africa/Uganda",
          "world/Europe/United Kingdom",
          "world/Americas/United States",
          "world/Americas/Uruguay",
          "world/Americas/Venezuela",
          "world/Asia/Vietnam",
          "world/Asia/West Bank and Gaza",
          "world/Asia/Yemen, Rep.",
          "world/Africa/Zambia",
          "world/Africa/Zimbabwe",
          "world/Africa",
          "world/Americas",
          "world/Asia",
          "world/Europe",
          "world/Oceania",
          "world"
         ],
         "labels": [
          "Afghanistan",
          "Albania",
          "Algeria",
          "Angola",
          "Argentina",
          "Australia",
          "Austria",
          "Bahrain",
          "Bangladesh",
          "Belgium",
          "Benin",
          "Bolivia",
          "Bosnia and Herzegovina",
          "Botswana",
          "Brazil",
          "Bulgaria",
          "Burkina Faso",
          "Burundi",
          "Cambodia",
          "Cameroon",
          "Canada",
          "Central African Republic",
          "Chad",
          "Chile",
          "China",
          "Colombia",
          "Comoros",
          "Congo, Dem. Rep.",
          "Congo, Rep.",
          "Costa Rica",
          "Cote d'Ivoire",
          "Croatia",
          "Cuba",
          "Czech Republic",
          "Denmark",
          "Djibouti",
          "Dominican Republic",
          "Ecuador",
          "Egypt",
          "El Salvador",
          "Equatorial Guinea",
          "Eritrea",
          "Ethiopia",
          "Finland",
          "France",
          "Gabon",
          "Gambia",
          "Germany",
          "Ghana",
          "Greece",
          "Guatemala",
          "Guinea",
          "Guinea-Bissau",
          "Haiti",
          "Honduras",
          "Hong Kong, China",
          "Hungary",
          "Iceland",
          "India",
          "Indonesia",
          "Iran",
          "Iraq",
          "Ireland",
          "Israel",
          "Italy",
          "Jamaica",
          "Japan",
          "Jordan",
          "Kenya",
          "Korea, Dem. Rep.",
          "Korea, Rep.",
          "Kuwait",
          "Lebanon",
          "Lesotho",
          "Liberia",
          "Libya",
          "Madagascar",
          "Malawi",
          "Malaysia",
          "Mali",
          "Mauritania",
          "Mauritius",
          "Mexico",
          "Mongolia",
          "Montenegro",
          "Morocco",
          "Mozambique",
          "Myanmar",
          "Namibia",
          "Nepal",
          "Netherlands",
          "New Zealand",
          "Nicaragua",
          "Niger",
          "Nigeria",
          "Norway",
          "Oman",
          "Pakistan",
          "Panama",
          "Paraguay",
          "Peru",
          "Philippines",
          "Poland",
          "Portugal",
          "Puerto Rico",
          "Reunion",
          "Romania",
          "Rwanda",
          "Sao Tome and Principe",
          "Saudi Arabia",
          "Senegal",
          "Serbia",
          "Sierra Leone",
          "Singapore",
          "Slovak Republic",
          "Slovenia",
          "Somalia",
          "South Africa",
          "Spain",
          "Sri Lanka",
          "Sudan",
          "Swaziland",
          "Sweden",
          "Switzerland",
          "Syria",
          "Taiwan",
          "Tanzania",
          "Thailand",
          "Togo",
          "Trinidad and Tobago",
          "Tunisia",
          "Turkey",
          "Uganda",
          "United Kingdom",
          "United States",
          "Uruguay",
          "Venezuela",
          "Vietnam",
          "West Bank and Gaza",
          "Yemen, Rep.",
          "Zambia",
          "Zimbabwe",
          "Africa",
          "Americas",
          "Asia",
          "Europe",
          "Oceania",
          "world"
         ],
         "marker": {
          "coloraxis": "coloraxis",
          "colors": [
           43.828,
           76.423,
           72.301,
           42.731,
           75.32,
           81.235,
           79.829,
           75.635,
           64.062,
           79.441,
           56.728,
           65.554,
           74.852,
           50.728,
           72.39,
           73.005,
           52.295,
           49.58,
           59.723,
           50.43,
           80.65300000000002,
           44.74100000000001,
           50.651,
           78.553,
           72.961,
           72.889,
           65.152,
           46.46199999999999,
           55.321999999999996,
           78.782,
           48.328,
           75.748,
           78.273,
           76.486,
           78.332,
           54.791000000000004,
           72.235,
           74.994,
           71.33800000000001,
           71.878,
           51.57899999999999,
           58.03999999999999,
           52.946999999999996,
           79.313,
           80.65699999999998,
           56.73500000000001,
           59.448,
           79.406,
           60.02199999999999,
           79.483,
           70.259,
           56.007,
           46.388000000000005,
           60.916000000000004,
           70.19800000000001,
           82.208,
           73.33800000000001,
           81.757,
           64.69800000000001,
           70.65,
           70.964,
           59.545,
           78.885,
           80.745,
           80.546,
           72.567,
           82.603,
           72.535,
           54.11,
           67.297,
           78.623,
           77.58800000000001,
           71.993,
           42.592,
           45.67800000000001,
           73.952,
           59.443000000000005,
           48.303000000000004,
           74.241,
           54.467,
           64.164,
           72.801,
           76.195,
           66.803,
           74.543,
           71.164,
           42.082,
           62.068999999999996,
           52.906000000000006,
           63.785,
           79.762,
           80.204,
           72.899,
           56.867,
           46.858999999999995,
           80.196,
           75.64,
           65.483,
           75.53699999999999,
           71.752,
           71.421,
           71.688,
           75.563,
           78.098,
           78.74600000000001,
           76.442,
           72.476,
           46.242,
           65.528,
           72.777,
           63.062,
           74.002,
           42.568000000000005,
           79.972,
           74.663,
           77.926,
           48.159,
           49.339,
           80.941,
           72.396,
           58.556000000000004,
           39.613,
           80.884,
           81.70100000000001,
           74.143,
           78.4,
           52.516999999999996,
           70.616,
           58.42,
           69.819,
           73.923,
           71.777,
           51.542,
           79.425,
           78.242,
           76.384,
           73.747,
           74.249,
           73.422,
           62.698,
           42.38399999999999,
           43.486999999999995,
           54.56441057558197,
           75.35668222743027,
           69.44386304205017,
           77.89057081069897,
           81.06215400970112,
           68.91909251904043
          ]
         },
         "name": "",
         "parents": [
          "world/Asia",
          "world/Europe",
          "world/Africa",
          "world/Africa",
          "world/Americas",
          "world/Oceania",
          "world/Europe",
          "world/Asia",
          "world/Asia",
          "world/Europe",
          "world/Africa",
          "world/Americas",
          "world/Europe",
          "world/Africa",
          "world/Americas",
          "world/Europe",
          "world/Africa",
          "world/Africa",
          "world/Asia",
          "world/Africa",
          "world/Americas",
          "world/Africa",
          "world/Africa",
          "world/Americas",
          "world/Asia",
          "world/Americas",
          "world/Africa",
          "world/Africa",
          "world/Africa",
          "world/Americas",
          "world/Africa",
          "world/Europe",
          "world/Americas",
          "world/Europe",
          "world/Europe",
          "world/Africa",
          "world/Americas",
          "world/Americas",
          "world/Africa",
          "world/Americas",
          "world/Africa",
          "world/Africa",
          "world/Africa",
          "world/Europe",
          "world/Europe",
          "world/Africa",
          "world/Africa",
          "world/Europe",
          "world/Africa",
          "world/Europe",
          "world/Americas",
          "world/Africa",
          "world/Africa",
          "world/Americas",
          "world/Americas",
          "world/Asia",
          "world/Europe",
          "world/Europe",
          "world/Asia",
          "world/Asia",
          "world/Asia",
          "world/Asia",
          "world/Europe",
          "world/Asia",
          "world/Europe",
          "world/Americas",
          "world/Asia",
          "world/Asia",
          "world/Africa",
          "world/Asia",
          "world/Asia",
          "world/Asia",
          "world/Asia",
          "world/Africa",
          "world/Africa",
          "world/Africa",
          "world/Africa",
          "world/Africa",
          "world/Asia",
          "world/Africa",
          "world/Africa",
          "world/Africa",
          "world/Americas",
          "world/Asia",
          "world/Europe",
          "world/Africa",
          "world/Africa",
          "world/Asia",
          "world/Africa",
          "world/Asia",
          "world/Europe",
          "world/Oceania",
          "world/Americas",
          "world/Africa",
          "world/Africa",
          "world/Europe",
          "world/Asia",
          "world/Asia",
          "world/Americas",
          "world/Americas",
          "world/Americas",
          "world/Asia",
          "world/Europe",
          "world/Europe",
          "world/Americas",
          "world/Africa",
          "world/Europe",
          "world/Africa",
          "world/Africa",
          "world/Asia",
          "world/Africa",
          "world/Europe",
          "world/Africa",
          "world/Asia",
          "world/Europe",
          "world/Europe",
          "world/Africa",
          "world/Africa",
          "world/Europe",
          "world/Asia",
          "world/Africa",
          "world/Africa",
          "world/Europe",
          "world/Europe",
          "world/Asia",
          "world/Asia",
          "world/Africa",
          "world/Asia",
          "world/Africa",
          "world/Americas",
          "world/Africa",
          "world/Europe",
          "world/Africa",
          "world/Europe",
          "world/Americas",
          "world/Americas",
          "world/Americas",
          "world/Asia",
          "world/Asia",
          "world/Asia",
          "world/Africa",
          "world/Africa",
          "world",
          "world",
          "world",
          "world",
          "world",
          ""
         ],
         "type": "treemap",
         "values": [
          31889923,
          3600523,
          33333216,
          12420476,
          40301927,
          20434176,
          8199783,
          708573,
          150448339,
          10392226,
          8078314,
          9119152,
          4552198,
          1639131,
          190010647,
          7322858,
          14326203,
          8390505,
          14131858,
          17696293,
          33390141,
          4369038,
          10238807,
          16284741,
          1318683096,
          44227550,
          710960,
          64606759,
          3800610,
          4133884,
          18013409,
          4493312,
          11416987,
          10228744,
          5468120,
          496374,
          9319622,
          13755680,
          80264543,
          6939688,
          551201,
          4906585,
          76511887,
          5238460,
          61083916,
          1454867,
          1688359,
          82400996,
          22873338,
          10706290,
          12572928,
          9947814,
          1472041,
          8502814,
          7483763,
          6980412,
          9956108,
          301931,
          1110396331,
          223547000,
          69453570,
          27499638,
          4109086,
          6426679,
          58147733,
          2780132,
          127467972,
          6053193,
          35610177,
          23301725,
          49044790,
          2505559,
          3921278,
          2012649,
          3193942,
          6036914,
          19167654,
          13327079,
          24821286,
          12031795,
          3270065,
          1250882,
          108700891,
          2874127,
          684736,
          33757175,
          19951656,
          47761980,
          2055080,
          28901790,
          16570613,
          4115771,
          5675356,
          12894865,
          135031164,
          4627926,
          3204897,
          169270617,
          3242173,
          6667147,
          28674757,
          91077287,
          38518241,
          10642836,
          3942491,
          798094,
          22276056,
          8860588,
          199579,
          27601038,
          12267493,
          10150265,
          6144562,
          4553009,
          5447502,
          2009245,
          9118773,
          43997828,
          40448191,
          20378239,
          42292929,
          1133066,
          9031088,
          7554661,
          19314747,
          23174294,
          38139640,
          65068149,
          5701579,
          1056608,
          10276158,
          71158647,
          29170398,
          60776238,
          301139947,
          3447496,
          26084662,
          85262356,
          4018332,
          22211743,
          11746035,
          12311143,
          929539692,
          898871184,
          3811953827,
          586098529,
          24549947,
          6251013179
         ]
        }
       ],
       "layout": {
        "coloraxis": {
         "colorbar": {
          "title": {
           "text": "lifeExp"
          }
         },
         "colorscale": [
          [
           0,
           "#0d0887"
          ],
          [
           0.1111111111111111,
           "#46039f"
          ],
          [
           0.2222222222222222,
           "#7201a8"
          ],
          [
           0.3333333333333333,
           "#9c179e"
          ],
          [
           0.4444444444444444,
           "#bd3786"
          ],
          [
           0.5555555555555556,
           "#d8576b"
          ],
          [
           0.6666666666666666,
           "#ed7953"
          ],
          [
           0.7777777777777778,
           "#fb9f3a"
          ],
          [
           0.8888888888888888,
           "#fdca26"
          ],
          [
           1,
           "#f0f921"
          ]
         ]
        },
        "legend": {
         "tracegroupgap": 0
        },
        "margin": {
         "t": 60
        },
        "template": {
         "data": {
          "bar": [
           {
            "error_x": {
             "color": "#2a3f5f"
            },
            "error_y": {
             "color": "#2a3f5f"
            },
            "marker": {
             "line": {
              "color": "#E5ECF6",
              "width": 0.5
             }
            },
            "type": "bar"
           }
          ],
          "barpolar": [
           {
            "marker": {
             "line": {
              "color": "#E5ECF6",
              "width": 0.5
             }
            },
            "type": "barpolar"
           }
          ],
          "carpet": [
           {
            "aaxis": {
             "endlinecolor": "#2a3f5f",
             "gridcolor": "white",
             "linecolor": "white",
             "minorgridcolor": "white",
             "startlinecolor": "#2a3f5f"
            },
            "baxis": {
             "endlinecolor": "#2a3f5f",
             "gridcolor": "white",
             "linecolor": "white",
             "minorgridcolor": "white",
             "startlinecolor": "#2a3f5f"
            },
            "type": "carpet"
           }
          ],
          "choropleth": [
           {
            "colorbar": {
             "outlinewidth": 0,
             "ticks": ""
            },
            "type": "choropleth"
           }
          ],
          "contour": [
           {
            "colorbar": {
             "outlinewidth": 0,
             "ticks": ""
            },
            "colorscale": [
             [
              0,
              "#0d0887"
             ],
             [
              0.1111111111111111,
              "#46039f"
             ],
             [
              0.2222222222222222,
              "#7201a8"
             ],
             [
              0.3333333333333333,
              "#9c179e"
             ],
             [
              0.4444444444444444,
              "#bd3786"
             ],
             [
              0.5555555555555556,
              "#d8576b"
             ],
             [
              0.6666666666666666,
              "#ed7953"
             ],
             [
              0.7777777777777778,
              "#fb9f3a"
             ],
             [
              0.8888888888888888,
              "#fdca26"
             ],
             [
              1,
              "#f0f921"
             ]
            ],
            "type": "contour"
           }
          ],
          "contourcarpet": [
           {
            "colorbar": {
             "outlinewidth": 0,
             "ticks": ""
            },
            "type": "contourcarpet"
           }
          ],
          "heatmap": [
           {
            "colorbar": {
             "outlinewidth": 0,
             "ticks": ""
            },
            "colorscale": [
             [
              0,
              "#0d0887"
             ],
             [
              0.1111111111111111,
              "#46039f"
             ],
             [
              0.2222222222222222,
              "#7201a8"
             ],
             [
              0.3333333333333333,
              "#9c179e"
             ],
             [
              0.4444444444444444,
              "#bd3786"
             ],
             [
              0.5555555555555556,
              "#d8576b"
             ],
             [
              0.6666666666666666,
              "#ed7953"
             ],
             [
              0.7777777777777778,
              "#fb9f3a"
             ],
             [
              0.8888888888888888,
              "#fdca26"
             ],
             [
              1,
              "#f0f921"
             ]
            ],
            "type": "heatmap"
           }
          ],
          "heatmapgl": [
           {
            "colorbar": {
             "outlinewidth": 0,
             "ticks": ""
            },
            "colorscale": [
             [
              0,
              "#0d0887"
             ],
             [
              0.1111111111111111,
              "#46039f"
             ],
             [
              0.2222222222222222,
              "#7201a8"
             ],
             [
              0.3333333333333333,
              "#9c179e"
             ],
             [
              0.4444444444444444,
              "#bd3786"
             ],
             [
              0.5555555555555556,
              "#d8576b"
             ],
             [
              0.6666666666666666,
              "#ed7953"
             ],
             [
              0.7777777777777778,
              "#fb9f3a"
             ],
             [
              0.8888888888888888,
              "#fdca26"
             ],
             [
              1,
              "#f0f921"
             ]
            ],
            "type": "heatmapgl"
           }
          ],
          "histogram": [
           {
            "marker": {
             "colorbar": {
              "outlinewidth": 0,
              "ticks": ""
             }
            },
            "type": "histogram"
           }
          ],
          "histogram2d": [
           {
            "colorbar": {
             "outlinewidth": 0,
             "ticks": ""
            },
            "colorscale": [
             [
              0,
              "#0d0887"
             ],
             [
              0.1111111111111111,
              "#46039f"
             ],
             [
              0.2222222222222222,
              "#7201a8"
             ],
             [
              0.3333333333333333,
              "#9c179e"
             ],
             [
              0.4444444444444444,
              "#bd3786"
             ],
             [
              0.5555555555555556,
              "#d8576b"
             ],
             [
              0.6666666666666666,
              "#ed7953"
             ],
             [
              0.7777777777777778,
              "#fb9f3a"
             ],
             [
              0.8888888888888888,
              "#fdca26"
             ],
             [
              1,
              "#f0f921"
             ]
            ],
            "type": "histogram2d"
           }
          ],
          "histogram2dcontour": [
           {
            "colorbar": {
             "outlinewidth": 0,
             "ticks": ""
            },
            "colorscale": [
             [
              0,
              "#0d0887"
             ],
             [
              0.1111111111111111,
              "#46039f"
             ],
             [
              0.2222222222222222,
              "#7201a8"
             ],
             [
              0.3333333333333333,
              "#9c179e"
             ],
             [
              0.4444444444444444,
              "#bd3786"
             ],
             [
              0.5555555555555556,
              "#d8576b"
             ],
             [
              0.6666666666666666,
              "#ed7953"
             ],
             [
              0.7777777777777778,
              "#fb9f3a"
             ],
             [
              0.8888888888888888,
              "#fdca26"
             ],
             [
              1,
              "#f0f921"
             ]
            ],
            "type": "histogram2dcontour"
           }
          ],
          "mesh3d": [
           {
            "colorbar": {
             "outlinewidth": 0,
             "ticks": ""
            },
            "type": "mesh3d"
           }
          ],
          "parcoords": [
           {
            "line": {
             "colorbar": {
              "outlinewidth": 0,
              "ticks": ""
             }
            },
            "type": "parcoords"
           }
          ],
          "pie": [
           {
            "automargin": true,
            "type": "pie"
           }
          ],
          "scatter": [
           {
            "marker": {
             "colorbar": {
              "outlinewidth": 0,
              "ticks": ""
             }
            },
            "type": "scatter"
           }
          ],
          "scatter3d": [
           {
            "line": {
             "colorbar": {
              "outlinewidth": 0,
              "ticks": ""
             }
            },
            "marker": {
             "colorbar": {
              "outlinewidth": 0,
              "ticks": ""
             }
            },
            "type": "scatter3d"
           }
          ],
          "scattercarpet": [
           {
            "marker": {
             "colorbar": {
              "outlinewidth": 0,
              "ticks": ""
             }
            },
            "type": "scattercarpet"
           }
          ],
          "scattergeo": [
           {
            "marker": {
             "colorbar": {
              "outlinewidth": 0,
              "ticks": ""
             }
            },
            "type": "scattergeo"
           }
          ],
          "scattergl": [
           {
            "marker": {
             "colorbar": {
              "outlinewidth": 0,
              "ticks": ""
             }
            },
            "type": "scattergl"
           }
          ],
          "scattermapbox": [
           {
            "marker": {
             "colorbar": {
              "outlinewidth": 0,
              "ticks": ""
             }
            },
            "type": "scattermapbox"
           }
          ],
          "scatterpolar": [
           {
            "marker": {
             "colorbar": {
              "outlinewidth": 0,
              "ticks": ""
             }
            },
            "type": "scatterpolar"
           }
          ],
          "scatterpolargl": [
           {
            "marker": {
             "colorbar": {
              "outlinewidth": 0,
              "ticks": ""
             }
            },
            "type": "scatterpolargl"
           }
          ],
          "scatterternary": [
           {
            "marker": {
             "colorbar": {
              "outlinewidth": 0,
              "ticks": ""
             }
            },
            "type": "scatterternary"
           }
          ],
          "surface": [
           {
            "colorbar": {
             "outlinewidth": 0,
             "ticks": ""
            },
            "colorscale": [
             [
              0,
              "#0d0887"
             ],
             [
              0.1111111111111111,
              "#46039f"
             ],
             [
              0.2222222222222222,
              "#7201a8"
             ],
             [
              0.3333333333333333,
              "#9c179e"
             ],
             [
              0.4444444444444444,
              "#bd3786"
             ],
             [
              0.5555555555555556,
              "#d8576b"
             ],
             [
              0.6666666666666666,
              "#ed7953"
             ],
             [
              0.7777777777777778,
              "#fb9f3a"
             ],
             [
              0.8888888888888888,
              "#fdca26"
             ],
             [
              1,
              "#f0f921"
             ]
            ],
            "type": "surface"
           }
          ],
          "table": [
           {
            "cells": {
             "fill": {
              "color": "#EBF0F8"
             },
             "line": {
              "color": "white"
             }
            },
            "header": {
             "fill": {
              "color": "#C8D4E3"
             },
             "line": {
              "color": "white"
             }
            },
            "type": "table"
           }
          ]
         },
         "layout": {
          "annotationdefaults": {
           "arrowcolor": "#2a3f5f",
           "arrowhead": 0,
           "arrowwidth": 1
          },
          "coloraxis": {
           "colorbar": {
            "outlinewidth": 0,
            "ticks": ""
           }
          },
          "colorscale": {
           "diverging": [
            [
             0,
             "#8e0152"
            ],
            [
             0.1,
             "#c51b7d"
            ],
            [
             0.2,
             "#de77ae"
            ],
            [
             0.3,
             "#f1b6da"
            ],
            [
             0.4,
             "#fde0ef"
            ],
            [
             0.5,
             "#f7f7f7"
            ],
            [
             0.6,
             "#e6f5d0"
            ],
            [
             0.7,
             "#b8e186"
            ],
            [
             0.8,
             "#7fbc41"
            ],
            [
             0.9,
             "#4d9221"
            ],
            [
             1,
             "#276419"
            ]
           ],
           "sequential": [
            [
             0,
             "#0d0887"
            ],
            [
             0.1111111111111111,
             "#46039f"
            ],
            [
             0.2222222222222222,
             "#7201a8"
            ],
            [
             0.3333333333333333,
             "#9c179e"
            ],
            [
             0.4444444444444444,
             "#bd3786"
            ],
            [
             0.5555555555555556,
             "#d8576b"
            ],
            [
             0.6666666666666666,
             "#ed7953"
            ],
            [
             0.7777777777777778,
             "#fb9f3a"
            ],
            [
             0.8888888888888888,
             "#fdca26"
            ],
            [
             1,
             "#f0f921"
            ]
           ],
           "sequentialminus": [
            [
             0,
             "#0d0887"
            ],
            [
             0.1111111111111111,
             "#46039f"
            ],
            [
             0.2222222222222222,
             "#7201a8"
            ],
            [
             0.3333333333333333,
             "#9c179e"
            ],
            [
             0.4444444444444444,
             "#bd3786"
            ],
            [
             0.5555555555555556,
             "#d8576b"
            ],
            [
             0.6666666666666666,
             "#ed7953"
            ],
            [
             0.7777777777777778,
             "#fb9f3a"
            ],
            [
             0.8888888888888888,
             "#fdca26"
            ],
            [
             1,
             "#f0f921"
            ]
           ]
          },
          "colorway": [
           "#636efa",
           "#EF553B",
           "#00cc96",
           "#ab63fa",
           "#FFA15A",
           "#19d3f3",
           "#FF6692",
           "#B6E880",
           "#FF97FF",
           "#FECB52"
          ],
          "font": {
           "color": "#2a3f5f"
          },
          "geo": {
           "bgcolor": "white",
           "lakecolor": "white",
           "landcolor": "#E5ECF6",
           "showlakes": true,
           "showland": true,
           "subunitcolor": "white"
          },
          "hoverlabel": {
           "align": "left"
          },
          "hovermode": "closest",
          "mapbox": {
           "style": "light"
          },
          "paper_bgcolor": "white",
          "plot_bgcolor": "#E5ECF6",
          "polar": {
           "angularaxis": {
            "gridcolor": "white",
            "linecolor": "white",
            "ticks": ""
           },
           "bgcolor": "#E5ECF6",
           "radialaxis": {
            "gridcolor": "white",
            "linecolor": "white",
            "ticks": ""
           }
          },
          "scene": {
           "xaxis": {
            "backgroundcolor": "#E5ECF6",
            "gridcolor": "white",
            "gridwidth": 2,
            "linecolor": "white",
            "showbackground": true,
            "ticks": "",
            "zerolinecolor": "white"
           },
           "yaxis": {
            "backgroundcolor": "#E5ECF6",
            "gridcolor": "white",
            "gridwidth": 2,
            "linecolor": "white",
            "showbackground": true,
            "ticks": "",
            "zerolinecolor": "white"
           },
           "zaxis": {
            "backgroundcolor": "#E5ECF6",
            "gridcolor": "white",
            "gridwidth": 2,
            "linecolor": "white",
            "showbackground": true,
            "ticks": "",
            "zerolinecolor": "white"
           }
          },
          "shapedefaults": {
           "line": {
            "color": "#2a3f5f"
           }
          },
          "ternary": {
           "aaxis": {
            "gridcolor": "white",
            "linecolor": "white",
            "ticks": ""
           },
           "baxis": {
            "gridcolor": "white",
            "linecolor": "white",
            "ticks": ""
           },
           "bgcolor": "#E5ECF6",
           "caxis": {
            "gridcolor": "white",
            "linecolor": "white",
            "ticks": ""
           }
          },
          "title": {
           "x": 0.05
          },
          "xaxis": {
           "automargin": true,
           "gridcolor": "white",
           "linecolor": "white",
           "ticks": "",
           "title": {
            "standoff": 15
           },
           "zerolinecolor": "white",
           "zerolinewidth": 2
          },
          "yaxis": {
           "automargin": true,
           "gridcolor": "white",
           "linecolor": "white",
           "ticks": "",
           "title": {
            "standoff": 15
           },
           "zerolinecolor": "white",
           "zerolinewidth": 2
          }
         }
        }
       }
      },
      "text/html": [
       "<div>                            <div id=\"b4a7f8b4-4fc6-4b5d-8155-0bff39a1cfa3\" class=\"plotly-graph-div\" style=\"height:525px; width:100%;\"></div>            <script type=\"text/javascript\">                require([\"plotly\"], function(Plotly) {                    window.PLOTLYENV=window.PLOTLYENV || {};                                    if (document.getElementById(\"b4a7f8b4-4fc6-4b5d-8155-0bff39a1cfa3\")) {                    Plotly.newPlot(                        \"b4a7f8b4-4fc6-4b5d-8155-0bff39a1cfa3\",                        [{\"branchvalues\": \"total\", \"customdata\": [[\"AFG\", 43.828], [\"ALB\", 76.423], [\"DZA\", 72.301], [\"AGO\", 42.731], [\"ARG\", 75.32], [\"AUS\", 81.235], [\"AUT\", 79.829], [\"BHR\", 75.635], [\"BGD\", 64.062], [\"BEL\", 79.441], [\"BEN\", 56.728], [\"BOL\", 65.554], [\"BIH\", 74.852], [\"BWA\", 50.728], [\"BRA\", 72.39], [\"BGR\", 73.005], [\"BFA\", 52.295], [\"BDI\", 49.58], [\"KHM\", 59.723], [\"CMR\", 50.43], [\"CAN\", 80.65300000000002], [\"CAF\", 44.74100000000001], [\"TCD\", 50.651], [\"CHL\", 78.553], [\"CHN\", 72.961], [\"COL\", 72.889], [\"COM\", 65.152], [\"COD\", 46.46199999999999], [\"COG\", 55.321999999999996], [\"CRI\", 78.782], [\"CIV\", 48.328], [\"HRV\", 75.748], [\"CUB\", 78.273], [\"CZE\", 76.486], [\"DNK\", 78.332], [\"DJI\", 54.791000000000004], [\"DOM\", 72.235], [\"ECU\", 74.994], [\"EGY\", 71.33800000000001], [\"SLV\", 71.878], [\"GNQ\", 51.57899999999999], [\"ERI\", 58.03999999999999], [\"ETH\", 52.946999999999996], [\"FIN\", 79.313], [\"FRA\", 80.65699999999998], [\"GAB\", 56.73500000000001], [\"GMB\", 59.448], [\"DEU\", 79.406], [\"GHA\", 60.02199999999999], [\"GRC\", 79.483], [\"GTM\", 70.259], [\"GIN\", 56.007], [\"GNB\", 46.388000000000005], [\"HTI\", 60.916000000000004], [\"HND\", 70.19800000000001], [\"HKG\", 82.208], [\"HUN\", 73.33800000000001], [\"ISL\", 81.757], [\"IND\", 64.69800000000001], [\"IDN\", 70.65], [\"IRN\", 70.964], [\"IRQ\", 59.545], [\"IRL\", 78.885], [\"ISR\", 80.745], [\"ITA\", 80.546], [\"JAM\", 72.567], [\"JPN\", 82.603], [\"JOR\", 72.535], [\"KEN\", 54.11], [\"KOR\", 67.297], [\"KOR\", 78.623], [\"KWT\", 77.58800000000001], [\"LBN\", 71.993], [\"LSO\", 42.592], [\"LBR\", 45.67800000000001], [\"LBY\", 73.952], [\"MDG\", 59.443000000000005], [\"MWI\", 48.303000000000004], [\"MYS\", 74.241], [\"MLI\", 54.467], [\"MRT\", 64.164], [\"MUS\", 72.801], [\"MEX\", 76.195], [\"MNG\", 66.803], [\"MNE\", 74.543], [\"MAR\", 71.164], [\"MOZ\", 42.082], [\"MMR\", 62.068999999999996], [\"NAM\", 52.906000000000006], [\"NPL\", 63.785], [\"NLD\", 79.762], [\"NZL\", 80.204], [\"NIC\", 72.899], [\"NER\", 56.867], [\"NGA\", 46.858999999999995], [\"NOR\", 80.196], [\"OMN\", 75.64], [\"PAK\", 65.483], [\"PAN\", 75.53699999999999], [\"PRY\", 71.752], [\"PER\", 71.421], [\"PHL\", 71.688], [\"POL\", 75.563], [\"PRT\", 78.098], [\"PRI\", 78.74600000000001], [\"REU\", 76.442], [\"ROU\", 72.476], [\"RWA\", 46.242], [\"STP\", 65.528], [\"SAU\", 72.777], [\"SEN\", 63.062], [\"SRB\", 74.002], [\"SLE\", 42.568000000000005], [\"SGP\", 79.972], [\"SVK\", 74.663], [\"SVN\", 77.926], [\"SOM\", 48.159], [\"ZAF\", 49.339], [\"ESP\", 80.941], [\"LKA\", 72.396], [\"SDN\", 58.556000000000004], [\"SWZ\", 39.613], [\"SWE\", 80.884], [\"CHE\", 81.70100000000001], [\"SYR\", 74.143], [\"TWN\", 78.4], [\"TZA\", 52.516999999999996], [\"THA\", 70.616], [\"TGO\", 58.42], [\"TTO\", 69.819], [\"TUN\", 73.923], [\"TUR\", 71.777], [\"UGA\", 51.542], [\"GBR\", 79.425], [\"USA\", 78.242], [\"URY\", 76.384], [\"VEN\", 73.747], [\"VNM\", 74.249], [\"PSE\", 73.422], [\"YEM\", 62.698], [\"ZMB\", 42.38399999999999], [\"ZWE\", 43.486999999999995], [\"(?)\", 54.56441057558197], [\"(?)\", 75.35668222743027], [\"(?)\", 69.44386304205017], [\"(?)\", 77.89057081069897], [\"(?)\", 81.06215400970112], [\"(?)\", 68.91909251904043]], \"domain\": {\"x\": [0.0, 1.0], \"y\": [0.0, 1.0]}, \"hovertemplate\": \"labels=%{label}<br>pop=%{value}<br>parent=%{parent}<br>id=%{id}<br>iso_alpha=%{customdata[0]}<br>lifeExp=%{color}<extra></extra>\", \"ids\": [\"world/Asia/Afghanistan\", \"world/Europe/Albania\", \"world/Africa/Algeria\", \"world/Africa/Angola\", \"world/Americas/Argentina\", \"world/Oceania/Australia\", \"world/Europe/Austria\", \"world/Asia/Bahrain\", \"world/Asia/Bangladesh\", \"world/Europe/Belgium\", \"world/Africa/Benin\", \"world/Americas/Bolivia\", \"world/Europe/Bosnia and Herzegovina\", \"world/Africa/Botswana\", \"world/Americas/Brazil\", \"world/Europe/Bulgaria\", \"world/Africa/Burkina Faso\", \"world/Africa/Burundi\", \"world/Asia/Cambodia\", \"world/Africa/Cameroon\", \"world/Americas/Canada\", \"world/Africa/Central African Republic\", \"world/Africa/Chad\", \"world/Americas/Chile\", \"world/Asia/China\", \"world/Americas/Colombia\", \"world/Africa/Comoros\", \"world/Africa/Congo, Dem. Rep.\", \"world/Africa/Congo, Rep.\", \"world/Americas/Costa Rica\", \"world/Africa/Cote d'Ivoire\", \"world/Europe/Croatia\", \"world/Americas/Cuba\", \"world/Europe/Czech Republic\", \"world/Europe/Denmark\", \"world/Africa/Djibouti\", \"world/Americas/Dominican Republic\", \"world/Americas/Ecuador\", \"world/Africa/Egypt\", \"world/Americas/El Salvador\", \"world/Africa/Equatorial Guinea\", \"world/Africa/Eritrea\", \"world/Africa/Ethiopia\", \"world/Europe/Finland\", \"world/Europe/France\", \"world/Africa/Gabon\", \"world/Africa/Gambia\", \"world/Europe/Germany\", \"world/Africa/Ghana\", \"world/Europe/Greece\", \"world/Americas/Guatemala\", \"world/Africa/Guinea\", \"world/Africa/Guinea-Bissau\", \"world/Americas/Haiti\", \"world/Americas/Honduras\", \"world/Asia/Hong Kong, China\", \"world/Europe/Hungary\", \"world/Europe/Iceland\", \"world/Asia/India\", \"world/Asia/Indonesia\", \"world/Asia/Iran\", \"world/Asia/Iraq\", \"world/Europe/Ireland\", \"world/Asia/Israel\", \"world/Europe/Italy\", \"world/Americas/Jamaica\", \"world/Asia/Japan\", \"world/Asia/Jordan\", \"world/Africa/Kenya\", \"world/Asia/Korea, Dem. Rep.\", \"world/Asia/Korea, Rep.\", \"world/Asia/Kuwait\", \"world/Asia/Lebanon\", \"world/Africa/Lesotho\", \"world/Africa/Liberia\", \"world/Africa/Libya\", \"world/Africa/Madagascar\", \"world/Africa/Malawi\", \"world/Asia/Malaysia\", \"world/Africa/Mali\", \"world/Africa/Mauritania\", \"world/Africa/Mauritius\", \"world/Americas/Mexico\", \"world/Asia/Mongolia\", \"world/Europe/Montenegro\", \"world/Africa/Morocco\", \"world/Africa/Mozambique\", \"world/Asia/Myanmar\", \"world/Africa/Namibia\", \"world/Asia/Nepal\", \"world/Europe/Netherlands\", \"world/Oceania/New Zealand\", \"world/Americas/Nicaragua\", \"world/Africa/Niger\", \"world/Africa/Nigeria\", \"world/Europe/Norway\", \"world/Asia/Oman\", \"world/Asia/Pakistan\", \"world/Americas/Panama\", \"world/Americas/Paraguay\", \"world/Americas/Peru\", \"world/Asia/Philippines\", \"world/Europe/Poland\", \"world/Europe/Portugal\", \"world/Americas/Puerto Rico\", \"world/Africa/Reunion\", \"world/Europe/Romania\", \"world/Africa/Rwanda\", \"world/Africa/Sao Tome and Principe\", \"world/Asia/Saudi Arabia\", \"world/Africa/Senegal\", \"world/Europe/Serbia\", \"world/Africa/Sierra Leone\", \"world/Asia/Singapore\", \"world/Europe/Slovak Republic\", \"world/Europe/Slovenia\", \"world/Africa/Somalia\", \"world/Africa/South Africa\", \"world/Europe/Spain\", \"world/Asia/Sri Lanka\", \"world/Africa/Sudan\", \"world/Africa/Swaziland\", \"world/Europe/Sweden\", \"world/Europe/Switzerland\", \"world/Asia/Syria\", \"world/Asia/Taiwan\", \"world/Africa/Tanzania\", \"world/Asia/Thailand\", \"world/Africa/Togo\", \"world/Americas/Trinidad and Tobago\", \"world/Africa/Tunisia\", \"world/Europe/Turkey\", \"world/Africa/Uganda\", \"world/Europe/United Kingdom\", \"world/Americas/United States\", \"world/Americas/Uruguay\", \"world/Americas/Venezuela\", \"world/Asia/Vietnam\", \"world/Asia/West Bank and Gaza\", \"world/Asia/Yemen, Rep.\", \"world/Africa/Zambia\", \"world/Africa/Zimbabwe\", \"world/Africa\", \"world/Americas\", \"world/Asia\", \"world/Europe\", \"world/Oceania\", \"world\"], \"labels\": [\"Afghanistan\", \"Albania\", \"Algeria\", \"Angola\", \"Argentina\", \"Australia\", \"Austria\", \"Bahrain\", \"Bangladesh\", \"Belgium\", \"Benin\", \"Bolivia\", \"Bosnia and Herzegovina\", \"Botswana\", \"Brazil\", \"Bulgaria\", \"Burkina Faso\", \"Burundi\", \"Cambodia\", \"Cameroon\", \"Canada\", \"Central African Republic\", \"Chad\", \"Chile\", \"China\", \"Colombia\", \"Comoros\", \"Congo, Dem. Rep.\", \"Congo, Rep.\", \"Costa Rica\", \"Cote d'Ivoire\", \"Croatia\", \"Cuba\", \"Czech Republic\", \"Denmark\", \"Djibouti\", \"Dominican Republic\", \"Ecuador\", \"Egypt\", \"El Salvador\", \"Equatorial Guinea\", \"Eritrea\", \"Ethiopia\", \"Finland\", \"France\", \"Gabon\", \"Gambia\", \"Germany\", \"Ghana\", \"Greece\", \"Guatemala\", \"Guinea\", \"Guinea-Bissau\", \"Haiti\", \"Honduras\", \"Hong Kong, China\", \"Hungary\", \"Iceland\", \"India\", \"Indonesia\", \"Iran\", \"Iraq\", \"Ireland\", \"Israel\", \"Italy\", \"Jamaica\", \"Japan\", \"Jordan\", \"Kenya\", \"Korea, Dem. Rep.\", \"Korea, Rep.\", \"Kuwait\", \"Lebanon\", \"Lesotho\", \"Liberia\", \"Libya\", \"Madagascar\", \"Malawi\", \"Malaysia\", \"Mali\", \"Mauritania\", \"Mauritius\", \"Mexico\", \"Mongolia\", \"Montenegro\", \"Morocco\", \"Mozambique\", \"Myanmar\", \"Namibia\", \"Nepal\", \"Netherlands\", \"New Zealand\", \"Nicaragua\", \"Niger\", \"Nigeria\", \"Norway\", \"Oman\", \"Pakistan\", \"Panama\", \"Paraguay\", \"Peru\", \"Philippines\", \"Poland\", \"Portugal\", \"Puerto Rico\", \"Reunion\", \"Romania\", \"Rwanda\", \"Sao Tome and Principe\", \"Saudi Arabia\", \"Senegal\", \"Serbia\", \"Sierra Leone\", \"Singapore\", \"Slovak Republic\", \"Slovenia\", \"Somalia\", \"South Africa\", \"Spain\", \"Sri Lanka\", \"Sudan\", \"Swaziland\", \"Sweden\", \"Switzerland\", \"Syria\", \"Taiwan\", \"Tanzania\", \"Thailand\", \"Togo\", \"Trinidad and Tobago\", \"Tunisia\", \"Turkey\", \"Uganda\", \"United Kingdom\", \"United States\", \"Uruguay\", \"Venezuela\", \"Vietnam\", \"West Bank and Gaza\", \"Yemen, Rep.\", \"Zambia\", \"Zimbabwe\", \"Africa\", \"Americas\", \"Asia\", \"Europe\", \"Oceania\", \"world\"], \"marker\": {\"coloraxis\": \"coloraxis\", \"colors\": [43.828, 76.423, 72.301, 42.731, 75.32, 81.235, 79.829, 75.635, 64.062, 79.441, 56.728, 65.554, 74.852, 50.728, 72.39, 73.005, 52.295, 49.58, 59.723, 50.43, 80.65300000000002, 44.74100000000001, 50.651, 78.553, 72.961, 72.889, 65.152, 46.46199999999999, 55.321999999999996, 78.782, 48.328, 75.748, 78.273, 76.486, 78.332, 54.791000000000004, 72.235, 74.994, 71.33800000000001, 71.878, 51.57899999999999, 58.03999999999999, 52.946999999999996, 79.313, 80.65699999999998, 56.73500000000001, 59.448, 79.406, 60.02199999999999, 79.483, 70.259, 56.007, 46.388000000000005, 60.916000000000004, 70.19800000000001, 82.208, 73.33800000000001, 81.757, 64.69800000000001, 70.65, 70.964, 59.545, 78.885, 80.745, 80.546, 72.567, 82.603, 72.535, 54.11, 67.297, 78.623, 77.58800000000001, 71.993, 42.592, 45.67800000000001, 73.952, 59.443000000000005, 48.303000000000004, 74.241, 54.467, 64.164, 72.801, 76.195, 66.803, 74.543, 71.164, 42.082, 62.068999999999996, 52.906000000000006, 63.785, 79.762, 80.204, 72.899, 56.867, 46.858999999999995, 80.196, 75.64, 65.483, 75.53699999999999, 71.752, 71.421, 71.688, 75.563, 78.098, 78.74600000000001, 76.442, 72.476, 46.242, 65.528, 72.777, 63.062, 74.002, 42.568000000000005, 79.972, 74.663, 77.926, 48.159, 49.339, 80.941, 72.396, 58.556000000000004, 39.613, 80.884, 81.70100000000001, 74.143, 78.4, 52.516999999999996, 70.616, 58.42, 69.819, 73.923, 71.777, 51.542, 79.425, 78.242, 76.384, 73.747, 74.249, 73.422, 62.698, 42.38399999999999, 43.486999999999995, 54.56441057558197, 75.35668222743027, 69.44386304205017, 77.89057081069897, 81.06215400970112, 68.91909251904043]}, \"name\": \"\", \"parents\": [\"world/Asia\", \"world/Europe\", \"world/Africa\", \"world/Africa\", \"world/Americas\", \"world/Oceania\", \"world/Europe\", \"world/Asia\", \"world/Asia\", \"world/Europe\", \"world/Africa\", \"world/Americas\", \"world/Europe\", \"world/Africa\", \"world/Americas\", \"world/Europe\", \"world/Africa\", \"world/Africa\", \"world/Asia\", \"world/Africa\", \"world/Americas\", \"world/Africa\", \"world/Africa\", \"world/Americas\", \"world/Asia\", \"world/Americas\", \"world/Africa\", \"world/Africa\", \"world/Africa\", \"world/Americas\", \"world/Africa\", \"world/Europe\", \"world/Americas\", \"world/Europe\", \"world/Europe\", \"world/Africa\", \"world/Americas\", \"world/Americas\", \"world/Africa\", \"world/Americas\", \"world/Africa\", \"world/Africa\", \"world/Africa\", \"world/Europe\", \"world/Europe\", \"world/Africa\", \"world/Africa\", \"world/Europe\", \"world/Africa\", \"world/Europe\", \"world/Americas\", \"world/Africa\", \"world/Africa\", \"world/Americas\", \"world/Americas\", \"world/Asia\", \"world/Europe\", \"world/Europe\", \"world/Asia\", \"world/Asia\", \"world/Asia\", \"world/Asia\", \"world/Europe\", \"world/Asia\", \"world/Europe\", \"world/Americas\", \"world/Asia\", \"world/Asia\", \"world/Africa\", \"world/Asia\", \"world/Asia\", \"world/Asia\", \"world/Asia\", \"world/Africa\", \"world/Africa\", \"world/Africa\", \"world/Africa\", \"world/Africa\", \"world/Asia\", \"world/Africa\", \"world/Africa\", \"world/Africa\", \"world/Americas\", \"world/Asia\", \"world/Europe\", \"world/Africa\", \"world/Africa\", \"world/Asia\", \"world/Africa\", \"world/Asia\", \"world/Europe\", \"world/Oceania\", \"world/Americas\", \"world/Africa\", \"world/Africa\", \"world/Europe\", \"world/Asia\", \"world/Asia\", \"world/Americas\", \"world/Americas\", \"world/Americas\", \"world/Asia\", \"world/Europe\", \"world/Europe\", \"world/Americas\", \"world/Africa\", \"world/Europe\", \"world/Africa\", \"world/Africa\", \"world/Asia\", \"world/Africa\", \"world/Europe\", \"world/Africa\", \"world/Asia\", \"world/Europe\", \"world/Europe\", \"world/Africa\", \"world/Africa\", \"world/Europe\", \"world/Asia\", \"world/Africa\", \"world/Africa\", \"world/Europe\", \"world/Europe\", \"world/Asia\", \"world/Asia\", \"world/Africa\", \"world/Asia\", \"world/Africa\", \"world/Americas\", \"world/Africa\", \"world/Europe\", \"world/Africa\", \"world/Europe\", \"world/Americas\", \"world/Americas\", \"world/Americas\", \"world/Asia\", \"world/Asia\", \"world/Asia\", \"world/Africa\", \"world/Africa\", \"world\", \"world\", \"world\", \"world\", \"world\", \"\"], \"type\": \"treemap\", \"values\": [31889923, 3600523, 33333216, 12420476, 40301927, 20434176, 8199783, 708573, 150448339, 10392226, 8078314, 9119152, 4552198, 1639131, 190010647, 7322858, 14326203, 8390505, 14131858, 17696293, 33390141, 4369038, 10238807, 16284741, 1318683096, 44227550, 710960, 64606759, 3800610, 4133884, 18013409, 4493312, 11416987, 10228744, 5468120, 496374, 9319622, 13755680, 80264543, 6939688, 551201, 4906585, 76511887, 5238460, 61083916, 1454867, 1688359, 82400996, 22873338, 10706290, 12572928, 9947814, 1472041, 8502814, 7483763, 6980412, 9956108, 301931, 1110396331, 223547000, 69453570, 27499638, 4109086, 6426679, 58147733, 2780132, 127467972, 6053193, 35610177, 23301725, 49044790, 2505559, 3921278, 2012649, 3193942, 6036914, 19167654, 13327079, 24821286, 12031795, 3270065, 1250882, 108700891, 2874127, 684736, 33757175, 19951656, 47761980, 2055080, 28901790, 16570613, 4115771, 5675356, 12894865, 135031164, 4627926, 3204897, 169270617, 3242173, 6667147, 28674757, 91077287, 38518241, 10642836, 3942491, 798094, 22276056, 8860588, 199579, 27601038, 12267493, 10150265, 6144562, 4553009, 5447502, 2009245, 9118773, 43997828, 40448191, 20378239, 42292929, 1133066, 9031088, 7554661, 19314747, 23174294, 38139640, 65068149, 5701579, 1056608, 10276158, 71158647, 29170398, 60776238, 301139947, 3447496, 26084662, 85262356, 4018332, 22211743, 11746035, 12311143, 929539692, 898871184, 3811953827, 586098529, 24549947, 6251013179]}],                        {\"coloraxis\": {\"colorbar\": {\"title\": {\"text\": \"lifeExp\"}}, \"colorscale\": [[0.0, \"#0d0887\"], [0.1111111111111111, \"#46039f\"], [0.2222222222222222, \"#7201a8\"], [0.3333333333333333, \"#9c179e\"], [0.4444444444444444, \"#bd3786\"], [0.5555555555555556, \"#d8576b\"], [0.6666666666666666, \"#ed7953\"], [0.7777777777777778, \"#fb9f3a\"], [0.8888888888888888, \"#fdca26\"], [1.0, \"#f0f921\"]]}, \"legend\": {\"tracegroupgap\": 0}, \"margin\": {\"t\": 60}, \"template\": {\"data\": {\"bar\": [{\"error_x\": {\"color\": \"#2a3f5f\"}, \"error_y\": {\"color\": \"#2a3f5f\"}, \"marker\": {\"line\": {\"color\": \"#E5ECF6\", \"width\": 0.5}}, \"type\": \"bar\"}], \"barpolar\": [{\"marker\": {\"line\": {\"color\": \"#E5ECF6\", \"width\": 0.5}}, \"type\": \"barpolar\"}], \"carpet\": [{\"aaxis\": {\"endlinecolor\": \"#2a3f5f\", \"gridcolor\": \"white\", \"linecolor\": \"white\", \"minorgridcolor\": \"white\", \"startlinecolor\": \"#2a3f5f\"}, \"baxis\": {\"endlinecolor\": \"#2a3f5f\", \"gridcolor\": \"white\", \"linecolor\": \"white\", \"minorgridcolor\": \"white\", \"startlinecolor\": \"#2a3f5f\"}, \"type\": \"carpet\"}], \"choropleth\": [{\"colorbar\": {\"outlinewidth\": 0, \"ticks\": \"\"}, \"type\": \"choropleth\"}], \"contour\": [{\"colorbar\": {\"outlinewidth\": 0, \"ticks\": \"\"}, \"colorscale\": [[0.0, \"#0d0887\"], [0.1111111111111111, \"#46039f\"], [0.2222222222222222, \"#7201a8\"], [0.3333333333333333, \"#9c179e\"], [0.4444444444444444, \"#bd3786\"], [0.5555555555555556, \"#d8576b\"], [0.6666666666666666, \"#ed7953\"], [0.7777777777777778, \"#fb9f3a\"], [0.8888888888888888, \"#fdca26\"], [1.0, \"#f0f921\"]], \"type\": \"contour\"}], \"contourcarpet\": [{\"colorbar\": {\"outlinewidth\": 0, \"ticks\": \"\"}, \"type\": \"contourcarpet\"}], \"heatmap\": [{\"colorbar\": {\"outlinewidth\": 0, \"ticks\": \"\"}, \"colorscale\": [[0.0, \"#0d0887\"], [0.1111111111111111, \"#46039f\"], [0.2222222222222222, \"#7201a8\"], [0.3333333333333333, \"#9c179e\"], [0.4444444444444444, \"#bd3786\"], [0.5555555555555556, \"#d8576b\"], [0.6666666666666666, \"#ed7953\"], [0.7777777777777778, \"#fb9f3a\"], [0.8888888888888888, \"#fdca26\"], [1.0, \"#f0f921\"]], \"type\": \"heatmap\"}], \"heatmapgl\": [{\"colorbar\": {\"outlinewidth\": 0, \"ticks\": \"\"}, \"colorscale\": [[0.0, \"#0d0887\"], [0.1111111111111111, \"#46039f\"], [0.2222222222222222, \"#7201a8\"], [0.3333333333333333, \"#9c179e\"], [0.4444444444444444, \"#bd3786\"], [0.5555555555555556, \"#d8576b\"], [0.6666666666666666, \"#ed7953\"], [0.7777777777777778, \"#fb9f3a\"], [0.8888888888888888, \"#fdca26\"], [1.0, \"#f0f921\"]], \"type\": \"heatmapgl\"}], \"histogram\": [{\"marker\": {\"colorbar\": {\"outlinewidth\": 0, \"ticks\": \"\"}}, \"type\": \"histogram\"}], \"histogram2d\": [{\"colorbar\": {\"outlinewidth\": 0, \"ticks\": \"\"}, \"colorscale\": [[0.0, \"#0d0887\"], [0.1111111111111111, \"#46039f\"], [0.2222222222222222, \"#7201a8\"], [0.3333333333333333, \"#9c179e\"], [0.4444444444444444, \"#bd3786\"], [0.5555555555555556, \"#d8576b\"], [0.6666666666666666, \"#ed7953\"], [0.7777777777777778, \"#fb9f3a\"], [0.8888888888888888, \"#fdca26\"], [1.0, \"#f0f921\"]], \"type\": \"histogram2d\"}], \"histogram2dcontour\": [{\"colorbar\": {\"outlinewidth\": 0, \"ticks\": \"\"}, \"colorscale\": [[0.0, \"#0d0887\"], [0.1111111111111111, \"#46039f\"], [0.2222222222222222, \"#7201a8\"], [0.3333333333333333, \"#9c179e\"], [0.4444444444444444, \"#bd3786\"], [0.5555555555555556, \"#d8576b\"], [0.6666666666666666, \"#ed7953\"], [0.7777777777777778, \"#fb9f3a\"], [0.8888888888888888, \"#fdca26\"], [1.0, \"#f0f921\"]], \"type\": \"histogram2dcontour\"}], \"mesh3d\": [{\"colorbar\": {\"outlinewidth\": 0, \"ticks\": \"\"}, \"type\": \"mesh3d\"}], \"parcoords\": [{\"line\": {\"colorbar\": {\"outlinewidth\": 0, \"ticks\": \"\"}}, \"type\": \"parcoords\"}], \"pie\": [{\"automargin\": true, \"type\": \"pie\"}], \"scatter\": [{\"marker\": {\"colorbar\": {\"outlinewidth\": 0, \"ticks\": \"\"}}, \"type\": \"scatter\"}], \"scatter3d\": [{\"line\": {\"colorbar\": {\"outlinewidth\": 0, \"ticks\": \"\"}}, \"marker\": {\"colorbar\": {\"outlinewidth\": 0, \"ticks\": \"\"}}, \"type\": \"scatter3d\"}], \"scattercarpet\": [{\"marker\": {\"colorbar\": {\"outlinewidth\": 0, \"ticks\": \"\"}}, \"type\": \"scattercarpet\"}], \"scattergeo\": [{\"marker\": {\"colorbar\": {\"outlinewidth\": 0, \"ticks\": \"\"}}, \"type\": \"scattergeo\"}], \"scattergl\": [{\"marker\": {\"colorbar\": {\"outlinewidth\": 0, \"ticks\": \"\"}}, \"type\": \"scattergl\"}], \"scattermapbox\": [{\"marker\": {\"colorbar\": {\"outlinewidth\": 0, \"ticks\": \"\"}}, \"type\": \"scattermapbox\"}], \"scatterpolar\": [{\"marker\": {\"colorbar\": {\"outlinewidth\": 0, \"ticks\": \"\"}}, \"type\": \"scatterpolar\"}], \"scatterpolargl\": [{\"marker\": {\"colorbar\": {\"outlinewidth\": 0, \"ticks\": \"\"}}, \"type\": \"scatterpolargl\"}], \"scatterternary\": [{\"marker\": {\"colorbar\": {\"outlinewidth\": 0, \"ticks\": \"\"}}, \"type\": \"scatterternary\"}], \"surface\": [{\"colorbar\": {\"outlinewidth\": 0, \"ticks\": \"\"}, \"colorscale\": [[0.0, \"#0d0887\"], [0.1111111111111111, \"#46039f\"], [0.2222222222222222, \"#7201a8\"], [0.3333333333333333, \"#9c179e\"], [0.4444444444444444, \"#bd3786\"], [0.5555555555555556, \"#d8576b\"], [0.6666666666666666, \"#ed7953\"], [0.7777777777777778, \"#fb9f3a\"], [0.8888888888888888, \"#fdca26\"], [1.0, \"#f0f921\"]], \"type\": \"surface\"}], \"table\": [{\"cells\": {\"fill\": {\"color\": \"#EBF0F8\"}, \"line\": {\"color\": \"white\"}}, \"header\": {\"fill\": {\"color\": \"#C8D4E3\"}, \"line\": {\"color\": \"white\"}}, \"type\": \"table\"}]}, \"layout\": {\"annotationdefaults\": {\"arrowcolor\": \"#2a3f5f\", \"arrowhead\": 0, \"arrowwidth\": 1}, \"coloraxis\": {\"colorbar\": {\"outlinewidth\": 0, \"ticks\": \"\"}}, \"colorscale\": {\"diverging\": [[0, \"#8e0152\"], [0.1, \"#c51b7d\"], [0.2, \"#de77ae\"], [0.3, \"#f1b6da\"], [0.4, \"#fde0ef\"], [0.5, \"#f7f7f7\"], [0.6, \"#e6f5d0\"], [0.7, \"#b8e186\"], [0.8, \"#7fbc41\"], [0.9, \"#4d9221\"], [1, \"#276419\"]], \"sequential\": [[0.0, \"#0d0887\"], [0.1111111111111111, \"#46039f\"], [0.2222222222222222, \"#7201a8\"], [0.3333333333333333, \"#9c179e\"], [0.4444444444444444, \"#bd3786\"], [0.5555555555555556, \"#d8576b\"], [0.6666666666666666, \"#ed7953\"], [0.7777777777777778, \"#fb9f3a\"], [0.8888888888888888, \"#fdca26\"], [1.0, \"#f0f921\"]], \"sequentialminus\": [[0.0, \"#0d0887\"], [0.1111111111111111, \"#46039f\"], [0.2222222222222222, \"#7201a8\"], [0.3333333333333333, \"#9c179e\"], [0.4444444444444444, \"#bd3786\"], [0.5555555555555556, \"#d8576b\"], [0.6666666666666666, \"#ed7953\"], [0.7777777777777778, \"#fb9f3a\"], [0.8888888888888888, \"#fdca26\"], [1.0, \"#f0f921\"]]}, \"colorway\": [\"#636efa\", \"#EF553B\", \"#00cc96\", \"#ab63fa\", \"#FFA15A\", \"#19d3f3\", \"#FF6692\", \"#B6E880\", \"#FF97FF\", \"#FECB52\"], \"font\": {\"color\": \"#2a3f5f\"}, \"geo\": {\"bgcolor\": \"white\", \"lakecolor\": \"white\", \"landcolor\": \"#E5ECF6\", \"showlakes\": true, \"showland\": true, \"subunitcolor\": \"white\"}, \"hoverlabel\": {\"align\": \"left\"}, \"hovermode\": \"closest\", \"mapbox\": {\"style\": \"light\"}, \"paper_bgcolor\": \"white\", \"plot_bgcolor\": \"#E5ECF6\", \"polar\": {\"angularaxis\": {\"gridcolor\": \"white\", \"linecolor\": \"white\", \"ticks\": \"\"}, \"bgcolor\": \"#E5ECF6\", \"radialaxis\": {\"gridcolor\": \"white\", \"linecolor\": \"white\", \"ticks\": \"\"}}, \"scene\": {\"xaxis\": {\"backgroundcolor\": \"#E5ECF6\", \"gridcolor\": \"white\", \"gridwidth\": 2, \"linecolor\": \"white\", \"showbackground\": true, \"ticks\": \"\", \"zerolinecolor\": \"white\"}, \"yaxis\": {\"backgroundcolor\": \"#E5ECF6\", \"gridcolor\": \"white\", \"gridwidth\": 2, \"linecolor\": \"white\", \"showbackground\": true, \"ticks\": \"\", \"zerolinecolor\": \"white\"}, \"zaxis\": {\"backgroundcolor\": \"#E5ECF6\", \"gridcolor\": \"white\", \"gridwidth\": 2, \"linecolor\": \"white\", \"showbackground\": true, \"ticks\": \"\", \"zerolinecolor\": \"white\"}}, \"shapedefaults\": {\"line\": {\"color\": \"#2a3f5f\"}}, \"ternary\": {\"aaxis\": {\"gridcolor\": \"white\", \"linecolor\": \"white\", \"ticks\": \"\"}, \"baxis\": {\"gridcolor\": \"white\", \"linecolor\": \"white\", \"ticks\": \"\"}, \"bgcolor\": \"#E5ECF6\", \"caxis\": {\"gridcolor\": \"white\", \"linecolor\": \"white\", \"ticks\": \"\"}}, \"title\": {\"x\": 0.05}, \"xaxis\": {\"automargin\": true, \"gridcolor\": \"white\", \"linecolor\": \"white\", \"ticks\": \"\", \"title\": {\"standoff\": 15}, \"zerolinecolor\": \"white\", \"zerolinewidth\": 2}, \"yaxis\": {\"automargin\": true, \"gridcolor\": \"white\", \"linecolor\": \"white\", \"ticks\": \"\", \"title\": {\"standoff\": 15}, \"zerolinecolor\": \"white\", \"zerolinewidth\": 2}}}},                        {\"responsive\": true}                    ).then(function(){\n",
       "                            \n",
       "var gd = document.getElementById('b4a7f8b4-4fc6-4b5d-8155-0bff39a1cfa3');\n",
       "var x = new MutationObserver(function (mutations, observer) {{\n",
       "        var display = window.getComputedStyle(gd).display;\n",
       "        if (!display || display === 'none') {{\n",
       "            console.log([gd, 'removed!']);\n",
       "            Plotly.purge(gd);\n",
       "            observer.disconnect();\n",
       "        }}\n",
       "}});\n",
       "\n",
       "// Listen for the removal of the full notebook cells\n",
       "var notebookContainer = gd.closest('#notebook-container');\n",
       "if (notebookContainer) {{\n",
       "    x.observe(notebookContainer, {childList: true});\n",
       "}}\n",
       "\n",
       "// Listen for the clearing of the current output cell\n",
       "var outputEl = gd.closest('.output');\n",
       "if (outputEl) {{\n",
       "    x.observe(outputEl, {childList: true});\n",
       "}}\n",
       "\n",
       "                        })                };                });            </script>        </div>"
      ]
     },
     "metadata": {},
     "output_type": "display_data"
    },
    {
     "data": {
      "application/vnd.plotly.v1+json": {
       "config": {
        "plotlyServerURL": "https://plot.ly"
       },
       "data": [
        {
         "alignmentgroup": "True",
         "bingroup": "x",
         "histfunc": "sum",
         "hovertemplate": "sex=Female<br>total_bill=%{x}<br>sum of tip=%{y}<extra></extra>",
         "legendgroup": "Female",
         "marker": {
          "color": "#636efa"
         },
         "name": "Female",
         "offsetgroup": "Female",
         "orientation": "v",
         "showlegend": true,
         "type": "histogram",
         "x": [
          16.99,
          24.59,
          35.26,
          14.83,
          10.33,
          16.97,
          20.29,
          15.77,
          19.65,
          15.06,
          20.69,
          16.93,
          10.29,
          34.81,
          26.41,
          16.45,
          3.07,
          17.07,
          26.86,
          25.28,
          14.73,
          10.07,
          34.83,
          5.75,
          16.32,
          22.75,
          11.35,
          15.38,
          44.3,
          22.42,
          20.92,
          14.31,
          7.25,
          25.71,
          17.31,
          10.65,
          12.43,
          24.08,
          13.42,
          12.48,
          29.8,
          14.52,
          11.38,
          20.27,
          11.17,
          12.26,
          18.26,
          8.51,
          10.33,
          14.15,
          13.16,
          17.47,
          27.05,
          16.43,
          8.35,
          18.64,
          11.87,
          29.85,
          25,
          13.39,
          16.21,
          17.51,
          10.59,
          10.63,
          9.6,
          20.9,
          18.15,
          19.81,
          43.11,
          13,
          12.74,
          13,
          16.4,
          16.47,
          12.76,
          13.27,
          28.17,
          12.9,
          30.14,
          13.42,
          15.98,
          16.27,
          10.09,
          22.12,
          35.83,
          27.18,
          18.78
         ],
         "xaxis": "x",
         "y": [
          1.01,
          3.61,
          5,
          3.02,
          1.67,
          3.5,
          2.75,
          2.23,
          3,
          3,
          2.45,
          3.07,
          2.6,
          5.2,
          1.5,
          2.47,
          1,
          3,
          3.14,
          5,
          2.2,
          1.83,
          5.17,
          1,
          4.3,
          3.25,
          2.5,
          3,
          2.5,
          3.48,
          4.08,
          4,
          1,
          4,
          3.5,
          1.5,
          1.8,
          2.92,
          1.68,
          2.52,
          4.2,
          2,
          2,
          2.83,
          1.5,
          2,
          3.25,
          1.25,
          2,
          2,
          2.75,
          3.5,
          5,
          2.3,
          1.5,
          1.36,
          1.63,
          5.14,
          3.75,
          2.61,
          2,
          3,
          1.61,
          2,
          4,
          3.5,
          3.5,
          4.19,
          5,
          2,
          2.01,
          2,
          2.5,
          3.23,
          2.23,
          2.5,
          6.5,
          1.1,
          3.09,
          3.48,
          3,
          2.5,
          2,
          2.88,
          4.67,
          2,
          3
         ],
         "yaxis": "y"
        },
        {
         "alignmentgroup": "True",
         "boxpoints": "all",
         "customdata": [
          [
           16.99,
           1.01,
           "Female",
           "No",
           "Sun",
           "Dinner",
           2
          ],
          [
           24.59,
           3.61,
           "Female",
           "No",
           "Sun",
           "Dinner",
           4
          ],
          [
           35.26,
           5,
           "Female",
           "No",
           "Sun",
           "Dinner",
           4
          ],
          [
           14.83,
           3.02,
           "Female",
           "No",
           "Sun",
           "Dinner",
           2
          ],
          [
           10.33,
           1.67,
           "Female",
           "No",
           "Sun",
           "Dinner",
           3
          ],
          [
           16.97,
           3.5,
           "Female",
           "No",
           "Sun",
           "Dinner",
           3
          ],
          [
           20.29,
           2.75,
           "Female",
           "No",
           "Sat",
           "Dinner",
           2
          ],
          [
           15.77,
           2.23,
           "Female",
           "No",
           "Sat",
           "Dinner",
           2
          ],
          [
           19.65,
           3,
           "Female",
           "No",
           "Sat",
           "Dinner",
           2
          ],
          [
           15.06,
           3,
           "Female",
           "No",
           "Sat",
           "Dinner",
           2
          ],
          [
           20.69,
           2.45,
           "Female",
           "No",
           "Sat",
           "Dinner",
           4
          ],
          [
           16.93,
           3.07,
           "Female",
           "No",
           "Sat",
           "Dinner",
           3
          ],
          [
           10.29,
           2.6,
           "Female",
           "No",
           "Sun",
           "Dinner",
           2
          ],
          [
           34.81,
           5.2,
           "Female",
           "No",
           "Sun",
           "Dinner",
           4
          ],
          [
           26.41,
           1.5,
           "Female",
           "No",
           "Sat",
           "Dinner",
           2
          ],
          [
           16.45,
           2.47,
           "Female",
           "No",
           "Sat",
           "Dinner",
           2
          ],
          [
           3.07,
           1,
           "Female",
           "Yes",
           "Sat",
           "Dinner",
           1
          ],
          [
           17.07,
           3,
           "Female",
           "No",
           "Sat",
           "Dinner",
           3
          ],
          [
           26.86,
           3.14,
           "Female",
           "Yes",
           "Sat",
           "Dinner",
           2
          ],
          [
           25.28,
           5,
           "Female",
           "Yes",
           "Sat",
           "Dinner",
           2
          ],
          [
           14.73,
           2.2,
           "Female",
           "No",
           "Sat",
           "Dinner",
           2
          ],
          [
           10.07,
           1.83,
           "Female",
           "No",
           "Thur",
           "Lunch",
           1
          ],
          [
           34.83,
           5.17,
           "Female",
           "No",
           "Thur",
           "Lunch",
           4
          ],
          [
           5.75,
           1,
           "Female",
           "Yes",
           "Fri",
           "Dinner",
           2
          ],
          [
           16.32,
           4.3,
           "Female",
           "Yes",
           "Fri",
           "Dinner",
           2
          ],
          [
           22.75,
           3.25,
           "Female",
           "No",
           "Fri",
           "Dinner",
           2
          ],
          [
           11.35,
           2.5,
           "Female",
           "Yes",
           "Fri",
           "Dinner",
           2
          ],
          [
           15.38,
           3,
           "Female",
           "Yes",
           "Fri",
           "Dinner",
           2
          ],
          [
           44.3,
           2.5,
           "Female",
           "Yes",
           "Sat",
           "Dinner",
           3
          ],
          [
           22.42,
           3.48,
           "Female",
           "Yes",
           "Sat",
           "Dinner",
           2
          ],
          [
           20.92,
           4.08,
           "Female",
           "No",
           "Sat",
           "Dinner",
           2
          ],
          [
           14.31,
           4,
           "Female",
           "Yes",
           "Sat",
           "Dinner",
           2
          ],
          [
           7.25,
           1,
           "Female",
           "No",
           "Sat",
           "Dinner",
           1
          ],
          [
           25.71,
           4,
           "Female",
           "No",
           "Sun",
           "Dinner",
           3
          ],
          [
           17.31,
           3.5,
           "Female",
           "No",
           "Sun",
           "Dinner",
           2
          ],
          [
           10.65,
           1.5,
           "Female",
           "No",
           "Thur",
           "Lunch",
           2
          ],
          [
           12.43,
           1.8,
           "Female",
           "No",
           "Thur",
           "Lunch",
           2
          ],
          [
           24.08,
           2.92,
           "Female",
           "No",
           "Thur",
           "Lunch",
           4
          ],
          [
           13.42,
           1.68,
           "Female",
           "No",
           "Thur",
           "Lunch",
           2
          ],
          [
           12.48,
           2.52,
           "Female",
           "No",
           "Thur",
           "Lunch",
           2
          ],
          [
           29.8,
           4.2,
           "Female",
           "No",
           "Thur",
           "Lunch",
           6
          ],
          [
           14.52,
           2,
           "Female",
           "No",
           "Thur",
           "Lunch",
           2
          ],
          [
           11.38,
           2,
           "Female",
           "No",
           "Thur",
           "Lunch",
           2
          ],
          [
           20.27,
           2.83,
           "Female",
           "No",
           "Thur",
           "Lunch",
           2
          ],
          [
           11.17,
           1.5,
           "Female",
           "No",
           "Thur",
           "Lunch",
           2
          ],
          [
           12.26,
           2,
           "Female",
           "No",
           "Thur",
           "Lunch",
           2
          ],
          [
           18.26,
           3.25,
           "Female",
           "No",
           "Thur",
           "Lunch",
           2
          ],
          [
           8.51,
           1.25,
           "Female",
           "No",
           "Thur",
           "Lunch",
           2
          ],
          [
           10.33,
           2,
           "Female",
           "No",
           "Thur",
           "Lunch",
           2
          ],
          [
           14.15,
           2,
           "Female",
           "No",
           "Thur",
           "Lunch",
           2
          ],
          [
           13.16,
           2.75,
           "Female",
           "No",
           "Thur",
           "Lunch",
           2
          ],
          [
           17.47,
           3.5,
           "Female",
           "No",
           "Thur",
           "Lunch",
           2
          ],
          [
           27.05,
           5,
           "Female",
           "No",
           "Thur",
           "Lunch",
           6
          ],
          [
           16.43,
           2.3,
           "Female",
           "No",
           "Thur",
           "Lunch",
           2
          ],
          [
           8.35,
           1.5,
           "Female",
           "No",
           "Thur",
           "Lunch",
           2
          ],
          [
           18.64,
           1.36,
           "Female",
           "No",
           "Thur",
           "Lunch",
           3
          ],
          [
           11.87,
           1.63,
           "Female",
           "No",
           "Thur",
           "Lunch",
           2
          ],
          [
           29.85,
           5.14,
           "Female",
           "No",
           "Sun",
           "Dinner",
           5
          ],
          [
           25,
           3.75,
           "Female",
           "No",
           "Sun",
           "Dinner",
           4
          ],
          [
           13.39,
           2.61,
           "Female",
           "No",
           "Sun",
           "Dinner",
           2
          ],
          [
           16.21,
           2,
           "Female",
           "No",
           "Sun",
           "Dinner",
           3
          ],
          [
           17.51,
           3,
           "Female",
           "Yes",
           "Sun",
           "Dinner",
           2
          ],
          [
           10.59,
           1.61,
           "Female",
           "Yes",
           "Sat",
           "Dinner",
           2
          ],
          [
           10.63,
           2,
           "Female",
           "Yes",
           "Sat",
           "Dinner",
           2
          ],
          [
           9.6,
           4,
           "Female",
           "Yes",
           "Sun",
           "Dinner",
           2
          ],
          [
           20.9,
           3.5,
           "Female",
           "Yes",
           "Sun",
           "Dinner",
           3
          ],
          [
           18.15,
           3.5,
           "Female",
           "Yes",
           "Sun",
           "Dinner",
           3
          ],
          [
           19.81,
           4.19,
           "Female",
           "Yes",
           "Thur",
           "Lunch",
           2
          ],
          [
           43.11,
           5,
           "Female",
           "Yes",
           "Thur",
           "Lunch",
           4
          ],
          [
           13,
           2,
           "Female",
           "Yes",
           "Thur",
           "Lunch",
           2
          ],
          [
           12.74,
           2.01,
           "Female",
           "Yes",
           "Thur",
           "Lunch",
           2
          ],
          [
           13,
           2,
           "Female",
           "Yes",
           "Thur",
           "Lunch",
           2
          ],
          [
           16.4,
           2.5,
           "Female",
           "Yes",
           "Thur",
           "Lunch",
           2
          ],
          [
           16.47,
           3.23,
           "Female",
           "Yes",
           "Thur",
           "Lunch",
           3
          ],
          [
           12.76,
           2.23,
           "Female",
           "Yes",
           "Sat",
           "Dinner",
           2
          ],
          [
           13.27,
           2.5,
           "Female",
           "Yes",
           "Sat",
           "Dinner",
           2
          ],
          [
           28.17,
           6.5,
           "Female",
           "Yes",
           "Sat",
           "Dinner",
           3
          ],
          [
           12.9,
           1.1,
           "Female",
           "Yes",
           "Sat",
           "Dinner",
           2
          ],
          [
           30.14,
           3.09,
           "Female",
           "Yes",
           "Sat",
           "Dinner",
           4
          ],
          [
           13.42,
           3.48,
           "Female",
           "Yes",
           "Fri",
           "Lunch",
           2
          ],
          [
           15.98,
           3,
           "Female",
           "No",
           "Fri",
           "Lunch",
           3
          ],
          [
           16.27,
           2.5,
           "Female",
           "Yes",
           "Fri",
           "Lunch",
           2
          ],
          [
           10.09,
           2,
           "Female",
           "Yes",
           "Fri",
           "Lunch",
           2
          ],
          [
           22.12,
           2.88,
           "Female",
           "Yes",
           "Sat",
           "Dinner",
           2
          ],
          [
           35.83,
           4.67,
           "Female",
           "No",
           "Sat",
           "Dinner",
           3
          ],
          [
           27.18,
           2,
           "Female",
           "Yes",
           "Sat",
           "Dinner",
           2
          ],
          [
           18.78,
           3,
           "Female",
           "No",
           "Thur",
           "Dinner",
           2
          ]
         ],
         "fillcolor": "rgba(255,255,255,0)",
         "hoveron": "points",
         "hovertemplate": "sex=%{customdata[2]}<br>total_bill=%{customdata[0]}<br>tip=%{customdata[1]}<br>smoker=%{customdata[3]}<br>day=%{customdata[4]}<br>time=%{customdata[5]}<br>size=%{customdata[6]}<extra></extra>",
         "jitter": 0,
         "legendgroup": "Female",
         "line": {
          "color": "rgba(255,255,255,0)"
         },
         "marker": {
          "color": "#636efa",
          "symbol": "line-ns-open"
         },
         "name": "Female",
         "offsetgroup": "Female",
         "showlegend": false,
         "type": "box",
         "x": [
          16.99,
          24.59,
          35.26,
          14.83,
          10.33,
          16.97,
          20.29,
          15.77,
          19.65,
          15.06,
          20.69,
          16.93,
          10.29,
          34.81,
          26.41,
          16.45,
          3.07,
          17.07,
          26.86,
          25.28,
          14.73,
          10.07,
          34.83,
          5.75,
          16.32,
          22.75,
          11.35,
          15.38,
          44.3,
          22.42,
          20.92,
          14.31,
          7.25,
          25.71,
          17.31,
          10.65,
          12.43,
          24.08,
          13.42,
          12.48,
          29.8,
          14.52,
          11.38,
          20.27,
          11.17,
          12.26,
          18.26,
          8.51,
          10.33,
          14.15,
          13.16,
          17.47,
          27.05,
          16.43,
          8.35,
          18.64,
          11.87,
          29.85,
          25,
          13.39,
          16.21,
          17.51,
          10.59,
          10.63,
          9.6,
          20.9,
          18.15,
          19.81,
          43.11,
          13,
          12.74,
          13,
          16.4,
          16.47,
          12.76,
          13.27,
          28.17,
          12.9,
          30.14,
          13.42,
          15.98,
          16.27,
          10.09,
          22.12,
          35.83,
          27.18,
          18.78
         ],
         "xaxis": "x2",
         "yaxis": "y2"
        },
        {
         "alignmentgroup": "True",
         "bingroup": "x",
         "histfunc": "sum",
         "hovertemplate": "sex=Male<br>total_bill=%{x}<br>sum of tip=%{y}<extra></extra>",
         "legendgroup": "Male",
         "marker": {
          "color": "#EF553B"
         },
         "name": "Male",
         "offsetgroup": "Male",
         "orientation": "v",
         "showlegend": true,
         "type": "histogram",
         "x": [
          10.34,
          21.01,
          23.68,
          25.29,
          8.77,
          26.88,
          15.04,
          14.78,
          10.27,
          15.42,
          18.43,
          21.58,
          16.29,
          20.65,
          17.92,
          39.42,
          19.82,
          17.81,
          13.37,
          12.69,
          21.7,
          9.55,
          18.35,
          17.78,
          24.06,
          16.31,
          18.69,
          31.27,
          16.04,
          17.46,
          13.94,
          9.68,
          30.4,
          18.29,
          22.23,
          32.4,
          28.55,
          18.04,
          12.54,
          9.94,
          25.56,
          19.49,
          38.01,
          11.24,
          48.27,
          20.29,
          13.81,
          11.02,
          18.29,
          17.59,
          20.08,
          20.23,
          15.01,
          12.02,
          10.51,
          17.92,
          27.2,
          22.76,
          17.29,
          19.44,
          16.66,
          32.68,
          15.98,
          13.03,
          18.28,
          24.71,
          21.16,
          28.97,
          22.49,
          40.17,
          27.28,
          12.03,
          21.01,
          12.46,
          15.36,
          20.49,
          25.21,
          18.24,
          14,
          38.07,
          23.95,
          29.93,
          11.69,
          14.26,
          15.95,
          8.52,
          22.82,
          19.08,
          16,
          34.3,
          41.19,
          9.78,
          7.51,
          14.07,
          13.13,
          17.26,
          24.55,
          19.77,
          48.17,
          16.49,
          21.5,
          12.66,
          13.81,
          24.52,
          20.76,
          31.71,
          50.81,
          15.81,
          7.25,
          31.85,
          16.82,
          32.9,
          17.89,
          14.48,
          34.63,
          34.65,
          23.33,
          45.35,
          23.17,
          40.55,
          20.69,
          30.46,
          23.1,
          15.69,
          28.44,
          15.48,
          16.58,
          7.56,
          10.34,
          13.51,
          18.71,
          20.53,
          26.59,
          38.73,
          24.27,
          30.06,
          25.89,
          48.33,
          28.15,
          11.59,
          7.74,
          12.16,
          8.58,
          13.42,
          20.45,
          13.28,
          24.01,
          15.69,
          11.61,
          10.77,
          15.53,
          10.07,
          12.6,
          32.83,
          29.03,
          22.67,
          17.82
         ],
         "xaxis": "x",
         "y": [
          1.66,
          3.5,
          3.31,
          4.71,
          2,
          3.12,
          1.96,
          3.23,
          1.71,
          1.57,
          3,
          3.92,
          3.71,
          3.35,
          4.08,
          7.58,
          3.18,
          2.34,
          2,
          2,
          4.3,
          1.45,
          2.5,
          3.27,
          3.6,
          2,
          2.31,
          5,
          2.24,
          2.54,
          3.06,
          1.32,
          5.6,
          3,
          5,
          6,
          2.05,
          3,
          2.5,
          1.56,
          4.34,
          3.51,
          3,
          1.76,
          6.73,
          3.21,
          2,
          1.98,
          3.76,
          2.64,
          3.15,
          2.01,
          2.09,
          1.97,
          1.25,
          3.08,
          4,
          3,
          2.71,
          3,
          3.4,
          5,
          2.03,
          2,
          4,
          5.85,
          3,
          3,
          3.5,
          4.73,
          4,
          1.5,
          3,
          1.5,
          1.64,
          4.06,
          4.29,
          3.76,
          3,
          4,
          2.55,
          5.07,
          2.31,
          2.5,
          2,
          1.48,
          2.18,
          1.5,
          2,
          6.7,
          5,
          1.73,
          2,
          2.5,
          2,
          2.74,
          2,
          2,
          5,
          2,
          3.5,
          2.5,
          2,
          3.48,
          2.24,
          4.5,
          10,
          3.16,
          5.15,
          3.18,
          4,
          3.11,
          2,
          2,
          3.55,
          3.68,
          5.65,
          3.5,
          6.5,
          3,
          5,
          2,
          4,
          1.5,
          2.56,
          2.02,
          4,
          1.44,
          2,
          2,
          4,
          4,
          3.41,
          3,
          2.03,
          2,
          5.16,
          9,
          3,
          1.5,
          1.44,
          2.2,
          1.92,
          1.58,
          3,
          2.72,
          2,
          3,
          3.39,
          1.47,
          3,
          1.25,
          1,
          1.17,
          5.92,
          2,
          1.75
         ],
         "yaxis": "y"
        },
        {
         "alignmentgroup": "True",
         "boxpoints": "all",
         "customdata": [
          [
           10.34,
           1.66,
           "Male",
           "No",
           "Sun",
           "Dinner",
           3
          ],
          [
           21.01,
           3.5,
           "Male",
           "No",
           "Sun",
           "Dinner",
           3
          ],
          [
           23.68,
           3.31,
           "Male",
           "No",
           "Sun",
           "Dinner",
           2
          ],
          [
           25.29,
           4.71,
           "Male",
           "No",
           "Sun",
           "Dinner",
           4
          ],
          [
           8.77,
           2,
           "Male",
           "No",
           "Sun",
           "Dinner",
           2
          ],
          [
           26.88,
           3.12,
           "Male",
           "No",
           "Sun",
           "Dinner",
           4
          ],
          [
           15.04,
           1.96,
           "Male",
           "No",
           "Sun",
           "Dinner",
           2
          ],
          [
           14.78,
           3.23,
           "Male",
           "No",
           "Sun",
           "Dinner",
           2
          ],
          [
           10.27,
           1.71,
           "Male",
           "No",
           "Sun",
           "Dinner",
           2
          ],
          [
           15.42,
           1.57,
           "Male",
           "No",
           "Sun",
           "Dinner",
           2
          ],
          [
           18.43,
           3,
           "Male",
           "No",
           "Sun",
           "Dinner",
           4
          ],
          [
           21.58,
           3.92,
           "Male",
           "No",
           "Sun",
           "Dinner",
           2
          ],
          [
           16.29,
           3.71,
           "Male",
           "No",
           "Sun",
           "Dinner",
           3
          ],
          [
           20.65,
           3.35,
           "Male",
           "No",
           "Sat",
           "Dinner",
           3
          ],
          [
           17.92,
           4.08,
           "Male",
           "No",
           "Sat",
           "Dinner",
           2
          ],
          [
           39.42,
           7.58,
           "Male",
           "No",
           "Sat",
           "Dinner",
           4
          ],
          [
           19.82,
           3.18,
           "Male",
           "No",
           "Sat",
           "Dinner",
           2
          ],
          [
           17.81,
           2.34,
           "Male",
           "No",
           "Sat",
           "Dinner",
           4
          ],
          [
           13.37,
           2,
           "Male",
           "No",
           "Sat",
           "Dinner",
           2
          ],
          [
           12.69,
           2,
           "Male",
           "No",
           "Sat",
           "Dinner",
           2
          ],
          [
           21.7,
           4.3,
           "Male",
           "No",
           "Sat",
           "Dinner",
           2
          ],
          [
           9.55,
           1.45,
           "Male",
           "No",
           "Sat",
           "Dinner",
           2
          ],
          [
           18.35,
           2.5,
           "Male",
           "No",
           "Sat",
           "Dinner",
           4
          ],
          [
           17.78,
           3.27,
           "Male",
           "No",
           "Sat",
           "Dinner",
           2
          ],
          [
           24.06,
           3.6,
           "Male",
           "No",
           "Sat",
           "Dinner",
           3
          ],
          [
           16.31,
           2,
           "Male",
           "No",
           "Sat",
           "Dinner",
           3
          ],
          [
           18.69,
           2.31,
           "Male",
           "No",
           "Sat",
           "Dinner",
           3
          ],
          [
           31.27,
           5,
           "Male",
           "No",
           "Sat",
           "Dinner",
           3
          ],
          [
           16.04,
           2.24,
           "Male",
           "No",
           "Sat",
           "Dinner",
           3
          ],
          [
           17.46,
           2.54,
           "Male",
           "No",
           "Sun",
           "Dinner",
           2
          ],
          [
           13.94,
           3.06,
           "Male",
           "No",
           "Sun",
           "Dinner",
           2
          ],
          [
           9.68,
           1.32,
           "Male",
           "No",
           "Sun",
           "Dinner",
           2
          ],
          [
           30.4,
           5.6,
           "Male",
           "No",
           "Sun",
           "Dinner",
           4
          ],
          [
           18.29,
           3,
           "Male",
           "No",
           "Sun",
           "Dinner",
           2
          ],
          [
           22.23,
           5,
           "Male",
           "No",
           "Sun",
           "Dinner",
           2
          ],
          [
           32.4,
           6,
           "Male",
           "No",
           "Sun",
           "Dinner",
           4
          ],
          [
           28.55,
           2.05,
           "Male",
           "No",
           "Sun",
           "Dinner",
           3
          ],
          [
           18.04,
           3,
           "Male",
           "No",
           "Sun",
           "Dinner",
           2
          ],
          [
           12.54,
           2.5,
           "Male",
           "No",
           "Sun",
           "Dinner",
           2
          ],
          [
           9.94,
           1.56,
           "Male",
           "No",
           "Sun",
           "Dinner",
           2
          ],
          [
           25.56,
           4.34,
           "Male",
           "No",
           "Sun",
           "Dinner",
           4
          ],
          [
           19.49,
           3.51,
           "Male",
           "No",
           "Sun",
           "Dinner",
           2
          ],
          [
           38.01,
           3,
           "Male",
           "Yes",
           "Sat",
           "Dinner",
           4
          ],
          [
           11.24,
           1.76,
           "Male",
           "Yes",
           "Sat",
           "Dinner",
           2
          ],
          [
           48.27,
           6.73,
           "Male",
           "No",
           "Sat",
           "Dinner",
           4
          ],
          [
           20.29,
           3.21,
           "Male",
           "Yes",
           "Sat",
           "Dinner",
           2
          ],
          [
           13.81,
           2,
           "Male",
           "Yes",
           "Sat",
           "Dinner",
           2
          ],
          [
           11.02,
           1.98,
           "Male",
           "Yes",
           "Sat",
           "Dinner",
           2
          ],
          [
           18.29,
           3.76,
           "Male",
           "Yes",
           "Sat",
           "Dinner",
           4
          ],
          [
           17.59,
           2.64,
           "Male",
           "No",
           "Sat",
           "Dinner",
           3
          ],
          [
           20.08,
           3.15,
           "Male",
           "No",
           "Sat",
           "Dinner",
           3
          ],
          [
           20.23,
           2.01,
           "Male",
           "No",
           "Sat",
           "Dinner",
           2
          ],
          [
           15.01,
           2.09,
           "Male",
           "Yes",
           "Sat",
           "Dinner",
           2
          ],
          [
           12.02,
           1.97,
           "Male",
           "No",
           "Sat",
           "Dinner",
           2
          ],
          [
           10.51,
           1.25,
           "Male",
           "No",
           "Sat",
           "Dinner",
           2
          ],
          [
           17.92,
           3.08,
           "Male",
           "Yes",
           "Sat",
           "Dinner",
           2
          ],
          [
           27.2,
           4,
           "Male",
           "No",
           "Thur",
           "Lunch",
           4
          ],
          [
           22.76,
           3,
           "Male",
           "No",
           "Thur",
           "Lunch",
           2
          ],
          [
           17.29,
           2.71,
           "Male",
           "No",
           "Thur",
           "Lunch",
           2
          ],
          [
           19.44,
           3,
           "Male",
           "Yes",
           "Thur",
           "Lunch",
           2
          ],
          [
           16.66,
           3.4,
           "Male",
           "No",
           "Thur",
           "Lunch",
           2
          ],
          [
           32.68,
           5,
           "Male",
           "Yes",
           "Thur",
           "Lunch",
           2
          ],
          [
           15.98,
           2.03,
           "Male",
           "No",
           "Thur",
           "Lunch",
           2
          ],
          [
           13.03,
           2,
           "Male",
           "No",
           "Thur",
           "Lunch",
           2
          ],
          [
           18.28,
           4,
           "Male",
           "No",
           "Thur",
           "Lunch",
           2
          ],
          [
           24.71,
           5.85,
           "Male",
           "No",
           "Thur",
           "Lunch",
           2
          ],
          [
           21.16,
           3,
           "Male",
           "No",
           "Thur",
           "Lunch",
           2
          ],
          [
           28.97,
           3,
           "Male",
           "Yes",
           "Fri",
           "Dinner",
           2
          ],
          [
           22.49,
           3.5,
           "Male",
           "No",
           "Fri",
           "Dinner",
           2
          ],
          [
           40.17,
           4.73,
           "Male",
           "Yes",
           "Fri",
           "Dinner",
           4
          ],
          [
           27.28,
           4,
           "Male",
           "Yes",
           "Fri",
           "Dinner",
           2
          ],
          [
           12.03,
           1.5,
           "Male",
           "Yes",
           "Fri",
           "Dinner",
           2
          ],
          [
           21.01,
           3,
           "Male",
           "Yes",
           "Fri",
           "Dinner",
           2
          ],
          [
           12.46,
           1.5,
           "Male",
           "No",
           "Fri",
           "Dinner",
           2
          ],
          [
           15.36,
           1.64,
           "Male",
           "Yes",
           "Sat",
           "Dinner",
           2
          ],
          [
           20.49,
           4.06,
           "Male",
           "Yes",
           "Sat",
           "Dinner",
           2
          ],
          [
           25.21,
           4.29,
           "Male",
           "Yes",
           "Sat",
           "Dinner",
           2
          ],
          [
           18.24,
           3.76,
           "Male",
           "No",
           "Sat",
           "Dinner",
           2
          ],
          [
           14,
           3,
           "Male",
           "No",
           "Sat",
           "Dinner",
           2
          ],
          [
           38.07,
           4,
           "Male",
           "No",
           "Sun",
           "Dinner",
           3
          ],
          [
           23.95,
           2.55,
           "Male",
           "No",
           "Sun",
           "Dinner",
           2
          ],
          [
           29.93,
           5.07,
           "Male",
           "No",
           "Sun",
           "Dinner",
           4
          ],
          [
           11.69,
           2.31,
           "Male",
           "No",
           "Thur",
           "Lunch",
           2
          ],
          [
           14.26,
           2.5,
           "Male",
           "No",
           "Thur",
           "Lunch",
           2
          ],
          [
           15.95,
           2,
           "Male",
           "No",
           "Thur",
           "Lunch",
           2
          ],
          [
           8.52,
           1.48,
           "Male",
           "No",
           "Thur",
           "Lunch",
           2
          ],
          [
           22.82,
           2.18,
           "Male",
           "No",
           "Thur",
           "Lunch",
           3
          ],
          [
           19.08,
           1.5,
           "Male",
           "No",
           "Thur",
           "Lunch",
           2
          ],
          [
           16,
           2,
           "Male",
           "Yes",
           "Thur",
           "Lunch",
           2
          ],
          [
           34.3,
           6.7,
           "Male",
           "No",
           "Thur",
           "Lunch",
           6
          ],
          [
           41.19,
           5,
           "Male",
           "No",
           "Thur",
           "Lunch",
           5
          ],
          [
           9.78,
           1.73,
           "Male",
           "No",
           "Thur",
           "Lunch",
           2
          ],
          [
           7.51,
           2,
           "Male",
           "No",
           "Thur",
           "Lunch",
           2
          ],
          [
           14.07,
           2.5,
           "Male",
           "No",
           "Sun",
           "Dinner",
           2
          ],
          [
           13.13,
           2,
           "Male",
           "No",
           "Sun",
           "Dinner",
           2
          ],
          [
           17.26,
           2.74,
           "Male",
           "No",
           "Sun",
           "Dinner",
           3
          ],
          [
           24.55,
           2,
           "Male",
           "No",
           "Sun",
           "Dinner",
           4
          ],
          [
           19.77,
           2,
           "Male",
           "No",
           "Sun",
           "Dinner",
           4
          ],
          [
           48.17,
           5,
           "Male",
           "No",
           "Sun",
           "Dinner",
           6
          ],
          [
           16.49,
           2,
           "Male",
           "No",
           "Sun",
           "Dinner",
           4
          ],
          [
           21.5,
           3.5,
           "Male",
           "No",
           "Sun",
           "Dinner",
           4
          ],
          [
           12.66,
           2.5,
           "Male",
           "No",
           "Sun",
           "Dinner",
           2
          ],
          [
           13.81,
           2,
           "Male",
           "No",
           "Sun",
           "Dinner",
           2
          ],
          [
           24.52,
           3.48,
           "Male",
           "No",
           "Sun",
           "Dinner",
           3
          ],
          [
           20.76,
           2.24,
           "Male",
           "No",
           "Sun",
           "Dinner",
           2
          ],
          [
           31.71,
           4.5,
           "Male",
           "No",
           "Sun",
           "Dinner",
           4
          ],
          [
           50.81,
           10,
           "Male",
           "Yes",
           "Sat",
           "Dinner",
           3
          ],
          [
           15.81,
           3.16,
           "Male",
           "Yes",
           "Sat",
           "Dinner",
           2
          ],
          [
           7.25,
           5.15,
           "Male",
           "Yes",
           "Sun",
           "Dinner",
           2
          ],
          [
           31.85,
           3.18,
           "Male",
           "Yes",
           "Sun",
           "Dinner",
           2
          ],
          [
           16.82,
           4,
           "Male",
           "Yes",
           "Sun",
           "Dinner",
           2
          ],
          [
           32.9,
           3.11,
           "Male",
           "Yes",
           "Sun",
           "Dinner",
           2
          ],
          [
           17.89,
           2,
           "Male",
           "Yes",
           "Sun",
           "Dinner",
           2
          ],
          [
           14.48,
           2,
           "Male",
           "Yes",
           "Sun",
           "Dinner",
           2
          ],
          [
           34.63,
           3.55,
           "Male",
           "Yes",
           "Sun",
           "Dinner",
           2
          ],
          [
           34.65,
           3.68,
           "Male",
           "Yes",
           "Sun",
           "Dinner",
           4
          ],
          [
           23.33,
           5.65,
           "Male",
           "Yes",
           "Sun",
           "Dinner",
           2
          ],
          [
           45.35,
           3.5,
           "Male",
           "Yes",
           "Sun",
           "Dinner",
           3
          ],
          [
           23.17,
           6.5,
           "Male",
           "Yes",
           "Sun",
           "Dinner",
           4
          ],
          [
           40.55,
           3,
           "Male",
           "Yes",
           "Sun",
           "Dinner",
           2
          ],
          [
           20.69,
           5,
           "Male",
           "No",
           "Sun",
           "Dinner",
           5
          ],
          [
           30.46,
           2,
           "Male",
           "Yes",
           "Sun",
           "Dinner",
           5
          ],
          [
           23.1,
           4,
           "Male",
           "Yes",
           "Sun",
           "Dinner",
           3
          ],
          [
           15.69,
           1.5,
           "Male",
           "Yes",
           "Sun",
           "Dinner",
           2
          ],
          [
           28.44,
           2.56,
           "Male",
           "Yes",
           "Thur",
           "Lunch",
           2
          ],
          [
           15.48,
           2.02,
           "Male",
           "Yes",
           "Thur",
           "Lunch",
           2
          ],
          [
           16.58,
           4,
           "Male",
           "Yes",
           "Thur",
           "Lunch",
           2
          ],
          [
           7.56,
           1.44,
           "Male",
           "No",
           "Thur",
           "Lunch",
           2
          ],
          [
           10.34,
           2,
           "Male",
           "Yes",
           "Thur",
           "Lunch",
           2
          ],
          [
           13.51,
           2,
           "Male",
           "Yes",
           "Thur",
           "Lunch",
           2
          ],
          [
           18.71,
           4,
           "Male",
           "Yes",
           "Thur",
           "Lunch",
           3
          ],
          [
           20.53,
           4,
           "Male",
           "Yes",
           "Thur",
           "Lunch",
           4
          ],
          [
           26.59,
           3.41,
           "Male",
           "Yes",
           "Sat",
           "Dinner",
           3
          ],
          [
           38.73,
           3,
           "Male",
           "Yes",
           "Sat",
           "Dinner",
           4
          ],
          [
           24.27,
           2.03,
           "Male",
           "Yes",
           "Sat",
           "Dinner",
           2
          ],
          [
           30.06,
           2,
           "Male",
           "Yes",
           "Sat",
           "Dinner",
           3
          ],
          [
           25.89,
           5.16,
           "Male",
           "Yes",
           "Sat",
           "Dinner",
           4
          ],
          [
           48.33,
           9,
           "Male",
           "No",
           "Sat",
           "Dinner",
           4
          ],
          [
           28.15,
           3,
           "Male",
           "Yes",
           "Sat",
           "Dinner",
           5
          ],
          [
           11.59,
           1.5,
           "Male",
           "Yes",
           "Sat",
           "Dinner",
           2
          ],
          [
           7.74,
           1.44,
           "Male",
           "Yes",
           "Sat",
           "Dinner",
           2
          ],
          [
           12.16,
           2.2,
           "Male",
           "Yes",
           "Fri",
           "Lunch",
           2
          ],
          [
           8.58,
           1.92,
           "Male",
           "Yes",
           "Fri",
           "Lunch",
           1
          ],
          [
           13.42,
           1.58,
           "Male",
           "Yes",
           "Fri",
           "Lunch",
           2
          ],
          [
           20.45,
           3,
           "Male",
           "No",
           "Sat",
           "Dinner",
           4
          ],
          [
           13.28,
           2.72,
           "Male",
           "No",
           "Sat",
           "Dinner",
           2
          ],
          [
           24.01,
           2,
           "Male",
           "Yes",
           "Sat",
           "Dinner",
           4
          ],
          [
           15.69,
           3,
           "Male",
           "Yes",
           "Sat",
           "Dinner",
           3
          ],
          [
           11.61,
           3.39,
           "Male",
           "No",
           "Sat",
           "Dinner",
           2
          ],
          [
           10.77,
           1.47,
           "Male",
           "No",
           "Sat",
           "Dinner",
           2
          ],
          [
           15.53,
           3,
           "Male",
           "Yes",
           "Sat",
           "Dinner",
           2
          ],
          [
           10.07,
           1.25,
           "Male",
           "No",
           "Sat",
           "Dinner",
           2
          ],
          [
           12.6,
           1,
           "Male",
           "Yes",
           "Sat",
           "Dinner",
           2
          ],
          [
           32.83,
           1.17,
           "Male",
           "Yes",
           "Sat",
           "Dinner",
           2
          ],
          [
           29.03,
           5.92,
           "Male",
           "No",
           "Sat",
           "Dinner",
           3
          ],
          [
           22.67,
           2,
           "Male",
           "Yes",
           "Sat",
           "Dinner",
           2
          ],
          [
           17.82,
           1.75,
           "Male",
           "No",
           "Sat",
           "Dinner",
           2
          ]
         ],
         "fillcolor": "rgba(255,255,255,0)",
         "hoveron": "points",
         "hovertemplate": "sex=%{customdata[2]}<br>total_bill=%{customdata[0]}<br>tip=%{customdata[1]}<br>smoker=%{customdata[3]}<br>day=%{customdata[4]}<br>time=%{customdata[5]}<br>size=%{customdata[6]}<extra></extra>",
         "jitter": 0,
         "legendgroup": "Male",
         "line": {
          "color": "rgba(255,255,255,0)"
         },
         "marker": {
          "color": "#EF553B",
          "symbol": "line-ns-open"
         },
         "name": "Male",
         "offsetgroup": "Male",
         "showlegend": false,
         "type": "box",
         "x": [
          10.34,
          21.01,
          23.68,
          25.29,
          8.77,
          26.88,
          15.04,
          14.78,
          10.27,
          15.42,
          18.43,
          21.58,
          16.29,
          20.65,
          17.92,
          39.42,
          19.82,
          17.81,
          13.37,
          12.69,
          21.7,
          9.55,
          18.35,
          17.78,
          24.06,
          16.31,
          18.69,
          31.27,
          16.04,
          17.46,
          13.94,
          9.68,
          30.4,
          18.29,
          22.23,
          32.4,
          28.55,
          18.04,
          12.54,
          9.94,
          25.56,
          19.49,
          38.01,
          11.24,
          48.27,
          20.29,
          13.81,
          11.02,
          18.29,
          17.59,
          20.08,
          20.23,
          15.01,
          12.02,
          10.51,
          17.92,
          27.2,
          22.76,
          17.29,
          19.44,
          16.66,
          32.68,
          15.98,
          13.03,
          18.28,
          24.71,
          21.16,
          28.97,
          22.49,
          40.17,
          27.28,
          12.03,
          21.01,
          12.46,
          15.36,
          20.49,
          25.21,
          18.24,
          14,
          38.07,
          23.95,
          29.93,
          11.69,
          14.26,
          15.95,
          8.52,
          22.82,
          19.08,
          16,
          34.3,
          41.19,
          9.78,
          7.51,
          14.07,
          13.13,
          17.26,
          24.55,
          19.77,
          48.17,
          16.49,
          21.5,
          12.66,
          13.81,
          24.52,
          20.76,
          31.71,
          50.81,
          15.81,
          7.25,
          31.85,
          16.82,
          32.9,
          17.89,
          14.48,
          34.63,
          34.65,
          23.33,
          45.35,
          23.17,
          40.55,
          20.69,
          30.46,
          23.1,
          15.69,
          28.44,
          15.48,
          16.58,
          7.56,
          10.34,
          13.51,
          18.71,
          20.53,
          26.59,
          38.73,
          24.27,
          30.06,
          25.89,
          48.33,
          28.15,
          11.59,
          7.74,
          12.16,
          8.58,
          13.42,
          20.45,
          13.28,
          24.01,
          15.69,
          11.61,
          10.77,
          15.53,
          10.07,
          12.6,
          32.83,
          29.03,
          22.67,
          17.82
         ],
         "xaxis": "x2",
         "yaxis": "y2"
        }
       ],
       "layout": {
        "barmode": "relative",
        "legend": {
         "title": {
          "text": "sex"
         },
         "tracegroupgap": 0
        },
        "margin": {
         "t": 60
        },
        "template": {
         "data": {
          "bar": [
           {
            "error_x": {
             "color": "#2a3f5f"
            },
            "error_y": {
             "color": "#2a3f5f"
            },
            "marker": {
             "line": {
              "color": "#E5ECF6",
              "width": 0.5
             }
            },
            "type": "bar"
           }
          ],
          "barpolar": [
           {
            "marker": {
             "line": {
              "color": "#E5ECF6",
              "width": 0.5
             }
            },
            "type": "barpolar"
           }
          ],
          "carpet": [
           {
            "aaxis": {
             "endlinecolor": "#2a3f5f",
             "gridcolor": "white",
             "linecolor": "white",
             "minorgridcolor": "white",
             "startlinecolor": "#2a3f5f"
            },
            "baxis": {
             "endlinecolor": "#2a3f5f",
             "gridcolor": "white",
             "linecolor": "white",
             "minorgridcolor": "white",
             "startlinecolor": "#2a3f5f"
            },
            "type": "carpet"
           }
          ],
          "choropleth": [
           {
            "colorbar": {
             "outlinewidth": 0,
             "ticks": ""
            },
            "type": "choropleth"
           }
          ],
          "contour": [
           {
            "colorbar": {
             "outlinewidth": 0,
             "ticks": ""
            },
            "colorscale": [
             [
              0,
              "#0d0887"
             ],
             [
              0.1111111111111111,
              "#46039f"
             ],
             [
              0.2222222222222222,
              "#7201a8"
             ],
             [
              0.3333333333333333,
              "#9c179e"
             ],
             [
              0.4444444444444444,
              "#bd3786"
             ],
             [
              0.5555555555555556,
              "#d8576b"
             ],
             [
              0.6666666666666666,
              "#ed7953"
             ],
             [
              0.7777777777777778,
              "#fb9f3a"
             ],
             [
              0.8888888888888888,
              "#fdca26"
             ],
             [
              1,
              "#f0f921"
             ]
            ],
            "type": "contour"
           }
          ],
          "contourcarpet": [
           {
            "colorbar": {
             "outlinewidth": 0,
             "ticks": ""
            },
            "type": "contourcarpet"
           }
          ],
          "heatmap": [
           {
            "colorbar": {
             "outlinewidth": 0,
             "ticks": ""
            },
            "colorscale": [
             [
              0,
              "#0d0887"
             ],
             [
              0.1111111111111111,
              "#46039f"
             ],
             [
              0.2222222222222222,
              "#7201a8"
             ],
             [
              0.3333333333333333,
              "#9c179e"
             ],
             [
              0.4444444444444444,
              "#bd3786"
             ],
             [
              0.5555555555555556,
              "#d8576b"
             ],
             [
              0.6666666666666666,
              "#ed7953"
             ],
             [
              0.7777777777777778,
              "#fb9f3a"
             ],
             [
              0.8888888888888888,
              "#fdca26"
             ],
             [
              1,
              "#f0f921"
             ]
            ],
            "type": "heatmap"
           }
          ],
          "heatmapgl": [
           {
            "colorbar": {
             "outlinewidth": 0,
             "ticks": ""
            },
            "colorscale": [
             [
              0,
              "#0d0887"
             ],
             [
              0.1111111111111111,
              "#46039f"
             ],
             [
              0.2222222222222222,
              "#7201a8"
             ],
             [
              0.3333333333333333,
              "#9c179e"
             ],
             [
              0.4444444444444444,
              "#bd3786"
             ],
             [
              0.5555555555555556,
              "#d8576b"
             ],
             [
              0.6666666666666666,
              "#ed7953"
             ],
             [
              0.7777777777777778,
              "#fb9f3a"
             ],
             [
              0.8888888888888888,
              "#fdca26"
             ],
             [
              1,
              "#f0f921"
             ]
            ],
            "type": "heatmapgl"
           }
          ],
          "histogram": [
           {
            "marker": {
             "colorbar": {
              "outlinewidth": 0,
              "ticks": ""
             }
            },
            "type": "histogram"
           }
          ],
          "histogram2d": [
           {
            "colorbar": {
             "outlinewidth": 0,
             "ticks": ""
            },
            "colorscale": [
             [
              0,
              "#0d0887"
             ],
             [
              0.1111111111111111,
              "#46039f"
             ],
             [
              0.2222222222222222,
              "#7201a8"
             ],
             [
              0.3333333333333333,
              "#9c179e"
             ],
             [
              0.4444444444444444,
              "#bd3786"
             ],
             [
              0.5555555555555556,
              "#d8576b"
             ],
             [
              0.6666666666666666,
              "#ed7953"
             ],
             [
              0.7777777777777778,
              "#fb9f3a"
             ],
             [
              0.8888888888888888,
              "#fdca26"
             ],
             [
              1,
              "#f0f921"
             ]
            ],
            "type": "histogram2d"
           }
          ],
          "histogram2dcontour": [
           {
            "colorbar": {
             "outlinewidth": 0,
             "ticks": ""
            },
            "colorscale": [
             [
              0,
              "#0d0887"
             ],
             [
              0.1111111111111111,
              "#46039f"
             ],
             [
              0.2222222222222222,
              "#7201a8"
             ],
             [
              0.3333333333333333,
              "#9c179e"
             ],
             [
              0.4444444444444444,
              "#bd3786"
             ],
             [
              0.5555555555555556,
              "#d8576b"
             ],
             [
              0.6666666666666666,
              "#ed7953"
             ],
             [
              0.7777777777777778,
              "#fb9f3a"
             ],
             [
              0.8888888888888888,
              "#fdca26"
             ],
             [
              1,
              "#f0f921"
             ]
            ],
            "type": "histogram2dcontour"
           }
          ],
          "mesh3d": [
           {
            "colorbar": {
             "outlinewidth": 0,
             "ticks": ""
            },
            "type": "mesh3d"
           }
          ],
          "parcoords": [
           {
            "line": {
             "colorbar": {
              "outlinewidth": 0,
              "ticks": ""
             }
            },
            "type": "parcoords"
           }
          ],
          "pie": [
           {
            "automargin": true,
            "type": "pie"
           }
          ],
          "scatter": [
           {
            "marker": {
             "colorbar": {
              "outlinewidth": 0,
              "ticks": ""
             }
            },
            "type": "scatter"
           }
          ],
          "scatter3d": [
           {
            "line": {
             "colorbar": {
              "outlinewidth": 0,
              "ticks": ""
             }
            },
            "marker": {
             "colorbar": {
              "outlinewidth": 0,
              "ticks": ""
             }
            },
            "type": "scatter3d"
           }
          ],
          "scattercarpet": [
           {
            "marker": {
             "colorbar": {
              "outlinewidth": 0,
              "ticks": ""
             }
            },
            "type": "scattercarpet"
           }
          ],
          "scattergeo": [
           {
            "marker": {
             "colorbar": {
              "outlinewidth": 0,
              "ticks": ""
             }
            },
            "type": "scattergeo"
           }
          ],
          "scattergl": [
           {
            "marker": {
             "colorbar": {
              "outlinewidth": 0,
              "ticks": ""
             }
            },
            "type": "scattergl"
           }
          ],
          "scattermapbox": [
           {
            "marker": {
             "colorbar": {
              "outlinewidth": 0,
              "ticks": ""
             }
            },
            "type": "scattermapbox"
           }
          ],
          "scatterpolar": [
           {
            "marker": {
             "colorbar": {
              "outlinewidth": 0,
              "ticks": ""
             }
            },
            "type": "scatterpolar"
           }
          ],
          "scatterpolargl": [
           {
            "marker": {
             "colorbar": {
              "outlinewidth": 0,
              "ticks": ""
             }
            },
            "type": "scatterpolargl"
           }
          ],
          "scatterternary": [
           {
            "marker": {
             "colorbar": {
              "outlinewidth": 0,
              "ticks": ""
             }
            },
            "type": "scatterternary"
           }
          ],
          "surface": [
           {
            "colorbar": {
             "outlinewidth": 0,
             "ticks": ""
            },
            "colorscale": [
             [
              0,
              "#0d0887"
             ],
             [
              0.1111111111111111,
              "#46039f"
             ],
             [
              0.2222222222222222,
              "#7201a8"
             ],
             [
              0.3333333333333333,
              "#9c179e"
             ],
             [
              0.4444444444444444,
              "#bd3786"
             ],
             [
              0.5555555555555556,
              "#d8576b"
             ],
             [
              0.6666666666666666,
              "#ed7953"
             ],
             [
              0.7777777777777778,
              "#fb9f3a"
             ],
             [
              0.8888888888888888,
              "#fdca26"
             ],
             [
              1,
              "#f0f921"
             ]
            ],
            "type": "surface"
           }
          ],
          "table": [
           {
            "cells": {
             "fill": {
              "color": "#EBF0F8"
             },
             "line": {
              "color": "white"
             }
            },
            "header": {
             "fill": {
              "color": "#C8D4E3"
             },
             "line": {
              "color": "white"
             }
            },
            "type": "table"
           }
          ]
         },
         "layout": {
          "annotationdefaults": {
           "arrowcolor": "#2a3f5f",
           "arrowhead": 0,
           "arrowwidth": 1
          },
          "coloraxis": {
           "colorbar": {
            "outlinewidth": 0,
            "ticks": ""
           }
          },
          "colorscale": {
           "diverging": [
            [
             0,
             "#8e0152"
            ],
            [
             0.1,
             "#c51b7d"
            ],
            [
             0.2,
             "#de77ae"
            ],
            [
             0.3,
             "#f1b6da"
            ],
            [
             0.4,
             "#fde0ef"
            ],
            [
             0.5,
             "#f7f7f7"
            ],
            [
             0.6,
             "#e6f5d0"
            ],
            [
             0.7,
             "#b8e186"
            ],
            [
             0.8,
             "#7fbc41"
            ],
            [
             0.9,
             "#4d9221"
            ],
            [
             1,
             "#276419"
            ]
           ],
           "sequential": [
            [
             0,
             "#0d0887"
            ],
            [
             0.1111111111111111,
             "#46039f"
            ],
            [
             0.2222222222222222,
             "#7201a8"
            ],
            [
             0.3333333333333333,
             "#9c179e"
            ],
            [
             0.4444444444444444,
             "#bd3786"
            ],
            [
             0.5555555555555556,
             "#d8576b"
            ],
            [
             0.6666666666666666,
             "#ed7953"
            ],
            [
             0.7777777777777778,
             "#fb9f3a"
            ],
            [
             0.8888888888888888,
             "#fdca26"
            ],
            [
             1,
             "#f0f921"
            ]
           ],
           "sequentialminus": [
            [
             0,
             "#0d0887"
            ],
            [
             0.1111111111111111,
             "#46039f"
            ],
            [
             0.2222222222222222,
             "#7201a8"
            ],
            [
             0.3333333333333333,
             "#9c179e"
            ],
            [
             0.4444444444444444,
             "#bd3786"
            ],
            [
             0.5555555555555556,
             "#d8576b"
            ],
            [
             0.6666666666666666,
             "#ed7953"
            ],
            [
             0.7777777777777778,
             "#fb9f3a"
            ],
            [
             0.8888888888888888,
             "#fdca26"
            ],
            [
             1,
             "#f0f921"
            ]
           ]
          },
          "colorway": [
           "#636efa",
           "#EF553B",
           "#00cc96",
           "#ab63fa",
           "#FFA15A",
           "#19d3f3",
           "#FF6692",
           "#B6E880",
           "#FF97FF",
           "#FECB52"
          ],
          "font": {
           "color": "#2a3f5f"
          },
          "geo": {
           "bgcolor": "white",
           "lakecolor": "white",
           "landcolor": "#E5ECF6",
           "showlakes": true,
           "showland": true,
           "subunitcolor": "white"
          },
          "hoverlabel": {
           "align": "left"
          },
          "hovermode": "closest",
          "mapbox": {
           "style": "light"
          },
          "paper_bgcolor": "white",
          "plot_bgcolor": "#E5ECF6",
          "polar": {
           "angularaxis": {
            "gridcolor": "white",
            "linecolor": "white",
            "ticks": ""
           },
           "bgcolor": "#E5ECF6",
           "radialaxis": {
            "gridcolor": "white",
            "linecolor": "white",
            "ticks": ""
           }
          },
          "scene": {
           "xaxis": {
            "backgroundcolor": "#E5ECF6",
            "gridcolor": "white",
            "gridwidth": 2,
            "linecolor": "white",
            "showbackground": true,
            "ticks": "",
            "zerolinecolor": "white"
           },
           "yaxis": {
            "backgroundcolor": "#E5ECF6",
            "gridcolor": "white",
            "gridwidth": 2,
            "linecolor": "white",
            "showbackground": true,
            "ticks": "",
            "zerolinecolor": "white"
           },
           "zaxis": {
            "backgroundcolor": "#E5ECF6",
            "gridcolor": "white",
            "gridwidth": 2,
            "linecolor": "white",
            "showbackground": true,
            "ticks": "",
            "zerolinecolor": "white"
           }
          },
          "shapedefaults": {
           "line": {
            "color": "#2a3f5f"
           }
          },
          "ternary": {
           "aaxis": {
            "gridcolor": "white",
            "linecolor": "white",
            "ticks": ""
           },
           "baxis": {
            "gridcolor": "white",
            "linecolor": "white",
            "ticks": ""
           },
           "bgcolor": "#E5ECF6",
           "caxis": {
            "gridcolor": "white",
            "linecolor": "white",
            "ticks": ""
           }
          },
          "title": {
           "x": 0.05
          },
          "xaxis": {
           "automargin": true,
           "gridcolor": "white",
           "linecolor": "white",
           "ticks": "",
           "title": {
            "standoff": 15
           },
           "zerolinecolor": "white",
           "zerolinewidth": 2
          },
          "yaxis": {
           "automargin": true,
           "gridcolor": "white",
           "linecolor": "white",
           "ticks": "",
           "title": {
            "standoff": 15
           },
           "zerolinecolor": "white",
           "zerolinewidth": 2
          }
         }
        },
        "xaxis": {
         "anchor": "y",
         "domain": [
          0,
          1
         ],
         "title": {
          "text": "total_bill"
         }
        },
        "xaxis2": {
         "anchor": "y2",
         "domain": [
          0,
          1
         ],
         "matches": "x",
         "showgrid": true,
         "showticklabels": false
        },
        "yaxis": {
         "anchor": "x",
         "domain": [
          0,
          0.7326
         ],
         "title": {
          "text": "sum of tip"
         }
        },
        "yaxis2": {
         "anchor": "x2",
         "domain": [
          0.7426,
          1
         ],
         "matches": "y2",
         "showgrid": false,
         "showline": false,
         "showticklabels": false,
         "ticks": ""
        }
       }
      },
      "text/html": [
       "<div>                            <div id=\"7b768476-8a8e-4a72-bc1f-ea7334f8750d\" class=\"plotly-graph-div\" style=\"height:525px; width:100%;\"></div>            <script type=\"text/javascript\">                require([\"plotly\"], function(Plotly) {                    window.PLOTLYENV=window.PLOTLYENV || {};                                    if (document.getElementById(\"7b768476-8a8e-4a72-bc1f-ea7334f8750d\")) {                    Plotly.newPlot(                        \"7b768476-8a8e-4a72-bc1f-ea7334f8750d\",                        [{\"alignmentgroup\": \"True\", \"bingroup\": \"x\", \"histfunc\": \"sum\", \"hovertemplate\": \"sex=Female<br>total_bill=%{x}<br>sum of tip=%{y}<extra></extra>\", \"legendgroup\": \"Female\", \"marker\": {\"color\": \"#636efa\"}, \"name\": \"Female\", \"offsetgroup\": \"Female\", \"orientation\": \"v\", \"showlegend\": true, \"type\": \"histogram\", \"x\": [16.99, 24.59, 35.26, 14.83, 10.33, 16.97, 20.29, 15.77, 19.65, 15.06, 20.69, 16.93, 10.29, 34.81, 26.41, 16.45, 3.07, 17.07, 26.86, 25.28, 14.73, 10.07, 34.83, 5.75, 16.32, 22.75, 11.35, 15.38, 44.3, 22.42, 20.92, 14.31, 7.25, 25.71, 17.31, 10.65, 12.43, 24.08, 13.42, 12.48, 29.8, 14.52, 11.38, 20.27, 11.17, 12.26, 18.26, 8.51, 10.33, 14.15, 13.16, 17.47, 27.05, 16.43, 8.35, 18.64, 11.87, 29.85, 25.0, 13.39, 16.21, 17.51, 10.59, 10.63, 9.6, 20.9, 18.15, 19.81, 43.11, 13.0, 12.74, 13.0, 16.4, 16.47, 12.76, 13.27, 28.17, 12.9, 30.14, 13.42, 15.98, 16.27, 10.09, 22.12, 35.83, 27.18, 18.78], \"xaxis\": \"x\", \"y\": [1.01, 3.61, 5.0, 3.02, 1.67, 3.5, 2.75, 2.23, 3.0, 3.0, 2.45, 3.07, 2.6, 5.2, 1.5, 2.47, 1.0, 3.0, 3.14, 5.0, 2.2, 1.83, 5.17, 1.0, 4.3, 3.25, 2.5, 3.0, 2.5, 3.48, 4.08, 4.0, 1.0, 4.0, 3.5, 1.5, 1.8, 2.92, 1.68, 2.52, 4.2, 2.0, 2.0, 2.83, 1.5, 2.0, 3.25, 1.25, 2.0, 2.0, 2.75, 3.5, 5.0, 2.3, 1.5, 1.36, 1.63, 5.14, 3.75, 2.61, 2.0, 3.0, 1.61, 2.0, 4.0, 3.5, 3.5, 4.19, 5.0, 2.0, 2.01, 2.0, 2.5, 3.23, 2.23, 2.5, 6.5, 1.1, 3.09, 3.48, 3.0, 2.5, 2.0, 2.88, 4.67, 2.0, 3.0], \"yaxis\": \"y\"}, {\"alignmentgroup\": \"True\", \"boxpoints\": \"all\", \"customdata\": [[16.99, 1.01, \"Female\", \"No\", \"Sun\", \"Dinner\", 2], [24.59, 3.61, \"Female\", \"No\", \"Sun\", \"Dinner\", 4], [35.26, 5.0, \"Female\", \"No\", \"Sun\", \"Dinner\", 4], [14.83, 3.02, \"Female\", \"No\", \"Sun\", \"Dinner\", 2], [10.33, 1.67, \"Female\", \"No\", \"Sun\", \"Dinner\", 3], [16.97, 3.5, \"Female\", \"No\", \"Sun\", \"Dinner\", 3], [20.29, 2.75, \"Female\", \"No\", \"Sat\", \"Dinner\", 2], [15.77, 2.23, \"Female\", \"No\", \"Sat\", \"Dinner\", 2], [19.65, 3.0, \"Female\", \"No\", \"Sat\", \"Dinner\", 2], [15.06, 3.0, \"Female\", \"No\", \"Sat\", \"Dinner\", 2], [20.69, 2.45, \"Female\", \"No\", \"Sat\", \"Dinner\", 4], [16.93, 3.07, \"Female\", \"No\", \"Sat\", \"Dinner\", 3], [10.29, 2.6, \"Female\", \"No\", \"Sun\", \"Dinner\", 2], [34.81, 5.2, \"Female\", \"No\", \"Sun\", \"Dinner\", 4], [26.41, 1.5, \"Female\", \"No\", \"Sat\", \"Dinner\", 2], [16.45, 2.47, \"Female\", \"No\", \"Sat\", \"Dinner\", 2], [3.07, 1.0, \"Female\", \"Yes\", \"Sat\", \"Dinner\", 1], [17.07, 3.0, \"Female\", \"No\", \"Sat\", \"Dinner\", 3], [26.86, 3.14, \"Female\", \"Yes\", \"Sat\", \"Dinner\", 2], [25.28, 5.0, \"Female\", \"Yes\", \"Sat\", \"Dinner\", 2], [14.73, 2.2, \"Female\", \"No\", \"Sat\", \"Dinner\", 2], [10.07, 1.83, \"Female\", \"No\", \"Thur\", \"Lunch\", 1], [34.83, 5.17, \"Female\", \"No\", \"Thur\", \"Lunch\", 4], [5.75, 1.0, \"Female\", \"Yes\", \"Fri\", \"Dinner\", 2], [16.32, 4.3, \"Female\", \"Yes\", \"Fri\", \"Dinner\", 2], [22.75, 3.25, \"Female\", \"No\", \"Fri\", \"Dinner\", 2], [11.35, 2.5, \"Female\", \"Yes\", \"Fri\", \"Dinner\", 2], [15.38, 3.0, \"Female\", \"Yes\", \"Fri\", \"Dinner\", 2], [44.3, 2.5, \"Female\", \"Yes\", \"Sat\", \"Dinner\", 3], [22.42, 3.48, \"Female\", \"Yes\", \"Sat\", \"Dinner\", 2], [20.92, 4.08, \"Female\", \"No\", \"Sat\", \"Dinner\", 2], [14.31, 4.0, \"Female\", \"Yes\", \"Sat\", \"Dinner\", 2], [7.25, 1.0, \"Female\", \"No\", \"Sat\", \"Dinner\", 1], [25.71, 4.0, \"Female\", \"No\", \"Sun\", \"Dinner\", 3], [17.31, 3.5, \"Female\", \"No\", \"Sun\", \"Dinner\", 2], [10.65, 1.5, \"Female\", \"No\", \"Thur\", \"Lunch\", 2], [12.43, 1.8, \"Female\", \"No\", \"Thur\", \"Lunch\", 2], [24.08, 2.92, \"Female\", \"No\", \"Thur\", \"Lunch\", 4], [13.42, 1.68, \"Female\", \"No\", \"Thur\", \"Lunch\", 2], [12.48, 2.52, \"Female\", \"No\", \"Thur\", \"Lunch\", 2], [29.8, 4.2, \"Female\", \"No\", \"Thur\", \"Lunch\", 6], [14.52, 2.0, \"Female\", \"No\", \"Thur\", \"Lunch\", 2], [11.38, 2.0, \"Female\", \"No\", \"Thur\", \"Lunch\", 2], [20.27, 2.83, \"Female\", \"No\", \"Thur\", \"Lunch\", 2], [11.17, 1.5, \"Female\", \"No\", \"Thur\", \"Lunch\", 2], [12.26, 2.0, \"Female\", \"No\", \"Thur\", \"Lunch\", 2], [18.26, 3.25, \"Female\", \"No\", \"Thur\", \"Lunch\", 2], [8.51, 1.25, \"Female\", \"No\", \"Thur\", \"Lunch\", 2], [10.33, 2.0, \"Female\", \"No\", \"Thur\", \"Lunch\", 2], [14.15, 2.0, \"Female\", \"No\", \"Thur\", \"Lunch\", 2], [13.16, 2.75, \"Female\", \"No\", \"Thur\", \"Lunch\", 2], [17.47, 3.5, \"Female\", \"No\", \"Thur\", \"Lunch\", 2], [27.05, 5.0, \"Female\", \"No\", \"Thur\", \"Lunch\", 6], [16.43, 2.3, \"Female\", \"No\", \"Thur\", \"Lunch\", 2], [8.35, 1.5, \"Female\", \"No\", \"Thur\", \"Lunch\", 2], [18.64, 1.36, \"Female\", \"No\", \"Thur\", \"Lunch\", 3], [11.87, 1.63, \"Female\", \"No\", \"Thur\", \"Lunch\", 2], [29.85, 5.14, \"Female\", \"No\", \"Sun\", \"Dinner\", 5], [25.0, 3.75, \"Female\", \"No\", \"Sun\", \"Dinner\", 4], [13.39, 2.61, \"Female\", \"No\", \"Sun\", \"Dinner\", 2], [16.21, 2.0, \"Female\", \"No\", \"Sun\", \"Dinner\", 3], [17.51, 3.0, \"Female\", \"Yes\", \"Sun\", \"Dinner\", 2], [10.59, 1.61, \"Female\", \"Yes\", \"Sat\", \"Dinner\", 2], [10.63, 2.0, \"Female\", \"Yes\", \"Sat\", \"Dinner\", 2], [9.6, 4.0, \"Female\", \"Yes\", \"Sun\", \"Dinner\", 2], [20.9, 3.5, \"Female\", \"Yes\", \"Sun\", \"Dinner\", 3], [18.15, 3.5, \"Female\", \"Yes\", \"Sun\", \"Dinner\", 3], [19.81, 4.19, \"Female\", \"Yes\", \"Thur\", \"Lunch\", 2], [43.11, 5.0, \"Female\", \"Yes\", \"Thur\", \"Lunch\", 4], [13.0, 2.0, \"Female\", \"Yes\", \"Thur\", \"Lunch\", 2], [12.74, 2.01, \"Female\", \"Yes\", \"Thur\", \"Lunch\", 2], [13.0, 2.0, \"Female\", \"Yes\", \"Thur\", \"Lunch\", 2], [16.4, 2.5, \"Female\", \"Yes\", \"Thur\", \"Lunch\", 2], [16.47, 3.23, \"Female\", \"Yes\", \"Thur\", \"Lunch\", 3], [12.76, 2.23, \"Female\", \"Yes\", \"Sat\", \"Dinner\", 2], [13.27, 2.5, \"Female\", \"Yes\", \"Sat\", \"Dinner\", 2], [28.17, 6.5, \"Female\", \"Yes\", \"Sat\", \"Dinner\", 3], [12.9, 1.1, \"Female\", \"Yes\", \"Sat\", \"Dinner\", 2], [30.14, 3.09, \"Female\", \"Yes\", \"Sat\", \"Dinner\", 4], [13.42, 3.48, \"Female\", \"Yes\", \"Fri\", \"Lunch\", 2], [15.98, 3.0, \"Female\", \"No\", \"Fri\", \"Lunch\", 3], [16.27, 2.5, \"Female\", \"Yes\", \"Fri\", \"Lunch\", 2], [10.09, 2.0, \"Female\", \"Yes\", \"Fri\", \"Lunch\", 2], [22.12, 2.88, \"Female\", \"Yes\", \"Sat\", \"Dinner\", 2], [35.83, 4.67, \"Female\", \"No\", \"Sat\", \"Dinner\", 3], [27.18, 2.0, \"Female\", \"Yes\", \"Sat\", \"Dinner\", 2], [18.78, 3.0, \"Female\", \"No\", \"Thur\", \"Dinner\", 2]], \"fillcolor\": \"rgba(255,255,255,0)\", \"hoveron\": \"points\", \"hovertemplate\": \"sex=%{customdata[2]}<br>total_bill=%{customdata[0]}<br>tip=%{customdata[1]}<br>smoker=%{customdata[3]}<br>day=%{customdata[4]}<br>time=%{customdata[5]}<br>size=%{customdata[6]}<extra></extra>\", \"jitter\": 0, \"legendgroup\": \"Female\", \"line\": {\"color\": \"rgba(255,255,255,0)\"}, \"marker\": {\"color\": \"#636efa\", \"symbol\": \"line-ns-open\"}, \"name\": \"Female\", \"offsetgroup\": \"Female\", \"showlegend\": false, \"type\": \"box\", \"x\": [16.99, 24.59, 35.26, 14.83, 10.33, 16.97, 20.29, 15.77, 19.65, 15.06, 20.69, 16.93, 10.29, 34.81, 26.41, 16.45, 3.07, 17.07, 26.86, 25.28, 14.73, 10.07, 34.83, 5.75, 16.32, 22.75, 11.35, 15.38, 44.3, 22.42, 20.92, 14.31, 7.25, 25.71, 17.31, 10.65, 12.43, 24.08, 13.42, 12.48, 29.8, 14.52, 11.38, 20.27, 11.17, 12.26, 18.26, 8.51, 10.33, 14.15, 13.16, 17.47, 27.05, 16.43, 8.35, 18.64, 11.87, 29.85, 25.0, 13.39, 16.21, 17.51, 10.59, 10.63, 9.6, 20.9, 18.15, 19.81, 43.11, 13.0, 12.74, 13.0, 16.4, 16.47, 12.76, 13.27, 28.17, 12.9, 30.14, 13.42, 15.98, 16.27, 10.09, 22.12, 35.83, 27.18, 18.78], \"xaxis\": \"x2\", \"yaxis\": \"y2\"}, {\"alignmentgroup\": \"True\", \"bingroup\": \"x\", \"histfunc\": \"sum\", \"hovertemplate\": \"sex=Male<br>total_bill=%{x}<br>sum of tip=%{y}<extra></extra>\", \"legendgroup\": \"Male\", \"marker\": {\"color\": \"#EF553B\"}, \"name\": \"Male\", \"offsetgroup\": \"Male\", \"orientation\": \"v\", \"showlegend\": true, \"type\": \"histogram\", \"x\": [10.34, 21.01, 23.68, 25.29, 8.77, 26.88, 15.04, 14.78, 10.27, 15.42, 18.43, 21.58, 16.29, 20.65, 17.92, 39.42, 19.82, 17.81, 13.37, 12.69, 21.7, 9.55, 18.35, 17.78, 24.06, 16.31, 18.69, 31.27, 16.04, 17.46, 13.94, 9.68, 30.4, 18.29, 22.23, 32.4, 28.55, 18.04, 12.54, 9.94, 25.56, 19.49, 38.01, 11.24, 48.27, 20.29, 13.81, 11.02, 18.29, 17.59, 20.08, 20.23, 15.01, 12.02, 10.51, 17.92, 27.2, 22.76, 17.29, 19.44, 16.66, 32.68, 15.98, 13.03, 18.28, 24.71, 21.16, 28.97, 22.49, 40.17, 27.28, 12.03, 21.01, 12.46, 15.36, 20.49, 25.21, 18.24, 14.0, 38.07, 23.95, 29.93, 11.69, 14.26, 15.95, 8.52, 22.82, 19.08, 16.0, 34.3, 41.19, 9.78, 7.51, 14.07, 13.13, 17.26, 24.55, 19.77, 48.17, 16.49, 21.5, 12.66, 13.81, 24.52, 20.76, 31.71, 50.81, 15.81, 7.25, 31.85, 16.82, 32.9, 17.89, 14.48, 34.63, 34.65, 23.33, 45.35, 23.17, 40.55, 20.69, 30.46, 23.1, 15.69, 28.44, 15.48, 16.58, 7.56, 10.34, 13.51, 18.71, 20.53, 26.59, 38.73, 24.27, 30.06, 25.89, 48.33, 28.15, 11.59, 7.74, 12.16, 8.58, 13.42, 20.45, 13.28, 24.01, 15.69, 11.61, 10.77, 15.53, 10.07, 12.6, 32.83, 29.03, 22.67, 17.82], \"xaxis\": \"x\", \"y\": [1.66, 3.5, 3.31, 4.71, 2.0, 3.12, 1.96, 3.23, 1.71, 1.57, 3.0, 3.92, 3.71, 3.35, 4.08, 7.58, 3.18, 2.34, 2.0, 2.0, 4.3, 1.45, 2.5, 3.27, 3.6, 2.0, 2.31, 5.0, 2.24, 2.54, 3.06, 1.32, 5.6, 3.0, 5.0, 6.0, 2.05, 3.0, 2.5, 1.56, 4.34, 3.51, 3.0, 1.76, 6.73, 3.21, 2.0, 1.98, 3.76, 2.64, 3.15, 2.01, 2.09, 1.97, 1.25, 3.08, 4.0, 3.0, 2.71, 3.0, 3.4, 5.0, 2.03, 2.0, 4.0, 5.85, 3.0, 3.0, 3.5, 4.73, 4.0, 1.5, 3.0, 1.5, 1.64, 4.06, 4.29, 3.76, 3.0, 4.0, 2.55, 5.07, 2.31, 2.5, 2.0, 1.48, 2.18, 1.5, 2.0, 6.7, 5.0, 1.73, 2.0, 2.5, 2.0, 2.74, 2.0, 2.0, 5.0, 2.0, 3.5, 2.5, 2.0, 3.48, 2.24, 4.5, 10.0, 3.16, 5.15, 3.18, 4.0, 3.11, 2.0, 2.0, 3.55, 3.68, 5.65, 3.5, 6.5, 3.0, 5.0, 2.0, 4.0, 1.5, 2.56, 2.02, 4.0, 1.44, 2.0, 2.0, 4.0, 4.0, 3.41, 3.0, 2.03, 2.0, 5.16, 9.0, 3.0, 1.5, 1.44, 2.2, 1.92, 1.58, 3.0, 2.72, 2.0, 3.0, 3.39, 1.47, 3.0, 1.25, 1.0, 1.17, 5.92, 2.0, 1.75], \"yaxis\": \"y\"}, {\"alignmentgroup\": \"True\", \"boxpoints\": \"all\", \"customdata\": [[10.34, 1.66, \"Male\", \"No\", \"Sun\", \"Dinner\", 3], [21.01, 3.5, \"Male\", \"No\", \"Sun\", \"Dinner\", 3], [23.68, 3.31, \"Male\", \"No\", \"Sun\", \"Dinner\", 2], [25.29, 4.71, \"Male\", \"No\", \"Sun\", \"Dinner\", 4], [8.77, 2.0, \"Male\", \"No\", \"Sun\", \"Dinner\", 2], [26.88, 3.12, \"Male\", \"No\", \"Sun\", \"Dinner\", 4], [15.04, 1.96, \"Male\", \"No\", \"Sun\", \"Dinner\", 2], [14.78, 3.23, \"Male\", \"No\", \"Sun\", \"Dinner\", 2], [10.27, 1.71, \"Male\", \"No\", \"Sun\", \"Dinner\", 2], [15.42, 1.57, \"Male\", \"No\", \"Sun\", \"Dinner\", 2], [18.43, 3.0, \"Male\", \"No\", \"Sun\", \"Dinner\", 4], [21.58, 3.92, \"Male\", \"No\", \"Sun\", \"Dinner\", 2], [16.29, 3.71, \"Male\", \"No\", \"Sun\", \"Dinner\", 3], [20.65, 3.35, \"Male\", \"No\", \"Sat\", \"Dinner\", 3], [17.92, 4.08, \"Male\", \"No\", \"Sat\", \"Dinner\", 2], [39.42, 7.58, \"Male\", \"No\", \"Sat\", \"Dinner\", 4], [19.82, 3.18, \"Male\", \"No\", \"Sat\", \"Dinner\", 2], [17.81, 2.34, \"Male\", \"No\", \"Sat\", \"Dinner\", 4], [13.37, 2.0, \"Male\", \"No\", \"Sat\", \"Dinner\", 2], [12.69, 2.0, \"Male\", \"No\", \"Sat\", \"Dinner\", 2], [21.7, 4.3, \"Male\", \"No\", \"Sat\", \"Dinner\", 2], [9.55, 1.45, \"Male\", \"No\", \"Sat\", \"Dinner\", 2], [18.35, 2.5, \"Male\", \"No\", \"Sat\", \"Dinner\", 4], [17.78, 3.27, \"Male\", \"No\", \"Sat\", \"Dinner\", 2], [24.06, 3.6, \"Male\", \"No\", \"Sat\", \"Dinner\", 3], [16.31, 2.0, \"Male\", \"No\", \"Sat\", \"Dinner\", 3], [18.69, 2.31, \"Male\", \"No\", \"Sat\", \"Dinner\", 3], [31.27, 5.0, \"Male\", \"No\", \"Sat\", \"Dinner\", 3], [16.04, 2.24, \"Male\", \"No\", \"Sat\", \"Dinner\", 3], [17.46, 2.54, \"Male\", \"No\", \"Sun\", \"Dinner\", 2], [13.94, 3.06, \"Male\", \"No\", \"Sun\", \"Dinner\", 2], [9.68, 1.32, \"Male\", \"No\", \"Sun\", \"Dinner\", 2], [30.4, 5.6, \"Male\", \"No\", \"Sun\", \"Dinner\", 4], [18.29, 3.0, \"Male\", \"No\", \"Sun\", \"Dinner\", 2], [22.23, 5.0, \"Male\", \"No\", \"Sun\", \"Dinner\", 2], [32.4, 6.0, \"Male\", \"No\", \"Sun\", \"Dinner\", 4], [28.55, 2.05, \"Male\", \"No\", \"Sun\", \"Dinner\", 3], [18.04, 3.0, \"Male\", \"No\", \"Sun\", \"Dinner\", 2], [12.54, 2.5, \"Male\", \"No\", \"Sun\", \"Dinner\", 2], [9.94, 1.56, \"Male\", \"No\", \"Sun\", \"Dinner\", 2], [25.56, 4.34, \"Male\", \"No\", \"Sun\", \"Dinner\", 4], [19.49, 3.51, \"Male\", \"No\", \"Sun\", \"Dinner\", 2], [38.01, 3.0, \"Male\", \"Yes\", \"Sat\", \"Dinner\", 4], [11.24, 1.76, \"Male\", \"Yes\", \"Sat\", \"Dinner\", 2], [48.27, 6.73, \"Male\", \"No\", \"Sat\", \"Dinner\", 4], [20.29, 3.21, \"Male\", \"Yes\", \"Sat\", \"Dinner\", 2], [13.81, 2.0, \"Male\", \"Yes\", \"Sat\", \"Dinner\", 2], [11.02, 1.98, \"Male\", \"Yes\", \"Sat\", \"Dinner\", 2], [18.29, 3.76, \"Male\", \"Yes\", \"Sat\", \"Dinner\", 4], [17.59, 2.64, \"Male\", \"No\", \"Sat\", \"Dinner\", 3], [20.08, 3.15, \"Male\", \"No\", \"Sat\", \"Dinner\", 3], [20.23, 2.01, \"Male\", \"No\", \"Sat\", \"Dinner\", 2], [15.01, 2.09, \"Male\", \"Yes\", \"Sat\", \"Dinner\", 2], [12.02, 1.97, \"Male\", \"No\", \"Sat\", \"Dinner\", 2], [10.51, 1.25, \"Male\", \"No\", \"Sat\", \"Dinner\", 2], [17.92, 3.08, \"Male\", \"Yes\", \"Sat\", \"Dinner\", 2], [27.2, 4.0, \"Male\", \"No\", \"Thur\", \"Lunch\", 4], [22.76, 3.0, \"Male\", \"No\", \"Thur\", \"Lunch\", 2], [17.29, 2.71, \"Male\", \"No\", \"Thur\", \"Lunch\", 2], [19.44, 3.0, \"Male\", \"Yes\", \"Thur\", \"Lunch\", 2], [16.66, 3.4, \"Male\", \"No\", \"Thur\", \"Lunch\", 2], [32.68, 5.0, \"Male\", \"Yes\", \"Thur\", \"Lunch\", 2], [15.98, 2.03, \"Male\", \"No\", \"Thur\", \"Lunch\", 2], [13.03, 2.0, \"Male\", \"No\", \"Thur\", \"Lunch\", 2], [18.28, 4.0, \"Male\", \"No\", \"Thur\", \"Lunch\", 2], [24.71, 5.85, \"Male\", \"No\", \"Thur\", \"Lunch\", 2], [21.16, 3.0, \"Male\", \"No\", \"Thur\", \"Lunch\", 2], [28.97, 3.0, \"Male\", \"Yes\", \"Fri\", \"Dinner\", 2], [22.49, 3.5, \"Male\", \"No\", \"Fri\", \"Dinner\", 2], [40.17, 4.73, \"Male\", \"Yes\", \"Fri\", \"Dinner\", 4], [27.28, 4.0, \"Male\", \"Yes\", \"Fri\", \"Dinner\", 2], [12.03, 1.5, \"Male\", \"Yes\", \"Fri\", \"Dinner\", 2], [21.01, 3.0, \"Male\", \"Yes\", \"Fri\", \"Dinner\", 2], [12.46, 1.5, \"Male\", \"No\", \"Fri\", \"Dinner\", 2], [15.36, 1.64, \"Male\", \"Yes\", \"Sat\", \"Dinner\", 2], [20.49, 4.06, \"Male\", \"Yes\", \"Sat\", \"Dinner\", 2], [25.21, 4.29, \"Male\", \"Yes\", \"Sat\", \"Dinner\", 2], [18.24, 3.76, \"Male\", \"No\", \"Sat\", \"Dinner\", 2], [14.0, 3.0, \"Male\", \"No\", \"Sat\", \"Dinner\", 2], [38.07, 4.0, \"Male\", \"No\", \"Sun\", \"Dinner\", 3], [23.95, 2.55, \"Male\", \"No\", \"Sun\", \"Dinner\", 2], [29.93, 5.07, \"Male\", \"No\", \"Sun\", \"Dinner\", 4], [11.69, 2.31, \"Male\", \"No\", \"Thur\", \"Lunch\", 2], [14.26, 2.5, \"Male\", \"No\", \"Thur\", \"Lunch\", 2], [15.95, 2.0, \"Male\", \"No\", \"Thur\", \"Lunch\", 2], [8.52, 1.48, \"Male\", \"No\", \"Thur\", \"Lunch\", 2], [22.82, 2.18, \"Male\", \"No\", \"Thur\", \"Lunch\", 3], [19.08, 1.5, \"Male\", \"No\", \"Thur\", \"Lunch\", 2], [16.0, 2.0, \"Male\", \"Yes\", \"Thur\", \"Lunch\", 2], [34.3, 6.7, \"Male\", \"No\", \"Thur\", \"Lunch\", 6], [41.19, 5.0, \"Male\", \"No\", \"Thur\", \"Lunch\", 5], [9.78, 1.73, \"Male\", \"No\", \"Thur\", \"Lunch\", 2], [7.51, 2.0, \"Male\", \"No\", \"Thur\", \"Lunch\", 2], [14.07, 2.5, \"Male\", \"No\", \"Sun\", \"Dinner\", 2], [13.13, 2.0, \"Male\", \"No\", \"Sun\", \"Dinner\", 2], [17.26, 2.74, \"Male\", \"No\", \"Sun\", \"Dinner\", 3], [24.55, 2.0, \"Male\", \"No\", \"Sun\", \"Dinner\", 4], [19.77, 2.0, \"Male\", \"No\", \"Sun\", \"Dinner\", 4], [48.17, 5.0, \"Male\", \"No\", \"Sun\", \"Dinner\", 6], [16.49, 2.0, \"Male\", \"No\", \"Sun\", \"Dinner\", 4], [21.5, 3.5, \"Male\", \"No\", \"Sun\", \"Dinner\", 4], [12.66, 2.5, \"Male\", \"No\", \"Sun\", \"Dinner\", 2], [13.81, 2.0, \"Male\", \"No\", \"Sun\", \"Dinner\", 2], [24.52, 3.48, \"Male\", \"No\", \"Sun\", \"Dinner\", 3], [20.76, 2.24, \"Male\", \"No\", \"Sun\", \"Dinner\", 2], [31.71, 4.5, \"Male\", \"No\", \"Sun\", \"Dinner\", 4], [50.81, 10.0, \"Male\", \"Yes\", \"Sat\", \"Dinner\", 3], [15.81, 3.16, \"Male\", \"Yes\", \"Sat\", \"Dinner\", 2], [7.25, 5.15, \"Male\", \"Yes\", \"Sun\", \"Dinner\", 2], [31.85, 3.18, \"Male\", \"Yes\", \"Sun\", \"Dinner\", 2], [16.82, 4.0, \"Male\", \"Yes\", \"Sun\", \"Dinner\", 2], [32.9, 3.11, \"Male\", \"Yes\", \"Sun\", \"Dinner\", 2], [17.89, 2.0, \"Male\", \"Yes\", \"Sun\", \"Dinner\", 2], [14.48, 2.0, \"Male\", \"Yes\", \"Sun\", \"Dinner\", 2], [34.63, 3.55, \"Male\", \"Yes\", \"Sun\", \"Dinner\", 2], [34.65, 3.68, \"Male\", \"Yes\", \"Sun\", \"Dinner\", 4], [23.33, 5.65, \"Male\", \"Yes\", \"Sun\", \"Dinner\", 2], [45.35, 3.5, \"Male\", \"Yes\", \"Sun\", \"Dinner\", 3], [23.17, 6.5, \"Male\", \"Yes\", \"Sun\", \"Dinner\", 4], [40.55, 3.0, \"Male\", \"Yes\", \"Sun\", \"Dinner\", 2], [20.69, 5.0, \"Male\", \"No\", \"Sun\", \"Dinner\", 5], [30.46, 2.0, \"Male\", \"Yes\", \"Sun\", \"Dinner\", 5], [23.1, 4.0, \"Male\", \"Yes\", \"Sun\", \"Dinner\", 3], [15.69, 1.5, \"Male\", \"Yes\", \"Sun\", \"Dinner\", 2], [28.44, 2.56, \"Male\", \"Yes\", \"Thur\", \"Lunch\", 2], [15.48, 2.02, \"Male\", \"Yes\", \"Thur\", \"Lunch\", 2], [16.58, 4.0, \"Male\", \"Yes\", \"Thur\", \"Lunch\", 2], [7.56, 1.44, \"Male\", \"No\", \"Thur\", \"Lunch\", 2], [10.34, 2.0, \"Male\", \"Yes\", \"Thur\", \"Lunch\", 2], [13.51, 2.0, \"Male\", \"Yes\", \"Thur\", \"Lunch\", 2], [18.71, 4.0, \"Male\", \"Yes\", \"Thur\", \"Lunch\", 3], [20.53, 4.0, \"Male\", \"Yes\", \"Thur\", \"Lunch\", 4], [26.59, 3.41, \"Male\", \"Yes\", \"Sat\", \"Dinner\", 3], [38.73, 3.0, \"Male\", \"Yes\", \"Sat\", \"Dinner\", 4], [24.27, 2.03, \"Male\", \"Yes\", \"Sat\", \"Dinner\", 2], [30.06, 2.0, \"Male\", \"Yes\", \"Sat\", \"Dinner\", 3], [25.89, 5.16, \"Male\", \"Yes\", \"Sat\", \"Dinner\", 4], [48.33, 9.0, \"Male\", \"No\", \"Sat\", \"Dinner\", 4], [28.15, 3.0, \"Male\", \"Yes\", \"Sat\", \"Dinner\", 5], [11.59, 1.5, \"Male\", \"Yes\", \"Sat\", \"Dinner\", 2], [7.74, 1.44, \"Male\", \"Yes\", \"Sat\", \"Dinner\", 2], [12.16, 2.2, \"Male\", \"Yes\", \"Fri\", \"Lunch\", 2], [8.58, 1.92, \"Male\", \"Yes\", \"Fri\", \"Lunch\", 1], [13.42, 1.58, \"Male\", \"Yes\", \"Fri\", \"Lunch\", 2], [20.45, 3.0, \"Male\", \"No\", \"Sat\", \"Dinner\", 4], [13.28, 2.72, \"Male\", \"No\", \"Sat\", \"Dinner\", 2], [24.01, 2.0, \"Male\", \"Yes\", \"Sat\", \"Dinner\", 4], [15.69, 3.0, \"Male\", \"Yes\", \"Sat\", \"Dinner\", 3], [11.61, 3.39, \"Male\", \"No\", \"Sat\", \"Dinner\", 2], [10.77, 1.47, \"Male\", \"No\", \"Sat\", \"Dinner\", 2], [15.53, 3.0, \"Male\", \"Yes\", \"Sat\", \"Dinner\", 2], [10.07, 1.25, \"Male\", \"No\", \"Sat\", \"Dinner\", 2], [12.6, 1.0, \"Male\", \"Yes\", \"Sat\", \"Dinner\", 2], [32.83, 1.17, \"Male\", \"Yes\", \"Sat\", \"Dinner\", 2], [29.03, 5.92, \"Male\", \"No\", \"Sat\", \"Dinner\", 3], [22.67, 2.0, \"Male\", \"Yes\", \"Sat\", \"Dinner\", 2], [17.82, 1.75, \"Male\", \"No\", \"Sat\", \"Dinner\", 2]], \"fillcolor\": \"rgba(255,255,255,0)\", \"hoveron\": \"points\", \"hovertemplate\": \"sex=%{customdata[2]}<br>total_bill=%{customdata[0]}<br>tip=%{customdata[1]}<br>smoker=%{customdata[3]}<br>day=%{customdata[4]}<br>time=%{customdata[5]}<br>size=%{customdata[6]}<extra></extra>\", \"jitter\": 0, \"legendgroup\": \"Male\", \"line\": {\"color\": \"rgba(255,255,255,0)\"}, \"marker\": {\"color\": \"#EF553B\", \"symbol\": \"line-ns-open\"}, \"name\": \"Male\", \"offsetgroup\": \"Male\", \"showlegend\": false, \"type\": \"box\", \"x\": [10.34, 21.01, 23.68, 25.29, 8.77, 26.88, 15.04, 14.78, 10.27, 15.42, 18.43, 21.58, 16.29, 20.65, 17.92, 39.42, 19.82, 17.81, 13.37, 12.69, 21.7, 9.55, 18.35, 17.78, 24.06, 16.31, 18.69, 31.27, 16.04, 17.46, 13.94, 9.68, 30.4, 18.29, 22.23, 32.4, 28.55, 18.04, 12.54, 9.94, 25.56, 19.49, 38.01, 11.24, 48.27, 20.29, 13.81, 11.02, 18.29, 17.59, 20.08, 20.23, 15.01, 12.02, 10.51, 17.92, 27.2, 22.76, 17.29, 19.44, 16.66, 32.68, 15.98, 13.03, 18.28, 24.71, 21.16, 28.97, 22.49, 40.17, 27.28, 12.03, 21.01, 12.46, 15.36, 20.49, 25.21, 18.24, 14.0, 38.07, 23.95, 29.93, 11.69, 14.26, 15.95, 8.52, 22.82, 19.08, 16.0, 34.3, 41.19, 9.78, 7.51, 14.07, 13.13, 17.26, 24.55, 19.77, 48.17, 16.49, 21.5, 12.66, 13.81, 24.52, 20.76, 31.71, 50.81, 15.81, 7.25, 31.85, 16.82, 32.9, 17.89, 14.48, 34.63, 34.65, 23.33, 45.35, 23.17, 40.55, 20.69, 30.46, 23.1, 15.69, 28.44, 15.48, 16.58, 7.56, 10.34, 13.51, 18.71, 20.53, 26.59, 38.73, 24.27, 30.06, 25.89, 48.33, 28.15, 11.59, 7.74, 12.16, 8.58, 13.42, 20.45, 13.28, 24.01, 15.69, 11.61, 10.77, 15.53, 10.07, 12.6, 32.83, 29.03, 22.67, 17.82], \"xaxis\": \"x2\", \"yaxis\": \"y2\"}],                        {\"barmode\": \"relative\", \"legend\": {\"title\": {\"text\": \"sex\"}, \"tracegroupgap\": 0}, \"margin\": {\"t\": 60}, \"template\": {\"data\": {\"bar\": [{\"error_x\": {\"color\": \"#2a3f5f\"}, \"error_y\": {\"color\": \"#2a3f5f\"}, \"marker\": {\"line\": {\"color\": \"#E5ECF6\", \"width\": 0.5}}, \"type\": \"bar\"}], \"barpolar\": [{\"marker\": {\"line\": {\"color\": \"#E5ECF6\", \"width\": 0.5}}, \"type\": \"barpolar\"}], \"carpet\": [{\"aaxis\": {\"endlinecolor\": \"#2a3f5f\", \"gridcolor\": \"white\", \"linecolor\": \"white\", \"minorgridcolor\": \"white\", \"startlinecolor\": \"#2a3f5f\"}, \"baxis\": {\"endlinecolor\": \"#2a3f5f\", \"gridcolor\": \"white\", \"linecolor\": \"white\", \"minorgridcolor\": \"white\", \"startlinecolor\": \"#2a3f5f\"}, \"type\": \"carpet\"}], \"choropleth\": [{\"colorbar\": {\"outlinewidth\": 0, \"ticks\": \"\"}, \"type\": \"choropleth\"}], \"contour\": [{\"colorbar\": {\"outlinewidth\": 0, \"ticks\": \"\"}, \"colorscale\": [[0.0, \"#0d0887\"], [0.1111111111111111, \"#46039f\"], [0.2222222222222222, \"#7201a8\"], [0.3333333333333333, \"#9c179e\"], [0.4444444444444444, \"#bd3786\"], [0.5555555555555556, \"#d8576b\"], [0.6666666666666666, \"#ed7953\"], [0.7777777777777778, \"#fb9f3a\"], [0.8888888888888888, \"#fdca26\"], [1.0, \"#f0f921\"]], \"type\": \"contour\"}], \"contourcarpet\": [{\"colorbar\": {\"outlinewidth\": 0, \"ticks\": \"\"}, \"type\": \"contourcarpet\"}], \"heatmap\": [{\"colorbar\": {\"outlinewidth\": 0, \"ticks\": \"\"}, \"colorscale\": [[0.0, \"#0d0887\"], [0.1111111111111111, \"#46039f\"], [0.2222222222222222, \"#7201a8\"], [0.3333333333333333, \"#9c179e\"], [0.4444444444444444, \"#bd3786\"], [0.5555555555555556, \"#d8576b\"], [0.6666666666666666, \"#ed7953\"], [0.7777777777777778, \"#fb9f3a\"], [0.8888888888888888, \"#fdca26\"], [1.0, \"#f0f921\"]], \"type\": \"heatmap\"}], \"heatmapgl\": [{\"colorbar\": {\"outlinewidth\": 0, \"ticks\": \"\"}, \"colorscale\": [[0.0, \"#0d0887\"], [0.1111111111111111, \"#46039f\"], [0.2222222222222222, \"#7201a8\"], [0.3333333333333333, \"#9c179e\"], [0.4444444444444444, \"#bd3786\"], [0.5555555555555556, \"#d8576b\"], [0.6666666666666666, \"#ed7953\"], [0.7777777777777778, \"#fb9f3a\"], [0.8888888888888888, \"#fdca26\"], [1.0, \"#f0f921\"]], \"type\": \"heatmapgl\"}], \"histogram\": [{\"marker\": {\"colorbar\": {\"outlinewidth\": 0, \"ticks\": \"\"}}, \"type\": \"histogram\"}], \"histogram2d\": [{\"colorbar\": {\"outlinewidth\": 0, \"ticks\": \"\"}, \"colorscale\": [[0.0, \"#0d0887\"], [0.1111111111111111, \"#46039f\"], [0.2222222222222222, \"#7201a8\"], [0.3333333333333333, \"#9c179e\"], [0.4444444444444444, \"#bd3786\"], [0.5555555555555556, \"#d8576b\"], [0.6666666666666666, \"#ed7953\"], [0.7777777777777778, \"#fb9f3a\"], [0.8888888888888888, \"#fdca26\"], [1.0, \"#f0f921\"]], \"type\": \"histogram2d\"}], \"histogram2dcontour\": [{\"colorbar\": {\"outlinewidth\": 0, \"ticks\": \"\"}, \"colorscale\": [[0.0, \"#0d0887\"], [0.1111111111111111, \"#46039f\"], [0.2222222222222222, \"#7201a8\"], [0.3333333333333333, \"#9c179e\"], [0.4444444444444444, \"#bd3786\"], [0.5555555555555556, \"#d8576b\"], [0.6666666666666666, \"#ed7953\"], [0.7777777777777778, \"#fb9f3a\"], [0.8888888888888888, \"#fdca26\"], [1.0, \"#f0f921\"]], \"type\": \"histogram2dcontour\"}], \"mesh3d\": [{\"colorbar\": {\"outlinewidth\": 0, \"ticks\": \"\"}, \"type\": \"mesh3d\"}], \"parcoords\": [{\"line\": {\"colorbar\": {\"outlinewidth\": 0, \"ticks\": \"\"}}, \"type\": \"parcoords\"}], \"pie\": [{\"automargin\": true, \"type\": \"pie\"}], \"scatter\": [{\"marker\": {\"colorbar\": {\"outlinewidth\": 0, \"ticks\": \"\"}}, \"type\": \"scatter\"}], \"scatter3d\": [{\"line\": {\"colorbar\": {\"outlinewidth\": 0, \"ticks\": \"\"}}, \"marker\": {\"colorbar\": {\"outlinewidth\": 0, \"ticks\": \"\"}}, \"type\": \"scatter3d\"}], \"scattercarpet\": [{\"marker\": {\"colorbar\": {\"outlinewidth\": 0, \"ticks\": \"\"}}, \"type\": \"scattercarpet\"}], \"scattergeo\": [{\"marker\": {\"colorbar\": {\"outlinewidth\": 0, \"ticks\": \"\"}}, \"type\": \"scattergeo\"}], \"scattergl\": [{\"marker\": {\"colorbar\": {\"outlinewidth\": 0, \"ticks\": \"\"}}, \"type\": \"scattergl\"}], \"scattermapbox\": [{\"marker\": {\"colorbar\": {\"outlinewidth\": 0, \"ticks\": \"\"}}, \"type\": \"scattermapbox\"}], \"scatterpolar\": [{\"marker\": {\"colorbar\": {\"outlinewidth\": 0, \"ticks\": \"\"}}, \"type\": \"scatterpolar\"}], \"scatterpolargl\": [{\"marker\": {\"colorbar\": {\"outlinewidth\": 0, \"ticks\": \"\"}}, \"type\": \"scatterpolargl\"}], \"scatterternary\": [{\"marker\": {\"colorbar\": {\"outlinewidth\": 0, \"ticks\": \"\"}}, \"type\": \"scatterternary\"}], \"surface\": [{\"colorbar\": {\"outlinewidth\": 0, \"ticks\": \"\"}, \"colorscale\": [[0.0, \"#0d0887\"], [0.1111111111111111, \"#46039f\"], [0.2222222222222222, \"#7201a8\"], [0.3333333333333333, \"#9c179e\"], [0.4444444444444444, \"#bd3786\"], [0.5555555555555556, \"#d8576b\"], [0.6666666666666666, \"#ed7953\"], [0.7777777777777778, \"#fb9f3a\"], [0.8888888888888888, \"#fdca26\"], [1.0, \"#f0f921\"]], \"type\": \"surface\"}], \"table\": [{\"cells\": {\"fill\": {\"color\": \"#EBF0F8\"}, \"line\": {\"color\": \"white\"}}, \"header\": {\"fill\": {\"color\": \"#C8D4E3\"}, \"line\": {\"color\": \"white\"}}, \"type\": \"table\"}]}, \"layout\": {\"annotationdefaults\": {\"arrowcolor\": \"#2a3f5f\", \"arrowhead\": 0, \"arrowwidth\": 1}, \"coloraxis\": {\"colorbar\": {\"outlinewidth\": 0, \"ticks\": \"\"}}, \"colorscale\": {\"diverging\": [[0, \"#8e0152\"], [0.1, \"#c51b7d\"], [0.2, \"#de77ae\"], [0.3, \"#f1b6da\"], [0.4, \"#fde0ef\"], [0.5, \"#f7f7f7\"], [0.6, \"#e6f5d0\"], [0.7, \"#b8e186\"], [0.8, \"#7fbc41\"], [0.9, \"#4d9221\"], [1, \"#276419\"]], \"sequential\": [[0.0, \"#0d0887\"], [0.1111111111111111, \"#46039f\"], [0.2222222222222222, \"#7201a8\"], [0.3333333333333333, \"#9c179e\"], [0.4444444444444444, \"#bd3786\"], [0.5555555555555556, \"#d8576b\"], [0.6666666666666666, \"#ed7953\"], [0.7777777777777778, \"#fb9f3a\"], [0.8888888888888888, \"#fdca26\"], [1.0, \"#f0f921\"]], \"sequentialminus\": [[0.0, \"#0d0887\"], [0.1111111111111111, \"#46039f\"], [0.2222222222222222, \"#7201a8\"], [0.3333333333333333, \"#9c179e\"], [0.4444444444444444, \"#bd3786\"], [0.5555555555555556, \"#d8576b\"], [0.6666666666666666, \"#ed7953\"], [0.7777777777777778, \"#fb9f3a\"], [0.8888888888888888, \"#fdca26\"], [1.0, \"#f0f921\"]]}, \"colorway\": [\"#636efa\", \"#EF553B\", \"#00cc96\", \"#ab63fa\", \"#FFA15A\", \"#19d3f3\", \"#FF6692\", \"#B6E880\", \"#FF97FF\", \"#FECB52\"], \"font\": {\"color\": \"#2a3f5f\"}, \"geo\": {\"bgcolor\": \"white\", \"lakecolor\": \"white\", \"landcolor\": \"#E5ECF6\", \"showlakes\": true, \"showland\": true, \"subunitcolor\": \"white\"}, \"hoverlabel\": {\"align\": \"left\"}, \"hovermode\": \"closest\", \"mapbox\": {\"style\": \"light\"}, \"paper_bgcolor\": \"white\", \"plot_bgcolor\": \"#E5ECF6\", \"polar\": {\"angularaxis\": {\"gridcolor\": \"white\", \"linecolor\": \"white\", \"ticks\": \"\"}, \"bgcolor\": \"#E5ECF6\", \"radialaxis\": {\"gridcolor\": \"white\", \"linecolor\": \"white\", \"ticks\": \"\"}}, \"scene\": {\"xaxis\": {\"backgroundcolor\": \"#E5ECF6\", \"gridcolor\": \"white\", \"gridwidth\": 2, \"linecolor\": \"white\", \"showbackground\": true, \"ticks\": \"\", \"zerolinecolor\": \"white\"}, \"yaxis\": {\"backgroundcolor\": \"#E5ECF6\", \"gridcolor\": \"white\", \"gridwidth\": 2, \"linecolor\": \"white\", \"showbackground\": true, \"ticks\": \"\", \"zerolinecolor\": \"white\"}, \"zaxis\": {\"backgroundcolor\": \"#E5ECF6\", \"gridcolor\": \"white\", \"gridwidth\": 2, \"linecolor\": \"white\", \"showbackground\": true, \"ticks\": \"\", \"zerolinecolor\": \"white\"}}, \"shapedefaults\": {\"line\": {\"color\": \"#2a3f5f\"}}, \"ternary\": {\"aaxis\": {\"gridcolor\": \"white\", \"linecolor\": \"white\", \"ticks\": \"\"}, \"baxis\": {\"gridcolor\": \"white\", \"linecolor\": \"white\", \"ticks\": \"\"}, \"bgcolor\": \"#E5ECF6\", \"caxis\": {\"gridcolor\": \"white\", \"linecolor\": \"white\", \"ticks\": \"\"}}, \"title\": {\"x\": 0.05}, \"xaxis\": {\"automargin\": true, \"gridcolor\": \"white\", \"linecolor\": \"white\", \"ticks\": \"\", \"title\": {\"standoff\": 15}, \"zerolinecolor\": \"white\", \"zerolinewidth\": 2}, \"yaxis\": {\"automargin\": true, \"gridcolor\": \"white\", \"linecolor\": \"white\", \"ticks\": \"\", \"title\": {\"standoff\": 15}, \"zerolinecolor\": \"white\", \"zerolinewidth\": 2}}}, \"xaxis\": {\"anchor\": \"y\", \"domain\": [0.0, 1.0], \"title\": {\"text\": \"total_bill\"}}, \"xaxis2\": {\"anchor\": \"y2\", \"domain\": [0.0, 1.0], \"matches\": \"x\", \"showgrid\": true, \"showticklabels\": false}, \"yaxis\": {\"anchor\": \"x\", \"domain\": [0.0, 0.7326], \"title\": {\"text\": \"sum of tip\"}}, \"yaxis2\": {\"anchor\": \"x2\", \"domain\": [0.7426, 1.0], \"matches\": \"y2\", \"showgrid\": false, \"showline\": false, \"showticklabels\": false, \"ticks\": \"\"}},                        {\"responsive\": true}                    ).then(function(){\n",
       "                            \n",
       "var gd = document.getElementById('7b768476-8a8e-4a72-bc1f-ea7334f8750d');\n",
       "var x = new MutationObserver(function (mutations, observer) {{\n",
       "        var display = window.getComputedStyle(gd).display;\n",
       "        if (!display || display === 'none') {{\n",
       "            console.log([gd, 'removed!']);\n",
       "            Plotly.purge(gd);\n",
       "            observer.disconnect();\n",
       "        }}\n",
       "}});\n",
       "\n",
       "// Listen for the removal of the full notebook cells\n",
       "var notebookContainer = gd.closest('#notebook-container');\n",
       "if (notebookContainer) {{\n",
       "    x.observe(notebookContainer, {childList: true});\n",
       "}}\n",
       "\n",
       "// Listen for the clearing of the current output cell\n",
       "var outputEl = gd.closest('.output');\n",
       "if (outputEl) {{\n",
       "    x.observe(outputEl, {childList: true});\n",
       "}}\n",
       "\n",
       "                        })                };                });            </script>        </div>"
      ]
     },
     "metadata": {},
     "output_type": "display_data"
    },
    {
     "data": {
      "application/vnd.plotly.v1+json": {
       "config": {
        "plotlyServerURL": "https://plot.ly"
       },
       "data": [
        {
         "alignmentgroup": "True",
         "hovertemplate": "smoker=No<br>day=%{x}<br>total_bill=%{y}<extra></extra>",
         "legendgroup": "No",
         "marker": {
          "color": "#636efa"
         },
         "name": "No",
         "notched": true,
         "offsetgroup": "No",
         "orientation": "v",
         "showlegend": true,
         "type": "box",
         "x": [
          "Sun",
          "Sun",
          "Sun",
          "Sun",
          "Sun",
          "Sun",
          "Sun",
          "Sun",
          "Sun",
          "Sun",
          "Sun",
          "Sun",
          "Sun",
          "Sun",
          "Sun",
          "Sun",
          "Sun",
          "Sun",
          "Sun",
          "Sat",
          "Sat",
          "Sat",
          "Sat",
          "Sat",
          "Sat",
          "Sat",
          "Sat",
          "Sat",
          "Sat",
          "Sat",
          "Sat",
          "Sat",
          "Sat",
          "Sat",
          "Sat",
          "Sat",
          "Sat",
          "Sat",
          "Sat",
          "Sat",
          "Sat",
          "Sun",
          "Sun",
          "Sun",
          "Sun",
          "Sun",
          "Sun",
          "Sun",
          "Sun",
          "Sun",
          "Sun",
          "Sun",
          "Sun",
          "Sun",
          "Sun",
          "Sun",
          "Sat",
          "Sat",
          "Sat",
          "Sat",
          "Sat",
          "Sat",
          "Sat",
          "Sat",
          "Sat",
          "Sat",
          "Thur",
          "Thur",
          "Thur",
          "Thur",
          "Thur",
          "Thur",
          "Thur",
          "Thur",
          "Thur",
          "Thur",
          "Thur",
          "Fri",
          "Fri",
          "Fri",
          "Sat",
          "Sat",
          "Sat",
          "Sat",
          "Sun",
          "Sun",
          "Sun",
          "Sun",
          "Sun",
          "Thur",
          "Thur",
          "Thur",
          "Thur",
          "Thur",
          "Thur",
          "Thur",
          "Thur",
          "Thur",
          "Thur",
          "Thur",
          "Thur",
          "Thur",
          "Thur",
          "Thur",
          "Thur",
          "Thur",
          "Thur",
          "Thur",
          "Thur",
          "Thur",
          "Thur",
          "Thur",
          "Thur",
          "Thur",
          "Thur",
          "Thur",
          "Thur",
          "Thur",
          "Thur",
          "Thur",
          "Thur",
          "Sun",
          "Sun",
          "Sun",
          "Sun",
          "Sun",
          "Sun",
          "Sun",
          "Sun",
          "Sun",
          "Sun",
          "Sun",
          "Sun",
          "Sun",
          "Sun",
          "Sun",
          "Sun",
          "Sun",
          "Sun",
          "Thur",
          "Sat",
          "Fri",
          "Sat",
          "Sat",
          "Sat",
          "Sat",
          "Sat",
          "Sat",
          "Sat",
          "Sat",
          "Thur"
         ],
         "x0": " ",
         "xaxis": "x",
         "y": [
          16.99,
          10.34,
          21.01,
          23.68,
          24.59,
          25.29,
          8.77,
          26.88,
          15.04,
          14.78,
          10.27,
          35.26,
          15.42,
          18.43,
          14.83,
          21.58,
          10.33,
          16.29,
          16.97,
          20.65,
          17.92,
          20.29,
          15.77,
          39.42,
          19.82,
          17.81,
          13.37,
          12.69,
          21.7,
          19.65,
          9.55,
          18.35,
          15.06,
          20.69,
          17.78,
          24.06,
          16.31,
          16.93,
          18.69,
          31.27,
          16.04,
          17.46,
          13.94,
          9.68,
          30.4,
          18.29,
          22.23,
          32.4,
          28.55,
          18.04,
          12.54,
          10.29,
          34.81,
          9.94,
          25.56,
          19.49,
          26.41,
          48.27,
          17.59,
          20.08,
          16.45,
          20.23,
          12.02,
          17.07,
          14.73,
          10.51,
          27.2,
          22.76,
          17.29,
          16.66,
          10.07,
          15.98,
          34.83,
          13.03,
          18.28,
          24.71,
          21.16,
          22.49,
          22.75,
          12.46,
          20.92,
          18.24,
          14,
          7.25,
          38.07,
          23.95,
          25.71,
          17.31,
          29.93,
          10.65,
          12.43,
          24.08,
          11.69,
          13.42,
          14.26,
          15.95,
          12.48,
          29.8,
          8.52,
          14.52,
          11.38,
          22.82,
          19.08,
          20.27,
          11.17,
          12.26,
          18.26,
          8.51,
          10.33,
          14.15,
          13.16,
          17.47,
          34.3,
          41.19,
          27.05,
          16.43,
          8.35,
          18.64,
          11.87,
          9.78,
          7.51,
          14.07,
          13.13,
          17.26,
          24.55,
          19.77,
          29.85,
          48.17,
          25,
          13.39,
          16.49,
          21.5,
          12.66,
          16.21,
          13.81,
          24.52,
          20.76,
          31.71,
          20.69,
          7.56,
          48.33,
          15.98,
          20.45,
          13.28,
          11.61,
          10.77,
          10.07,
          35.83,
          29.03,
          17.82,
          18.78
         ],
         "y0": " ",
         "yaxis": "y"
        },
        {
         "alignmentgroup": "True",
         "hovertemplate": "smoker=Yes<br>day=%{x}<br>total_bill=%{y}<extra></extra>",
         "legendgroup": "Yes",
         "marker": {
          "color": "#EF553B"
         },
         "name": "Yes",
         "notched": true,
         "offsetgroup": "Yes",
         "orientation": "v",
         "showlegend": true,
         "type": "box",
         "x": [
          "Sat",
          "Sat",
          "Sat",
          "Sat",
          "Sat",
          "Sat",
          "Sat",
          "Sat",
          "Sat",
          "Sat",
          "Sat",
          "Thur",
          "Thur",
          "Fri",
          "Fri",
          "Fri",
          "Fri",
          "Fri",
          "Fri",
          "Fri",
          "Fri",
          "Fri",
          "Sat",
          "Sat",
          "Sat",
          "Sat",
          "Sat",
          "Sat",
          "Thur",
          "Sun",
          "Sat",
          "Sat",
          "Sat",
          "Sat",
          "Sun",
          "Sun",
          "Sun",
          "Sun",
          "Sun",
          "Sun",
          "Sun",
          "Sun",
          "Sun",
          "Sun",
          "Sun",
          "Sun",
          "Sun",
          "Sun",
          "Sun",
          "Sun",
          "Sun",
          "Sun",
          "Thur",
          "Thur",
          "Thur",
          "Thur",
          "Thur",
          "Thur",
          "Thur",
          "Thur",
          "Thur",
          "Thur",
          "Thur",
          "Thur",
          "Thur",
          "Thur",
          "Sat",
          "Sat",
          "Sat",
          "Sat",
          "Sat",
          "Sat",
          "Sat",
          "Sat",
          "Sat",
          "Sat",
          "Sat",
          "Sat",
          "Sat",
          "Fri",
          "Fri",
          "Fri",
          "Fri",
          "Fri",
          "Fri",
          "Sat",
          "Sat",
          "Sat",
          "Sat",
          "Sat",
          "Sat",
          "Sat",
          "Sat"
         ],
         "x0": " ",
         "xaxis": "x",
         "y": [
          38.01,
          11.24,
          20.29,
          13.81,
          11.02,
          18.29,
          3.07,
          15.01,
          26.86,
          25.28,
          17.92,
          19.44,
          32.68,
          28.97,
          5.75,
          16.32,
          40.17,
          27.28,
          12.03,
          21.01,
          11.35,
          15.38,
          44.3,
          22.42,
          15.36,
          20.49,
          25.21,
          14.31,
          16,
          17.51,
          10.59,
          10.63,
          50.81,
          15.81,
          7.25,
          31.85,
          16.82,
          32.9,
          17.89,
          14.48,
          9.6,
          34.63,
          34.65,
          23.33,
          45.35,
          23.17,
          40.55,
          20.9,
          30.46,
          18.15,
          23.1,
          15.69,
          19.81,
          28.44,
          15.48,
          16.58,
          10.34,
          43.11,
          13,
          13.51,
          18.71,
          12.74,
          13,
          16.4,
          20.53,
          16.47,
          26.59,
          38.73,
          24.27,
          12.76,
          30.06,
          25.89,
          13.27,
          28.17,
          12.9,
          28.15,
          11.59,
          7.74,
          30.14,
          12.16,
          13.42,
          8.58,
          13.42,
          16.27,
          10.09,
          22.12,
          24.01,
          15.69,
          15.53,
          12.6,
          32.83,
          27.18,
          22.67
         ],
         "y0": " ",
         "yaxis": "y"
        }
       ],
       "layout": {
        "boxmode": "group",
        "legend": {
         "title": {
          "text": "smoker"
         },
         "tracegroupgap": 0
        },
        "margin": {
         "t": 60
        },
        "template": {
         "data": {
          "bar": [
           {
            "error_x": {
             "color": "#2a3f5f"
            },
            "error_y": {
             "color": "#2a3f5f"
            },
            "marker": {
             "line": {
              "color": "#E5ECF6",
              "width": 0.5
             }
            },
            "type": "bar"
           }
          ],
          "barpolar": [
           {
            "marker": {
             "line": {
              "color": "#E5ECF6",
              "width": 0.5
             }
            },
            "type": "barpolar"
           }
          ],
          "carpet": [
           {
            "aaxis": {
             "endlinecolor": "#2a3f5f",
             "gridcolor": "white",
             "linecolor": "white",
             "minorgridcolor": "white",
             "startlinecolor": "#2a3f5f"
            },
            "baxis": {
             "endlinecolor": "#2a3f5f",
             "gridcolor": "white",
             "linecolor": "white",
             "minorgridcolor": "white",
             "startlinecolor": "#2a3f5f"
            },
            "type": "carpet"
           }
          ],
          "choropleth": [
           {
            "colorbar": {
             "outlinewidth": 0,
             "ticks": ""
            },
            "type": "choropleth"
           }
          ],
          "contour": [
           {
            "colorbar": {
             "outlinewidth": 0,
             "ticks": ""
            },
            "colorscale": [
             [
              0,
              "#0d0887"
             ],
             [
              0.1111111111111111,
              "#46039f"
             ],
             [
              0.2222222222222222,
              "#7201a8"
             ],
             [
              0.3333333333333333,
              "#9c179e"
             ],
             [
              0.4444444444444444,
              "#bd3786"
             ],
             [
              0.5555555555555556,
              "#d8576b"
             ],
             [
              0.6666666666666666,
              "#ed7953"
             ],
             [
              0.7777777777777778,
              "#fb9f3a"
             ],
             [
              0.8888888888888888,
              "#fdca26"
             ],
             [
              1,
              "#f0f921"
             ]
            ],
            "type": "contour"
           }
          ],
          "contourcarpet": [
           {
            "colorbar": {
             "outlinewidth": 0,
             "ticks": ""
            },
            "type": "contourcarpet"
           }
          ],
          "heatmap": [
           {
            "colorbar": {
             "outlinewidth": 0,
             "ticks": ""
            },
            "colorscale": [
             [
              0,
              "#0d0887"
             ],
             [
              0.1111111111111111,
              "#46039f"
             ],
             [
              0.2222222222222222,
              "#7201a8"
             ],
             [
              0.3333333333333333,
              "#9c179e"
             ],
             [
              0.4444444444444444,
              "#bd3786"
             ],
             [
              0.5555555555555556,
              "#d8576b"
             ],
             [
              0.6666666666666666,
              "#ed7953"
             ],
             [
              0.7777777777777778,
              "#fb9f3a"
             ],
             [
              0.8888888888888888,
              "#fdca26"
             ],
             [
              1,
              "#f0f921"
             ]
            ],
            "type": "heatmap"
           }
          ],
          "heatmapgl": [
           {
            "colorbar": {
             "outlinewidth": 0,
             "ticks": ""
            },
            "colorscale": [
             [
              0,
              "#0d0887"
             ],
             [
              0.1111111111111111,
              "#46039f"
             ],
             [
              0.2222222222222222,
              "#7201a8"
             ],
             [
              0.3333333333333333,
              "#9c179e"
             ],
             [
              0.4444444444444444,
              "#bd3786"
             ],
             [
              0.5555555555555556,
              "#d8576b"
             ],
             [
              0.6666666666666666,
              "#ed7953"
             ],
             [
              0.7777777777777778,
              "#fb9f3a"
             ],
             [
              0.8888888888888888,
              "#fdca26"
             ],
             [
              1,
              "#f0f921"
             ]
            ],
            "type": "heatmapgl"
           }
          ],
          "histogram": [
           {
            "marker": {
             "colorbar": {
              "outlinewidth": 0,
              "ticks": ""
             }
            },
            "type": "histogram"
           }
          ],
          "histogram2d": [
           {
            "colorbar": {
             "outlinewidth": 0,
             "ticks": ""
            },
            "colorscale": [
             [
              0,
              "#0d0887"
             ],
             [
              0.1111111111111111,
              "#46039f"
             ],
             [
              0.2222222222222222,
              "#7201a8"
             ],
             [
              0.3333333333333333,
              "#9c179e"
             ],
             [
              0.4444444444444444,
              "#bd3786"
             ],
             [
              0.5555555555555556,
              "#d8576b"
             ],
             [
              0.6666666666666666,
              "#ed7953"
             ],
             [
              0.7777777777777778,
              "#fb9f3a"
             ],
             [
              0.8888888888888888,
              "#fdca26"
             ],
             [
              1,
              "#f0f921"
             ]
            ],
            "type": "histogram2d"
           }
          ],
          "histogram2dcontour": [
           {
            "colorbar": {
             "outlinewidth": 0,
             "ticks": ""
            },
            "colorscale": [
             [
              0,
              "#0d0887"
             ],
             [
              0.1111111111111111,
              "#46039f"
             ],
             [
              0.2222222222222222,
              "#7201a8"
             ],
             [
              0.3333333333333333,
              "#9c179e"
             ],
             [
              0.4444444444444444,
              "#bd3786"
             ],
             [
              0.5555555555555556,
              "#d8576b"
             ],
             [
              0.6666666666666666,
              "#ed7953"
             ],
             [
              0.7777777777777778,
              "#fb9f3a"
             ],
             [
              0.8888888888888888,
              "#fdca26"
             ],
             [
              1,
              "#f0f921"
             ]
            ],
            "type": "histogram2dcontour"
           }
          ],
          "mesh3d": [
           {
            "colorbar": {
             "outlinewidth": 0,
             "ticks": ""
            },
            "type": "mesh3d"
           }
          ],
          "parcoords": [
           {
            "line": {
             "colorbar": {
              "outlinewidth": 0,
              "ticks": ""
             }
            },
            "type": "parcoords"
           }
          ],
          "pie": [
           {
            "automargin": true,
            "type": "pie"
           }
          ],
          "scatter": [
           {
            "marker": {
             "colorbar": {
              "outlinewidth": 0,
              "ticks": ""
             }
            },
            "type": "scatter"
           }
          ],
          "scatter3d": [
           {
            "line": {
             "colorbar": {
              "outlinewidth": 0,
              "ticks": ""
             }
            },
            "marker": {
             "colorbar": {
              "outlinewidth": 0,
              "ticks": ""
             }
            },
            "type": "scatter3d"
           }
          ],
          "scattercarpet": [
           {
            "marker": {
             "colorbar": {
              "outlinewidth": 0,
              "ticks": ""
             }
            },
            "type": "scattercarpet"
           }
          ],
          "scattergeo": [
           {
            "marker": {
             "colorbar": {
              "outlinewidth": 0,
              "ticks": ""
             }
            },
            "type": "scattergeo"
           }
          ],
          "scattergl": [
           {
            "marker": {
             "colorbar": {
              "outlinewidth": 0,
              "ticks": ""
             }
            },
            "type": "scattergl"
           }
          ],
          "scattermapbox": [
           {
            "marker": {
             "colorbar": {
              "outlinewidth": 0,
              "ticks": ""
             }
            },
            "type": "scattermapbox"
           }
          ],
          "scatterpolar": [
           {
            "marker": {
             "colorbar": {
              "outlinewidth": 0,
              "ticks": ""
             }
            },
            "type": "scatterpolar"
           }
          ],
          "scatterpolargl": [
           {
            "marker": {
             "colorbar": {
              "outlinewidth": 0,
              "ticks": ""
             }
            },
            "type": "scatterpolargl"
           }
          ],
          "scatterternary": [
           {
            "marker": {
             "colorbar": {
              "outlinewidth": 0,
              "ticks": ""
             }
            },
            "type": "scatterternary"
           }
          ],
          "surface": [
           {
            "colorbar": {
             "outlinewidth": 0,
             "ticks": ""
            },
            "colorscale": [
             [
              0,
              "#0d0887"
             ],
             [
              0.1111111111111111,
              "#46039f"
             ],
             [
              0.2222222222222222,
              "#7201a8"
             ],
             [
              0.3333333333333333,
              "#9c179e"
             ],
             [
              0.4444444444444444,
              "#bd3786"
             ],
             [
              0.5555555555555556,
              "#d8576b"
             ],
             [
              0.6666666666666666,
              "#ed7953"
             ],
             [
              0.7777777777777778,
              "#fb9f3a"
             ],
             [
              0.8888888888888888,
              "#fdca26"
             ],
             [
              1,
              "#f0f921"
             ]
            ],
            "type": "surface"
           }
          ],
          "table": [
           {
            "cells": {
             "fill": {
              "color": "#EBF0F8"
             },
             "line": {
              "color": "white"
             }
            },
            "header": {
             "fill": {
              "color": "#C8D4E3"
             },
             "line": {
              "color": "white"
             }
            },
            "type": "table"
           }
          ]
         },
         "layout": {
          "annotationdefaults": {
           "arrowcolor": "#2a3f5f",
           "arrowhead": 0,
           "arrowwidth": 1
          },
          "coloraxis": {
           "colorbar": {
            "outlinewidth": 0,
            "ticks": ""
           }
          },
          "colorscale": {
           "diverging": [
            [
             0,
             "#8e0152"
            ],
            [
             0.1,
             "#c51b7d"
            ],
            [
             0.2,
             "#de77ae"
            ],
            [
             0.3,
             "#f1b6da"
            ],
            [
             0.4,
             "#fde0ef"
            ],
            [
             0.5,
             "#f7f7f7"
            ],
            [
             0.6,
             "#e6f5d0"
            ],
            [
             0.7,
             "#b8e186"
            ],
            [
             0.8,
             "#7fbc41"
            ],
            [
             0.9,
             "#4d9221"
            ],
            [
             1,
             "#276419"
            ]
           ],
           "sequential": [
            [
             0,
             "#0d0887"
            ],
            [
             0.1111111111111111,
             "#46039f"
            ],
            [
             0.2222222222222222,
             "#7201a8"
            ],
            [
             0.3333333333333333,
             "#9c179e"
            ],
            [
             0.4444444444444444,
             "#bd3786"
            ],
            [
             0.5555555555555556,
             "#d8576b"
            ],
            [
             0.6666666666666666,
             "#ed7953"
            ],
            [
             0.7777777777777778,
             "#fb9f3a"
            ],
            [
             0.8888888888888888,
             "#fdca26"
            ],
            [
             1,
             "#f0f921"
            ]
           ],
           "sequentialminus": [
            [
             0,
             "#0d0887"
            ],
            [
             0.1111111111111111,
             "#46039f"
            ],
            [
             0.2222222222222222,
             "#7201a8"
            ],
            [
             0.3333333333333333,
             "#9c179e"
            ],
            [
             0.4444444444444444,
             "#bd3786"
            ],
            [
             0.5555555555555556,
             "#d8576b"
            ],
            [
             0.6666666666666666,
             "#ed7953"
            ],
            [
             0.7777777777777778,
             "#fb9f3a"
            ],
            [
             0.8888888888888888,
             "#fdca26"
            ],
            [
             1,
             "#f0f921"
            ]
           ]
          },
          "colorway": [
           "#636efa",
           "#EF553B",
           "#00cc96",
           "#ab63fa",
           "#FFA15A",
           "#19d3f3",
           "#FF6692",
           "#B6E880",
           "#FF97FF",
           "#FECB52"
          ],
          "font": {
           "color": "#2a3f5f"
          },
          "geo": {
           "bgcolor": "white",
           "lakecolor": "white",
           "landcolor": "#E5ECF6",
           "showlakes": true,
           "showland": true,
           "subunitcolor": "white"
          },
          "hoverlabel": {
           "align": "left"
          },
          "hovermode": "closest",
          "mapbox": {
           "style": "light"
          },
          "paper_bgcolor": "white",
          "plot_bgcolor": "#E5ECF6",
          "polar": {
           "angularaxis": {
            "gridcolor": "white",
            "linecolor": "white",
            "ticks": ""
           },
           "bgcolor": "#E5ECF6",
           "radialaxis": {
            "gridcolor": "white",
            "linecolor": "white",
            "ticks": ""
           }
          },
          "scene": {
           "xaxis": {
            "backgroundcolor": "#E5ECF6",
            "gridcolor": "white",
            "gridwidth": 2,
            "linecolor": "white",
            "showbackground": true,
            "ticks": "",
            "zerolinecolor": "white"
           },
           "yaxis": {
            "backgroundcolor": "#E5ECF6",
            "gridcolor": "white",
            "gridwidth": 2,
            "linecolor": "white",
            "showbackground": true,
            "ticks": "",
            "zerolinecolor": "white"
           },
           "zaxis": {
            "backgroundcolor": "#E5ECF6",
            "gridcolor": "white",
            "gridwidth": 2,
            "linecolor": "white",
            "showbackground": true,
            "ticks": "",
            "zerolinecolor": "white"
           }
          },
          "shapedefaults": {
           "line": {
            "color": "#2a3f5f"
           }
          },
          "ternary": {
           "aaxis": {
            "gridcolor": "white",
            "linecolor": "white",
            "ticks": ""
           },
           "baxis": {
            "gridcolor": "white",
            "linecolor": "white",
            "ticks": ""
           },
           "bgcolor": "#E5ECF6",
           "caxis": {
            "gridcolor": "white",
            "linecolor": "white",
            "ticks": ""
           }
          },
          "title": {
           "x": 0.05
          },
          "xaxis": {
           "automargin": true,
           "gridcolor": "white",
           "linecolor": "white",
           "ticks": "",
           "title": {
            "standoff": 15
           },
           "zerolinecolor": "white",
           "zerolinewidth": 2
          },
          "yaxis": {
           "automargin": true,
           "gridcolor": "white",
           "linecolor": "white",
           "ticks": "",
           "title": {
            "standoff": 15
           },
           "zerolinecolor": "white",
           "zerolinewidth": 2
          }
         }
        },
        "xaxis": {
         "anchor": "y",
         "domain": [
          0,
          1
         ],
         "title": {
          "text": "day"
         }
        },
        "yaxis": {
         "anchor": "x",
         "domain": [
          0,
          1
         ],
         "title": {
          "text": "total_bill"
         }
        }
       }
      },
      "text/html": [
       "<div>                            <div id=\"52aacb04-8b01-45a5-a743-bdacc6b95f66\" class=\"plotly-graph-div\" style=\"height:525px; width:100%;\"></div>            <script type=\"text/javascript\">                require([\"plotly\"], function(Plotly) {                    window.PLOTLYENV=window.PLOTLYENV || {};                                    if (document.getElementById(\"52aacb04-8b01-45a5-a743-bdacc6b95f66\")) {                    Plotly.newPlot(                        \"52aacb04-8b01-45a5-a743-bdacc6b95f66\",                        [{\"alignmentgroup\": \"True\", \"hovertemplate\": \"smoker=No<br>day=%{x}<br>total_bill=%{y}<extra></extra>\", \"legendgroup\": \"No\", \"marker\": {\"color\": \"#636efa\"}, \"name\": \"No\", \"notched\": true, \"offsetgroup\": \"No\", \"orientation\": \"v\", \"showlegend\": true, \"type\": \"box\", \"x\": [\"Sun\", \"Sun\", \"Sun\", \"Sun\", \"Sun\", \"Sun\", \"Sun\", \"Sun\", \"Sun\", \"Sun\", \"Sun\", \"Sun\", \"Sun\", \"Sun\", \"Sun\", \"Sun\", \"Sun\", \"Sun\", \"Sun\", \"Sat\", \"Sat\", \"Sat\", \"Sat\", \"Sat\", \"Sat\", \"Sat\", \"Sat\", \"Sat\", \"Sat\", \"Sat\", \"Sat\", \"Sat\", \"Sat\", \"Sat\", \"Sat\", \"Sat\", \"Sat\", \"Sat\", \"Sat\", \"Sat\", \"Sat\", \"Sun\", \"Sun\", \"Sun\", \"Sun\", \"Sun\", \"Sun\", \"Sun\", \"Sun\", \"Sun\", \"Sun\", \"Sun\", \"Sun\", \"Sun\", \"Sun\", \"Sun\", \"Sat\", \"Sat\", \"Sat\", \"Sat\", \"Sat\", \"Sat\", \"Sat\", \"Sat\", \"Sat\", \"Sat\", \"Thur\", \"Thur\", \"Thur\", \"Thur\", \"Thur\", \"Thur\", \"Thur\", \"Thur\", \"Thur\", \"Thur\", \"Thur\", \"Fri\", \"Fri\", \"Fri\", \"Sat\", \"Sat\", \"Sat\", \"Sat\", \"Sun\", \"Sun\", \"Sun\", \"Sun\", \"Sun\", \"Thur\", \"Thur\", \"Thur\", \"Thur\", \"Thur\", \"Thur\", \"Thur\", \"Thur\", \"Thur\", \"Thur\", \"Thur\", \"Thur\", \"Thur\", \"Thur\", \"Thur\", \"Thur\", \"Thur\", \"Thur\", \"Thur\", \"Thur\", \"Thur\", \"Thur\", \"Thur\", \"Thur\", \"Thur\", \"Thur\", \"Thur\", \"Thur\", \"Thur\", \"Thur\", \"Thur\", \"Thur\", \"Sun\", \"Sun\", \"Sun\", \"Sun\", \"Sun\", \"Sun\", \"Sun\", \"Sun\", \"Sun\", \"Sun\", \"Sun\", \"Sun\", \"Sun\", \"Sun\", \"Sun\", \"Sun\", \"Sun\", \"Sun\", \"Thur\", \"Sat\", \"Fri\", \"Sat\", \"Sat\", \"Sat\", \"Sat\", \"Sat\", \"Sat\", \"Sat\", \"Sat\", \"Thur\"], \"x0\": \" \", \"xaxis\": \"x\", \"y\": [16.99, 10.34, 21.01, 23.68, 24.59, 25.29, 8.77, 26.88, 15.04, 14.78, 10.27, 35.26, 15.42, 18.43, 14.83, 21.58, 10.33, 16.29, 16.97, 20.65, 17.92, 20.29, 15.77, 39.42, 19.82, 17.81, 13.37, 12.69, 21.7, 19.65, 9.55, 18.35, 15.06, 20.69, 17.78, 24.06, 16.31, 16.93, 18.69, 31.27, 16.04, 17.46, 13.94, 9.68, 30.4, 18.29, 22.23, 32.4, 28.55, 18.04, 12.54, 10.29, 34.81, 9.94, 25.56, 19.49, 26.41, 48.27, 17.59, 20.08, 16.45, 20.23, 12.02, 17.07, 14.73, 10.51, 27.2, 22.76, 17.29, 16.66, 10.07, 15.98, 34.83, 13.03, 18.28, 24.71, 21.16, 22.49, 22.75, 12.46, 20.92, 18.24, 14.0, 7.25, 38.07, 23.95, 25.71, 17.31, 29.93, 10.65, 12.43, 24.08, 11.69, 13.42, 14.26, 15.95, 12.48, 29.8, 8.52, 14.52, 11.38, 22.82, 19.08, 20.27, 11.17, 12.26, 18.26, 8.51, 10.33, 14.15, 13.16, 17.47, 34.3, 41.19, 27.05, 16.43, 8.35, 18.64, 11.87, 9.78, 7.51, 14.07, 13.13, 17.26, 24.55, 19.77, 29.85, 48.17, 25.0, 13.39, 16.49, 21.5, 12.66, 16.21, 13.81, 24.52, 20.76, 31.71, 20.69, 7.56, 48.33, 15.98, 20.45, 13.28, 11.61, 10.77, 10.07, 35.83, 29.03, 17.82, 18.78], \"y0\": \" \", \"yaxis\": \"y\"}, {\"alignmentgroup\": \"True\", \"hovertemplate\": \"smoker=Yes<br>day=%{x}<br>total_bill=%{y}<extra></extra>\", \"legendgroup\": \"Yes\", \"marker\": {\"color\": \"#EF553B\"}, \"name\": \"Yes\", \"notched\": true, \"offsetgroup\": \"Yes\", \"orientation\": \"v\", \"showlegend\": true, \"type\": \"box\", \"x\": [\"Sat\", \"Sat\", \"Sat\", \"Sat\", \"Sat\", \"Sat\", \"Sat\", \"Sat\", \"Sat\", \"Sat\", \"Sat\", \"Thur\", \"Thur\", \"Fri\", \"Fri\", \"Fri\", \"Fri\", \"Fri\", \"Fri\", \"Fri\", \"Fri\", \"Fri\", \"Sat\", \"Sat\", \"Sat\", \"Sat\", \"Sat\", \"Sat\", \"Thur\", \"Sun\", \"Sat\", \"Sat\", \"Sat\", \"Sat\", \"Sun\", \"Sun\", \"Sun\", \"Sun\", \"Sun\", \"Sun\", \"Sun\", \"Sun\", \"Sun\", \"Sun\", \"Sun\", \"Sun\", \"Sun\", \"Sun\", \"Sun\", \"Sun\", \"Sun\", \"Sun\", \"Thur\", \"Thur\", \"Thur\", \"Thur\", \"Thur\", \"Thur\", \"Thur\", \"Thur\", \"Thur\", \"Thur\", \"Thur\", \"Thur\", \"Thur\", \"Thur\", \"Sat\", \"Sat\", \"Sat\", \"Sat\", \"Sat\", \"Sat\", \"Sat\", \"Sat\", \"Sat\", \"Sat\", \"Sat\", \"Sat\", \"Sat\", \"Fri\", \"Fri\", \"Fri\", \"Fri\", \"Fri\", \"Fri\", \"Sat\", \"Sat\", \"Sat\", \"Sat\", \"Sat\", \"Sat\", \"Sat\", \"Sat\"], \"x0\": \" \", \"xaxis\": \"x\", \"y\": [38.01, 11.24, 20.29, 13.81, 11.02, 18.29, 3.07, 15.01, 26.86, 25.28, 17.92, 19.44, 32.68, 28.97, 5.75, 16.32, 40.17, 27.28, 12.03, 21.01, 11.35, 15.38, 44.3, 22.42, 15.36, 20.49, 25.21, 14.31, 16.0, 17.51, 10.59, 10.63, 50.81, 15.81, 7.25, 31.85, 16.82, 32.9, 17.89, 14.48, 9.6, 34.63, 34.65, 23.33, 45.35, 23.17, 40.55, 20.9, 30.46, 18.15, 23.1, 15.69, 19.81, 28.44, 15.48, 16.58, 10.34, 43.11, 13.0, 13.51, 18.71, 12.74, 13.0, 16.4, 20.53, 16.47, 26.59, 38.73, 24.27, 12.76, 30.06, 25.89, 13.27, 28.17, 12.9, 28.15, 11.59, 7.74, 30.14, 12.16, 13.42, 8.58, 13.42, 16.27, 10.09, 22.12, 24.01, 15.69, 15.53, 12.6, 32.83, 27.18, 22.67], \"y0\": \" \", \"yaxis\": \"y\"}],                        {\"boxmode\": \"group\", \"legend\": {\"title\": {\"text\": \"smoker\"}, \"tracegroupgap\": 0}, \"margin\": {\"t\": 60}, \"template\": {\"data\": {\"bar\": [{\"error_x\": {\"color\": \"#2a3f5f\"}, \"error_y\": {\"color\": \"#2a3f5f\"}, \"marker\": {\"line\": {\"color\": \"#E5ECF6\", \"width\": 0.5}}, \"type\": \"bar\"}], \"barpolar\": [{\"marker\": {\"line\": {\"color\": \"#E5ECF6\", \"width\": 0.5}}, \"type\": \"barpolar\"}], \"carpet\": [{\"aaxis\": {\"endlinecolor\": \"#2a3f5f\", \"gridcolor\": \"white\", \"linecolor\": \"white\", \"minorgridcolor\": \"white\", \"startlinecolor\": \"#2a3f5f\"}, \"baxis\": {\"endlinecolor\": \"#2a3f5f\", \"gridcolor\": \"white\", \"linecolor\": \"white\", \"minorgridcolor\": \"white\", \"startlinecolor\": \"#2a3f5f\"}, \"type\": \"carpet\"}], \"choropleth\": [{\"colorbar\": {\"outlinewidth\": 0, \"ticks\": \"\"}, \"type\": \"choropleth\"}], \"contour\": [{\"colorbar\": {\"outlinewidth\": 0, \"ticks\": \"\"}, \"colorscale\": [[0.0, \"#0d0887\"], [0.1111111111111111, \"#46039f\"], [0.2222222222222222, \"#7201a8\"], [0.3333333333333333, \"#9c179e\"], [0.4444444444444444, \"#bd3786\"], [0.5555555555555556, \"#d8576b\"], [0.6666666666666666, \"#ed7953\"], [0.7777777777777778, \"#fb9f3a\"], [0.8888888888888888, \"#fdca26\"], [1.0, \"#f0f921\"]], \"type\": \"contour\"}], \"contourcarpet\": [{\"colorbar\": {\"outlinewidth\": 0, \"ticks\": \"\"}, \"type\": \"contourcarpet\"}], \"heatmap\": [{\"colorbar\": {\"outlinewidth\": 0, \"ticks\": \"\"}, \"colorscale\": [[0.0, \"#0d0887\"], [0.1111111111111111, \"#46039f\"], [0.2222222222222222, \"#7201a8\"], [0.3333333333333333, \"#9c179e\"], [0.4444444444444444, \"#bd3786\"], [0.5555555555555556, \"#d8576b\"], [0.6666666666666666, \"#ed7953\"], [0.7777777777777778, \"#fb9f3a\"], [0.8888888888888888, \"#fdca26\"], [1.0, \"#f0f921\"]], \"type\": \"heatmap\"}], \"heatmapgl\": [{\"colorbar\": {\"outlinewidth\": 0, \"ticks\": \"\"}, \"colorscale\": [[0.0, \"#0d0887\"], [0.1111111111111111, \"#46039f\"], [0.2222222222222222, \"#7201a8\"], [0.3333333333333333, \"#9c179e\"], [0.4444444444444444, \"#bd3786\"], [0.5555555555555556, \"#d8576b\"], [0.6666666666666666, \"#ed7953\"], [0.7777777777777778, \"#fb9f3a\"], [0.8888888888888888, \"#fdca26\"], [1.0, \"#f0f921\"]], \"type\": \"heatmapgl\"}], \"histogram\": [{\"marker\": {\"colorbar\": {\"outlinewidth\": 0, \"ticks\": \"\"}}, \"type\": \"histogram\"}], \"histogram2d\": [{\"colorbar\": {\"outlinewidth\": 0, \"ticks\": \"\"}, \"colorscale\": [[0.0, \"#0d0887\"], [0.1111111111111111, \"#46039f\"], [0.2222222222222222, \"#7201a8\"], [0.3333333333333333, \"#9c179e\"], [0.4444444444444444, \"#bd3786\"], [0.5555555555555556, \"#d8576b\"], [0.6666666666666666, \"#ed7953\"], [0.7777777777777778, \"#fb9f3a\"], [0.8888888888888888, \"#fdca26\"], [1.0, \"#f0f921\"]], \"type\": \"histogram2d\"}], \"histogram2dcontour\": [{\"colorbar\": {\"outlinewidth\": 0, \"ticks\": \"\"}, \"colorscale\": [[0.0, \"#0d0887\"], [0.1111111111111111, \"#46039f\"], [0.2222222222222222, \"#7201a8\"], [0.3333333333333333, \"#9c179e\"], [0.4444444444444444, \"#bd3786\"], [0.5555555555555556, \"#d8576b\"], [0.6666666666666666, \"#ed7953\"], [0.7777777777777778, \"#fb9f3a\"], [0.8888888888888888, \"#fdca26\"], [1.0, \"#f0f921\"]], \"type\": \"histogram2dcontour\"}], \"mesh3d\": [{\"colorbar\": {\"outlinewidth\": 0, \"ticks\": \"\"}, \"type\": \"mesh3d\"}], \"parcoords\": [{\"line\": {\"colorbar\": {\"outlinewidth\": 0, \"ticks\": \"\"}}, \"type\": \"parcoords\"}], \"pie\": [{\"automargin\": true, \"type\": \"pie\"}], \"scatter\": [{\"marker\": {\"colorbar\": {\"outlinewidth\": 0, \"ticks\": \"\"}}, \"type\": \"scatter\"}], \"scatter3d\": [{\"line\": {\"colorbar\": {\"outlinewidth\": 0, \"ticks\": \"\"}}, \"marker\": {\"colorbar\": {\"outlinewidth\": 0, \"ticks\": \"\"}}, \"type\": \"scatter3d\"}], \"scattercarpet\": [{\"marker\": {\"colorbar\": {\"outlinewidth\": 0, \"ticks\": \"\"}}, \"type\": \"scattercarpet\"}], \"scattergeo\": [{\"marker\": {\"colorbar\": {\"outlinewidth\": 0, \"ticks\": \"\"}}, \"type\": \"scattergeo\"}], \"scattergl\": [{\"marker\": {\"colorbar\": {\"outlinewidth\": 0, \"ticks\": \"\"}}, \"type\": \"scattergl\"}], \"scattermapbox\": [{\"marker\": {\"colorbar\": {\"outlinewidth\": 0, \"ticks\": \"\"}}, \"type\": \"scattermapbox\"}], \"scatterpolar\": [{\"marker\": {\"colorbar\": {\"outlinewidth\": 0, \"ticks\": \"\"}}, \"type\": \"scatterpolar\"}], \"scatterpolargl\": [{\"marker\": {\"colorbar\": {\"outlinewidth\": 0, \"ticks\": \"\"}}, \"type\": \"scatterpolargl\"}], \"scatterternary\": [{\"marker\": {\"colorbar\": {\"outlinewidth\": 0, \"ticks\": \"\"}}, \"type\": \"scatterternary\"}], \"surface\": [{\"colorbar\": {\"outlinewidth\": 0, \"ticks\": \"\"}, \"colorscale\": [[0.0, \"#0d0887\"], [0.1111111111111111, \"#46039f\"], [0.2222222222222222, \"#7201a8\"], [0.3333333333333333, \"#9c179e\"], [0.4444444444444444, \"#bd3786\"], [0.5555555555555556, \"#d8576b\"], [0.6666666666666666, \"#ed7953\"], [0.7777777777777778, \"#fb9f3a\"], [0.8888888888888888, \"#fdca26\"], [1.0, \"#f0f921\"]], \"type\": \"surface\"}], \"table\": [{\"cells\": {\"fill\": {\"color\": \"#EBF0F8\"}, \"line\": {\"color\": \"white\"}}, \"header\": {\"fill\": {\"color\": \"#C8D4E3\"}, \"line\": {\"color\": \"white\"}}, \"type\": \"table\"}]}, \"layout\": {\"annotationdefaults\": {\"arrowcolor\": \"#2a3f5f\", \"arrowhead\": 0, \"arrowwidth\": 1}, \"coloraxis\": {\"colorbar\": {\"outlinewidth\": 0, \"ticks\": \"\"}}, \"colorscale\": {\"diverging\": [[0, \"#8e0152\"], [0.1, \"#c51b7d\"], [0.2, \"#de77ae\"], [0.3, \"#f1b6da\"], [0.4, \"#fde0ef\"], [0.5, \"#f7f7f7\"], [0.6, \"#e6f5d0\"], [0.7, \"#b8e186\"], [0.8, \"#7fbc41\"], [0.9, \"#4d9221\"], [1, \"#276419\"]], \"sequential\": [[0.0, \"#0d0887\"], [0.1111111111111111, \"#46039f\"], [0.2222222222222222, \"#7201a8\"], [0.3333333333333333, \"#9c179e\"], [0.4444444444444444, \"#bd3786\"], [0.5555555555555556, \"#d8576b\"], [0.6666666666666666, \"#ed7953\"], [0.7777777777777778, \"#fb9f3a\"], [0.8888888888888888, \"#fdca26\"], [1.0, \"#f0f921\"]], \"sequentialminus\": [[0.0, \"#0d0887\"], [0.1111111111111111, \"#46039f\"], [0.2222222222222222, \"#7201a8\"], [0.3333333333333333, \"#9c179e\"], [0.4444444444444444, \"#bd3786\"], [0.5555555555555556, \"#d8576b\"], [0.6666666666666666, \"#ed7953\"], [0.7777777777777778, \"#fb9f3a\"], [0.8888888888888888, \"#fdca26\"], [1.0, \"#f0f921\"]]}, \"colorway\": [\"#636efa\", \"#EF553B\", \"#00cc96\", \"#ab63fa\", \"#FFA15A\", \"#19d3f3\", \"#FF6692\", \"#B6E880\", \"#FF97FF\", \"#FECB52\"], \"font\": {\"color\": \"#2a3f5f\"}, \"geo\": {\"bgcolor\": \"white\", \"lakecolor\": \"white\", \"landcolor\": \"#E5ECF6\", \"showlakes\": true, \"showland\": true, \"subunitcolor\": \"white\"}, \"hoverlabel\": {\"align\": \"left\"}, \"hovermode\": \"closest\", \"mapbox\": {\"style\": \"light\"}, \"paper_bgcolor\": \"white\", \"plot_bgcolor\": \"#E5ECF6\", \"polar\": {\"angularaxis\": {\"gridcolor\": \"white\", \"linecolor\": \"white\", \"ticks\": \"\"}, \"bgcolor\": \"#E5ECF6\", \"radialaxis\": {\"gridcolor\": \"white\", \"linecolor\": \"white\", \"ticks\": \"\"}}, \"scene\": {\"xaxis\": {\"backgroundcolor\": \"#E5ECF6\", \"gridcolor\": \"white\", \"gridwidth\": 2, \"linecolor\": \"white\", \"showbackground\": true, \"ticks\": \"\", \"zerolinecolor\": \"white\"}, \"yaxis\": {\"backgroundcolor\": \"#E5ECF6\", \"gridcolor\": \"white\", \"gridwidth\": 2, \"linecolor\": \"white\", \"showbackground\": true, \"ticks\": \"\", \"zerolinecolor\": \"white\"}, \"zaxis\": {\"backgroundcolor\": \"#E5ECF6\", \"gridcolor\": \"white\", \"gridwidth\": 2, \"linecolor\": \"white\", \"showbackground\": true, \"ticks\": \"\", \"zerolinecolor\": \"white\"}}, \"shapedefaults\": {\"line\": {\"color\": \"#2a3f5f\"}}, \"ternary\": {\"aaxis\": {\"gridcolor\": \"white\", \"linecolor\": \"white\", \"ticks\": \"\"}, \"baxis\": {\"gridcolor\": \"white\", \"linecolor\": \"white\", \"ticks\": \"\"}, \"bgcolor\": \"#E5ECF6\", \"caxis\": {\"gridcolor\": \"white\", \"linecolor\": \"white\", \"ticks\": \"\"}}, \"title\": {\"x\": 0.05}, \"xaxis\": {\"automargin\": true, \"gridcolor\": \"white\", \"linecolor\": \"white\", \"ticks\": \"\", \"title\": {\"standoff\": 15}, \"zerolinecolor\": \"white\", \"zerolinewidth\": 2}, \"yaxis\": {\"automargin\": true, \"gridcolor\": \"white\", \"linecolor\": \"white\", \"ticks\": \"\", \"title\": {\"standoff\": 15}, \"zerolinecolor\": \"white\", \"zerolinewidth\": 2}}}, \"xaxis\": {\"anchor\": \"y\", \"domain\": [0.0, 1.0], \"title\": {\"text\": \"day\"}}, \"yaxis\": {\"anchor\": \"x\", \"domain\": [0.0, 1.0], \"title\": {\"text\": \"total_bill\"}}},                        {\"responsive\": true}                    ).then(function(){\n",
       "                            \n",
       "var gd = document.getElementById('52aacb04-8b01-45a5-a743-bdacc6b95f66');\n",
       "var x = new MutationObserver(function (mutations, observer) {{\n",
       "        var display = window.getComputedStyle(gd).display;\n",
       "        if (!display || display === 'none') {{\n",
       "            console.log([gd, 'removed!']);\n",
       "            Plotly.purge(gd);\n",
       "            observer.disconnect();\n",
       "        }}\n",
       "}});\n",
       "\n",
       "// Listen for the removal of the full notebook cells\n",
       "var notebookContainer = gd.closest('#notebook-container');\n",
       "if (notebookContainer) {{\n",
       "    x.observe(notebookContainer, {childList: true});\n",
       "}}\n",
       "\n",
       "// Listen for the clearing of the current output cell\n",
       "var outputEl = gd.closest('.output');\n",
       "if (outputEl) {{\n",
       "    x.observe(outputEl, {childList: true});\n",
       "}}\n",
       "\n",
       "                        })                };                });            </script>        </div>"
      ]
     },
     "metadata": {},
     "output_type": "display_data"
    },
    {
     "data": {
      "application/vnd.plotly.v1+json": {
       "config": {
        "plotlyServerURL": "https://plot.ly"
       },
       "data": [
        {
         "hovertemplate": "car_hours=%{marker.size}<br>centroid_lat=%{lat}<br>centroid_lon=%{lon}<br>peak_hour=%{marker.color}<extra></extra>",
         "lat": [
          45.47154850514618,
          45.543865066744225,
          45.4876395818664,
          45.52286967122903,
          45.45397130964701,
          45.57312570194822,
          45.53005389171565,
          45.49919320522112,
          45.55130065162754,
          45.55380992033989,
          45.47448282698679,
          45.532495802891596,
          45.56545642757568,
          45.502981092849524,
          45.567118568380785,
          45.480026123563874,
          45.44890318504734,
          45.503030898950044,
          45.609667861846745,
          45.4783482754511,
          45.51951352944332,
          45.56903061932889,
          45.536260211315536,
          45.56857291481607,
          45.546145398119506,
          45.54488834188077,
          45.54515565293561,
          45.47817195218011,
          45.58212955989256,
          45.531215706332375,
          45.55267826328372,
          45.52915993898732,
          45.524044185240705,
          45.50851711032711,
          45.48805868783629,
          45.50689566111847,
          45.57894266654677,
          45.46892041666329,
          45.5386616499238,
          45.58530574012526,
          45.46252493114867,
          45.50814302347108,
          45.552242186431826,
          45.53306824136229,
          45.529617524254725,
          45.56172666348032,
          45.458865207037036,
          45.51827128926588,
          45.46330588193452,
          45.457225801995705,
          45.58042126024095,
          45.512201564512644,
          45.548176804195634,
          45.52792120774532,
          45.589711174597085,
          45.530662983670226,
          45.49780367877612,
          45.539789045655915,
          45.529772867649726,
          45.57635821927521,
          45.592896967066345,
          45.54282395560971,
          45.451460528082634,
          45.50017958704209,
          45.559598360083115,
          45.51405331206955,
          45.52098513669111,
          45.519690256787385,
          45.47196677288637,
          45.494032055366404,
          45.57383095629989,
          45.472705529178775,
          45.582046254444144,
          45.4810627259832,
          45.60751580853944,
          45.504296529501325,
          45.459862270272,
          45.550869209779385,
          45.52515960693799,
          45.50743686739271,
          45.54836167081622,
          45.53036120501041,
          45.493394635897225,
          45.496434131952114,
          45.561211827035706,
          45.555375279371255,
          45.52524090241434,
          45.542945623835706,
          45.465546068371886,
          45.51646059071525,
          45.53280566796843,
          45.47963265657448,
          45.45591463685107,
          45.5463084423235,
          45.49848094816177,
          45.52852537252346,
          45.56579154043406,
          45.53765718184979,
          45.4745533286299,
          45.527905156168394,
          45.494951534596034,
          45.46508822490786,
          45.59654571636811,
          45.49152352552419,
          45.51792291961748,
          45.46777843101408,
          45.51117458455963,
          45.54915899878871,
          45.5357675600397,
          45.490448481199515,
          45.53823880401878,
          45.527704105217296,
          45.53477709192994,
          45.48934750923581,
          45.45408718820735,
          45.472649739508654,
          45.556594441979996,
          45.48308997243082,
          45.49619305656642,
          45.55742769063361,
          45.49971820106133,
          45.48523078626532,
          45.45863614550253,
          45.50110763484297,
          45.50643446059914,
          45.52764608144713,
          45.48910798882796,
          45.52543292800497,
          45.603264184302844,
          45.47822467091599,
          45.56923339719061,
          45.46715978062781,
          45.54384295424465,
          45.479542279363784,
          45.47510964560247,
          45.5485837721771,
          45.54415239549018,
          45.610878926788864,
          45.481028563111394,
          45.527532942363884,
          45.50713730344406,
          45.54445300313406,
          45.53978806387313,
          45.53344000001958,
          45.46746637549487,
          45.53453717264379,
          45.53658915333015,
          45.534297593562314,
          45.52410832338415,
          45.472656262772894,
          45.50559257327809,
          45.51901074555018,
          45.525401751306156,
          45.54048050327387,
          45.483355402004655,
          45.54220224528534,
          45.519876273318005,
          45.55095552442233,
          45.5167063995161,
          45.53834507417609,
          45.54348593525155,
          45.499335181599186,
          45.57484789346844,
          45.47790745068288,
          45.54237585056225,
          45.46417997825539,
          45.48897149612501,
          45.570596118677166,
          45.54954548151238,
          45.56161463008111,
          45.48012052331579,
          45.54676970678617,
          45.477285035079355,
          45.58207387417318,
          45.53903174724877,
          45.51089062167478,
          45.51923221924688,
          45.55028382655888,
          45.55467713142161,
          45.509217063208105,
          45.544939291949476,
          45.551025537905744,
          45.46427660479596,
          45.53566818785226,
          45.522231947774294,
          45.538316245910146,
          45.47689750165655,
          45.55427699436828,
          45.54393996853522,
          45.54733066622103,
          45.53172990090744,
          45.52405372692176,
          45.52567648569128,
          45.455662882205324,
          45.51492803793101,
          45.528755936688825,
          45.458936338747215,
          45.52339721689325,
          45.533806444889784,
          45.516989138854456,
          45.47417720458765,
          45.52430638232657,
          45.57221159337733,
          45.53143218128847,
          45.520293023239525,
          45.5428521988577,
          45.51177396205147,
          45.47669980415977,
          45.525274515446824,
          45.52904526725249,
          45.5458900689064,
          45.541296532653945,
          45.52641793678303,
          45.506014494884326,
          45.56249120965429,
          45.518606229301774,
          45.52203370353778,
          45.524096796711646,
          45.522477796467626,
          45.53961066076051,
          45.58895991968114,
          45.54559560319732,
          45.53747370045657,
          45.57342046906779,
          45.53557355419221,
          45.50192689559106,
          45.55114485440528,
          45.53782697365083,
          45.52940323053624,
          45.553018953670026,
          45.55058908283418,
          45.49619083697144,
          45.53891321189429,
          45.53579818413978,
          45.5313114537718,
          45.52036705536745,
          45.48313978581276,
          45.552978247410785,
          45.55430120710761,
          45.57092278674685,
          45.53361097030694,
          45.522279670736744,
          45.57044282123756,
          45.486260242824926,
          45.54717058947268,
          45.546481863801525,
          45.495523127814025,
          45.52119924708915,
          45.53256430507208
         ],
         "legendgroup": "",
         "lon": [
          -73.58868408217266,
          -73.56245583980697,
          -73.6427670307733,
          -73.59567725081808,
          -73.73894559925054,
          -73.5399023645427,
          -73.62803605045727,
          -73.56194373919256,
          -73.61171191446698,
          -73.57720679008476,
          -73.63054396371925,
          -73.5795698515998,
          -73.64201176723445,
          -73.62748995674825,
          -73.58439300639695,
          -73.58239204679344,
          -73.59297686556374,
          -73.5790295367978,
          -73.54023161013792,
          -73.57856784133362,
          -73.5793289407554,
          -73.52573081459545,
          -73.56209061086564,
          -73.5608434095333,
          -73.59114755541647,
          -73.63562160484223,
          -73.6172218179539,
          -73.5677884080307,
          -73.5214125066963,
          -73.60636943656155,
          -73.60186065688765,
          -73.61182738988052,
          -73.57255202228934,
          -73.56361361279801,
          -73.62175707085049,
          -73.63992985736495,
          -73.57226220211079,
          -73.61587858172172,
          -73.65684895574016,
          -73.556671023514,
          -73.591450603879,
          -73.61443790111136,
          -73.5567248443471,
          -73.58586652140238,
          -73.59016001500189,
          -73.61316030479037,
          -73.65393428057348,
          -73.53518132112848,
          -73.63201646596775,
          -73.64714572525091,
          -73.62450277147559,
          -73.62439363857662,
          -73.57230388575367,
          -73.61477370856916,
          -73.5124596370787,
          -73.61566624177722,
          -73.64552238789665,
          -73.5647843753964,
          -73.57271916651166,
          -73.55658769397527,
          -73.56283021327646,
          -73.53978288809766,
          -73.60077524293251,
          -73.57356239315693,
          -73.53735411019555,
          -73.6328226471968,
          -73.58596496170641,
          -73.56818790168714,
          -73.645100544613,
          -73.61062703452248,
          -73.60414320228709,
          -73.60760805947413,
          -73.5329739761722,
          -73.56087334817683,
          -73.51375636627016,
          -73.56520883274013,
          -73.58285531458277,
          -73.617846092248,
          -73.6047044738415,
          -73.57429268607511,
          -73.58539717879967,
          -73.62029730985503,
          -73.62504495384513,
          -73.5526723966116,
          -73.5902004112542,
          -73.5693084091279,
          -73.59981458158266,
          -73.62128455035952,
          -73.62067736676947,
          -73.55492741665877,
          -73.64048496482263,
          -73.62987341664497,
          -73.63946019785875,
          -73.60685622581383,
          -73.61967423595867,
          -73.6015303551942,
          -73.59801021780001,
          -73.58232714569509,
          -73.63752185951701,
          -73.5845589383217,
          -73.55953118048146,
          -73.65258509641738,
          -73.52593434063823,
          -73.63722045431894,
          -73.58980729398638,
          -73.63595141045859,
          -73.57114931189176,
          -73.63292319176229,
          -73.59674218487977,
          -73.64754965162766,
          -73.60597173479003,
          -73.57565350409223,
          -73.5728803879145,
          -73.57095543068031,
          -73.5871111898369,
          -73.58261896864329,
          -73.53214371066534,
          -73.63467979451553,
          -73.58337891052281,
          -73.60077343846366,
          -73.6544874970073,
          -73.61782510513464,
          -73.64348260405826,
          -73.63443884623426,
          -73.55280978474548,
          -73.59350797166334,
          -73.63146223580041,
          -73.62642522019199,
          -73.53716899543986,
          -73.6131691288042,
          -73.56970219899235,
          -73.64277864672296,
          -73.58224236729227,
          -73.54759113967883,
          -73.56317906950511,
          -73.57887887297544,
          -73.59658041602984,
          -73.53187026901544,
          -73.62384266869233,
          -73.58132388945316,
          -73.63043341873463,
          -73.54776346337367,
          -73.54278601036688,
          -73.5547199999811,
          -73.59078190259487,
          -73.59256240577943,
          -73.62157941242944,
          -73.6104176459635,
          -73.58731842223665,
          -73.62370107695055,
          -73.62277637402323,
          -73.57542843260613,
          -73.61022133725439,
          -73.63688048862373,
          -73.58250497434213,
          -73.61142929406647,
          -73.5829101943345,
          -73.59145464281356,
          -73.5785555677143,
          -73.57053862449273,
          -73.57027313720633,
          -73.62608825396849,
          -73.56353923367821,
          -73.62640937405116,
          -73.55538289355314,
          -73.62592082119164,
          -73.62783793313959,
          -73.5282813740298,
          -73.5671504589007,
          -73.57406730167699,
          -73.57250207253962,
          -73.53904284095108,
          -73.58122340486779,
          -73.5482689398773,
          -73.60093377104954,
          -73.57633721593862,
          -73.57244658989525,
          -73.60783357287939,
          -73.54632265433347,
          -73.61862500763354,
          -73.62750959017946,
          -73.56330138226609,
          -73.64748824071867,
          -73.56861361257508,
          -73.60012669507964,
          -73.57466650421921,
          -73.58830635134413,
          -73.62166601126063,
          -73.57394431922157,
          -73.60149624886525,
          -73.57648513074571,
          -73.5653588020603,
          -73.59003684764208,
          -73.64576984962405,
          -73.5716441021712,
          -73.57904510571099,
          -73.5963917190357,
          -73.60671288562884,
          -73.58376257412168,
          -73.58364027226555,
          -73.59403776813001,
          -73.58198744370928,
          -73.54796924219626,
          -73.56470160854694,
          -73.59161297526235,
          -73.60552201275354,
          -73.63749469512531,
          -73.61960578900425,
          -73.5938625905676,
          -73.56435515803537,
          -73.613329142374,
          -73.58761174867594,
          -73.59653658066381,
          -73.62601031881216,
          -73.58319715388312,
          -73.59475241426873,
          -73.57113021855815,
          -73.57841797764475,
          -73.57478446870937,
          -73.62661841692122,
          -73.53758992480975,
          -73.5672399814485,
          -73.57729937169172,
          -73.6327727768197,
          -73.57917172211978,
          -73.62989603799815,
          -73.53770269990457,
          -73.61519170037559,
          -73.58716197505838,
          -73.58388794985183,
          -73.57424335824136,
          -73.62436735080054,
          -73.57920139689999,
          -73.58664104188827,
          -73.58372215024325,
          -73.59761235604634,
          -73.57653648384526,
          -73.59484359129024,
          -73.56162491267922,
          -73.57715490720365,
          -73.60106645724453,
          -73.5684337774366,
          -73.52518192920604,
          -73.63860168141315,
          -73.55625786283633,
          -73.5749389146122,
          -73.62772501663683,
          -73.581789228748,
          -73.5675347056023
         ],
         "marker": {
          "color": [
           2,
           23,
           20,
           23,
           19,
           1,
           18,
           14,
           2,
           1,
           2,
           3,
           21,
           11,
           1,
           5,
           6,
           15,
           0,
           14,
           2,
           23,
           3,
           20,
           3,
           2,
           5,
           3,
           9,
           5,
           10,
           11,
           3,
           13,
           20,
           13,
           9,
           4,
           11,
           17,
           1,
           16,
           10,
           19,
           5,
           10,
           16,
           20,
           2,
           20,
           8,
           3,
           2,
           12,
           1,
           21,
           20,
           7,
           3,
           19,
           7,
           0,
           19,
           11,
           23,
           0,
           1,
           21,
           20,
           5,
           0,
           11,
           20,
           9,
           0,
           13,
           4,
           3,
           3,
           13,
           4,
           11,
           20,
           13,
           19,
           2,
           13,
           4,
           23,
           15,
           9,
           4,
           3,
           8,
           11,
           11,
           5,
           2,
           1,
           2,
           16,
           18,
           0,
           18,
           4,
           4,
           12,
           7,
           4,
           2,
           3,
           2,
           2,
           12,
           4,
           1,
           5,
           10,
           15,
           21,
           20,
           0,
           23,
           12,
           14,
           13,
           4,
           20,
           19,
           2,
           20,
           6,
           9,
           12,
           4,
           2,
           3,
           20,
           6,
           3,
           4,
           5,
           6,
           5,
           21,
           5,
           18,
           5,
           2,
           20,
           12,
           1,
           4,
           21,
           16,
           7,
           3,
           5,
           16,
           1,
           2,
           2,
           9,
           4,
           5,
           5,
           5,
           0,
           2,
           2,
           14,
           3,
           10,
           21,
           2,
           15,
           21,
           3,
           4,
           5,
           3,
           2,
           4,
           3,
           3,
           3,
           2,
           17,
           2,
           5,
           1,
           22,
           0,
           19,
           11,
           2,
           1,
           21,
           1,
           22,
           4,
           10,
           20,
           2,
           2,
           3,
           20,
           12,
           11,
           2,
           3,
           3,
           12,
           8,
           3,
           20,
           3,
           15,
           20,
           3,
           20,
           1,
           5,
           0,
           2,
           5,
           3,
           5,
           18,
           8,
           1,
           13,
           2,
           2,
           3,
           0,
           23,
           5,
           2,
           10,
           11,
           21,
           7,
           18,
           3,
           2,
           8,
           17,
           5
          ],
          "coloraxis": "coloraxis",
          "size": [
           1772.7499999995052,
           986.3333333335023,
           354.74999999998914,
           560.166666666642,
           2836.666666667356,
           1022.7500000001857,
           835.7500000001005,
           1888.3333333327332,
           1030.75000000018,
           1841.1666666661097,
           1966.166666665996,
           1532.9999999997233,
           834.1666666667667,
           289.0000000000041,
           273.58333333334093,
           594.8333333333244,
           1020.9166666668516,
           1428.4999999998183,
           670.7500000000256,
           489.4999999999585,
           1426.3333333331534,
           422.49999999997374,
           1624.7499999996398,
           732.7500000000537,
           1969.6666666659928,
           1657.9999999996094,
           665.5833333333567,
           805.08333333342,
           217.75000000000728,
           1332.583333333239,
           630.5000000000073,
           559.9999999999752,
           456.16666666663286,
           1185.8333333333726,
           1112.6666666667722,
           1016.5833333335162,
           1367.249999999874,
           1767.9999999995096,
           2291.9999999996985,
           552.8333333333053,
           1397.9166666665128,
           997.7500000001744,
           926.1666666668083,
           323.166666666663,
           833.0833333334327,
           1394.4166666665162,
           601.7499999999943,
           1724.4999999995493,
           1061.5833333334854,
           325.7499999999958,
           1271.5833333332946,
           1951.0833333326764,
           961.4166666668243,
           507.83333333328767,
           679.6666666666962,
           734.833333333388,
           1057.4166666668223,
           262.8333333333434,
           1302.7499999999327,
           345.8333333333245,
           1543.3333333330472,
           630.7500000000074,
           1164.5833333333915,
           1676.9999999995925,
           1282.5833333332844,
           1019.0000000001841,
           1719.1666666662204,
           681.5000000000305,
           287.66666666667106,
           1559.333333333033,
           627.4166666666725,
           1863.7499999994227,
           867.2500000001149,
           2413.4999999999195,
           1322.3333333332482,
           3274.000000001485,
           1558.9166666663666,
           1902.416666666054,
           1609.166666666321,
           2773.250000000574,
           1940.6666666660192,
           1597.4999999996646,
           162.500000000001,
           1929.0833333326966,
           847.0000000001057,
           1522.7499999997324,
           635.3333333333427,
           2057.166666665938,
           845.9166666667719,
           2022.9166666659446,
           1598.7499999996635,
           566.8333333333118,
           1714.1666666662252,
           680.50000000003,
           1043.2500000001687,
           673.3333333333601,
           1105.750000000112,
           1382.9999999998597,
           531.4999999999623,
           635.0000000000092,
           2376.833333333186,
           462.4166666666312,
           1315.6666666665876,
           504.4166666666218,
           741.2500000000576,
           867.3333333334482,
           875.5833333334522,
           2188.1666666661763,
           1172.8333333333842,
           332.4999999999942,
           1351.749999999888,
           966.25000000016,
           981.7500000001669,
           1714.3333333328915,
           813.8333333334241,
           863.7500000001132,
           1202.1666666666906,
           665.0833333333562,
           2433.83333333329,
           1189.0000000000364,
           2298.5833333330443,
           1414.9166666664971,
           476.49999999996146,
           766.3333333334024,
           2338.2499999997826,
           1170.500000000053,
           716.0000000000463,
           1228.083333333334,
           511.8333333332868,
           1357.3333333332166,
           1144.0833333334106,
           292.5000000000033,
           1069.0833333334783,
           1552.333333333039,
           1029.9166666668477,
           2752.8333333338696,
           2077.1666666659744,
           1167.8333333333887,
           658.2500000000199,
           741.7500000000579,
           520.4166666666239,
           2127.4999999993993,
           1093.2500000001232,
           1590.4166666663375,
           696.4166666667039,
           1286.8333333332805,
           1489.1666666664298,
           1796.91666666615,
           1298.2499999999366,
           921.5833333334731,
           605.5833333333293,
           1245.1666666666515,
           1261.9166666666365,
           1705.4999999995666,
           1363.999999999877,
           790.9166666667468,
           1067.7500000001464,
           1320.4999999999166,
           1317.416666666586,
           1404.3333333331734,
           648.6666666666823,
           309.7499999999994,
           484.99999999995947,
           439.33333333330324,
           814.1666666667575,
           1264.4166666666342,
           655.583333333352,
           342.66666666665856,
           626.5000000000055,
           1059.9166666668202,
           321.66666666666333,
           676.4166666666947,
           201.91666666667214,
           1223.916666666671,
           1687.4166666662493,
           1112.583333333439,
           466.7499999999637,
           785.0833333334109,
           1800.833333332813,
           1364.5833333332098,
           2299.749999999713,
           1038.7500000001728,
           722.8333333333826,
           1706.999999999565,
           1231.7499999999973,
           967.833333333494,
           1386.5833333331898,
           192.41666666667103,
           291.3333333333369,
           1370.9166666665374,
           605.4999999999959,
           194.0833333333379,
           538.7499999999656,
           33.24999999999985,
           1792.749999999487,
           737.0833333333891,
           1153.7500000000682,
           886.0000000001235,
           955.6666666668217,
           1071.2500000001432,
           748.2500000000607,
           1487.8333333330975,
           835.7500000001005,
           889.0000000001248,
           1337.4166666665676,
           1137.3333333334165,
           966.25000000016,
           1034.0000000001774,
           1499.6666666664205,
           503.58333333328864,
           894.9166666667943,
           1749.4166666661934,
           1879.749999999408,
           635.1666666666761,
           777.0833333334073,
           1202.9166666666902,
           560.4999999999753,
           790.3333333334133,
           797.5833333334166,
           1156.5000000000655,
           1462.9166666664535,
           1168.0833333333885,
           456.24999999996606,
           1019.7500000001843,
           1167.1666666667227,
           478.0833333332944,
           1599.7499999996626,
           1578.0833333330154,
           494.49999999995737,
           1705.1666666662336,
           947.6666666668183,
           114.49999999999784,
           759.4166666667327,
           1567.6666666663587,
           547.9999999999698,
           978.3333333334987,
           673.08333333336,
           1354.666666666552,
           1355.1666666665515,
           898.0000000001289,
           701.6666666667062,
           873.1666666667842,
           235.41666666667598,
           998.6666666668415,
           951.4166666668201,
           795.4166666667488,
           425.749999999973,
           1044.8333333335006,
           694.9166666667032
          ],
          "sizemode": "area",
          "sizeref": 14.551111111117711
         },
         "mode": "markers",
         "name": "",
         "showlegend": false,
         "subplot": "mapbox",
         "type": "scattermapbox"
        }
       ],
       "layout": {
        "coloraxis": {
         "colorbar": {
          "title": {
           "text": "peak_hour"
          }
         },
         "colorscale": [
          [
           0,
           "#000000"
          ],
          [
           0.0625,
           "#001f4d"
          ],
          [
           0.125,
           "#003786"
          ],
          [
           0.1875,
           "#0e58a8"
          ],
          [
           0.25,
           "#217eb8"
          ],
          [
           0.3125,
           "#30a4ca"
          ],
          [
           0.375,
           "#54c8df"
          ],
          [
           0.4375,
           "#9be4ef"
          ],
          [
           0.5,
           "#e1e9d1"
          ],
          [
           0.5625,
           "#f3d573"
          ],
          [
           0.625,
           "#e7b000"
          ],
          [
           0.6875,
           "#da8200"
          ],
          [
           0.75,
           "#c65400"
          ],
          [
           0.8125,
           "#ac2301"
          ],
          [
           0.875,
           "#820000"
          ],
          [
           0.9375,
           "#4c0000"
          ],
          [
           1,
           "#000000"
          ]
         ]
        },
        "legend": {
         "itemsizing": "constant",
         "tracegroupgap": 0
        },
        "mapbox": {
         "center": {
          "lat": 45.52341668343996,
          "lon": -73.59183434290806
         },
         "domain": {
          "x": [
           0,
           1
          ],
          "y": [
           0,
           1
          ]
         },
         "style": "carto-positron",
         "zoom": 10
        },
        "margin": {
         "t": 60
        },
        "template": {
         "data": {
          "bar": [
           {
            "error_x": {
             "color": "#2a3f5f"
            },
            "error_y": {
             "color": "#2a3f5f"
            },
            "marker": {
             "line": {
              "color": "#E5ECF6",
              "width": 0.5
             }
            },
            "type": "bar"
           }
          ],
          "barpolar": [
           {
            "marker": {
             "line": {
              "color": "#E5ECF6",
              "width": 0.5
             }
            },
            "type": "barpolar"
           }
          ],
          "carpet": [
           {
            "aaxis": {
             "endlinecolor": "#2a3f5f",
             "gridcolor": "white",
             "linecolor": "white",
             "minorgridcolor": "white",
             "startlinecolor": "#2a3f5f"
            },
            "baxis": {
             "endlinecolor": "#2a3f5f",
             "gridcolor": "white",
             "linecolor": "white",
             "minorgridcolor": "white",
             "startlinecolor": "#2a3f5f"
            },
            "type": "carpet"
           }
          ],
          "choropleth": [
           {
            "colorbar": {
             "outlinewidth": 0,
             "ticks": ""
            },
            "type": "choropleth"
           }
          ],
          "contour": [
           {
            "colorbar": {
             "outlinewidth": 0,
             "ticks": ""
            },
            "colorscale": [
             [
              0,
              "#0d0887"
             ],
             [
              0.1111111111111111,
              "#46039f"
             ],
             [
              0.2222222222222222,
              "#7201a8"
             ],
             [
              0.3333333333333333,
              "#9c179e"
             ],
             [
              0.4444444444444444,
              "#bd3786"
             ],
             [
              0.5555555555555556,
              "#d8576b"
             ],
             [
              0.6666666666666666,
              "#ed7953"
             ],
             [
              0.7777777777777778,
              "#fb9f3a"
             ],
             [
              0.8888888888888888,
              "#fdca26"
             ],
             [
              1,
              "#f0f921"
             ]
            ],
            "type": "contour"
           }
          ],
          "contourcarpet": [
           {
            "colorbar": {
             "outlinewidth": 0,
             "ticks": ""
            },
            "type": "contourcarpet"
           }
          ],
          "heatmap": [
           {
            "colorbar": {
             "outlinewidth": 0,
             "ticks": ""
            },
            "colorscale": [
             [
              0,
              "#0d0887"
             ],
             [
              0.1111111111111111,
              "#46039f"
             ],
             [
              0.2222222222222222,
              "#7201a8"
             ],
             [
              0.3333333333333333,
              "#9c179e"
             ],
             [
              0.4444444444444444,
              "#bd3786"
             ],
             [
              0.5555555555555556,
              "#d8576b"
             ],
             [
              0.6666666666666666,
              "#ed7953"
             ],
             [
              0.7777777777777778,
              "#fb9f3a"
             ],
             [
              0.8888888888888888,
              "#fdca26"
             ],
             [
              1,
              "#f0f921"
             ]
            ],
            "type": "heatmap"
           }
          ],
          "heatmapgl": [
           {
            "colorbar": {
             "outlinewidth": 0,
             "ticks": ""
            },
            "colorscale": [
             [
              0,
              "#0d0887"
             ],
             [
              0.1111111111111111,
              "#46039f"
             ],
             [
              0.2222222222222222,
              "#7201a8"
             ],
             [
              0.3333333333333333,
              "#9c179e"
             ],
             [
              0.4444444444444444,
              "#bd3786"
             ],
             [
              0.5555555555555556,
              "#d8576b"
             ],
             [
              0.6666666666666666,
              "#ed7953"
             ],
             [
              0.7777777777777778,
              "#fb9f3a"
             ],
             [
              0.8888888888888888,
              "#fdca26"
             ],
             [
              1,
              "#f0f921"
             ]
            ],
            "type": "heatmapgl"
           }
          ],
          "histogram": [
           {
            "marker": {
             "colorbar": {
              "outlinewidth": 0,
              "ticks": ""
             }
            },
            "type": "histogram"
           }
          ],
          "histogram2d": [
           {
            "colorbar": {
             "outlinewidth": 0,
             "ticks": ""
            },
            "colorscale": [
             [
              0,
              "#0d0887"
             ],
             [
              0.1111111111111111,
              "#46039f"
             ],
             [
              0.2222222222222222,
              "#7201a8"
             ],
             [
              0.3333333333333333,
              "#9c179e"
             ],
             [
              0.4444444444444444,
              "#bd3786"
             ],
             [
              0.5555555555555556,
              "#d8576b"
             ],
             [
              0.6666666666666666,
              "#ed7953"
             ],
             [
              0.7777777777777778,
              "#fb9f3a"
             ],
             [
              0.8888888888888888,
              "#fdca26"
             ],
             [
              1,
              "#f0f921"
             ]
            ],
            "type": "histogram2d"
           }
          ],
          "histogram2dcontour": [
           {
            "colorbar": {
             "outlinewidth": 0,
             "ticks": ""
            },
            "colorscale": [
             [
              0,
              "#0d0887"
             ],
             [
              0.1111111111111111,
              "#46039f"
             ],
             [
              0.2222222222222222,
              "#7201a8"
             ],
             [
              0.3333333333333333,
              "#9c179e"
             ],
             [
              0.4444444444444444,
              "#bd3786"
             ],
             [
              0.5555555555555556,
              "#d8576b"
             ],
             [
              0.6666666666666666,
              "#ed7953"
             ],
             [
              0.7777777777777778,
              "#fb9f3a"
             ],
             [
              0.8888888888888888,
              "#fdca26"
             ],
             [
              1,
              "#f0f921"
             ]
            ],
            "type": "histogram2dcontour"
           }
          ],
          "mesh3d": [
           {
            "colorbar": {
             "outlinewidth": 0,
             "ticks": ""
            },
            "type": "mesh3d"
           }
          ],
          "parcoords": [
           {
            "line": {
             "colorbar": {
              "outlinewidth": 0,
              "ticks": ""
             }
            },
            "type": "parcoords"
           }
          ],
          "pie": [
           {
            "automargin": true,
            "type": "pie"
           }
          ],
          "scatter": [
           {
            "marker": {
             "colorbar": {
              "outlinewidth": 0,
              "ticks": ""
             }
            },
            "type": "scatter"
           }
          ],
          "scatter3d": [
           {
            "line": {
             "colorbar": {
              "outlinewidth": 0,
              "ticks": ""
             }
            },
            "marker": {
             "colorbar": {
              "outlinewidth": 0,
              "ticks": ""
             }
            },
            "type": "scatter3d"
           }
          ],
          "scattercarpet": [
           {
            "marker": {
             "colorbar": {
              "outlinewidth": 0,
              "ticks": ""
             }
            },
            "type": "scattercarpet"
           }
          ],
          "scattergeo": [
           {
            "marker": {
             "colorbar": {
              "outlinewidth": 0,
              "ticks": ""
             }
            },
            "type": "scattergeo"
           }
          ],
          "scattergl": [
           {
            "marker": {
             "colorbar": {
              "outlinewidth": 0,
              "ticks": ""
             }
            },
            "type": "scattergl"
           }
          ],
          "scattermapbox": [
           {
            "marker": {
             "colorbar": {
              "outlinewidth": 0,
              "ticks": ""
             }
            },
            "type": "scattermapbox"
           }
          ],
          "scatterpolar": [
           {
            "marker": {
             "colorbar": {
              "outlinewidth": 0,
              "ticks": ""
             }
            },
            "type": "scatterpolar"
           }
          ],
          "scatterpolargl": [
           {
            "marker": {
             "colorbar": {
              "outlinewidth": 0,
              "ticks": ""
             }
            },
            "type": "scatterpolargl"
           }
          ],
          "scatterternary": [
           {
            "marker": {
             "colorbar": {
              "outlinewidth": 0,
              "ticks": ""
             }
            },
            "type": "scatterternary"
           }
          ],
          "surface": [
           {
            "colorbar": {
             "outlinewidth": 0,
             "ticks": ""
            },
            "colorscale": [
             [
              0,
              "#0d0887"
             ],
             [
              0.1111111111111111,
              "#46039f"
             ],
             [
              0.2222222222222222,
              "#7201a8"
             ],
             [
              0.3333333333333333,
              "#9c179e"
             ],
             [
              0.4444444444444444,
              "#bd3786"
             ],
             [
              0.5555555555555556,
              "#d8576b"
             ],
             [
              0.6666666666666666,
              "#ed7953"
             ],
             [
              0.7777777777777778,
              "#fb9f3a"
             ],
             [
              0.8888888888888888,
              "#fdca26"
             ],
             [
              1,
              "#f0f921"
             ]
            ],
            "type": "surface"
           }
          ],
          "table": [
           {
            "cells": {
             "fill": {
              "color": "#EBF0F8"
             },
             "line": {
              "color": "white"
             }
            },
            "header": {
             "fill": {
              "color": "#C8D4E3"
             },
             "line": {
              "color": "white"
             }
            },
            "type": "table"
           }
          ]
         },
         "layout": {
          "annotationdefaults": {
           "arrowcolor": "#2a3f5f",
           "arrowhead": 0,
           "arrowwidth": 1
          },
          "coloraxis": {
           "colorbar": {
            "outlinewidth": 0,
            "ticks": ""
           }
          },
          "colorscale": {
           "diverging": [
            [
             0,
             "#8e0152"
            ],
            [
             0.1,
             "#c51b7d"
            ],
            [
             0.2,
             "#de77ae"
            ],
            [
             0.3,
             "#f1b6da"
            ],
            [
             0.4,
             "#fde0ef"
            ],
            [
             0.5,
             "#f7f7f7"
            ],
            [
             0.6,
             "#e6f5d0"
            ],
            [
             0.7,
             "#b8e186"
            ],
            [
             0.8,
             "#7fbc41"
            ],
            [
             0.9,
             "#4d9221"
            ],
            [
             1,
             "#276419"
            ]
           ],
           "sequential": [
            [
             0,
             "#0d0887"
            ],
            [
             0.1111111111111111,
             "#46039f"
            ],
            [
             0.2222222222222222,
             "#7201a8"
            ],
            [
             0.3333333333333333,
             "#9c179e"
            ],
            [
             0.4444444444444444,
             "#bd3786"
            ],
            [
             0.5555555555555556,
             "#d8576b"
            ],
            [
             0.6666666666666666,
             "#ed7953"
            ],
            [
             0.7777777777777778,
             "#fb9f3a"
            ],
            [
             0.8888888888888888,
             "#fdca26"
            ],
            [
             1,
             "#f0f921"
            ]
           ],
           "sequentialminus": [
            [
             0,
             "#0d0887"
            ],
            [
             0.1111111111111111,
             "#46039f"
            ],
            [
             0.2222222222222222,
             "#7201a8"
            ],
            [
             0.3333333333333333,
             "#9c179e"
            ],
            [
             0.4444444444444444,
             "#bd3786"
            ],
            [
             0.5555555555555556,
             "#d8576b"
            ],
            [
             0.6666666666666666,
             "#ed7953"
            ],
            [
             0.7777777777777778,
             "#fb9f3a"
            ],
            [
             0.8888888888888888,
             "#fdca26"
            ],
            [
             1,
             "#f0f921"
            ]
           ]
          },
          "colorway": [
           "#636efa",
           "#EF553B",
           "#00cc96",
           "#ab63fa",
           "#FFA15A",
           "#19d3f3",
           "#FF6692",
           "#B6E880",
           "#FF97FF",
           "#FECB52"
          ],
          "font": {
           "color": "#2a3f5f"
          },
          "geo": {
           "bgcolor": "white",
           "lakecolor": "white",
           "landcolor": "#E5ECF6",
           "showlakes": true,
           "showland": true,
           "subunitcolor": "white"
          },
          "hoverlabel": {
           "align": "left"
          },
          "hovermode": "closest",
          "mapbox": {
           "style": "light"
          },
          "paper_bgcolor": "white",
          "plot_bgcolor": "#E5ECF6",
          "polar": {
           "angularaxis": {
            "gridcolor": "white",
            "linecolor": "white",
            "ticks": ""
           },
           "bgcolor": "#E5ECF6",
           "radialaxis": {
            "gridcolor": "white",
            "linecolor": "white",
            "ticks": ""
           }
          },
          "scene": {
           "xaxis": {
            "backgroundcolor": "#E5ECF6",
            "gridcolor": "white",
            "gridwidth": 2,
            "linecolor": "white",
            "showbackground": true,
            "ticks": "",
            "zerolinecolor": "white"
           },
           "yaxis": {
            "backgroundcolor": "#E5ECF6",
            "gridcolor": "white",
            "gridwidth": 2,
            "linecolor": "white",
            "showbackground": true,
            "ticks": "",
            "zerolinecolor": "white"
           },
           "zaxis": {
            "backgroundcolor": "#E5ECF6",
            "gridcolor": "white",
            "gridwidth": 2,
            "linecolor": "white",
            "showbackground": true,
            "ticks": "",
            "zerolinecolor": "white"
           }
          },
          "shapedefaults": {
           "line": {
            "color": "#2a3f5f"
           }
          },
          "ternary": {
           "aaxis": {
            "gridcolor": "white",
            "linecolor": "white",
            "ticks": ""
           },
           "baxis": {
            "gridcolor": "white",
            "linecolor": "white",
            "ticks": ""
           },
           "bgcolor": "#E5ECF6",
           "caxis": {
            "gridcolor": "white",
            "linecolor": "white",
            "ticks": ""
           }
          },
          "title": {
           "x": 0.05
          },
          "xaxis": {
           "automargin": true,
           "gridcolor": "white",
           "linecolor": "white",
           "ticks": "",
           "title": {
            "standoff": 15
           },
           "zerolinecolor": "white",
           "zerolinewidth": 2
          },
          "yaxis": {
           "automargin": true,
           "gridcolor": "white",
           "linecolor": "white",
           "ticks": "",
           "title": {
            "standoff": 15
           },
           "zerolinecolor": "white",
           "zerolinewidth": 2
          }
         }
        }
       }
      },
      "text/html": [
       "<div>                            <div id=\"7fa167ce-6f91-4583-b6ba-942fe9cab8f6\" class=\"plotly-graph-div\" style=\"height:525px; width:100%;\"></div>            <script type=\"text/javascript\">                require([\"plotly\"], function(Plotly) {                    window.PLOTLYENV=window.PLOTLYENV || {};                                    if (document.getElementById(\"7fa167ce-6f91-4583-b6ba-942fe9cab8f6\")) {                    Plotly.newPlot(                        \"7fa167ce-6f91-4583-b6ba-942fe9cab8f6\",                        [{\"hovertemplate\": \"car_hours=%{marker.size}<br>centroid_lat=%{lat}<br>centroid_lon=%{lon}<br>peak_hour=%{marker.color}<extra></extra>\", \"lat\": [45.47154850514618, 45.543865066744225, 45.4876395818664, 45.52286967122903, 45.45397130964701, 45.57312570194822, 45.53005389171565, 45.49919320522112, 45.55130065162754, 45.55380992033989, 45.47448282698679, 45.532495802891596, 45.56545642757568, 45.502981092849524, 45.567118568380785, 45.480026123563874, 45.44890318504734, 45.503030898950044, 45.609667861846745, 45.4783482754511, 45.51951352944332, 45.56903061932889, 45.536260211315536, 45.56857291481607, 45.546145398119506, 45.54488834188077, 45.54515565293561, 45.47817195218011, 45.58212955989256, 45.531215706332375, 45.55267826328372, 45.52915993898732, 45.524044185240705, 45.50851711032711, 45.48805868783629, 45.50689566111847, 45.57894266654677, 45.46892041666329, 45.5386616499238, 45.58530574012526, 45.46252493114867, 45.50814302347108, 45.552242186431826, 45.53306824136229, 45.529617524254725, 45.56172666348032, 45.458865207037036, 45.51827128926588, 45.46330588193452, 45.457225801995705, 45.58042126024095, 45.512201564512644, 45.548176804195634, 45.52792120774532, 45.589711174597085, 45.530662983670226, 45.49780367877612, 45.539789045655915, 45.529772867649726, 45.57635821927521, 45.592896967066345, 45.54282395560971, 45.451460528082634, 45.50017958704209, 45.559598360083115, 45.51405331206955, 45.52098513669111, 45.519690256787385, 45.47196677288637, 45.494032055366404, 45.57383095629989, 45.472705529178775, 45.582046254444144, 45.4810627259832, 45.60751580853944, 45.504296529501325, 45.459862270272, 45.550869209779385, 45.52515960693799, 45.50743686739271, 45.54836167081622, 45.53036120501041, 45.493394635897225, 45.496434131952114, 45.561211827035706, 45.555375279371255, 45.52524090241434, 45.542945623835706, 45.465546068371886, 45.51646059071525, 45.53280566796843, 45.47963265657448, 45.45591463685107, 45.5463084423235, 45.49848094816177, 45.52852537252346, 45.56579154043406, 45.53765718184979, 45.4745533286299, 45.527905156168394, 45.494951534596034, 45.46508822490786, 45.59654571636811, 45.49152352552419, 45.51792291961748, 45.46777843101408, 45.51117458455963, 45.54915899878871, 45.5357675600397, 45.490448481199515, 45.53823880401878, 45.527704105217296, 45.53477709192994, 45.48934750923581, 45.45408718820735, 45.472649739508654, 45.556594441979996, 45.48308997243082, 45.49619305656642, 45.55742769063361, 45.49971820106133, 45.48523078626532, 45.45863614550253, 45.50110763484297, 45.50643446059914, 45.52764608144713, 45.48910798882796, 45.52543292800497, 45.603264184302844, 45.47822467091599, 45.56923339719061, 45.46715978062781, 45.54384295424465, 45.479542279363784, 45.47510964560247, 45.5485837721771, 45.54415239549018, 45.610878926788864, 45.481028563111394, 45.527532942363884, 45.50713730344406, 45.54445300313406, 45.53978806387313, 45.53344000001958, 45.46746637549487, 45.53453717264379, 45.53658915333015, 45.534297593562314, 45.52410832338415, 45.472656262772894, 45.50559257327809, 45.51901074555018, 45.525401751306156, 45.54048050327387, 45.483355402004655, 45.54220224528534, 45.519876273318005, 45.55095552442233, 45.5167063995161, 45.53834507417609, 45.54348593525155, 45.499335181599186, 45.57484789346844, 45.47790745068288, 45.54237585056225, 45.46417997825539, 45.48897149612501, 45.570596118677166, 45.54954548151238, 45.56161463008111, 45.48012052331579, 45.54676970678617, 45.477285035079355, 45.58207387417318, 45.53903174724877, 45.51089062167478, 45.51923221924688, 45.55028382655888, 45.55467713142161, 45.509217063208105, 45.544939291949476, 45.551025537905744, 45.46427660479596, 45.53566818785226, 45.522231947774294, 45.538316245910146, 45.47689750165655, 45.55427699436828, 45.54393996853522, 45.54733066622103, 45.53172990090744, 45.52405372692176, 45.52567648569128, 45.455662882205324, 45.51492803793101, 45.528755936688825, 45.458936338747215, 45.52339721689325, 45.533806444889784, 45.516989138854456, 45.47417720458765, 45.52430638232657, 45.57221159337733, 45.53143218128847, 45.520293023239525, 45.5428521988577, 45.51177396205147, 45.47669980415977, 45.525274515446824, 45.52904526725249, 45.5458900689064, 45.541296532653945, 45.52641793678303, 45.506014494884326, 45.56249120965429, 45.518606229301774, 45.52203370353778, 45.524096796711646, 45.522477796467626, 45.53961066076051, 45.58895991968114, 45.54559560319732, 45.53747370045657, 45.57342046906779, 45.53557355419221, 45.50192689559106, 45.55114485440528, 45.53782697365083, 45.52940323053624, 45.553018953670026, 45.55058908283418, 45.49619083697144, 45.53891321189429, 45.53579818413978, 45.5313114537718, 45.52036705536745, 45.48313978581276, 45.552978247410785, 45.55430120710761, 45.57092278674685, 45.53361097030694, 45.522279670736744, 45.57044282123756, 45.486260242824926, 45.54717058947268, 45.546481863801525, 45.495523127814025, 45.52119924708915, 45.53256430507208], \"legendgroup\": \"\", \"lon\": [-73.58868408217266, -73.56245583980697, -73.6427670307733, -73.59567725081808, -73.73894559925054, -73.5399023645427, -73.62803605045727, -73.56194373919256, -73.61171191446698, -73.57720679008476, -73.63054396371925, -73.5795698515998, -73.64201176723445, -73.62748995674825, -73.58439300639695, -73.58239204679344, -73.59297686556374, -73.5790295367978, -73.54023161013792, -73.57856784133362, -73.5793289407554, -73.52573081459545, -73.56209061086564, -73.5608434095333, -73.59114755541647, -73.63562160484223, -73.6172218179539, -73.5677884080307, -73.5214125066963, -73.60636943656155, -73.60186065688765, -73.61182738988052, -73.57255202228934, -73.56361361279801, -73.62175707085049, -73.63992985736495, -73.57226220211079, -73.61587858172172, -73.65684895574016, -73.556671023514, -73.591450603879, -73.61443790111136, -73.5567248443471, -73.58586652140238, -73.59016001500189, -73.61316030479037, -73.65393428057348, -73.53518132112848, -73.63201646596775, -73.64714572525091, -73.62450277147559, -73.62439363857662, -73.57230388575367, -73.61477370856916, -73.5124596370787, -73.61566624177722, -73.64552238789665, -73.5647843753964, -73.57271916651166, -73.55658769397527, -73.56283021327646, -73.53978288809766, -73.60077524293251, -73.57356239315693, -73.53735411019555, -73.6328226471968, -73.58596496170641, -73.56818790168714, -73.645100544613, -73.61062703452248, -73.60414320228709, -73.60760805947413, -73.5329739761722, -73.56087334817683, -73.51375636627016, -73.56520883274013, -73.58285531458277, -73.617846092248, -73.6047044738415, -73.57429268607511, -73.58539717879967, -73.62029730985503, -73.62504495384513, -73.5526723966116, -73.5902004112542, -73.5693084091279, -73.59981458158266, -73.62128455035952, -73.62067736676947, -73.55492741665877, -73.64048496482263, -73.62987341664497, -73.63946019785875, -73.60685622581383, -73.61967423595867, -73.6015303551942, -73.59801021780001, -73.58232714569509, -73.63752185951701, -73.5845589383217, -73.55953118048146, -73.65258509641738, -73.52593434063823, -73.63722045431894, -73.58980729398638, -73.63595141045859, -73.57114931189176, -73.63292319176229, -73.59674218487977, -73.64754965162766, -73.60597173479003, -73.57565350409223, -73.5728803879145, -73.57095543068031, -73.5871111898369, -73.58261896864329, -73.53214371066534, -73.63467979451553, -73.58337891052281, -73.60077343846366, -73.6544874970073, -73.61782510513464, -73.64348260405826, -73.63443884623426, -73.55280978474548, -73.59350797166334, -73.63146223580041, -73.62642522019199, -73.53716899543986, -73.6131691288042, -73.56970219899235, -73.64277864672296, -73.58224236729227, -73.54759113967883, -73.56317906950511, -73.57887887297544, -73.59658041602984, -73.53187026901544, -73.62384266869233, -73.58132388945316, -73.63043341873463, -73.54776346337367, -73.54278601036688, -73.5547199999811, -73.59078190259487, -73.59256240577943, -73.62157941242944, -73.6104176459635, -73.58731842223665, -73.62370107695055, -73.62277637402323, -73.57542843260613, -73.61022133725439, -73.63688048862373, -73.58250497434213, -73.61142929406647, -73.5829101943345, -73.59145464281356, -73.5785555677143, -73.57053862449273, -73.57027313720633, -73.62608825396849, -73.56353923367821, -73.62640937405116, -73.55538289355314, -73.62592082119164, -73.62783793313959, -73.5282813740298, -73.5671504589007, -73.57406730167699, -73.57250207253962, -73.53904284095108, -73.58122340486779, -73.5482689398773, -73.60093377104954, -73.57633721593862, -73.57244658989525, -73.60783357287939, -73.54632265433347, -73.61862500763354, -73.62750959017946, -73.56330138226609, -73.64748824071867, -73.56861361257508, -73.60012669507964, -73.57466650421921, -73.58830635134413, -73.62166601126063, -73.57394431922157, -73.60149624886525, -73.57648513074571, -73.5653588020603, -73.59003684764208, -73.64576984962405, -73.5716441021712, -73.57904510571099, -73.5963917190357, -73.60671288562884, -73.58376257412168, -73.58364027226555, -73.59403776813001, -73.58198744370928, -73.54796924219626, -73.56470160854694, -73.59161297526235, -73.60552201275354, -73.63749469512531, -73.61960578900425, -73.5938625905676, -73.56435515803537, -73.613329142374, -73.58761174867594, -73.59653658066381, -73.62601031881216, -73.58319715388312, -73.59475241426873, -73.57113021855815, -73.57841797764475, -73.57478446870937, -73.62661841692122, -73.53758992480975, -73.5672399814485, -73.57729937169172, -73.6327727768197, -73.57917172211978, -73.62989603799815, -73.53770269990457, -73.61519170037559, -73.58716197505838, -73.58388794985183, -73.57424335824136, -73.62436735080054, -73.57920139689999, -73.58664104188827, -73.58372215024325, -73.59761235604634, -73.57653648384526, -73.59484359129024, -73.56162491267922, -73.57715490720365, -73.60106645724453, -73.5684337774366, -73.52518192920604, -73.63860168141315, -73.55625786283633, -73.5749389146122, -73.62772501663683, -73.581789228748, -73.5675347056023], \"marker\": {\"color\": [2, 23, 20, 23, 19, 1, 18, 14, 2, 1, 2, 3, 21, 11, 1, 5, 6, 15, 0, 14, 2, 23, 3, 20, 3, 2, 5, 3, 9, 5, 10, 11, 3, 13, 20, 13, 9, 4, 11, 17, 1, 16, 10, 19, 5, 10, 16, 20, 2, 20, 8, 3, 2, 12, 1, 21, 20, 7, 3, 19, 7, 0, 19, 11, 23, 0, 1, 21, 20, 5, 0, 11, 20, 9, 0, 13, 4, 3, 3, 13, 4, 11, 20, 13, 19, 2, 13, 4, 23, 15, 9, 4, 3, 8, 11, 11, 5, 2, 1, 2, 16, 18, 0, 18, 4, 4, 12, 7, 4, 2, 3, 2, 2, 12, 4, 1, 5, 10, 15, 21, 20, 0, 23, 12, 14, 13, 4, 20, 19, 2, 20, 6, 9, 12, 4, 2, 3, 20, 6, 3, 4, 5, 6, 5, 21, 5, 18, 5, 2, 20, 12, 1, 4, 21, 16, 7, 3, 5, 16, 1, 2, 2, 9, 4, 5, 5, 5, 0, 2, 2, 14, 3, 10, 21, 2, 15, 21, 3, 4, 5, 3, 2, 4, 3, 3, 3, 2, 17, 2, 5, 1, 22, 0, 19, 11, 2, 1, 21, 1, 22, 4, 10, 20, 2, 2, 3, 20, 12, 11, 2, 3, 3, 12, 8, 3, 20, 3, 15, 20, 3, 20, 1, 5, 0, 2, 5, 3, 5, 18, 8, 1, 13, 2, 2, 3, 0, 23, 5, 2, 10, 11, 21, 7, 18, 3, 2, 8, 17, 5], \"coloraxis\": \"coloraxis\", \"size\": [1772.7499999995052, 986.3333333335023, 354.74999999998914, 560.166666666642, 2836.666666667356, 1022.7500000001857, 835.7500000001005, 1888.3333333327332, 1030.75000000018, 1841.1666666661097, 1966.166666665996, 1532.9999999997233, 834.1666666667667, 289.0000000000041, 273.58333333334093, 594.8333333333244, 1020.9166666668516, 1428.4999999998183, 670.7500000000256, 489.4999999999585, 1426.3333333331534, 422.49999999997374, 1624.7499999996398, 732.7500000000537, 1969.6666666659928, 1657.9999999996094, 665.5833333333567, 805.08333333342, 217.75000000000728, 1332.583333333239, 630.5000000000073, 559.9999999999752, 456.16666666663286, 1185.8333333333726, 1112.6666666667722, 1016.5833333335162, 1367.249999999874, 1767.9999999995096, 2291.9999999996985, 552.8333333333053, 1397.9166666665128, 997.7500000001744, 926.1666666668083, 323.166666666663, 833.0833333334327, 1394.4166666665162, 601.7499999999943, 1724.4999999995493, 1061.5833333334854, 325.7499999999958, 1271.5833333332946, 1951.0833333326764, 961.4166666668243, 507.83333333328767, 679.6666666666962, 734.833333333388, 1057.4166666668223, 262.8333333333434, 1302.7499999999327, 345.8333333333245, 1543.3333333330472, 630.7500000000074, 1164.5833333333915, 1676.9999999995925, 1282.5833333332844, 1019.0000000001841, 1719.1666666662204, 681.5000000000305, 287.66666666667106, 1559.333333333033, 627.4166666666725, 1863.7499999994227, 867.2500000001149, 2413.4999999999195, 1322.3333333332482, 3274.000000001485, 1558.9166666663666, 1902.416666666054, 1609.166666666321, 2773.250000000574, 1940.6666666660192, 1597.4999999996646, 162.500000000001, 1929.0833333326966, 847.0000000001057, 1522.7499999997324, 635.3333333333427, 2057.166666665938, 845.9166666667719, 2022.9166666659446, 1598.7499999996635, 566.8333333333118, 1714.1666666662252, 680.50000000003, 1043.2500000001687, 673.3333333333601, 1105.750000000112, 1382.9999999998597, 531.4999999999623, 635.0000000000092, 2376.833333333186, 462.4166666666312, 1315.6666666665876, 504.4166666666218, 741.2500000000576, 867.3333333334482, 875.5833333334522, 2188.1666666661763, 1172.8333333333842, 332.4999999999942, 1351.749999999888, 966.25000000016, 981.7500000001669, 1714.3333333328915, 813.8333333334241, 863.7500000001132, 1202.1666666666906, 665.0833333333562, 2433.83333333329, 1189.0000000000364, 2298.5833333330443, 1414.9166666664971, 476.49999999996146, 766.3333333334024, 2338.2499999997826, 1170.500000000053, 716.0000000000463, 1228.083333333334, 511.8333333332868, 1357.3333333332166, 1144.0833333334106, 292.5000000000033, 1069.0833333334783, 1552.333333333039, 1029.9166666668477, 2752.8333333338696, 2077.1666666659744, 1167.8333333333887, 658.2500000000199, 741.7500000000579, 520.4166666666239, 2127.4999999993993, 1093.2500000001232, 1590.4166666663375, 696.4166666667039, 1286.8333333332805, 1489.1666666664298, 1796.91666666615, 1298.2499999999366, 921.5833333334731, 605.5833333333293, 1245.1666666666515, 1261.9166666666365, 1705.4999999995666, 1363.999999999877, 790.9166666667468, 1067.7500000001464, 1320.4999999999166, 1317.416666666586, 1404.3333333331734, 648.6666666666823, 309.7499999999994, 484.99999999995947, 439.33333333330324, 814.1666666667575, 1264.4166666666342, 655.583333333352, 342.66666666665856, 626.5000000000055, 1059.9166666668202, 321.66666666666333, 676.4166666666947, 201.91666666667214, 1223.916666666671, 1687.4166666662493, 1112.583333333439, 466.7499999999637, 785.0833333334109, 1800.833333332813, 1364.5833333332098, 2299.749999999713, 1038.7500000001728, 722.8333333333826, 1706.999999999565, 1231.7499999999973, 967.833333333494, 1386.5833333331898, 192.41666666667103, 291.3333333333369, 1370.9166666665374, 605.4999999999959, 194.0833333333379, 538.7499999999656, 33.24999999999985, 1792.749999999487, 737.0833333333891, 1153.7500000000682, 886.0000000001235, 955.6666666668217, 1071.2500000001432, 748.2500000000607, 1487.8333333330975, 835.7500000001005, 889.0000000001248, 1337.4166666665676, 1137.3333333334165, 966.25000000016, 1034.0000000001774, 1499.6666666664205, 503.58333333328864, 894.9166666667943, 1749.4166666661934, 1879.749999999408, 635.1666666666761, 777.0833333334073, 1202.9166666666902, 560.4999999999753, 790.3333333334133, 797.5833333334166, 1156.5000000000655, 1462.9166666664535, 1168.0833333333885, 456.24999999996606, 1019.7500000001843, 1167.1666666667227, 478.0833333332944, 1599.7499999996626, 1578.0833333330154, 494.49999999995737, 1705.1666666662336, 947.6666666668183, 114.49999999999784, 759.4166666667327, 1567.6666666663587, 547.9999999999698, 978.3333333334987, 673.08333333336, 1354.666666666552, 1355.1666666665515, 898.0000000001289, 701.6666666667062, 873.1666666667842, 235.41666666667598, 998.6666666668415, 951.4166666668201, 795.4166666667488, 425.749999999973, 1044.8333333335006, 694.9166666667032], \"sizemode\": \"area\", \"sizeref\": 14.551111111117711}, \"mode\": \"markers\", \"name\": \"\", \"showlegend\": false, \"subplot\": \"mapbox\", \"type\": \"scattermapbox\"}],                        {\"coloraxis\": {\"colorbar\": {\"title\": {\"text\": \"peak_hour\"}}, \"colorscale\": [[0.0, \"#000000\"], [0.0625, \"#001f4d\"], [0.125, \"#003786\"], [0.1875, \"#0e58a8\"], [0.25, \"#217eb8\"], [0.3125, \"#30a4ca\"], [0.375, \"#54c8df\"], [0.4375, \"#9be4ef\"], [0.5, \"#e1e9d1\"], [0.5625, \"#f3d573\"], [0.625, \"#e7b000\"], [0.6875, \"#da8200\"], [0.75, \"#c65400\"], [0.8125, \"#ac2301\"], [0.875, \"#820000\"], [0.9375, \"#4c0000\"], [1.0, \"#000000\"]]}, \"legend\": {\"itemsizing\": \"constant\", \"tracegroupgap\": 0}, \"mapbox\": {\"center\": {\"lat\": 45.52341668343996, \"lon\": -73.59183434290806}, \"domain\": {\"x\": [0.0, 1.0], \"y\": [0.0, 1.0]}, \"style\": \"carto-positron\", \"zoom\": 10}, \"margin\": {\"t\": 60}, \"template\": {\"data\": {\"bar\": [{\"error_x\": {\"color\": \"#2a3f5f\"}, \"error_y\": {\"color\": \"#2a3f5f\"}, \"marker\": {\"line\": {\"color\": \"#E5ECF6\", \"width\": 0.5}}, \"type\": \"bar\"}], \"barpolar\": [{\"marker\": {\"line\": {\"color\": \"#E5ECF6\", \"width\": 0.5}}, \"type\": \"barpolar\"}], \"carpet\": [{\"aaxis\": {\"endlinecolor\": \"#2a3f5f\", \"gridcolor\": \"white\", \"linecolor\": \"white\", \"minorgridcolor\": \"white\", \"startlinecolor\": \"#2a3f5f\"}, \"baxis\": {\"endlinecolor\": \"#2a3f5f\", \"gridcolor\": \"white\", \"linecolor\": \"white\", \"minorgridcolor\": \"white\", \"startlinecolor\": \"#2a3f5f\"}, \"type\": \"carpet\"}], \"choropleth\": [{\"colorbar\": {\"outlinewidth\": 0, \"ticks\": \"\"}, \"type\": \"choropleth\"}], \"contour\": [{\"colorbar\": {\"outlinewidth\": 0, \"ticks\": \"\"}, \"colorscale\": [[0.0, \"#0d0887\"], [0.1111111111111111, \"#46039f\"], [0.2222222222222222, \"#7201a8\"], [0.3333333333333333, \"#9c179e\"], [0.4444444444444444, \"#bd3786\"], [0.5555555555555556, \"#d8576b\"], [0.6666666666666666, \"#ed7953\"], [0.7777777777777778, \"#fb9f3a\"], [0.8888888888888888, \"#fdca26\"], [1.0, \"#f0f921\"]], \"type\": \"contour\"}], \"contourcarpet\": [{\"colorbar\": {\"outlinewidth\": 0, \"ticks\": \"\"}, \"type\": \"contourcarpet\"}], \"heatmap\": [{\"colorbar\": {\"outlinewidth\": 0, \"ticks\": \"\"}, \"colorscale\": [[0.0, \"#0d0887\"], [0.1111111111111111, \"#46039f\"], [0.2222222222222222, \"#7201a8\"], [0.3333333333333333, \"#9c179e\"], [0.4444444444444444, \"#bd3786\"], [0.5555555555555556, \"#d8576b\"], [0.6666666666666666, \"#ed7953\"], [0.7777777777777778, \"#fb9f3a\"], [0.8888888888888888, \"#fdca26\"], [1.0, \"#f0f921\"]], \"type\": \"heatmap\"}], \"heatmapgl\": [{\"colorbar\": {\"outlinewidth\": 0, \"ticks\": \"\"}, \"colorscale\": [[0.0, \"#0d0887\"], [0.1111111111111111, \"#46039f\"], [0.2222222222222222, \"#7201a8\"], [0.3333333333333333, \"#9c179e\"], [0.4444444444444444, \"#bd3786\"], [0.5555555555555556, \"#d8576b\"], [0.6666666666666666, \"#ed7953\"], [0.7777777777777778, \"#fb9f3a\"], [0.8888888888888888, \"#fdca26\"], [1.0, \"#f0f921\"]], \"type\": \"heatmapgl\"}], \"histogram\": [{\"marker\": {\"colorbar\": {\"outlinewidth\": 0, \"ticks\": \"\"}}, \"type\": \"histogram\"}], \"histogram2d\": [{\"colorbar\": {\"outlinewidth\": 0, \"ticks\": \"\"}, \"colorscale\": [[0.0, \"#0d0887\"], [0.1111111111111111, \"#46039f\"], [0.2222222222222222, \"#7201a8\"], [0.3333333333333333, \"#9c179e\"], [0.4444444444444444, \"#bd3786\"], [0.5555555555555556, \"#d8576b\"], [0.6666666666666666, \"#ed7953\"], [0.7777777777777778, \"#fb9f3a\"], [0.8888888888888888, \"#fdca26\"], [1.0, \"#f0f921\"]], \"type\": \"histogram2d\"}], \"histogram2dcontour\": [{\"colorbar\": {\"outlinewidth\": 0, \"ticks\": \"\"}, \"colorscale\": [[0.0, \"#0d0887\"], [0.1111111111111111, \"#46039f\"], [0.2222222222222222, \"#7201a8\"], [0.3333333333333333, \"#9c179e\"], [0.4444444444444444, \"#bd3786\"], [0.5555555555555556, \"#d8576b\"], [0.6666666666666666, \"#ed7953\"], [0.7777777777777778, \"#fb9f3a\"], [0.8888888888888888, \"#fdca26\"], [1.0, \"#f0f921\"]], \"type\": \"histogram2dcontour\"}], \"mesh3d\": [{\"colorbar\": {\"outlinewidth\": 0, \"ticks\": \"\"}, \"type\": \"mesh3d\"}], \"parcoords\": [{\"line\": {\"colorbar\": {\"outlinewidth\": 0, \"ticks\": \"\"}}, \"type\": \"parcoords\"}], \"pie\": [{\"automargin\": true, \"type\": \"pie\"}], \"scatter\": [{\"marker\": {\"colorbar\": {\"outlinewidth\": 0, \"ticks\": \"\"}}, \"type\": \"scatter\"}], \"scatter3d\": [{\"line\": {\"colorbar\": {\"outlinewidth\": 0, \"ticks\": \"\"}}, \"marker\": {\"colorbar\": {\"outlinewidth\": 0, \"ticks\": \"\"}}, \"type\": \"scatter3d\"}], \"scattercarpet\": [{\"marker\": {\"colorbar\": {\"outlinewidth\": 0, \"ticks\": \"\"}}, \"type\": \"scattercarpet\"}], \"scattergeo\": [{\"marker\": {\"colorbar\": {\"outlinewidth\": 0, \"ticks\": \"\"}}, \"type\": \"scattergeo\"}], \"scattergl\": [{\"marker\": {\"colorbar\": {\"outlinewidth\": 0, \"ticks\": \"\"}}, \"type\": \"scattergl\"}], \"scattermapbox\": [{\"marker\": {\"colorbar\": {\"outlinewidth\": 0, \"ticks\": \"\"}}, \"type\": \"scattermapbox\"}], \"scatterpolar\": [{\"marker\": {\"colorbar\": {\"outlinewidth\": 0, \"ticks\": \"\"}}, \"type\": \"scatterpolar\"}], \"scatterpolargl\": [{\"marker\": {\"colorbar\": {\"outlinewidth\": 0, \"ticks\": \"\"}}, \"type\": \"scatterpolargl\"}], \"scatterternary\": [{\"marker\": {\"colorbar\": {\"outlinewidth\": 0, \"ticks\": \"\"}}, \"type\": \"scatterternary\"}], \"surface\": [{\"colorbar\": {\"outlinewidth\": 0, \"ticks\": \"\"}, \"colorscale\": [[0.0, \"#0d0887\"], [0.1111111111111111, \"#46039f\"], [0.2222222222222222, \"#7201a8\"], [0.3333333333333333, \"#9c179e\"], [0.4444444444444444, \"#bd3786\"], [0.5555555555555556, \"#d8576b\"], [0.6666666666666666, \"#ed7953\"], [0.7777777777777778, \"#fb9f3a\"], [0.8888888888888888, \"#fdca26\"], [1.0, \"#f0f921\"]], \"type\": \"surface\"}], \"table\": [{\"cells\": {\"fill\": {\"color\": \"#EBF0F8\"}, \"line\": {\"color\": \"white\"}}, \"header\": {\"fill\": {\"color\": \"#C8D4E3\"}, \"line\": {\"color\": \"white\"}}, \"type\": \"table\"}]}, \"layout\": {\"annotationdefaults\": {\"arrowcolor\": \"#2a3f5f\", \"arrowhead\": 0, \"arrowwidth\": 1}, \"coloraxis\": {\"colorbar\": {\"outlinewidth\": 0, \"ticks\": \"\"}}, \"colorscale\": {\"diverging\": [[0, \"#8e0152\"], [0.1, \"#c51b7d\"], [0.2, \"#de77ae\"], [0.3, \"#f1b6da\"], [0.4, \"#fde0ef\"], [0.5, \"#f7f7f7\"], [0.6, \"#e6f5d0\"], [0.7, \"#b8e186\"], [0.8, \"#7fbc41\"], [0.9, \"#4d9221\"], [1, \"#276419\"]], \"sequential\": [[0.0, \"#0d0887\"], [0.1111111111111111, \"#46039f\"], [0.2222222222222222, \"#7201a8\"], [0.3333333333333333, \"#9c179e\"], [0.4444444444444444, \"#bd3786\"], [0.5555555555555556, \"#d8576b\"], [0.6666666666666666, \"#ed7953\"], [0.7777777777777778, \"#fb9f3a\"], [0.8888888888888888, \"#fdca26\"], [1.0, \"#f0f921\"]], \"sequentialminus\": [[0.0, \"#0d0887\"], [0.1111111111111111, \"#46039f\"], [0.2222222222222222, \"#7201a8\"], [0.3333333333333333, \"#9c179e\"], [0.4444444444444444, \"#bd3786\"], [0.5555555555555556, \"#d8576b\"], [0.6666666666666666, \"#ed7953\"], [0.7777777777777778, \"#fb9f3a\"], [0.8888888888888888, \"#fdca26\"], [1.0, \"#f0f921\"]]}, \"colorway\": [\"#636efa\", \"#EF553B\", \"#00cc96\", \"#ab63fa\", \"#FFA15A\", \"#19d3f3\", \"#FF6692\", \"#B6E880\", \"#FF97FF\", \"#FECB52\"], \"font\": {\"color\": \"#2a3f5f\"}, \"geo\": {\"bgcolor\": \"white\", \"lakecolor\": \"white\", \"landcolor\": \"#E5ECF6\", \"showlakes\": true, \"showland\": true, \"subunitcolor\": \"white\"}, \"hoverlabel\": {\"align\": \"left\"}, \"hovermode\": \"closest\", \"mapbox\": {\"style\": \"light\"}, \"paper_bgcolor\": \"white\", \"plot_bgcolor\": \"#E5ECF6\", \"polar\": {\"angularaxis\": {\"gridcolor\": \"white\", \"linecolor\": \"white\", \"ticks\": \"\"}, \"bgcolor\": \"#E5ECF6\", \"radialaxis\": {\"gridcolor\": \"white\", \"linecolor\": \"white\", \"ticks\": \"\"}}, \"scene\": {\"xaxis\": {\"backgroundcolor\": \"#E5ECF6\", \"gridcolor\": \"white\", \"gridwidth\": 2, \"linecolor\": \"white\", \"showbackground\": true, \"ticks\": \"\", \"zerolinecolor\": \"white\"}, \"yaxis\": {\"backgroundcolor\": \"#E5ECF6\", \"gridcolor\": \"white\", \"gridwidth\": 2, \"linecolor\": \"white\", \"showbackground\": true, \"ticks\": \"\", \"zerolinecolor\": \"white\"}, \"zaxis\": {\"backgroundcolor\": \"#E5ECF6\", \"gridcolor\": \"white\", \"gridwidth\": 2, \"linecolor\": \"white\", \"showbackground\": true, \"ticks\": \"\", \"zerolinecolor\": \"white\"}}, \"shapedefaults\": {\"line\": {\"color\": \"#2a3f5f\"}}, \"ternary\": {\"aaxis\": {\"gridcolor\": \"white\", \"linecolor\": \"white\", \"ticks\": \"\"}, \"baxis\": {\"gridcolor\": \"white\", \"linecolor\": \"white\", \"ticks\": \"\"}, \"bgcolor\": \"#E5ECF6\", \"caxis\": {\"gridcolor\": \"white\", \"linecolor\": \"white\", \"ticks\": \"\"}}, \"title\": {\"x\": 0.05}, \"xaxis\": {\"automargin\": true, \"gridcolor\": \"white\", \"linecolor\": \"white\", \"ticks\": \"\", \"title\": {\"standoff\": 15}, \"zerolinecolor\": \"white\", \"zerolinewidth\": 2}, \"yaxis\": {\"automargin\": true, \"gridcolor\": \"white\", \"linecolor\": \"white\", \"ticks\": \"\", \"title\": {\"standoff\": 15}, \"zerolinecolor\": \"white\", \"zerolinewidth\": 2}}}},                        {\"responsive\": true}                    ).then(function(){\n",
       "                            \n",
       "var gd = document.getElementById('7fa167ce-6f91-4583-b6ba-942fe9cab8f6');\n",
       "var x = new MutationObserver(function (mutations, observer) {{\n",
       "        var display = window.getComputedStyle(gd).display;\n",
       "        if (!display || display === 'none') {{\n",
       "            console.log([gd, 'removed!']);\n",
       "            Plotly.purge(gd);\n",
       "            observer.disconnect();\n",
       "        }}\n",
       "}});\n",
       "\n",
       "// Listen for the removal of the full notebook cells\n",
       "var notebookContainer = gd.closest('#notebook-container');\n",
       "if (notebookContainer) {{\n",
       "    x.observe(notebookContainer, {childList: true});\n",
       "}}\n",
       "\n",
       "// Listen for the clearing of the current output cell\n",
       "var outputEl = gd.closest('.output');\n",
       "if (outputEl) {{\n",
       "    x.observe(outputEl, {childList: true});\n",
       "}}\n",
       "\n",
       "                        })                };                });            </script>        </div>"
      ]
     },
     "metadata": {},
     "output_type": "display_data"
    },
    {
     "data": {
      "application/vnd.plotly.v1+json": {
       "config": {
        "plotlyServerURL": "https://plot.ly"
       },
       "data": [
        {
         "hovertemplate": "<b>%{hovertext}</b><br><br>winner=Joly<br>result=plurality<br>Joly=%{x}<br>Coderre=%{y}<br>Bergeron=%{z}<br>total=%{marker.size}<extra></extra>",
         "hovertext": [
          "101-Bois-de-Liesse",
          "102-Cap-Saint-Jacques",
          "161-Saint-HenriPetite-BourgognePointe-Saint-Charles",
          "172-Desmarchais-Crawford",
          "181-Peter-McGill",
          "182-Saint-Jacques",
          "33-Snowdon",
          "34-Notre-Dame-de-Grâce",
          "35-Loyola",
          "41-du Canal",
          "43-Fort-Rolland",
          "63-Jacques-Bizard"
         ],
         "legendgroup": "Joly, plurality",
         "marker": {
          "color": "blue",
          "size": [
           7334,
           6363,
           9378,
           7956,
           4099,
           6357,
           4687,
           7688,
           6125,
           3263,
           4438,
           1432
          ],
          "sizemode": "area",
          "sizeref": 27.625,
          "symbol": "circle"
         },
         "mode": "markers",
         "name": "Joly, plurality",
         "scene": "scene",
         "showlegend": true,
         "type": "scatter3d",
         "x": [
          3024,
          2675,
          3578,
          2849,
          1894,
          2282,
          1636,
          3262,
          2648,
          1266,
          1908,
          690
         ],
         "y": [
          2481,
          2525,
          2432,
          2476,
          1451,
          1906,
          1548,
          1773,
          2040,
          1165,
          1325,
          518
         ],
         "z": [
          1829,
          1163,
          3368,
          2631,
          754,
          2169,
          1503,
          2653,
          1437,
          832,
          1205,
          224
         ]
        },
        {
         "hovertemplate": "<b>%{hovertext}</b><br><br>winner=Joly<br>result=majority<br>Joly=%{x}<br>Coderre=%{y}<br>Bergeron=%{z}<br>total=%{marker.size}<extra></extra>",
         "hovertext": [
          "61-Pierre-Foretier",
          "62-Denis-Benjamin-Viger"
         ],
         "legendgroup": "Joly, majority",
         "marker": {
          "color": "blue",
          "size": [
           1887,
           1889
          ],
          "sizemode": "area",
          "sizeref": 27.625,
          "symbol": "diamond"
         },
         "mode": "markers",
         "name": "Joly, majority",
         "scene": "scene",
         "showlegend": true,
         "type": "scatter3d",
         "x": [
          998,
          1068
         ],
         "y": [
          631,
          595
         ],
         "z": [
          258,
          226
         ]
        },
        {
         "hovertemplate": "<b>%{hovertext}</b><br><br>winner=Coderre<br>result=plurality<br>Joly=%{x}<br>Coderre=%{y}<br>Bergeron=%{z}<br>total=%{marker.size}<extra></extra>",
         "hovertext": [
          "11-Sault-au-Récollet",
          "12-Saint-Sulpice",
          "134-Marie-Victorin",
          "14-Bordeaux-Cartierville",
          "141-Côte-de-Liesse",
          "142-Norman-McLaren",
          "162-Saint-PaulÉmard",
          "171-ChamplainL'Île-des-Soeurs",
          "192-François-Perrault",
          "194-Parc-Extension",
          "22-Est",
          "31-Darlington",
          "42-J.-Émery-Provost",
          "51-Sault-Saint-Louis",
          "52-Cecil-P.-Newman",
          "64-Sainte-Geneviève",
          "71-Tétreaultville",
          "74-Louis-Riel",
          "91-Claude-Ryan"
         ],
         "legendgroup": "Coderre, plurality",
         "marker": {
          "color": "red",
          "size": [
           8650,
           8316,
           9259,
           7247,
           9587,
           8385,
           7096,
           9200,
           7583,
           5615,
           3469,
           4287,
           3003,
           9560,
           7809,
           789,
           9737,
           8025,
           2062
          ],
          "sizemode": "area",
          "sizeref": 27.625,
          "symbol": "circle"
         },
         "mode": "markers",
         "name": "Coderre, plurality",
         "scene": "scene",
         "showlegend": true,
         "type": "scatter3d",
         "x": [
          2532,
          2543,
          2431,
          2081,
          3959,
          2822,
          2438,
          3291,
          2039,
          1402,
          1172,
          1232,
          1157,
          3717,
          2943,
          326,
          3454,
          2338,
          423
         ],
         "y": [
          3348,
          3252,
          3673,
          3612,
          4308,
          4104,
          2566,
          3347,
          2878,
          2420,
          1589,
          1873,
          1193,
          4201,
          3536,
          332,
          3694,
          3509,
          996
         ],
         "z": [
          2770,
          2521,
          3155,
          1554,
          1320,
          1459,
          2092,
          2562,
          2666,
          1793,
          708,
          1182,
          653,
          1642,
          1330,
          131,
          2589,
          2178,
          643
         ]
        },
        {
         "hovertemplate": "<b>%{hovertext}</b><br><br>winner=Coderre<br>result=majority<br>Joly=%{x}<br>Coderre=%{y}<br>Bergeron=%{z}<br>total=%{marker.size}<extra></extra>",
         "hovertext": [
          "121-La Pointe-aux-Prairies",
          "122-Pointe-aux-Trembles",
          "123-Rivière-des-Prairies",
          "151-Saint-Léonard-Est",
          "152-Saint-Léonard-Ouest",
          "191-Saint-Michel",
          "21-Ouest",
          "23-Centre",
          "81-Marie-Clarac",
          "82-Ovide-Clermont"
         ],
         "legendgroup": "Coderre, majority",
         "marker": {
          "color": "red",
          "size": [
           10546,
           9465,
           8351,
           6454,
           8479,
           5872,
           3951,
           4663,
           9111,
           8060
          ],
          "sizemode": "area",
          "sizeref": 27.625,
          "symbol": "diamond"
         },
         "mode": "markers",
         "name": "Coderre, majority",
         "scene": "scene",
         "showlegend": true,
         "type": "scatter3d",
         "x": [
          3330,
          2852,
          1656,
          1641,
          1908,
          1220,
          1076,
          1286,
          1435,
          1051
         ],
         "y": [
          5456,
          4734,
          5737,
          3931,
          5387,
          3668,
          2184,
          2526,
          6591,
          6229
         ],
         "z": [
          1760,
          1879,
          958,
          882,
          1184,
          984,
          691,
          851,
          1085,
          780
         ]
        },
        {
         "hovertemplate": "<b>%{hovertext}</b><br><br>winner=Bergeron<br>result=plurality<br>Joly=%{x}<br>Coderre=%{y}<br>Bergeron=%{z}<br>total=%{marker.size}<extra></extra>",
         "hovertext": [
          "113-Jeanne-Mance",
          "13-Ahuntsic",
          "133-Vieux-Rosemont",
          "183-Sainte-Marie",
          "32-Côte-des-Neiges",
          "72-MaisonneuveLongue-Pointe",
          "73-Hochelaga",
          "92-Joseph-Beaubien",
          "93-Robert-Bourassa",
          "94-Jeanne-Sauvé"
         ],
         "legendgroup": "Bergeron, plurality",
         "marker": {
          "color": "green",
          "size": [
           7370,
           9282,
           10866,
           6445,
           5172,
           9135,
           7900,
           1965,
           1330,
           1678
          ],
          "sizemode": "area",
          "sizeref": 27.625,
          "symbol": "circle"
         },
         "mode": "markers",
         "name": "Bergeron, plurality",
         "scene": "scene",
         "showlegend": true,
         "type": "scatter3d",
         "x": [
          2316,
          2873,
          3234,
          2271,
          1578,
          3139,
          2675,
          592,
          419,
          489
         ],
         "y": [
          1455,
          2979,
          2670,
          1347,
          1644,
          2746,
          1546,
          540,
          446,
          491
         ],
         "z": [
          3599,
          3430,
          4962,
          2827,
          1950,
          3250,
          3679,
          833,
          465,
          698
         ]
        },
        {
         "hovertemplate": "<b>%{hovertext}</b><br><br>winner=Bergeron<br>result=majority<br>Joly=%{x}<br>Coderre=%{y}<br>Bergeron=%{z}<br>total=%{marker.size}<extra></extra>",
         "hovertext": [
          "111-Mile-End",
          "112-DeLorimier",
          "131-Saint-Édouard",
          "132-Étienne-Desmarteau",
          "193-Villeray"
         ],
         "legendgroup": "Bergeron, majority",
         "marker": {
          "color": "green",
          "size": [
           9030,
           10747,
           11050,
           10867,
           10802
          ],
          "sizemode": "area",
          "sizeref": 27.625,
          "symbol": "diamond"
         },
         "mode": "markers",
         "name": "Bergeron, majority",
         "scene": "scene",
         "showlegend": true,
         "type": "scatter3d",
         "x": [
          2514,
          3044,
          2815,
          2788,
          2782
         ],
         "y": [
          1734,
          1770,
          1827,
          2331,
          2201
         ],
         "z": [
          4782,
          5933,
          6408,
          5748,
          5819
         ]
        }
       ],
       "layout": {
        "legend": {
         "itemsizing": "constant",
         "title": {
          "text": "winner, result"
         },
         "tracegroupgap": 0
        },
        "margin": {
         "t": 60
        },
        "scene": {
         "domain": {
          "x": [
           0,
           1
          ],
          "y": [
           0,
           1
          ]
         },
         "xaxis": {
          "title": {
           "text": "Joly"
          }
         },
         "yaxis": {
          "title": {
           "text": "Coderre"
          }
         },
         "zaxis": {
          "title": {
           "text": "Bergeron"
          }
         }
        },
        "template": {
         "data": {
          "bar": [
           {
            "error_x": {
             "color": "#2a3f5f"
            },
            "error_y": {
             "color": "#2a3f5f"
            },
            "marker": {
             "line": {
              "color": "#E5ECF6",
              "width": 0.5
             }
            },
            "type": "bar"
           }
          ],
          "barpolar": [
           {
            "marker": {
             "line": {
              "color": "#E5ECF6",
              "width": 0.5
             }
            },
            "type": "barpolar"
           }
          ],
          "carpet": [
           {
            "aaxis": {
             "endlinecolor": "#2a3f5f",
             "gridcolor": "white",
             "linecolor": "white",
             "minorgridcolor": "white",
             "startlinecolor": "#2a3f5f"
            },
            "baxis": {
             "endlinecolor": "#2a3f5f",
             "gridcolor": "white",
             "linecolor": "white",
             "minorgridcolor": "white",
             "startlinecolor": "#2a3f5f"
            },
            "type": "carpet"
           }
          ],
          "choropleth": [
           {
            "colorbar": {
             "outlinewidth": 0,
             "ticks": ""
            },
            "type": "choropleth"
           }
          ],
          "contour": [
           {
            "colorbar": {
             "outlinewidth": 0,
             "ticks": ""
            },
            "colorscale": [
             [
              0,
              "#0d0887"
             ],
             [
              0.1111111111111111,
              "#46039f"
             ],
             [
              0.2222222222222222,
              "#7201a8"
             ],
             [
              0.3333333333333333,
              "#9c179e"
             ],
             [
              0.4444444444444444,
              "#bd3786"
             ],
             [
              0.5555555555555556,
              "#d8576b"
             ],
             [
              0.6666666666666666,
              "#ed7953"
             ],
             [
              0.7777777777777778,
              "#fb9f3a"
             ],
             [
              0.8888888888888888,
              "#fdca26"
             ],
             [
              1,
              "#f0f921"
             ]
            ],
            "type": "contour"
           }
          ],
          "contourcarpet": [
           {
            "colorbar": {
             "outlinewidth": 0,
             "ticks": ""
            },
            "type": "contourcarpet"
           }
          ],
          "heatmap": [
           {
            "colorbar": {
             "outlinewidth": 0,
             "ticks": ""
            },
            "colorscale": [
             [
              0,
              "#0d0887"
             ],
             [
              0.1111111111111111,
              "#46039f"
             ],
             [
              0.2222222222222222,
              "#7201a8"
             ],
             [
              0.3333333333333333,
              "#9c179e"
             ],
             [
              0.4444444444444444,
              "#bd3786"
             ],
             [
              0.5555555555555556,
              "#d8576b"
             ],
             [
              0.6666666666666666,
              "#ed7953"
             ],
             [
              0.7777777777777778,
              "#fb9f3a"
             ],
             [
              0.8888888888888888,
              "#fdca26"
             ],
             [
              1,
              "#f0f921"
             ]
            ],
            "type": "heatmap"
           }
          ],
          "heatmapgl": [
           {
            "colorbar": {
             "outlinewidth": 0,
             "ticks": ""
            },
            "colorscale": [
             [
              0,
              "#0d0887"
             ],
             [
              0.1111111111111111,
              "#46039f"
             ],
             [
              0.2222222222222222,
              "#7201a8"
             ],
             [
              0.3333333333333333,
              "#9c179e"
             ],
             [
              0.4444444444444444,
              "#bd3786"
             ],
             [
              0.5555555555555556,
              "#d8576b"
             ],
             [
              0.6666666666666666,
              "#ed7953"
             ],
             [
              0.7777777777777778,
              "#fb9f3a"
             ],
             [
              0.8888888888888888,
              "#fdca26"
             ],
             [
              1,
              "#f0f921"
             ]
            ],
            "type": "heatmapgl"
           }
          ],
          "histogram": [
           {
            "marker": {
             "colorbar": {
              "outlinewidth": 0,
              "ticks": ""
             }
            },
            "type": "histogram"
           }
          ],
          "histogram2d": [
           {
            "colorbar": {
             "outlinewidth": 0,
             "ticks": ""
            },
            "colorscale": [
             [
              0,
              "#0d0887"
             ],
             [
              0.1111111111111111,
              "#46039f"
             ],
             [
              0.2222222222222222,
              "#7201a8"
             ],
             [
              0.3333333333333333,
              "#9c179e"
             ],
             [
              0.4444444444444444,
              "#bd3786"
             ],
             [
              0.5555555555555556,
              "#d8576b"
             ],
             [
              0.6666666666666666,
              "#ed7953"
             ],
             [
              0.7777777777777778,
              "#fb9f3a"
             ],
             [
              0.8888888888888888,
              "#fdca26"
             ],
             [
              1,
              "#f0f921"
             ]
            ],
            "type": "histogram2d"
           }
          ],
          "histogram2dcontour": [
           {
            "colorbar": {
             "outlinewidth": 0,
             "ticks": ""
            },
            "colorscale": [
             [
              0,
              "#0d0887"
             ],
             [
              0.1111111111111111,
              "#46039f"
             ],
             [
              0.2222222222222222,
              "#7201a8"
             ],
             [
              0.3333333333333333,
              "#9c179e"
             ],
             [
              0.4444444444444444,
              "#bd3786"
             ],
             [
              0.5555555555555556,
              "#d8576b"
             ],
             [
              0.6666666666666666,
              "#ed7953"
             ],
             [
              0.7777777777777778,
              "#fb9f3a"
             ],
             [
              0.8888888888888888,
              "#fdca26"
             ],
             [
              1,
              "#f0f921"
             ]
            ],
            "type": "histogram2dcontour"
           }
          ],
          "mesh3d": [
           {
            "colorbar": {
             "outlinewidth": 0,
             "ticks": ""
            },
            "type": "mesh3d"
           }
          ],
          "parcoords": [
           {
            "line": {
             "colorbar": {
              "outlinewidth": 0,
              "ticks": ""
             }
            },
            "type": "parcoords"
           }
          ],
          "pie": [
           {
            "automargin": true,
            "type": "pie"
           }
          ],
          "scatter": [
           {
            "marker": {
             "colorbar": {
              "outlinewidth": 0,
              "ticks": ""
             }
            },
            "type": "scatter"
           }
          ],
          "scatter3d": [
           {
            "line": {
             "colorbar": {
              "outlinewidth": 0,
              "ticks": ""
             }
            },
            "marker": {
             "colorbar": {
              "outlinewidth": 0,
              "ticks": ""
             }
            },
            "type": "scatter3d"
           }
          ],
          "scattercarpet": [
           {
            "marker": {
             "colorbar": {
              "outlinewidth": 0,
              "ticks": ""
             }
            },
            "type": "scattercarpet"
           }
          ],
          "scattergeo": [
           {
            "marker": {
             "colorbar": {
              "outlinewidth": 0,
              "ticks": ""
             }
            },
            "type": "scattergeo"
           }
          ],
          "scattergl": [
           {
            "marker": {
             "colorbar": {
              "outlinewidth": 0,
              "ticks": ""
             }
            },
            "type": "scattergl"
           }
          ],
          "scattermapbox": [
           {
            "marker": {
             "colorbar": {
              "outlinewidth": 0,
              "ticks": ""
             }
            },
            "type": "scattermapbox"
           }
          ],
          "scatterpolar": [
           {
            "marker": {
             "colorbar": {
              "outlinewidth": 0,
              "ticks": ""
             }
            },
            "type": "scatterpolar"
           }
          ],
          "scatterpolargl": [
           {
            "marker": {
             "colorbar": {
              "outlinewidth": 0,
              "ticks": ""
             }
            },
            "type": "scatterpolargl"
           }
          ],
          "scatterternary": [
           {
            "marker": {
             "colorbar": {
              "outlinewidth": 0,
              "ticks": ""
             }
            },
            "type": "scatterternary"
           }
          ],
          "surface": [
           {
            "colorbar": {
             "outlinewidth": 0,
             "ticks": ""
            },
            "colorscale": [
             [
              0,
              "#0d0887"
             ],
             [
              0.1111111111111111,
              "#46039f"
             ],
             [
              0.2222222222222222,
              "#7201a8"
             ],
             [
              0.3333333333333333,
              "#9c179e"
             ],
             [
              0.4444444444444444,
              "#bd3786"
             ],
             [
              0.5555555555555556,
              "#d8576b"
             ],
             [
              0.6666666666666666,
              "#ed7953"
             ],
             [
              0.7777777777777778,
              "#fb9f3a"
             ],
             [
              0.8888888888888888,
              "#fdca26"
             ],
             [
              1,
              "#f0f921"
             ]
            ],
            "type": "surface"
           }
          ],
          "table": [
           {
            "cells": {
             "fill": {
              "color": "#EBF0F8"
             },
             "line": {
              "color": "white"
             }
            },
            "header": {
             "fill": {
              "color": "#C8D4E3"
             },
             "line": {
              "color": "white"
             }
            },
            "type": "table"
           }
          ]
         },
         "layout": {
          "annotationdefaults": {
           "arrowcolor": "#2a3f5f",
           "arrowhead": 0,
           "arrowwidth": 1
          },
          "coloraxis": {
           "colorbar": {
            "outlinewidth": 0,
            "ticks": ""
           }
          },
          "colorscale": {
           "diverging": [
            [
             0,
             "#8e0152"
            ],
            [
             0.1,
             "#c51b7d"
            ],
            [
             0.2,
             "#de77ae"
            ],
            [
             0.3,
             "#f1b6da"
            ],
            [
             0.4,
             "#fde0ef"
            ],
            [
             0.5,
             "#f7f7f7"
            ],
            [
             0.6,
             "#e6f5d0"
            ],
            [
             0.7,
             "#b8e186"
            ],
            [
             0.8,
             "#7fbc41"
            ],
            [
             0.9,
             "#4d9221"
            ],
            [
             1,
             "#276419"
            ]
           ],
           "sequential": [
            [
             0,
             "#0d0887"
            ],
            [
             0.1111111111111111,
             "#46039f"
            ],
            [
             0.2222222222222222,
             "#7201a8"
            ],
            [
             0.3333333333333333,
             "#9c179e"
            ],
            [
             0.4444444444444444,
             "#bd3786"
            ],
            [
             0.5555555555555556,
             "#d8576b"
            ],
            [
             0.6666666666666666,
             "#ed7953"
            ],
            [
             0.7777777777777778,
             "#fb9f3a"
            ],
            [
             0.8888888888888888,
             "#fdca26"
            ],
            [
             1,
             "#f0f921"
            ]
           ],
           "sequentialminus": [
            [
             0,
             "#0d0887"
            ],
            [
             0.1111111111111111,
             "#46039f"
            ],
            [
             0.2222222222222222,
             "#7201a8"
            ],
            [
             0.3333333333333333,
             "#9c179e"
            ],
            [
             0.4444444444444444,
             "#bd3786"
            ],
            [
             0.5555555555555556,
             "#d8576b"
            ],
            [
             0.6666666666666666,
             "#ed7953"
            ],
            [
             0.7777777777777778,
             "#fb9f3a"
            ],
            [
             0.8888888888888888,
             "#fdca26"
            ],
            [
             1,
             "#f0f921"
            ]
           ]
          },
          "colorway": [
           "#636efa",
           "#EF553B",
           "#00cc96",
           "#ab63fa",
           "#FFA15A",
           "#19d3f3",
           "#FF6692",
           "#B6E880",
           "#FF97FF",
           "#FECB52"
          ],
          "font": {
           "color": "#2a3f5f"
          },
          "geo": {
           "bgcolor": "white",
           "lakecolor": "white",
           "landcolor": "#E5ECF6",
           "showlakes": true,
           "showland": true,
           "subunitcolor": "white"
          },
          "hoverlabel": {
           "align": "left"
          },
          "hovermode": "closest",
          "mapbox": {
           "style": "light"
          },
          "paper_bgcolor": "white",
          "plot_bgcolor": "#E5ECF6",
          "polar": {
           "angularaxis": {
            "gridcolor": "white",
            "linecolor": "white",
            "ticks": ""
           },
           "bgcolor": "#E5ECF6",
           "radialaxis": {
            "gridcolor": "white",
            "linecolor": "white",
            "ticks": ""
           }
          },
          "scene": {
           "xaxis": {
            "backgroundcolor": "#E5ECF6",
            "gridcolor": "white",
            "gridwidth": 2,
            "linecolor": "white",
            "showbackground": true,
            "ticks": "",
            "zerolinecolor": "white"
           },
           "yaxis": {
            "backgroundcolor": "#E5ECF6",
            "gridcolor": "white",
            "gridwidth": 2,
            "linecolor": "white",
            "showbackground": true,
            "ticks": "",
            "zerolinecolor": "white"
           },
           "zaxis": {
            "backgroundcolor": "#E5ECF6",
            "gridcolor": "white",
            "gridwidth": 2,
            "linecolor": "white",
            "showbackground": true,
            "ticks": "",
            "zerolinecolor": "white"
           }
          },
          "shapedefaults": {
           "line": {
            "color": "#2a3f5f"
           }
          },
          "ternary": {
           "aaxis": {
            "gridcolor": "white",
            "linecolor": "white",
            "ticks": ""
           },
           "baxis": {
            "gridcolor": "white",
            "linecolor": "white",
            "ticks": ""
           },
           "bgcolor": "#E5ECF6",
           "caxis": {
            "gridcolor": "white",
            "linecolor": "white",
            "ticks": ""
           }
          },
          "title": {
           "x": 0.05
          },
          "xaxis": {
           "automargin": true,
           "gridcolor": "white",
           "linecolor": "white",
           "ticks": "",
           "title": {
            "standoff": 15
           },
           "zerolinecolor": "white",
           "zerolinewidth": 2
          },
          "yaxis": {
           "automargin": true,
           "gridcolor": "white",
           "linecolor": "white",
           "ticks": "",
           "title": {
            "standoff": 15
           },
           "zerolinecolor": "white",
           "zerolinewidth": 2
          }
         }
        }
       }
      },
      "text/html": [
       "<div>                            <div id=\"0f05475c-24d4-474f-b23d-68c98fd112fe\" class=\"plotly-graph-div\" style=\"height:525px; width:100%;\"></div>            <script type=\"text/javascript\">                require([\"plotly\"], function(Plotly) {                    window.PLOTLYENV=window.PLOTLYENV || {};                                    if (document.getElementById(\"0f05475c-24d4-474f-b23d-68c98fd112fe\")) {                    Plotly.newPlot(                        \"0f05475c-24d4-474f-b23d-68c98fd112fe\",                        [{\"hovertemplate\": \"<b>%{hovertext}</b><br><br>winner=Joly<br>result=plurality<br>Joly=%{x}<br>Coderre=%{y}<br>Bergeron=%{z}<br>total=%{marker.size}<extra></extra>\", \"hovertext\": [\"101-Bois-de-Liesse\", \"102-Cap-Saint-Jacques\", \"161-Saint-HenriPetite-BourgognePointe-Saint-Charles\", \"172-Desmarchais-Crawford\", \"181-Peter-McGill\", \"182-Saint-Jacques\", \"33-Snowdon\", \"34-Notre-Dame-de-Gr\\u00e2ce\", \"35-Loyola\", \"41-du Canal\", \"43-Fort-Rolland\", \"63-Jacques-Bizard\"], \"legendgroup\": \"Joly, plurality\", \"marker\": {\"color\": \"blue\", \"size\": [7334, 6363, 9378, 7956, 4099, 6357, 4687, 7688, 6125, 3263, 4438, 1432], \"sizemode\": \"area\", \"sizeref\": 27.625, \"symbol\": \"circle\"}, \"mode\": \"markers\", \"name\": \"Joly, plurality\", \"scene\": \"scene\", \"showlegend\": true, \"type\": \"scatter3d\", \"x\": [3024, 2675, 3578, 2849, 1894, 2282, 1636, 3262, 2648, 1266, 1908, 690], \"y\": [2481, 2525, 2432, 2476, 1451, 1906, 1548, 1773, 2040, 1165, 1325, 518], \"z\": [1829, 1163, 3368, 2631, 754, 2169, 1503, 2653, 1437, 832, 1205, 224]}, {\"hovertemplate\": \"<b>%{hovertext}</b><br><br>winner=Joly<br>result=majority<br>Joly=%{x}<br>Coderre=%{y}<br>Bergeron=%{z}<br>total=%{marker.size}<extra></extra>\", \"hovertext\": [\"61-Pierre-Foretier\", \"62-Denis-Benjamin-Viger\"], \"legendgroup\": \"Joly, majority\", \"marker\": {\"color\": \"blue\", \"size\": [1887, 1889], \"sizemode\": \"area\", \"sizeref\": 27.625, \"symbol\": \"diamond\"}, \"mode\": \"markers\", \"name\": \"Joly, majority\", \"scene\": \"scene\", \"showlegend\": true, \"type\": \"scatter3d\", \"x\": [998, 1068], \"y\": [631, 595], \"z\": [258, 226]}, {\"hovertemplate\": \"<b>%{hovertext}</b><br><br>winner=Coderre<br>result=plurality<br>Joly=%{x}<br>Coderre=%{y}<br>Bergeron=%{z}<br>total=%{marker.size}<extra></extra>\", \"hovertext\": [\"11-Sault-au-R\\u00e9collet\", \"12-Saint-Sulpice\", \"134-Marie-Victorin\", \"14-Bordeaux-Cartierville\", \"141-C\\u00f4te-de-Liesse\", \"142-Norman-McLaren\", \"162-Saint-Paul\\u00c9mard\", \"171-ChamplainL'\\u00cele-des-Soeurs\", \"192-Fran\\u00e7ois-Perrault\", \"194-Parc-Extension\", \"22-Est\", \"31-Darlington\", \"42-J.-\\u00c9mery-Provost\", \"51-Sault-Saint-Louis\", \"52-Cecil-P.-Newman\", \"64-Sainte-Genevi\\u00e8ve\", \"71-T\\u00e9treaultville\", \"74-Louis-Riel\", \"91-Claude-Ryan\"], \"legendgroup\": \"Coderre, plurality\", \"marker\": {\"color\": \"red\", \"size\": [8650, 8316, 9259, 7247, 9587, 8385, 7096, 9200, 7583, 5615, 3469, 4287, 3003, 9560, 7809, 789, 9737, 8025, 2062], \"sizemode\": \"area\", \"sizeref\": 27.625, \"symbol\": \"circle\"}, \"mode\": \"markers\", \"name\": \"Coderre, plurality\", \"scene\": \"scene\", \"showlegend\": true, \"type\": \"scatter3d\", \"x\": [2532, 2543, 2431, 2081, 3959, 2822, 2438, 3291, 2039, 1402, 1172, 1232, 1157, 3717, 2943, 326, 3454, 2338, 423], \"y\": [3348, 3252, 3673, 3612, 4308, 4104, 2566, 3347, 2878, 2420, 1589, 1873, 1193, 4201, 3536, 332, 3694, 3509, 996], \"z\": [2770, 2521, 3155, 1554, 1320, 1459, 2092, 2562, 2666, 1793, 708, 1182, 653, 1642, 1330, 131, 2589, 2178, 643]}, {\"hovertemplate\": \"<b>%{hovertext}</b><br><br>winner=Coderre<br>result=majority<br>Joly=%{x}<br>Coderre=%{y}<br>Bergeron=%{z}<br>total=%{marker.size}<extra></extra>\", \"hovertext\": [\"121-La Pointe-aux-Prairies\", \"122-Pointe-aux-Trembles\", \"123-Rivi\\u00e8re-des-Prairies\", \"151-Saint-L\\u00e9onard-Est\", \"152-Saint-L\\u00e9onard-Ouest\", \"191-Saint-Michel\", \"21-Ouest\", \"23-Centre\", \"81-Marie-Clarac\", \"82-Ovide-Clermont\"], \"legendgroup\": \"Coderre, majority\", \"marker\": {\"color\": \"red\", \"size\": [10546, 9465, 8351, 6454, 8479, 5872, 3951, 4663, 9111, 8060], \"sizemode\": \"area\", \"sizeref\": 27.625, \"symbol\": \"diamond\"}, \"mode\": \"markers\", \"name\": \"Coderre, majority\", \"scene\": \"scene\", \"showlegend\": true, \"type\": \"scatter3d\", \"x\": [3330, 2852, 1656, 1641, 1908, 1220, 1076, 1286, 1435, 1051], \"y\": [5456, 4734, 5737, 3931, 5387, 3668, 2184, 2526, 6591, 6229], \"z\": [1760, 1879, 958, 882, 1184, 984, 691, 851, 1085, 780]}, {\"hovertemplate\": \"<b>%{hovertext}</b><br><br>winner=Bergeron<br>result=plurality<br>Joly=%{x}<br>Coderre=%{y}<br>Bergeron=%{z}<br>total=%{marker.size}<extra></extra>\", \"hovertext\": [\"113-Jeanne-Mance\", \"13-Ahuntsic\", \"133-Vieux-Rosemont\", \"183-Sainte-Marie\", \"32-C\\u00f4te-des-Neiges\", \"72-MaisonneuveLongue-Pointe\", \"73-Hochelaga\", \"92-Joseph-Beaubien\", \"93-Robert-Bourassa\", \"94-Jeanne-Sauv\\u00e9\"], \"legendgroup\": \"Bergeron, plurality\", \"marker\": {\"color\": \"green\", \"size\": [7370, 9282, 10866, 6445, 5172, 9135, 7900, 1965, 1330, 1678], \"sizemode\": \"area\", \"sizeref\": 27.625, \"symbol\": \"circle\"}, \"mode\": \"markers\", \"name\": \"Bergeron, plurality\", \"scene\": \"scene\", \"showlegend\": true, \"type\": \"scatter3d\", \"x\": [2316, 2873, 3234, 2271, 1578, 3139, 2675, 592, 419, 489], \"y\": [1455, 2979, 2670, 1347, 1644, 2746, 1546, 540, 446, 491], \"z\": [3599, 3430, 4962, 2827, 1950, 3250, 3679, 833, 465, 698]}, {\"hovertemplate\": \"<b>%{hovertext}</b><br><br>winner=Bergeron<br>result=majority<br>Joly=%{x}<br>Coderre=%{y}<br>Bergeron=%{z}<br>total=%{marker.size}<extra></extra>\", \"hovertext\": [\"111-Mile-End\", \"112-DeLorimier\", \"131-Saint-\\u00c9douard\", \"132-\\u00c9tienne-Desmarteau\", \"193-Villeray\"], \"legendgroup\": \"Bergeron, majority\", \"marker\": {\"color\": \"green\", \"size\": [9030, 10747, 11050, 10867, 10802], \"sizemode\": \"area\", \"sizeref\": 27.625, \"symbol\": \"diamond\"}, \"mode\": \"markers\", \"name\": \"Bergeron, majority\", \"scene\": \"scene\", \"showlegend\": true, \"type\": \"scatter3d\", \"x\": [2514, 3044, 2815, 2788, 2782], \"y\": [1734, 1770, 1827, 2331, 2201], \"z\": [4782, 5933, 6408, 5748, 5819]}],                        {\"legend\": {\"itemsizing\": \"constant\", \"title\": {\"text\": \"winner, result\"}, \"tracegroupgap\": 0}, \"margin\": {\"t\": 60}, \"scene\": {\"domain\": {\"x\": [0.0, 1.0], \"y\": [0.0, 1.0]}, \"xaxis\": {\"title\": {\"text\": \"Joly\"}}, \"yaxis\": {\"title\": {\"text\": \"Coderre\"}}, \"zaxis\": {\"title\": {\"text\": \"Bergeron\"}}}, \"template\": {\"data\": {\"bar\": [{\"error_x\": {\"color\": \"#2a3f5f\"}, \"error_y\": {\"color\": \"#2a3f5f\"}, \"marker\": {\"line\": {\"color\": \"#E5ECF6\", \"width\": 0.5}}, \"type\": \"bar\"}], \"barpolar\": [{\"marker\": {\"line\": {\"color\": \"#E5ECF6\", \"width\": 0.5}}, \"type\": \"barpolar\"}], \"carpet\": [{\"aaxis\": {\"endlinecolor\": \"#2a3f5f\", \"gridcolor\": \"white\", \"linecolor\": \"white\", \"minorgridcolor\": \"white\", \"startlinecolor\": \"#2a3f5f\"}, \"baxis\": {\"endlinecolor\": \"#2a3f5f\", \"gridcolor\": \"white\", \"linecolor\": \"white\", \"minorgridcolor\": \"white\", \"startlinecolor\": \"#2a3f5f\"}, \"type\": \"carpet\"}], \"choropleth\": [{\"colorbar\": {\"outlinewidth\": 0, \"ticks\": \"\"}, \"type\": \"choropleth\"}], \"contour\": [{\"colorbar\": {\"outlinewidth\": 0, \"ticks\": \"\"}, \"colorscale\": [[0.0, \"#0d0887\"], [0.1111111111111111, \"#46039f\"], [0.2222222222222222, \"#7201a8\"], [0.3333333333333333, \"#9c179e\"], [0.4444444444444444, \"#bd3786\"], [0.5555555555555556, \"#d8576b\"], [0.6666666666666666, \"#ed7953\"], [0.7777777777777778, \"#fb9f3a\"], [0.8888888888888888, \"#fdca26\"], [1.0, \"#f0f921\"]], \"type\": \"contour\"}], \"contourcarpet\": [{\"colorbar\": {\"outlinewidth\": 0, \"ticks\": \"\"}, \"type\": \"contourcarpet\"}], \"heatmap\": [{\"colorbar\": {\"outlinewidth\": 0, \"ticks\": \"\"}, \"colorscale\": [[0.0, \"#0d0887\"], [0.1111111111111111, \"#46039f\"], [0.2222222222222222, \"#7201a8\"], [0.3333333333333333, \"#9c179e\"], [0.4444444444444444, \"#bd3786\"], [0.5555555555555556, \"#d8576b\"], [0.6666666666666666, \"#ed7953\"], [0.7777777777777778, \"#fb9f3a\"], [0.8888888888888888, \"#fdca26\"], [1.0, \"#f0f921\"]], \"type\": \"heatmap\"}], \"heatmapgl\": [{\"colorbar\": {\"outlinewidth\": 0, \"ticks\": \"\"}, \"colorscale\": [[0.0, \"#0d0887\"], [0.1111111111111111, \"#46039f\"], [0.2222222222222222, \"#7201a8\"], [0.3333333333333333, \"#9c179e\"], [0.4444444444444444, \"#bd3786\"], [0.5555555555555556, \"#d8576b\"], [0.6666666666666666, \"#ed7953\"], [0.7777777777777778, \"#fb9f3a\"], [0.8888888888888888, \"#fdca26\"], [1.0, \"#f0f921\"]], \"type\": \"heatmapgl\"}], \"histogram\": [{\"marker\": {\"colorbar\": {\"outlinewidth\": 0, \"ticks\": \"\"}}, \"type\": \"histogram\"}], \"histogram2d\": [{\"colorbar\": {\"outlinewidth\": 0, \"ticks\": \"\"}, \"colorscale\": [[0.0, \"#0d0887\"], [0.1111111111111111, \"#46039f\"], [0.2222222222222222, \"#7201a8\"], [0.3333333333333333, \"#9c179e\"], [0.4444444444444444, \"#bd3786\"], [0.5555555555555556, \"#d8576b\"], [0.6666666666666666, \"#ed7953\"], [0.7777777777777778, \"#fb9f3a\"], [0.8888888888888888, \"#fdca26\"], [1.0, \"#f0f921\"]], \"type\": \"histogram2d\"}], \"histogram2dcontour\": [{\"colorbar\": {\"outlinewidth\": 0, \"ticks\": \"\"}, \"colorscale\": [[0.0, \"#0d0887\"], [0.1111111111111111, \"#46039f\"], [0.2222222222222222, \"#7201a8\"], [0.3333333333333333, \"#9c179e\"], [0.4444444444444444, \"#bd3786\"], [0.5555555555555556, \"#d8576b\"], [0.6666666666666666, \"#ed7953\"], [0.7777777777777778, \"#fb9f3a\"], [0.8888888888888888, \"#fdca26\"], [1.0, \"#f0f921\"]], \"type\": \"histogram2dcontour\"}], \"mesh3d\": [{\"colorbar\": {\"outlinewidth\": 0, \"ticks\": \"\"}, \"type\": \"mesh3d\"}], \"parcoords\": [{\"line\": {\"colorbar\": {\"outlinewidth\": 0, \"ticks\": \"\"}}, \"type\": \"parcoords\"}], \"pie\": [{\"automargin\": true, \"type\": \"pie\"}], \"scatter\": [{\"marker\": {\"colorbar\": {\"outlinewidth\": 0, \"ticks\": \"\"}}, \"type\": \"scatter\"}], \"scatter3d\": [{\"line\": {\"colorbar\": {\"outlinewidth\": 0, \"ticks\": \"\"}}, \"marker\": {\"colorbar\": {\"outlinewidth\": 0, \"ticks\": \"\"}}, \"type\": \"scatter3d\"}], \"scattercarpet\": [{\"marker\": {\"colorbar\": {\"outlinewidth\": 0, \"ticks\": \"\"}}, \"type\": \"scattercarpet\"}], \"scattergeo\": [{\"marker\": {\"colorbar\": {\"outlinewidth\": 0, \"ticks\": \"\"}}, \"type\": \"scattergeo\"}], \"scattergl\": [{\"marker\": {\"colorbar\": {\"outlinewidth\": 0, \"ticks\": \"\"}}, \"type\": \"scattergl\"}], \"scattermapbox\": [{\"marker\": {\"colorbar\": {\"outlinewidth\": 0, \"ticks\": \"\"}}, \"type\": \"scattermapbox\"}], \"scatterpolar\": [{\"marker\": {\"colorbar\": {\"outlinewidth\": 0, \"ticks\": \"\"}}, \"type\": \"scatterpolar\"}], \"scatterpolargl\": [{\"marker\": {\"colorbar\": {\"outlinewidth\": 0, \"ticks\": \"\"}}, \"type\": \"scatterpolargl\"}], \"scatterternary\": [{\"marker\": {\"colorbar\": {\"outlinewidth\": 0, \"ticks\": \"\"}}, \"type\": \"scatterternary\"}], \"surface\": [{\"colorbar\": {\"outlinewidth\": 0, \"ticks\": \"\"}, \"colorscale\": [[0.0, \"#0d0887\"], [0.1111111111111111, \"#46039f\"], [0.2222222222222222, \"#7201a8\"], [0.3333333333333333, \"#9c179e\"], [0.4444444444444444, \"#bd3786\"], [0.5555555555555556, \"#d8576b\"], [0.6666666666666666, \"#ed7953\"], [0.7777777777777778, \"#fb9f3a\"], [0.8888888888888888, \"#fdca26\"], [1.0, \"#f0f921\"]], \"type\": \"surface\"}], \"table\": [{\"cells\": {\"fill\": {\"color\": \"#EBF0F8\"}, \"line\": {\"color\": \"white\"}}, \"header\": {\"fill\": {\"color\": \"#C8D4E3\"}, \"line\": {\"color\": \"white\"}}, \"type\": \"table\"}]}, \"layout\": {\"annotationdefaults\": {\"arrowcolor\": \"#2a3f5f\", \"arrowhead\": 0, \"arrowwidth\": 1}, \"coloraxis\": {\"colorbar\": {\"outlinewidth\": 0, \"ticks\": \"\"}}, \"colorscale\": {\"diverging\": [[0, \"#8e0152\"], [0.1, \"#c51b7d\"], [0.2, \"#de77ae\"], [0.3, \"#f1b6da\"], [0.4, \"#fde0ef\"], [0.5, \"#f7f7f7\"], [0.6, \"#e6f5d0\"], [0.7, \"#b8e186\"], [0.8, \"#7fbc41\"], [0.9, \"#4d9221\"], [1, \"#276419\"]], \"sequential\": [[0.0, \"#0d0887\"], [0.1111111111111111, \"#46039f\"], [0.2222222222222222, \"#7201a8\"], [0.3333333333333333, \"#9c179e\"], [0.4444444444444444, \"#bd3786\"], [0.5555555555555556, \"#d8576b\"], [0.6666666666666666, \"#ed7953\"], [0.7777777777777778, \"#fb9f3a\"], [0.8888888888888888, \"#fdca26\"], [1.0, \"#f0f921\"]], \"sequentialminus\": [[0.0, \"#0d0887\"], [0.1111111111111111, \"#46039f\"], [0.2222222222222222, \"#7201a8\"], [0.3333333333333333, \"#9c179e\"], [0.4444444444444444, \"#bd3786\"], [0.5555555555555556, \"#d8576b\"], [0.6666666666666666, \"#ed7953\"], [0.7777777777777778, \"#fb9f3a\"], [0.8888888888888888, \"#fdca26\"], [1.0, \"#f0f921\"]]}, \"colorway\": [\"#636efa\", \"#EF553B\", \"#00cc96\", \"#ab63fa\", \"#FFA15A\", \"#19d3f3\", \"#FF6692\", \"#B6E880\", \"#FF97FF\", \"#FECB52\"], \"font\": {\"color\": \"#2a3f5f\"}, \"geo\": {\"bgcolor\": \"white\", \"lakecolor\": \"white\", \"landcolor\": \"#E5ECF6\", \"showlakes\": true, \"showland\": true, \"subunitcolor\": \"white\"}, \"hoverlabel\": {\"align\": \"left\"}, \"hovermode\": \"closest\", \"mapbox\": {\"style\": \"light\"}, \"paper_bgcolor\": \"white\", \"plot_bgcolor\": \"#E5ECF6\", \"polar\": {\"angularaxis\": {\"gridcolor\": \"white\", \"linecolor\": \"white\", \"ticks\": \"\"}, \"bgcolor\": \"#E5ECF6\", \"radialaxis\": {\"gridcolor\": \"white\", \"linecolor\": \"white\", \"ticks\": \"\"}}, \"scene\": {\"xaxis\": {\"backgroundcolor\": \"#E5ECF6\", \"gridcolor\": \"white\", \"gridwidth\": 2, \"linecolor\": \"white\", \"showbackground\": true, \"ticks\": \"\", \"zerolinecolor\": \"white\"}, \"yaxis\": {\"backgroundcolor\": \"#E5ECF6\", \"gridcolor\": \"white\", \"gridwidth\": 2, \"linecolor\": \"white\", \"showbackground\": true, \"ticks\": \"\", \"zerolinecolor\": \"white\"}, \"zaxis\": {\"backgroundcolor\": \"#E5ECF6\", \"gridcolor\": \"white\", \"gridwidth\": 2, \"linecolor\": \"white\", \"showbackground\": true, \"ticks\": \"\", \"zerolinecolor\": \"white\"}}, \"shapedefaults\": {\"line\": {\"color\": \"#2a3f5f\"}}, \"ternary\": {\"aaxis\": {\"gridcolor\": \"white\", \"linecolor\": \"white\", \"ticks\": \"\"}, \"baxis\": {\"gridcolor\": \"white\", \"linecolor\": \"white\", \"ticks\": \"\"}, \"bgcolor\": \"#E5ECF6\", \"caxis\": {\"gridcolor\": \"white\", \"linecolor\": \"white\", \"ticks\": \"\"}}, \"title\": {\"x\": 0.05}, \"xaxis\": {\"automargin\": true, \"gridcolor\": \"white\", \"linecolor\": \"white\", \"ticks\": \"\", \"title\": {\"standoff\": 15}, \"zerolinecolor\": \"white\", \"zerolinewidth\": 2}, \"yaxis\": {\"automargin\": true, \"gridcolor\": \"white\", \"linecolor\": \"white\", \"ticks\": \"\", \"title\": {\"standoff\": 15}, \"zerolinecolor\": \"white\", \"zerolinewidth\": 2}}}},                        {\"responsive\": true}                    ).then(function(){\n",
       "                            \n",
       "var gd = document.getElementById('0f05475c-24d4-474f-b23d-68c98fd112fe');\n",
       "var x = new MutationObserver(function (mutations, observer) {{\n",
       "        var display = window.getComputedStyle(gd).display;\n",
       "        if (!display || display === 'none') {{\n",
       "            console.log([gd, 'removed!']);\n",
       "            Plotly.purge(gd);\n",
       "            observer.disconnect();\n",
       "        }}\n",
       "}});\n",
       "\n",
       "// Listen for the removal of the full notebook cells\n",
       "var notebookContainer = gd.closest('#notebook-container');\n",
       "if (notebookContainer) {{\n",
       "    x.observe(notebookContainer, {childList: true});\n",
       "}}\n",
       "\n",
       "// Listen for the clearing of the current output cell\n",
       "var outputEl = gd.closest('.output');\n",
       "if (outputEl) {{\n",
       "    x.observe(outputEl, {childList: true});\n",
       "}}\n",
       "\n",
       "                        })                };                });            </script>        </div>"
      ]
     },
     "metadata": {},
     "output_type": "display_data"
    }
   ],
   "source": [
    "import plotly.express as px\n",
    "# scatter plot\n",
    "df = px.data.iris()\n",
    "fig = px.scatter(df, x=\"sepal_width\", y=\"sepal_length\", color=\"species\")\n",
    "fig.show()\n",
    "\n",
    "# bar chart\n",
    "df = px.data.tips()\n",
    "fig = px.bar(df, x=\"sex\", y=\"total_bill\", color=\"smoker\", barmode=\"group\")\n",
    "fig.show()\n",
    "\n",
    "#pie chart\n",
    "df = px.data.gapminder().query(\"year == 2007\").query(\"continent == 'Europe'\")\n",
    "df.loc[df['pop'] < 2.e6, 'country'] = 'Other countries' # Represent only large countries\n",
    "fig = px.pie(df, values='pop', names='country', title='Population of European continent')\n",
    "fig.show()\n",
    "\n",
    "#tree map\n",
    "df = px.data.gapminder().query(\"year == 2007\")\n",
    "fig = px.treemap(df, path=[px.Constant('world'), 'continent', 'country'], values='pop',\n",
    "                  color='lifeExp', hover_data=['iso_alpha'])\n",
    "fig.show()\n",
    "\n",
    "# Histogram\n",
    "df = px.data.tips()\n",
    "fig = px.histogram(df, x=\"total_bill\", y=\"tip\", color=\"sex\", marginal=\"rug\", hover_data=df.columns)\n",
    "fig.show()\n",
    "\n",
    "#Boxplot\n",
    "df = px.data.tips()\n",
    "fig = px.box(df, x=\"day\", y=\"total_bill\", color=\"smoker\", notched=True)\n",
    "fig.show()\n",
    "\n",
    "#map\n",
    "df = px.data.carshare()\n",
    "fig = px.scatter_mapbox(df, lat=\"centroid_lat\", lon=\"centroid_lon\", color=\"peak_hour\", size=\"car_hours\",\n",
    "                  color_continuous_scale=px.colors.cyclical.IceFire, size_max=15, zoom=10,\n",
    "                  mapbox_style=\"carto-positron\")\n",
    "fig.show()\n",
    "\n",
    "#3d scatter plots\n",
    "df = px.data.election()\n",
    "fig = px.scatter_3d(df, x=\"Joly\", y=\"Coderre\", z=\"Bergeron\", color=\"winner\", size=\"total\", hover_name=\"district\",\n",
    "                  symbol=\"result\", color_discrete_map = {\"Joly\": \"blue\", \"Bergeron\": \"green\", \"Coderre\":\"red\"})\n",
    "fig.show()"
   ]
  },
  {
   "cell_type": "code",
   "execution_count": null,
   "metadata": {},
   "outputs": [],
   "source": []
  }
 ],
 "metadata": {
  "kernelspec": {
   "display_name": "Python 3",
   "language": "python",
   "name": "python3"
  },
  "language_info": {
   "codemirror_mode": {
    "name": "ipython",
    "version": 3
   },
   "file_extension": ".py",
   "mimetype": "text/x-python",
   "name": "python",
   "nbconvert_exporter": "python",
   "pygments_lexer": "ipython3",
   "version": "3.8.2"
  }
 },
 "nbformat": 4,
 "nbformat_minor": 4
}
